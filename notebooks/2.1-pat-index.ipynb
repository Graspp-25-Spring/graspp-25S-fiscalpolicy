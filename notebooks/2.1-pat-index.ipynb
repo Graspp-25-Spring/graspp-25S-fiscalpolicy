{
 "cells": [
  {
   "cell_type": "markdown",
   "id": "b9fed85b",
   "metadata": {},
   "source": [
    "## Construct Health Expenditure Performance Index and Health Expenditure Efficiency Index"
   ]
  },
  {
   "cell_type": "markdown",
   "id": "1c4a5cc3",
   "metadata": {},
   "source": [
    "### 📝 Note: Health Expenditure Performance Index (HEP)\n",
    "\n",
    "**HEE = Health Expenditure Efficiency Index (HEE)\n",
    "\n",
    "Clean the following data (for missing data)\n",
    "Life expectancy (years), Infant Mortality (Death rate per 1000 people), Average Schooling (years), Learning Outcome (scores), Health Expenditure (% of GDP), Education Expenditure (% of GDP)\n",
    "\n",
    "Replicate PSP model by using the following data to generate \n",
    "\n",
    "HEP(Health Expenditure Performance) \n",
    "Independent variables = Life expectancy, Infant Mortality, Average Schooling (years), Learning Outcome\n",
    "\n",
    "After that we will generate HEE (Health Expenditure Efficiency) by divided the HEP by Expenditure\n",
    "\n",
    "\n",
    "HEE = HEP/(Health Expenditure + Education Expenditure)\n",
    "\n",
    "HEP = sum of Life expectancy, Infant Mortality, Average Schooling (years), Learning Outcome (Scores)\n",
    "→ Methodology, normalized each independent variables before combine to HEP index, noted that Infant Mortality using inverse value since the less is better\n",
    "→ Higher HEP means better standard of living\n",
    "\n",
    "HEE = HEP/ (Health Expenditure + Education Expenditure) \n",
    "→ to evaluate the efficiency of government spending \n",
    "→ Higher HEE means using lower health and education expenditure but get better HEP\n",
    "In order to compute efficiency indicators, government spending was normalized across countries, with the average taking the value of one for each of the two categories (Health Expenditure, Education Expenditure)\n",
    "\n",
    "For each indicator (Health and Education Expenditure):\n",
    "\n",
    "Normalize each country's value by dividing it by the cross-country average, so that:\n",
    "\n",
    "normalized value = raw value/ mean value across countries\n",
    "\n",
    "The result will have a mean of 1, but preserve relative differences.\n",
    "(The reason we use normalized value instead of raw value is to prevent countries with large economies (e.g., USA, Germany) appear less efficient, simply because they spend more in absolute terms. Also, developing countries might look artificially efficient, even if their HEP is low, simply because their raw expenditure is very small. Therefore, using normalized value will remove scale bias)\n"
   ]
  },
  {
   "cell_type": "code",
   "execution_count": 79,
   "id": "7fa4969d",
   "metadata": {},
   "outputs": [
    {
     "name": "stdout",
     "output_type": "stream",
     "text": [
      "✅ HEP & HEE (+ health/edu split) calculated and saved successfully.\n",
      "     ISO3  Year         income_level       HEP       HEE  HEP_Health  \\\n",
      "1260  VNM  2004  Lower middle income  0.683046  0.373729    0.758211   \n",
      "1261  VNM  2003  Lower middle income  0.678494  0.375883    0.757388   \n",
      "1262  VNM  2002  Lower middle income  0.671862  0.374511    0.752406   \n",
      "1263  VNM  2001  Lower middle income  0.664594  0.342885    0.746150   \n",
      "1264  VNM  2000  Lower middle income  0.656241  0.358466    0.737723   \n",
      "\n",
      "      HEE_Health   HEP_Edu   HEE_Edu  \n",
      "1260    1.196054  0.607881  0.509231  \n",
      "1261    1.238888  0.599600  0.502294  \n",
      "1262    1.253485  0.591319  0.495357  \n",
      "1263    1.002193  0.583039  0.488420  \n",
      "1264    1.158181  0.574758  0.481483  \n"
     ]
    }
   ],
   "source": [
    "import pandas as pd\n",
    "import os\n",
    "\n",
    "# === Step 1: Load and clean merged data ===\n",
    "\n",
    "df = pd.read_csv(\"../data/interim/merged_data.csv\")\n",
    "df = df[df[\"Year\"] <= 2022]\n",
    "df = df.sort_values(by=[\"Country\", \"Year\"], ascending=[True, False])\n",
    "\n",
    "# Forward-fill and backfill per country group (without include_groups flag)\n",
    "df_cleaned = (\n",
    "    df.groupby(\"Country\", group_keys=False)\n",
    "      .apply(lambda g: g.bfill().ffill())\n",
    "      .reset_index(drop=True)\n",
    ")\n",
    "\n",
    "# Save cleaned data\n",
    "os.makedirs(\"../data/processed\", exist_ok=True)\n",
    "df_cleaned.to_csv(\"../data/processed/merged_data_clean_for_HEE_HEP.csv\", index=False)\n",
    "\n",
    "# === Step 2: Hybrid normalization ===\n",
    "\n",
    "def hybrid_normalize(series):\n",
    "    return (series - series.min()) / (series.max() - series.min())\n",
    "\n",
    "def inverse_hybrid(series):\n",
    "    return (series.max() - series) / (series.max() - series.min())\n",
    "\n",
    "df_norm = df_cleaned.copy()\n",
    "df_norm[\"life_expectancy_norm\"] = hybrid_normalize(df_norm[\"Life_Expectancy\"])\n",
    "df_norm[\"infant_mortality_norm\"] = inverse_hybrid(df_norm[\"Mortality_Rate\"])\n",
    "df_norm[\"average_schooling_norm\"] = hybrid_normalize(df_norm[\"average_schooling\"])\n",
    "df_norm[\"learning_outcome_norm\"] = hybrid_normalize(df_norm[\"learning_scores\"])\n",
    "\n",
    "# === Step 3: Calculate HEP and HEE ===\n",
    "\n",
    "df_norm[\"HEP\"] = df_norm[[ \n",
    "    \"life_expectancy_norm\",\n",
    "    \"infant_mortality_norm\",\n",
    "    \"average_schooling_norm\",\n",
    "    \"learning_outcome_norm\"\n",
    "]].mean(axis=1)\n",
    "\n",
    "df_norm[\"HEP_Health\"] = df_norm[[\n",
    "    \"life_expectancy_norm\",\n",
    "    \"infant_mortality_norm\"\n",
    "]].mean(axis=1)\n",
    "\n",
    "df_norm[\"HEP_Edu\"] = df_norm[[\n",
    "    \"average_schooling_norm\",\n",
    "    \"learning_outcome_norm\"\n",
    "]].mean(axis=1)\n",
    "\n",
    "# Normalize expenditures (mean = 1)\n",
    "df_norm[\"Health_Expenditure_norm\"] = df_norm[\"Health_Expenditure\"] / df_norm[\"Health_Expenditure\"].mean()\n",
    "df_norm[\"Education_Expenditure_norm\"] = df_norm[\"Education_Expenditure\"] / df_norm[\"Education_Expenditure\"].mean()\n",
    "\n",
    "df_norm[\"total_expenditure\"] = df_norm[\"Health_Expenditure_norm\"] + df_norm[\"Education_Expenditure_norm\"]\n",
    "df_norm[\"HEE\"] = df_norm[\"HEP\"] / df_norm[\"total_expenditure\"]\n",
    "df_norm[\"HEE_Health\"] = df_norm[\"HEP_Health\"] / df_norm[\"Health_Expenditure_norm\"]\n",
    "df_norm[\"HEE_Edu\"] = df_norm[\"HEP_Edu\"] / df_norm[\"Education_Expenditure_norm\"]\n",
    "\n",
    "# === Step 4: Save final result ===\n",
    "\n",
    "result = df_norm[[ \n",
    "    \"ISO3\", \"Year\", \"income_level\",\n",
    "    \"HEP\", \"HEE\",\n",
    "    \"HEP_Health\", \"HEE_Health\",\n",
    "    \"HEP_Edu\", \"HEE_Edu\"\n",
    "]]\n",
    "\n",
    "result.to_csv(\"../data/processed/hep_hee_results.csv\", index=False)\n",
    "\n",
    "print(\"✅ HEP & HEE (+ health/edu split) calculated and saved successfully.\")\n",
    "print(result.tail())\n"
   ]
  },
  {
   "cell_type": "markdown",
   "id": "a064c8ac",
   "metadata": {},
   "source": [
    "Add region and average index score over years for each country"
   ]
  },
  {
   "cell_type": "code",
   "execution_count": 83,
   "id": "5fe0b361",
   "metadata": {},
   "outputs": [
    {
     "name": "stdout",
     "output_type": "stream",
     "text": [
      "✅ 'Region' and 'Country' columns added and saved to: ../data/processed/hep_hee_results_with_region.csv\n"
     ]
    }
   ],
   "source": [
    "import pandas as pd\n",
    "import os\n",
    "\n",
    "# === Auto-install pycountry if missing ===\n",
    "try:\n",
    "    import pycountry\n",
    "except ImportError:\n",
    "    import subprocess\n",
    "    import sys\n",
    "    subprocess.check_call([sys.executable, \"-m\", \"pip\", \"install\", \"pycountry\"])\n",
    "    import pycountry\n",
    "\n",
    "# === Step 1: Load the data ===\n",
    "data_path = \"../data/processed/hep_hee_results.csv\"\n",
    "df = pd.read_csv(data_path)\n",
    "\n",
    "# === Step 2: Define compact country-to-region mapping ===\n",
    "emea = [\n",
    "    \"ARM\", \"CYP\", \"CZE\", \"EGY\", \"ETH\", \"DEU\", \"FRA\", \"GRC\", \"IRL\", \"JOR\", \"KAZ\", \"KEN\", \"KGZ\",\n",
    "    \"LBN\", \"MAR\", \"NLD\", \"NGA\", \"ROU\", \"SRB\", \"SVK\", \"TJK\", \"TUN\", \"TUR\", \"UKR\", \"GBR\", \"UZB\", \"RUS\", \"IRN\"\n",
    "]\n",
    "apac = [\n",
    "    \"AUS\", \"BGD\", \"CHN\", \"IND\", \"IDN\", \"JPN\", \"MYS\", \"MNG\", \"MMR\",\n",
    "    \"NZL\", \"PAK\", \"PHL\", \"SGP\", \"THA\", \"VNM\", \"KOR\"\n",
    "]\n",
    "latam = [\n",
    "    \"ARG\", \"BRA\", \"CHL\", \"ECU\", \"GTM\", \"MEX\", \"NIC\", \"PER\", \"URY\"\n",
    "]\n",
    "na = [\"CAN\", \"USA\"]\n",
    "\n",
    "# Combine into a single dictionary\n",
    "country_region_map = {\n",
    "    **{ISO3: \"EMEA\" for ISO3 in emea},\n",
    "    **{ISO3: \"APAC\" for ISO3 in apac},\n",
    "    **{ISO3: \"LATAM\" for ISO3 in latam},\n",
    "    **{ISO3: \"NA\" for ISO3 in na},\n",
    "}\n",
    "\n",
    "# === Step 3: Map region and country name ===\n",
    "df[\"Region\"] = df[\"ISO3\"].map(country_region_map)\n",
    "\n",
    "def get_country_name(iso3):\n",
    "    try:\n",
    "        return pycountry.countries.get(alpha_3=iso3).name\n",
    "    except:\n",
    "        return \"Unknown\"\n",
    "\n",
    "df[\"Country\"] = df[\"ISO3\"].apply(get_country_name)\n",
    "\n",
    "# === Step 4: Warn unmapped ISO3 codes ===\n",
    "unmapped = df[df[\"Region\"].isnull()][\"ISO3\"].unique()\n",
    "if len(unmapped) > 0:\n",
    "    print(\"⚠️ Warning: The following countries couldn't be mapped to a region:\")\n",
    "    for c in unmapped:\n",
    "        print(f\"- {c}\")\n",
    "    print(\"👉 Please update 'country_region_map' with these countries.\")\n",
    "\n",
    "# === Step 5: Save updated file ===\n",
    "output_path = \"../data/processed/hep_hee_results_with_region.csv\"\n",
    "os.makedirs(os.path.dirname(output_path), exist_ok=True)\n",
    "df.to_csv(output_path, index=False)\n",
    "print(f\"✅ 'Region' and 'Country' columns added and saved to: {output_path}\")\n"
   ]
  },
  {
   "cell_type": "markdown",
   "id": "010832c8",
   "metadata": {},
   "source": [
    "Visualize HEE and HEP index"
   ]
  },
  {
   "cell_type": "code",
   "execution_count": 91,
   "id": "27541ec1",
   "metadata": {},
   "outputs": [
    {
     "data": {
      "text/html": [
       "\n",
       "        <iframe\n",
       "            width=\"100%\"\n",
       "            height=\"650\"\n",
       "            src=\"http://127.0.0.1:8050/\"\n",
       "            frameborder=\"0\"\n",
       "            allowfullscreen\n",
       "            \n",
       "        ></iframe>\n",
       "        "
      ],
      "text/plain": [
       "<IPython.lib.display.IFrame at 0x268632e2ad0>"
      ]
     },
     "metadata": {},
     "output_type": "display_data"
    }
   ],
   "source": [
    "# === Step 0: Install dependencies if missing ===\n",
    "try:\n",
    "    import dash\n",
    "    from dash import dcc, html, Input, Output, dash_table\n",
    "except ImportError:\n",
    "    import subprocess, sys\n",
    "    subprocess.check_call([sys.executable, \"-m\", \"pip\", \"install\", \"dash\"])\n",
    "    from dash import dcc, html, Input, Output, dash_table\n",
    "\n",
    "import pandas as pd\n",
    "import plotly.express as px\n",
    "import plotly.graph_objects as go\n",
    "\n",
    "# === Step 1: Load and prepare data ===\n",
    "df = pd.read_csv(\"../data/processed/hep_hee_results_with_region.csv\")\n",
    "df = df[df[\"income_level\"].notnull()]\n",
    "df[\"Year\"] = df[\"Year\"].astype(int)\n",
    "df = df.sort_values(by=\"Year\")\n",
    "df[\"Year_str\"] = df[\"Year\"].astype(str)\n",
    "\n",
    "# === Step 2: Compute average values ===\n",
    "df_avg = df[df[\"Year\"].between(2000, 2022)]\n",
    "df_avg = df_avg.groupby([\"ISO3\", \"income_level\"])[[\"HEP\", \"HEE\", \"HEP_Health\", \"HEE_Health\", \"HEP_Edu\", \"HEE_Edu\"]].mean().reset_index()\n",
    "df_avg[\"text\"] = df_avg[\"ISO3\"] + \" (avg)\"\n",
    "\n",
    "# Add ranking info\n",
    "ranking_df = df[df[\"Year\"].between(2000, 2022)].copy()\n",
    "df_rank = ranking_df.groupby(\"ISO3\")[[\"HEP\", \"HEE\", \"HEP_Health\", \"HEE_Health\", \"HEP_Edu\", \"HEE_Edu\"]].mean().reset_index()\n",
    "df_rank[\"Rank\"] = df_rank[\"HEP\"].rank(ascending=False, method=\"min\").astype(int)\n",
    "df_rank = df_rank.sort_values(by=\"Rank\")\n",
    "meta_info = df[[\"ISO3\", \"income_level\"]].drop_duplicates()\n",
    "df_rank = df_rank.merge(meta_info, on=\"ISO3\", how=\"left\")\n",
    "\n",
    "# === Step 3: Get options ===\n",
    "available_countries = sorted(df[\"ISO3\"].unique())\n",
    "country_options = [{\"label\": \"All Countries\", \"value\": \"ALL\"}] + [\n",
    "    {\"label\": iso3, \"value\": iso3} for iso3 in available_countries\n",
    "]\n",
    "available_income_levels = sorted(df[\"income_level\"].dropna().unique())\n",
    "income_options = [{\"label\": level, \"value\": level} for level in available_income_levels]\n",
    "avg_toggle = [{\"label\": \"Show 2000–2022 Average\", \"value\": \"show_avg\"}]\n",
    "\n",
    "# === Step 4: Build Dash App ===\n",
    "app = dash.Dash(__name__)\n",
    "app.title = \"HEP vs HEE Scatter and Ranking\"\n",
    "\n",
    "app.layout = html.Div([\n",
    "    html.H2(\"HEP vs HEE – Animated and Average Scatter by Country\"),\n",
    "\n",
    "    html.Div([\n",
    "        html.Label(\"Select Countries (ISO3):\"),\n",
    "        dcc.Dropdown(id=\"country-dropdown\", options=country_options, value=[\"ALL\"], multi=True),\n",
    "    ], style={\"width\": \"60%\", \"marginBottom\": \"20px\"}),\n",
    "\n",
    "    html.Div([\n",
    "        html.Label(\"Select Income Levels:\"),\n",
    "        dcc.Dropdown(id=\"income-dropdown\", options=income_options, value=available_income_levels, multi=True),\n",
    "    ], style={\"width\": \"60%\", \"marginBottom\": \"20px\"}),\n",
    "\n",
    "    html.Div([\n",
    "        dcc.Checklist(id=\"avg-toggle\", options=avg_toggle, value=[\"show_avg\"],\n",
    "                      labelStyle={\"display\": \"inline-block\", \"marginRight\": \"10px\"})\n",
    "    ], style={\"marginBottom\": \"20px\"}),\n",
    "\n",
    "    dcc.Graph(id=\"animated-scatter-main\", style={\"height\": \"600px\"}),\n",
    "    dcc.Graph(id=\"animated-scatter-health\", style={\"height\": \"600px\"}),\n",
    "    dcc.Graph(id=\"animated-scatter-edu\", style={\"height\": \"600px\"}),\n",
    "\n",
    "    html.Hr(),\n",
    "    html.H3(\"HEP vs HEE (2000–2022 Avg Only, No Animation)\"),\n",
    "\n",
    "    dcc.Graph(id=\"avg-scatter-main\"),\n",
    "    dcc.Graph(id=\"avg-scatter-health\"),\n",
    "    dcc.Graph(id=\"avg-scatter-edu\"),\n",
    "\n",
    "    html.Hr(),\n",
    "    html.H3(\"Ranking Table of HEP & HEE Index (2000–2022 Avg)\"),\n",
    "\n",
    "    dash_table.DataTable(\n",
    "        id='ranking-table',\n",
    "        columns=[\n",
    "            {\"name\": \"Rank\", \"id\": \"Rank\"},\n",
    "            {\"name\": \"Country Code (ISO3)\", \"id\": \"ISO3\"},\n",
    "            {\"name\": \"Income Level\", \"id\": \"income_level\"},\n",
    "            {\"name\": \"Avg HEP\", \"id\": \"HEP\", \"type\": \"numeric\", \"format\": {\"specifier\": \".3f\"}},\n",
    "            {\"name\": \"Avg HEE\", \"id\": \"HEE\", \"type\": \"numeric\", \"format\": {\"specifier\": \".3f\"}},\n",
    "            {\"name\": \"Avg HEP_Edu\", \"id\": \"HEP_Edu\", \"type\": \"numeric\", \"format\": {\"specifier\": \".3f\"}},\n",
    "            {\"name\": \"Avg HEE_Edu\", \"id\": \"HEE_Edu\", \"type\": \"numeric\", \"format\": {\"specifier\": \".3f\"}},\n",
    "            {\"name\": \"Avg HEP_Health\", \"id\": \"HEP_Health\", \"type\": \"numeric\", \"format\": {\"specifier\": \".3f\"}},\n",
    "            {\"name\": \"Avg HEE_Health\", \"id\": \"HEE_Health\", \"type\": \"numeric\", \"format\": {\"specifier\": \".3f\"}},\n",
    "        ],\n",
    "        data=df_rank.to_dict(\"records\"),\n",
    "        style_table={\"overflowX\": \"auto\"},\n",
    "        sort_action=\"native\",\n",
    "        style_header={\"backgroundColor\": \"#f4f4f4\", \"fontWeight\": \"bold\"},\n",
    "        style_cell={\"padding\": \"8px\", \"textAlign\": \"center\"},\n",
    "        page_size=20\n",
    "    )\n",
    "])\n",
    "\n",
    "# === Step 5: Callback ===\n",
    "@app.callback(\n",
    "    Output(\"animated-scatter-main\", \"figure\"),\n",
    "    Output(\"animated-scatter-health\", \"figure\"),\n",
    "    Output(\"animated-scatter-edu\", \"figure\"),\n",
    "    Output(\"avg-scatter-main\", \"figure\"),\n",
    "    Output(\"avg-scatter-health\", \"figure\"),\n",
    "    Output(\"avg-scatter-edu\", \"figure\"),\n",
    "    Input(\"country-dropdown\", \"value\"),\n",
    "    Input(\"income-dropdown\", \"value\"),\n",
    "    Input(\"avg-toggle\", \"value\")\n",
    ")\n",
    "def update_figure(selected_countries, selected_income_levels, avg_toggle):\n",
    "    if \"ALL\" in selected_countries:\n",
    "        selected_countries = available_countries\n",
    "\n",
    "    dff = df[df[\"ISO3\"].isin(selected_countries) & df[\"income_level\"].isin(selected_income_levels)]\n",
    "    dff_avg = df_avg[df_avg[\"ISO3\"].isin(selected_countries)]\n",
    "\n",
    "    def make_animated_scatter(x_col, y_col, title, avg_x, avg_y):\n",
    "        fig = px.scatter(\n",
    "            dff, x=x_col, y=y_col, color=\"income_level\", text=\"ISO3\",\n",
    "            animation_frame=\"Year_str\", range_x=[0, 1], range_y=[0, 1],\n",
    "            labels={x_col: f\"Performance ({x_col})\", y_col: f\"Efficiency ({y_col})\"},\n",
    "            title=title, width=950, height=600\n",
    "        )\n",
    "        fig.update_traces(marker=dict(size=10), textposition=\"top center\")\n",
    "\n",
    "        if \"show_avg\" in avg_toggle:\n",
    "            fig.add_trace(go.Scatter(\n",
    "                x=dff_avg[avg_x], y=dff_avg[avg_y], mode=\"markers+text\",\n",
    "                text=dff_avg[\"text\"], textposition=\"bottom center\",\n",
    "                marker=dict(size=9, symbol=\"diamond\", color=\"black\", opacity=0.4),\n",
    "                name=\"2000–2022 Avg\"\n",
    "            ))\n",
    "\n",
    "        fig.add_shape(\n",
    "            type=\"line\", x0=0, y0=0, x1=1, y1=1,\n",
    "            xref=\"x\", yref=\"y\", line=dict(dash=\"dash\", color=\"gray\")\n",
    "        )\n",
    "        return fig\n",
    "\n",
    "    def make_static_avg_scatter(x_col, y_col, title):\n",
    "        dff_static = df_avg[df_avg[\"income_level\"].isin(selected_income_levels) & df_avg[\"ISO3\"].isin(selected_countries)]\n",
    "        fig = px.scatter(\n",
    "            dff_static, x=x_col, y=y_col, color=\"income_level\", text=\"ISO3\",\n",
    "            range_x=[0, 1], range_y=[0, 1],\n",
    "            labels={x_col: f\"Performance ({x_col})\", y_col: f\"Efficiency ({y_col})\"},\n",
    "            title=title, width=950, height=600\n",
    "        )\n",
    "        fig.update_traces(marker=dict(size=10), textposition=\"top center\")\n",
    "        fig.add_shape(\n",
    "            type=\"line\", x0=0, y0=0, x1=1, y1=1,\n",
    "            xref=\"x\", yref=\"y\", line=dict(dash=\"dash\", color=\"gray\")\n",
    "        )\n",
    "        return fig\n",
    "\n",
    "    fig_main = make_animated_scatter(\"HEP\", \"HEE\", \"HEP vs HEE (Overall)\", \"HEP\", \"HEE\")\n",
    "    fig_health = make_animated_scatter(\"HEP_Health\", \"HEE_Health\", \"HEP vs HEE (Health Only)\", \"HEP_Health\", \"HEE_Health\")\n",
    "    fig_edu = make_animated_scatter(\"HEP_Edu\", \"HEE_Edu\", \"HEP vs HEE (Education Only)\", \"HEP_Edu\", \"HEE_Edu\")\n",
    "\n",
    "    fig_avg_main = make_static_avg_scatter(\"HEP\", \"HEE\", \"Avg HEP vs HEE (Overall)\")\n",
    "    fig_avg_health = make_static_avg_scatter(\"HEP_Health\", \"HEE_Health\", \"Avg HEP vs HEE (Health Only)\")\n",
    "    fig_avg_edu = make_static_avg_scatter(\"HEP_Edu\", \"HEE_Edu\", \"Avg HEP vs HEE (Education Only)\")\n",
    "\n",
    "    return fig_main, fig_health, fig_edu, fig_avg_main, fig_avg_health, fig_avg_edu\n",
    "\n",
    "# === Step 6: Run App ===\n",
    "if __name__ == \"__main__\":\n",
    "    app.run(debug=True)\n"
   ]
  },
  {
   "cell_type": "code",
   "execution_count": 106,
   "id": "c81d584a",
   "metadata": {},
   "outputs": [
    {
     "data": {
      "application/vnd.plotly.v1+json": {
       "config": {
        "plotlyServerURL": "https://plot.ly"
       },
       "data": [
        {
         "alignmentgroup": "True",
         "hovertemplate": "Metric=HEP<br>Index Value=%{x}<br>Country=%{y}<extra></extra>",
         "legendgroup": "HEP",
         "marker": {
          "color": "#FFB6C1",
          "pattern": {
           "shape": ""
          }
         },
         "name": "HEP",
         "offsetgroup": "HEP",
         "orientation": "h",
         "showlegend": true,
         "textposition": "auto",
         "type": "bar",
         "x": {
          "bdata": "uhVoo67P5T9/XMlBMWLmP9PWxnxuWOw/gSasr3tu2z/FbLU/RsniP81UiNIuSu0/Iee5XCAN6D9tJwW6FN/kPzpg4yJZ7Ok/USgpvWwE6z9oorLOMPHsP5lAoyvYGuM/BvvY1rgA4T9L+ORvloXOP5LHr+wRAes/0oLNdCnl6z8u3/IuDJDpP0dBCy7tTt0/HIeIKF7O4D8y/wsq5F7ZP1KeTDZdLes/JsameOOZ5T/Gnz8596PkP21rIigehO0/fPIJKzwO5T/hZERfahncPyIku3D4FOQ/lkBUqciW7D/jK0ud2U/lP2f4foeFjN0/GJmEIBc65D91Tkrv2ZrYP+4UFfuHo+M/v6qhKbY35j8vd99vG6/HP4zplZaEeOI/QYZh2TMp7D//7LU+KeXsPxJigHu7ctE/XVxlWhE74z8b3KaGIg/iP6hyKTH2i+Y/NnA9dNNI6D9zFGR5+KrsP6sFqaHFUOc/Q0/6CSXp6T+FkyqmDZTkPyhRJfwKpeM/YcGN4glV4j+9N/56IA/lP7Ew2nVKhOc/5HFYvvcE5j8xlFdhf4vrP6XWPb4yVeU/7h8vI/6q5j8=",
          "dtype": "f8"
         },
         "xaxis": "x",
         "y": [
          "ARG",
          "ARM",
          "AUS",
          "BGD",
          "BRA",
          "CAN",
          "CHL",
          "CHN",
          "CYP",
          "CZE",
          "DEU",
          "ECU",
          "EGY",
          "ETH",
          "FRA",
          "GBR",
          "GRC",
          "GTM",
          "IDN",
          "IND",
          "IRL",
          "IRN",
          "JOR",
          "JPN",
          "KAZ",
          "KEN",
          "KGZ",
          "KOR",
          "LBN",
          "MAR",
          "MEX",
          "MMR",
          "MNG",
          "MYS",
          "NGA",
          "NIC",
          "NLD",
          "NZL",
          "PAK",
          "PER",
          "PHL",
          "ROU",
          "RUS",
          "SGP",
          "SRB",
          "SVK",
          "THA",
          "TJK",
          "TUN",
          "TUR",
          "UKR",
          "URY",
          "USA",
          "UZB",
          "VNM"
         ],
         "yaxis": "y"
        },
        {
         "alignmentgroup": "True",
         "hovertemplate": "Metric=HEE<br>Index Value=%{x}<br>Country=%{y}<extra></extra>",
         "legendgroup": "HEE",
         "marker": {
          "color": "#FFA500",
          "pattern": {
           "shape": ""
          }
         },
         "name": "HEE",
         "offsetgroup": "HEE",
         "orientation": "h",
         "showlegend": true,
         "textposition": "auto",
         "type": "bar",
         "x": {
          "bdata": "mofo2iwh0T+26CygIjvXPwORhUQrH9U/aSqdy9C+4D9kWTINwcvMP9hfsjCcKdU/XJlMZkSp1T9GGqCskCzbP183iZcXCdU/NXZVACld2T9QxhWOoIfUPyB+BdtCy9c/gqzkTGXO0z8GaDgtO5fBP7jahNjUv9E/hciLsky31D/9xBwl26PWP3Q/QTGXLNE/fg/+aXK24T8zcucfEhPRP45vGJjLjtg/0iHjBqcz2D+mFBvcFVbUP2G+FNwzN9o/j5FPkPUR4D/tpfOR2hrMPzsrjFaHLNE/j36I3UHk3T86XhJ5L47YP4OHxsn1Y80/r4VWr0za1D9fPFoEFGPfP/ZFbrNg5NQ/+EGaHMlH2T/CiHF+6MHRPw07A4983tI/42O5liJX1D+akPUcoxvUP/oVDGdAj9M/s/kzM2+n2D+a2KnebqnbPxiV3xhBu9s/GoUMZrNf2z8v7FmTVrzlP9OgDUW5U9Q/hsz7OD1J2T+rObPuOeLbP2EVnLwet9Q/zpTAgecFzj8zNc57frrZP5SNluPPYdM/5r1zErBS1D8SEwjnMXvMP1zkYuB9cNM/w4SOHjG/2j8=",
          "dtype": "f8"
         },
         "xaxis": "x",
         "y": [
          "ARG",
          "ARM",
          "AUS",
          "BGD",
          "BRA",
          "CAN",
          "CHL",
          "CHN",
          "CYP",
          "CZE",
          "DEU",
          "ECU",
          "EGY",
          "ETH",
          "FRA",
          "GBR",
          "GRC",
          "GTM",
          "IDN",
          "IND",
          "IRL",
          "IRN",
          "JOR",
          "JPN",
          "KAZ",
          "KEN",
          "KGZ",
          "KOR",
          "LBN",
          "MAR",
          "MEX",
          "MMR",
          "MNG",
          "MYS",
          "NGA",
          "NIC",
          "NLD",
          "NZL",
          "PAK",
          "PER",
          "PHL",
          "ROU",
          "RUS",
          "SGP",
          "SRB",
          "SVK",
          "THA",
          "TJK",
          "TUN",
          "TUR",
          "UKR",
          "URY",
          "USA",
          "UZB",
          "VNM"
         ],
         "yaxis": "y"
        }
       ],
       "layout": {
        "bargap": 0.2,
        "barmode": "group",
        "height": 1000,
        "legend": {
         "title": {
          "text": "Indicator"
         },
         "tracegroupgap": 0
        },
        "margin": {
         "b": 40,
         "l": 100,
         "r": 20,
         "t": 60
        },
        "template": {
         "data": {
          "bar": [
           {
            "error_x": {
             "color": "#2a3f5f"
            },
            "error_y": {
             "color": "#2a3f5f"
            },
            "marker": {
             "line": {
              "color": "#E5ECF6",
              "width": 0.5
             },
             "pattern": {
              "fillmode": "overlay",
              "size": 10,
              "solidity": 0.2
             }
            },
            "type": "bar"
           }
          ],
          "barpolar": [
           {
            "marker": {
             "line": {
              "color": "#E5ECF6",
              "width": 0.5
             },
             "pattern": {
              "fillmode": "overlay",
              "size": 10,
              "solidity": 0.2
             }
            },
            "type": "barpolar"
           }
          ],
          "carpet": [
           {
            "aaxis": {
             "endlinecolor": "#2a3f5f",
             "gridcolor": "white",
             "linecolor": "white",
             "minorgridcolor": "white",
             "startlinecolor": "#2a3f5f"
            },
            "baxis": {
             "endlinecolor": "#2a3f5f",
             "gridcolor": "white",
             "linecolor": "white",
             "minorgridcolor": "white",
             "startlinecolor": "#2a3f5f"
            },
            "type": "carpet"
           }
          ],
          "choropleth": [
           {
            "colorbar": {
             "outlinewidth": 0,
             "ticks": ""
            },
            "type": "choropleth"
           }
          ],
          "contour": [
           {
            "colorbar": {
             "outlinewidth": 0,
             "ticks": ""
            },
            "colorscale": [
             [
              0,
              "#0d0887"
             ],
             [
              0.1111111111111111,
              "#46039f"
             ],
             [
              0.2222222222222222,
              "#7201a8"
             ],
             [
              0.3333333333333333,
              "#9c179e"
             ],
             [
              0.4444444444444444,
              "#bd3786"
             ],
             [
              0.5555555555555556,
              "#d8576b"
             ],
             [
              0.6666666666666666,
              "#ed7953"
             ],
             [
              0.7777777777777778,
              "#fb9f3a"
             ],
             [
              0.8888888888888888,
              "#fdca26"
             ],
             [
              1,
              "#f0f921"
             ]
            ],
            "type": "contour"
           }
          ],
          "contourcarpet": [
           {
            "colorbar": {
             "outlinewidth": 0,
             "ticks": ""
            },
            "type": "contourcarpet"
           }
          ],
          "heatmap": [
           {
            "colorbar": {
             "outlinewidth": 0,
             "ticks": ""
            },
            "colorscale": [
             [
              0,
              "#0d0887"
             ],
             [
              0.1111111111111111,
              "#46039f"
             ],
             [
              0.2222222222222222,
              "#7201a8"
             ],
             [
              0.3333333333333333,
              "#9c179e"
             ],
             [
              0.4444444444444444,
              "#bd3786"
             ],
             [
              0.5555555555555556,
              "#d8576b"
             ],
             [
              0.6666666666666666,
              "#ed7953"
             ],
             [
              0.7777777777777778,
              "#fb9f3a"
             ],
             [
              0.8888888888888888,
              "#fdca26"
             ],
             [
              1,
              "#f0f921"
             ]
            ],
            "type": "heatmap"
           }
          ],
          "histogram": [
           {
            "marker": {
             "pattern": {
              "fillmode": "overlay",
              "size": 10,
              "solidity": 0.2
             }
            },
            "type": "histogram"
           }
          ],
          "histogram2d": [
           {
            "colorbar": {
             "outlinewidth": 0,
             "ticks": ""
            },
            "colorscale": [
             [
              0,
              "#0d0887"
             ],
             [
              0.1111111111111111,
              "#46039f"
             ],
             [
              0.2222222222222222,
              "#7201a8"
             ],
             [
              0.3333333333333333,
              "#9c179e"
             ],
             [
              0.4444444444444444,
              "#bd3786"
             ],
             [
              0.5555555555555556,
              "#d8576b"
             ],
             [
              0.6666666666666666,
              "#ed7953"
             ],
             [
              0.7777777777777778,
              "#fb9f3a"
             ],
             [
              0.8888888888888888,
              "#fdca26"
             ],
             [
              1,
              "#f0f921"
             ]
            ],
            "type": "histogram2d"
           }
          ],
          "histogram2dcontour": [
           {
            "colorbar": {
             "outlinewidth": 0,
             "ticks": ""
            },
            "colorscale": [
             [
              0,
              "#0d0887"
             ],
             [
              0.1111111111111111,
              "#46039f"
             ],
             [
              0.2222222222222222,
              "#7201a8"
             ],
             [
              0.3333333333333333,
              "#9c179e"
             ],
             [
              0.4444444444444444,
              "#bd3786"
             ],
             [
              0.5555555555555556,
              "#d8576b"
             ],
             [
              0.6666666666666666,
              "#ed7953"
             ],
             [
              0.7777777777777778,
              "#fb9f3a"
             ],
             [
              0.8888888888888888,
              "#fdca26"
             ],
             [
              1,
              "#f0f921"
             ]
            ],
            "type": "histogram2dcontour"
           }
          ],
          "mesh3d": [
           {
            "colorbar": {
             "outlinewidth": 0,
             "ticks": ""
            },
            "type": "mesh3d"
           }
          ],
          "parcoords": [
           {
            "line": {
             "colorbar": {
              "outlinewidth": 0,
              "ticks": ""
             }
            },
            "type": "parcoords"
           }
          ],
          "pie": [
           {
            "automargin": true,
            "type": "pie"
           }
          ],
          "scatter": [
           {
            "fillpattern": {
             "fillmode": "overlay",
             "size": 10,
             "solidity": 0.2
            },
            "type": "scatter"
           }
          ],
          "scatter3d": [
           {
            "line": {
             "colorbar": {
              "outlinewidth": 0,
              "ticks": ""
             }
            },
            "marker": {
             "colorbar": {
              "outlinewidth": 0,
              "ticks": ""
             }
            },
            "type": "scatter3d"
           }
          ],
          "scattercarpet": [
           {
            "marker": {
             "colorbar": {
              "outlinewidth": 0,
              "ticks": ""
             }
            },
            "type": "scattercarpet"
           }
          ],
          "scattergeo": [
           {
            "marker": {
             "colorbar": {
              "outlinewidth": 0,
              "ticks": ""
             }
            },
            "type": "scattergeo"
           }
          ],
          "scattergl": [
           {
            "marker": {
             "colorbar": {
              "outlinewidth": 0,
              "ticks": ""
             }
            },
            "type": "scattergl"
           }
          ],
          "scattermap": [
           {
            "marker": {
             "colorbar": {
              "outlinewidth": 0,
              "ticks": ""
             }
            },
            "type": "scattermap"
           }
          ],
          "scattermapbox": [
           {
            "marker": {
             "colorbar": {
              "outlinewidth": 0,
              "ticks": ""
             }
            },
            "type": "scattermapbox"
           }
          ],
          "scatterpolar": [
           {
            "marker": {
             "colorbar": {
              "outlinewidth": 0,
              "ticks": ""
             }
            },
            "type": "scatterpolar"
           }
          ],
          "scatterpolargl": [
           {
            "marker": {
             "colorbar": {
              "outlinewidth": 0,
              "ticks": ""
             }
            },
            "type": "scatterpolargl"
           }
          ],
          "scatterternary": [
           {
            "marker": {
             "colorbar": {
              "outlinewidth": 0,
              "ticks": ""
             }
            },
            "type": "scatterternary"
           }
          ],
          "surface": [
           {
            "colorbar": {
             "outlinewidth": 0,
             "ticks": ""
            },
            "colorscale": [
             [
              0,
              "#0d0887"
             ],
             [
              0.1111111111111111,
              "#46039f"
             ],
             [
              0.2222222222222222,
              "#7201a8"
             ],
             [
              0.3333333333333333,
              "#9c179e"
             ],
             [
              0.4444444444444444,
              "#bd3786"
             ],
             [
              0.5555555555555556,
              "#d8576b"
             ],
             [
              0.6666666666666666,
              "#ed7953"
             ],
             [
              0.7777777777777778,
              "#fb9f3a"
             ],
             [
              0.8888888888888888,
              "#fdca26"
             ],
             [
              1,
              "#f0f921"
             ]
            ],
            "type": "surface"
           }
          ],
          "table": [
           {
            "cells": {
             "fill": {
              "color": "#EBF0F8"
             },
             "line": {
              "color": "white"
             }
            },
            "header": {
             "fill": {
              "color": "#C8D4E3"
             },
             "line": {
              "color": "white"
             }
            },
            "type": "table"
           }
          ]
         },
         "layout": {
          "annotationdefaults": {
           "arrowcolor": "#2a3f5f",
           "arrowhead": 0,
           "arrowwidth": 1
          },
          "autotypenumbers": "strict",
          "coloraxis": {
           "colorbar": {
            "outlinewidth": 0,
            "ticks": ""
           }
          },
          "colorscale": {
           "diverging": [
            [
             0,
             "#8e0152"
            ],
            [
             0.1,
             "#c51b7d"
            ],
            [
             0.2,
             "#de77ae"
            ],
            [
             0.3,
             "#f1b6da"
            ],
            [
             0.4,
             "#fde0ef"
            ],
            [
             0.5,
             "#f7f7f7"
            ],
            [
             0.6,
             "#e6f5d0"
            ],
            [
             0.7,
             "#b8e186"
            ],
            [
             0.8,
             "#7fbc41"
            ],
            [
             0.9,
             "#4d9221"
            ],
            [
             1,
             "#276419"
            ]
           ],
           "sequential": [
            [
             0,
             "#0d0887"
            ],
            [
             0.1111111111111111,
             "#46039f"
            ],
            [
             0.2222222222222222,
             "#7201a8"
            ],
            [
             0.3333333333333333,
             "#9c179e"
            ],
            [
             0.4444444444444444,
             "#bd3786"
            ],
            [
             0.5555555555555556,
             "#d8576b"
            ],
            [
             0.6666666666666666,
             "#ed7953"
            ],
            [
             0.7777777777777778,
             "#fb9f3a"
            ],
            [
             0.8888888888888888,
             "#fdca26"
            ],
            [
             1,
             "#f0f921"
            ]
           ],
           "sequentialminus": [
            [
             0,
             "#0d0887"
            ],
            [
             0.1111111111111111,
             "#46039f"
            ],
            [
             0.2222222222222222,
             "#7201a8"
            ],
            [
             0.3333333333333333,
             "#9c179e"
            ],
            [
             0.4444444444444444,
             "#bd3786"
            ],
            [
             0.5555555555555556,
             "#d8576b"
            ],
            [
             0.6666666666666666,
             "#ed7953"
            ],
            [
             0.7777777777777778,
             "#fb9f3a"
            ],
            [
             0.8888888888888888,
             "#fdca26"
            ],
            [
             1,
             "#f0f921"
            ]
           ]
          },
          "colorway": [
           "#636efa",
           "#EF553B",
           "#00cc96",
           "#ab63fa",
           "#FFA15A",
           "#19d3f3",
           "#FF6692",
           "#B6E880",
           "#FF97FF",
           "#FECB52"
          ],
          "font": {
           "color": "#2a3f5f"
          },
          "geo": {
           "bgcolor": "white",
           "lakecolor": "white",
           "landcolor": "#E5ECF6",
           "showlakes": true,
           "showland": true,
           "subunitcolor": "white"
          },
          "hoverlabel": {
           "align": "left"
          },
          "hovermode": "closest",
          "mapbox": {
           "style": "light"
          },
          "paper_bgcolor": "white",
          "plot_bgcolor": "#E5ECF6",
          "polar": {
           "angularaxis": {
            "gridcolor": "white",
            "linecolor": "white",
            "ticks": ""
           },
           "bgcolor": "#E5ECF6",
           "radialaxis": {
            "gridcolor": "white",
            "linecolor": "white",
            "ticks": ""
           }
          },
          "scene": {
           "xaxis": {
            "backgroundcolor": "#E5ECF6",
            "gridcolor": "white",
            "gridwidth": 2,
            "linecolor": "white",
            "showbackground": true,
            "ticks": "",
            "zerolinecolor": "white"
           },
           "yaxis": {
            "backgroundcolor": "#E5ECF6",
            "gridcolor": "white",
            "gridwidth": 2,
            "linecolor": "white",
            "showbackground": true,
            "ticks": "",
            "zerolinecolor": "white"
           },
           "zaxis": {
            "backgroundcolor": "#E5ECF6",
            "gridcolor": "white",
            "gridwidth": 2,
            "linecolor": "white",
            "showbackground": true,
            "ticks": "",
            "zerolinecolor": "white"
           }
          },
          "shapedefaults": {
           "line": {
            "color": "#2a3f5f"
           }
          },
          "ternary": {
           "aaxis": {
            "gridcolor": "white",
            "linecolor": "white",
            "ticks": ""
           },
           "baxis": {
            "gridcolor": "white",
            "linecolor": "white",
            "ticks": ""
           },
           "bgcolor": "#E5ECF6",
           "caxis": {
            "gridcolor": "white",
            "linecolor": "white",
            "ticks": ""
           }
          },
          "title": {
           "x": 0.05
          },
          "xaxis": {
           "automargin": true,
           "gridcolor": "white",
           "linecolor": "white",
           "ticks": "",
           "title": {
            "standoff": 15
           },
           "zerolinecolor": "white",
           "zerolinewidth": 2
          },
          "yaxis": {
           "automargin": true,
           "gridcolor": "white",
           "linecolor": "white",
           "ticks": "",
           "title": {
            "standoff": 15
           },
           "zerolinecolor": "white",
           "zerolinewidth": 2
          }
         }
        },
        "title": {
         "text": "Avg HEP vs HEE index (2000–2022)"
        },
        "xaxis": {
         "anchor": "y",
         "domain": [
          0,
          1
         ],
         "title": {
          "text": "Index Value"
         }
        },
        "yaxis": {
         "anchor": "x",
         "domain": [
          0,
          1
         ],
         "title": {
          "text": "Country"
         }
        }
       }
      }
     },
     "metadata": {},
     "output_type": "display_data"
    }
   ],
   "source": [
    "import pandas as pd\n",
    "import plotly.express as px\n",
    "\n",
    "# === Step 1: Load and aggregate ===\n",
    "df = pd.read_csv(\"../data/processed/hep_hee_results_with_region.csv\")\n",
    "df_avg = df[df[\"Year\"].between(2000, 2022)]\n",
    "df_avg = df_avg.groupby(\"ISO3\")[[\"HEP\", \"HEE\"]].mean().reset_index()\n",
    "\n",
    "# === Step 2: Melt to long format for grouped bars ===\n",
    "df_long = df_avg.melt(id_vars=\"ISO3\", value_vars=[\"HEP\", \"HEE\"], \n",
    "                      var_name=\"Indicator\", value_name=\"Value\")\n",
    "\n",
    "# === Step 3: Sort for display ===\n",
    "df_long[\"ISO3\"] = pd.Categorical(df_long[\"ISO3\"], \n",
    "                                 categories=df_avg.sort_values(\"HEP\")[\"ISO3\"],\n",
    "                                 ordered=True)\n",
    "\n",
    "# === Step 4: Plot with Plotly Express ===\n",
    "fig = px.bar(\n",
    "    df_long,\n",
    "    x=\"Value\",\n",
    "    y=\"ISO3\",\n",
    "    color=\"Indicator\",\n",
    "    barmode=\"group\",\n",
    "    orientation=\"h\",\n",
    "    height=1000,\n",
    "    color_discrete_map={\"HEP\": \"#FFB6C1\", \"HEE\": \"#FFA500\"},\n",
    "    labels={\"Value\": \"Index Value\", \"ISO3\": \"Country\", \"Indicator\": \"Metric\"},\n",
    "    title=\"Avg HEP vs HEE index (2000–2022)\"\n",
    ")\n",
    "\n",
    "# === Step 5: Layout adjustments ===\n",
    "fig.update_layout(\n",
    "    yaxis_title=\"Country\",\n",
    "    xaxis_title=\"Index Value\",\n",
    "    legend_title_text=\"Indicator\",\n",
    "    bargap=0.2,\n",
    "    margin=dict(l=100, r=20, t=60, b=40)\n",
    ")\n",
    "\n",
    "fig.show()\n"
   ]
  }
 ],
 "metadata": {
  "kernelspec": {
   "display_name": "Python 3",
   "language": "python",
   "name": "python3"
  },
  "language_info": {
   "codemirror_mode": {
    "name": "ipython",
    "version": 3
   },
   "file_extension": ".py",
   "mimetype": "text/x-python",
   "name": "python",
   "nbconvert_exporter": "python",
   "pygments_lexer": "ipython3",
   "version": "3.11.9"
  }
 },
 "nbformat": 4,
 "nbformat_minor": 5
}
