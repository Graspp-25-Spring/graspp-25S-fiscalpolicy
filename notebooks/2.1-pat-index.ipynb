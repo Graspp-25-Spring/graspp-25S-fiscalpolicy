{
 "cells": [
  {
   "cell_type": "markdown",
   "id": "b9fed85b",
   "metadata": {},
   "source": [
    "## integrate R&D and contribution revenue into a broader index"
   ]
  },
  {
   "cell_type": "markdown",
   "id": "1c4a5cc3",
   "metadata": {},
   "source": [
    "### 📝 Note: Health Expenditure Performance Index (HEP)\n",
    "\n",
    "**HEE = Health Expenditure Efficiency Index (HEE)\n",
    "\n",
    "Clean the following data (for missing data)\n",
    "Life expectancy, Infant Mortality, Average Schooling (years), Learning Outcome, Health Expenditure,Education Expenditure\n",
    "\n",
    "Replicate PSP model by using the following data to generate HEP(Health Expenditure Performance) \n",
    "Independent variables = Life expectancy, Infant Mortality, Average Schooling (years), Learning Outcome\n",
    "\n",
    "After that we will generate HEE (Health Expenditure Efficiency) by divided the HEP with Expenditure\n",
    "HEE = HEP/(Health Expenditure + Education Expenditure)\n",
    "\n"
   ]
  },
  {
   "cell_type": "code",
   "execution_count": 1,
   "id": "7fa4969d",
   "metadata": {},
   "outputs": [
    {
     "ename": "NameError",
     "evalue": "name 'result' is not defined",
     "output_type": "error",
     "traceback": [
      "\u001b[31m---------------------------------------------------------------------------\u001b[39m",
      "\u001b[31mNameError\u001b[39m                                 Traceback (most recent call last)",
      "\u001b[36mCell\u001b[39m\u001b[36m \u001b[39m\u001b[32mIn[1]\u001b[39m\u001b[32m, line 55\u001b[39m\n\u001b[32m     52\u001b[39m df_norm[\u001b[33m\"\u001b[39m\u001b[33mHEE\u001b[39m\u001b[33m\"\u001b[39m] = df_norm[\u001b[33m\"\u001b[39m\u001b[33mHEP\u001b[39m\u001b[33m\"\u001b[39m] / df_norm[\u001b[33m\"\u001b[39m\u001b[33mtotal_expenditure\u001b[39m\u001b[33m\"\u001b[39m]\n\u001b[32m     54\u001b[39m \u001b[38;5;66;03m# === Step 4: Save result ===\u001b[39;00m\n\u001b[32m---> \u001b[39m\u001b[32m55\u001b[39m \u001b[43mresult\u001b[49m.to_csv(\u001b[33m\"\u001b[39m\u001b[33m../data/processed/hep_hee_results.csv\u001b[39m\u001b[33m\"\u001b[39m, index=\u001b[38;5;28;01mFalse\u001b[39;00m)\n\u001b[32m     57\u001b[39m \u001b[38;5;28mprint\u001b[39m(\u001b[33m\"\u001b[39m\u001b[33m✅ HEP & HEE calculated and saved successfully.\u001b[39m\u001b[33m\"\u001b[39m)\n\u001b[32m     58\u001b[39m \u001b[38;5;28mprint\u001b[39m(result.tail())\n",
      "\u001b[31mNameError\u001b[39m: name 'result' is not defined"
     ]
    }
   ],
   "source": [
    "import pandas as pd\n",
    "import os\n",
    "\n",
    "# === Step 1: Load and clean merged data ===\n",
    "\n",
    "# Adjusted path: go up one level from notebooks/ to access data/interim\n",
    "df = pd.read_csv(\"../data/interim/merged_data.csv\")\n",
    "\n",
    "# Filter to only include years up to 2022\n",
    "df = df[df[\"Year\"] <= 2022]\n",
    "\n",
    "# Sort by Country and Year (most recent first) for proper fill\n",
    "df = df.sort_values(by=[\"Country\", \"Year\"], ascending=[True, False])\n",
    "\n",
    "# Fill missing values using most recent data available (backward then forward fill)\n",
    "df_cleaned = (\n",
    "    df.groupby(\"Country\", group_keys=False)\n",
    "      .apply(lambda g: g.bfill().ffill(), include_groups=False)\n",
    "      .reset_index(drop=True)\n",
    ")\n",
    "\n",
    "# Save cleaned data\n",
    "os.makedirs(\"../data/processed\", exist_ok=True)\n",
    "df_cleaned.to_csv(\"../data/processed/merged_data_clean.csv\", index=False)\n",
    "\n",
    "# === Step 2: Normalize performance indicators ===\n",
    "\n",
    "def normalize(series):\n",
    "    return (series - series.min()) / (series.max() - series.min())\n",
    "\n",
    "df_norm = df_cleaned.copy()\n",
    "\n",
    "# Apply normalization (adjust columns to exact spelling)\n",
    "df_norm[\"life_expectancy_norm\"] = normalize(df_norm[\"Life_Expectancy\"])\n",
    "df_norm[\"infant_mortality_norm\"] = 1 - normalize(df_norm[\"Mortality_Rate\"])\n",
    "df_norm[\"average_schooling_norm\"] = normalize(df_norm[\"average_schooling\"])\n",
    "df_norm[\"learning_outcome_norm\"] = normalize(df_norm[\"learning_scores\"])\n",
    "\n",
    "# === Step 3: Calculate HEP and HEE ===\n",
    "\n",
    "df_norm[\"HEP\"] = df_norm[[\n",
    "    \"life_expectancy_norm\",\n",
    "    \"infant_mortality_norm\",\n",
    "    \"average_schooling_norm\",\n",
    "    \"learning_outcome_norm\"\n",
    "]].mean(axis=1)\n",
    "\n",
    "df_norm[\"total_expenditure\"] = (\n",
    "    df_norm[\"Health_Expenditure\"] + df_norm[\"Education_Expenditure\"]\n",
    ")\n",
    "\n",
    "df_norm[\"HEE\"] = df_norm[\"HEP\"] / df_norm[\"total_expenditure\"]\n",
    "\n",
    "# === Step 4: Save result ===\n",
    "result.to_csv(\"../data/processed/hep_hee_results.csv\", index=False)\n",
    "\n",
    "print(\"✅ HEP & HEE calculated and saved successfully.\")\n",
    "print(result.tail())\n"
   ]
  },
  {
   "cell_type": "markdown",
   "id": "a064c8ac",
   "metadata": {},
   "source": [
    "Add region\n"
   ]
  },
  {
   "cell_type": "code",
   "execution_count": null,
   "id": "5fe0b361",
   "metadata": {},
   "outputs": [
    {
     "name": "stdout",
     "output_type": "stream",
     "text": [
      "✅ 'Region' column added and data saved to: ../data/processed/hep_hee_results_with_region.csv\n"
     ]
    }
   ],
   "source": [
    "import pandas as pd\n",
    "import os\n",
    "\n",
    "# === Step 1: Load the data ===\n",
    "data_path = \"../data/processed/hep_hee_results.csv\"\n",
    "df = pd.read_csv(data_path)\n",
    "\n",
    "# === Step 2: Define compact country-to-region mapping ===\n",
    "emea = [\n",
    "    \"Afghanistan\", \"Albania\", \"Algeria\", \"Andorra\", \"Angola\", \"Armenia\", \"Austria\", \"Azerbaijan\", \"Bahrain\", \n",
    "    \"Belarus\", \"Belgium\", \"Benin\", \"Bosnia and Herzegovina\", \"Botswana\", \"Bulgaria\", \"Burkina Faso\", \"Burundi\",\n",
    "    \"Cameroon\", \"Cape Verde\", \"Central African Republic\", \"Chad\", \"Comoros\", \"Congo\", \"Croatia\", \"Cyprus\",\n",
    "    \"Czechia\", \"Democratic Republic of the Congo\", \"Denmark\", \"Djibouti\", \"Egypt\", \"Equatorial Guinea\", \"Eritrea\",\n",
    "    \"Estonia\", \"Eswatini\", \"Ethiopia\", \"Finland\", \"France\", \"Gabon\", \"Gambia\", \"Georgia\", \"Germany\", \"Ghana\",\n",
    "    \"Greece\", \"Guinea\", \"Guinea-Bissau\", \"Hungary\", \"Iceland\", \"Iran\", \"Iraq\", \"Ireland\", \"Israel\", \"Italy\",\n",
    "    \"Jordan\", \"Kazakhstan\", \"Kenya\", \"Kuwait\", \"Kyrgyzstan\", \"Latvia\", \"Lebanon\", \"Lesotho\", \"Liberia\", \"Libya\",\n",
    "    \"Lithuania\", \"Luxembourg\", \"Madagascar\", \"Malawi\", \"Mali\", \"Malta\", \"Mauritania\", \"Mauritius\", \"Moldova\",\n",
    "    \"Monaco\", \"Montenegro\", \"Morocco\", \"Mozambique\", \"Namibia\", \"Netherlands\", \"Niger\", \"Nigeria\",\n",
    "    \"North Macedonia\", \"Norway\", \"Oman\", \"Poland\", \"Portugal\", \"Qatar\", \"Romania\", \"Russia\", \"Rwanda\",\n",
    "    \"Saudi Arabia\", \"Senegal\", \"Serbia\", \"Seychelles\", \"Sierra Leone\", \"Slovakia\", \"Slovenia\", \"Somalia\",\n",
    "    \"South Africa\", \"South Sudan\", \"Spain\", \"Sudan\", \"Syrian Arab Republic\", \"Tajikistan\", \"Togo\", \"Tunisia\",\n",
    "    \"Turkey\", \"Turkmenistan\", \"Uganda\", \"Ukraine\", \"United Arab Emirates\", \"United Kingdom\",\n",
    "    \"United Republic of Tanzania\", \"Uzbekistan\", \"Western Sahara\", \"Yemen\", \"Zambia\", \"Zimbabwe\"\n",
    "]\n",
    "apac = [\n",
    "    \"Australia\", \"Bangladesh\", \"Bhutan\", \"Brunei Darussalam\", \"Cambodia\", \"China\", \"Fiji\", \"India\", \"Indonesia\",\n",
    "    \"Japan\", \"Lao People's Democratic Republic\", \"Malaysia\", \"Maldives\", \"Mongolia\", \"Myanmar\", \"Nepal\",\n",
    "    \"New Zealand\", \"Pakistan\", \"Papua New Guinea\", \"Philippines\", \"Republic of Korea\", \"Singapore\", \"Sri Lanka\",\n",
    "    \"Thailand\", \"Timor-Leste\", \"Viet Nam\", \"Vietnam\", \"South Korea\"\n",
    "]\n",
    "latam = [\n",
    "    \"Argentina\", \"Bahamas\", \"Barbados\", \"Belize\", \"Bolivia\", \"Brazil\", \"Chile\", \"Colombia\", \"Costa Rica\", \"Cuba\",\n",
    "    \"Dominican Republic\", \"Ecuador\", \"El Salvador\", \"Guatemala\", \"Guyana\", \"Haiti\", \"Honduras\", \"Jamaica\",\n",
    "    \"Mexico\", \"Nicaragua\", \"Panama\", \"Paraguay\", \"Peru\", \"Suriname\", \"Trinidad and Tobago\", \"Uruguay\",\n",
    "    \"Venezuela\"\n",
    "]\n",
    "na = [\"Canada\", \"United States\"]\n",
    "\n",
    "# Combine into a single dictionary\n",
    "country_region_map = {\n",
    "    **{country: \"EMEA\" for country in emea},\n",
    "    **{country: \"APAC\" for country in apac},\n",
    "    **{country: \"LATAM\" for country in latam},\n",
    "    **{country: \"NA\" for country in na},\n",
    "}\n",
    "\n",
    "# === Step 3: Map region and validate ===\n",
    "df[\"Region\"] = df[\"Country\"].map(country_region_map)\n",
    "unmapped = df[df[\"Region\"].isnull()][\"Country\"].unique()\n",
    "\n",
    "if len(unmapped) > 0:\n",
    "    print(\"⚠️ Warning: The following countries couldn't be mapped to a region:\")\n",
    "    for c in unmapped:\n",
    "        print(f\"- {c}\")\n",
    "    print(\"👉 Please update 'country_region_map' with these countries.\")\n",
    "\n",
    "# === Step 4: Save updated file ===\n",
    "output_path = \"../data/processed/hep_hee_results_with_region.csv\"\n",
    "os.makedirs(os.path.dirname(output_path), exist_ok=True)\n",
    "df.to_csv(output_path, index=False)\n",
    "print(f\"✅ 'Region' column added and data saved to: {output_path}\")\n"
   ]
  },
  {
   "cell_type": "markdown",
   "id": "010832c8",
   "metadata": {},
   "source": [
    "Visualize HEE and HEP"
   ]
  },
  {
   "cell_type": "code",
   "execution_count": null,
   "id": "a547c374",
   "metadata": {},
   "outputs": [
    {
     "data": {
      "application/vnd.plotly.v1+json": {
       "config": {
        "plotlyServerURL": "https://plot.ly"
       },
       "data": [
        {
         "hovertemplate": "<b>%{hovertext}</b><br><br>Country=%{text}<br>HEP in 2020=%{x}<br>HEP in 2022=%{y}<extra></extra>",
         "hovertext": [
          "Argentina"
         ],
         "legendgroup": "Argentina",
         "marker": {
          "color": "#636efa",
          "size": 10,
          "symbol": "circle"
         },
         "mode": "markers+text",
         "name": "Argentina",
         "orientation": "v",
         "showlegend": true,
         "text": [
          "Argentina"
         ],
         "textposition": "top center",
         "type": "scatter",
         "x": {
          "bdata": "c+8zIaGC5j8=",
          "dtype": "f8"
         },
         "xaxis": "x",
         "y": {
          "bdata": "lmnG9WiO5j8=",
          "dtype": "f8"
         },
         "yaxis": "y"
        },
        {
         "hovertemplate": "<b>%{hovertext}</b><br><br>Country=%{text}<br>HEP in 2020=%{x}<br>HEP in 2022=%{y}<extra></extra>",
         "hovertext": [
          "Armenia"
         ],
         "legendgroup": "Armenia",
         "marker": {
          "color": "#EF553B",
          "size": 10,
          "symbol": "circle"
         },
         "mode": "markers+text",
         "name": "Armenia",
         "orientation": "v",
         "showlegend": true,
         "text": [
          "Armenia"
         ],
         "textposition": "top center",
         "type": "scatter",
         "x": {
          "bdata": "I30AeNH95j8=",
          "dtype": "f8"
         },
         "xaxis": "x",
         "y": {
          "bdata": "IXwUv6Vf5z8=",
          "dtype": "f8"
         },
         "yaxis": "y"
        },
        {
         "hovertemplate": "<b>%{hovertext}</b><br><br>Country=%{text}<br>HEP in 2020=%{x}<br>HEP in 2022=%{y}<extra></extra>",
         "hovertext": [
          "Australia"
         ],
         "legendgroup": "Australia",
         "marker": {
          "color": "#00cc96",
          "size": 10,
          "symbol": "circle"
         },
         "mode": "markers+text",
         "name": "Australia",
         "orientation": "v",
         "showlegend": true,
         "text": [
          "Australia"
         ],
         "textposition": "top center",
         "type": "scatter",
         "x": {
          "bdata": "xJJxGeqi7D8=",
          "dtype": "f8"
         },
         "xaxis": "x",
         "y": {
          "bdata": "XSVyx6zH7D8=",
          "dtype": "f8"
         },
         "yaxis": "y"
        },
        {
         "hovertemplate": "<b>%{hovertext}</b><br><br>Country=%{text}<br>HEP in 2020=%{x}<br>HEP in 2022=%{y}<extra></extra>",
         "hovertext": [
          "Bangladesh"
         ],
         "legendgroup": "Bangladesh",
         "marker": {
          "color": "#ab63fa",
          "size": 10,
          "symbol": "circle"
         },
         "mode": "markers+text",
         "name": "Bangladesh",
         "orientation": "v",
         "showlegend": true,
         "text": [
          "Bangladesh"
         ],
         "textposition": "top center",
         "type": "scatter",
         "x": {
          "bdata": "chBLJrSA4D8=",
          "dtype": "f8"
         },
         "xaxis": "x",
         "y": {
          "bdata": "pEgjHpH14D8=",
          "dtype": "f8"
         },
         "yaxis": "y"
        },
        {
         "hovertemplate": "<b>%{hovertext}</b><br><br>Country=%{text}<br>HEP in 2020=%{x}<br>HEP in 2022=%{y}<extra></extra>",
         "hovertext": [
          "Brazil"
         ],
         "legendgroup": "Brazil",
         "marker": {
          "color": "#FFA15A",
          "size": 10,
          "symbol": "circle"
         },
         "mode": "markers+text",
         "name": "Brazil",
         "orientation": "v",
         "showlegend": true,
         "text": [
          "Brazil"
         ],
         "textposition": "top center",
         "type": "scatter",
         "x": {
          "bdata": "Z+Nf8JU75D8=",
          "dtype": "f8"
         },
         "xaxis": "x",
         "y": {
          "bdata": "p9XNNBNs5D8=",
          "dtype": "f8"
         },
         "yaxis": "y"
        },
        {
         "hovertemplate": "<b>%{hovertext}</b><br><br>Country=%{text}<br>HEP in 2020=%{x}<br>HEP in 2022=%{y}<extra></extra>",
         "hovertext": [
          "Canada"
         ],
         "legendgroup": "Canada",
         "marker": {
          "color": "#19d3f3",
          "size": 10,
          "symbol": "circle"
         },
         "mode": "markers+text",
         "name": "Canada",
         "orientation": "v",
         "showlegend": true,
         "text": [
          "Canada"
         ],
         "textposition": "top center",
         "type": "scatter",
         "x": {
          "bdata": "7nzLUtx17T8=",
          "dtype": "f8"
         },
         "xaxis": "x",
         "y": {
          "bdata": "7Oi25nlq7T8=",
          "dtype": "f8"
         },
         "yaxis": "y"
        },
        {
         "hovertemplate": "<b>%{hovertext}</b><br><br>Country=%{text}<br>HEP in 2020=%{x}<br>HEP in 2022=%{y}<extra></extra>",
         "hovertext": [
          "Chile"
         ],
         "legendgroup": "Chile",
         "marker": {
          "color": "#FF6692",
          "size": 10,
          "symbol": "circle"
         },
         "mode": "markers+text",
         "name": "Chile",
         "orientation": "v",
         "showlegend": true,
         "text": [
          "Chile"
         ],
         "textposition": "top center",
         "type": "scatter",
         "x": {
          "bdata": "Q3njCOjD6D8=",
          "dtype": "f8"
         },
         "xaxis": "x",
         "y": {
          "bdata": "1h/AVSDX6D8=",
          "dtype": "f8"
         },
         "yaxis": "y"
        },
        {
         "hovertemplate": "<b>%{hovertext}</b><br><br>Country=%{text}<br>HEP in 2020=%{x}<br>HEP in 2022=%{y}<extra></extra>",
         "hovertext": [
          "China"
         ],
         "legendgroup": "China",
         "marker": {
          "color": "#B6E880",
          "size": 10,
          "symbol": "circle"
         },
         "mode": "markers+text",
         "name": "China",
         "orientation": "v",
         "showlegend": true,
         "text": [
          "China"
         ],
         "textposition": "top center",
         "type": "scatter",
         "x": {
          "bdata": "EvlQ/Ow15j8=",
          "dtype": "f8"
         },
         "xaxis": "x",
         "y": {
          "bdata": "Cfu9YcJc5j8=",
          "dtype": "f8"
         },
         "yaxis": "y"
        },
        {
         "hovertemplate": "<b>%{hovertext}</b><br><br>Country=%{text}<br>HEP in 2020=%{x}<br>HEP in 2022=%{y}<extra></extra>",
         "hovertext": [
          "Cyprus"
         ],
         "legendgroup": "Cyprus",
         "marker": {
          "color": "#FF97FF",
          "size": 10,
          "symbol": "circle"
         },
         "mode": "markers+text",
         "name": "Cyprus",
         "orientation": "v",
         "showlegend": true,
         "text": [
          "Cyprus"
         ],
         "textposition": "top center",
         "type": "scatter",
         "x": {
          "bdata": "NWlfVi++6z8=",
          "dtype": "f8"
         },
         "xaxis": "x",
         "y": {
          "bdata": "zigA3hOh6z8=",
          "dtype": "f8"
         },
         "yaxis": "y"
        },
        {
         "hovertemplate": "<b>%{hovertext}</b><br><br>Country=%{text}<br>HEP in 2020=%{x}<br>HEP in 2022=%{y}<extra></extra>",
         "hovertext": [
          "Czechia"
         ],
         "legendgroup": "Czechia",
         "marker": {
          "color": "#FECB52",
          "size": 10,
          "symbol": "circle"
         },
         "mode": "markers+text",
         "name": "Czechia",
         "orientation": "v",
         "showlegend": true,
         "text": [
          "Czechia"
         ],
         "textposition": "top center",
         "type": "scatter",
         "x": {
          "bdata": "solVgQO26z8=",
          "dtype": "f8"
         },
         "xaxis": "x",
         "y": {
          "bdata": "ztyzJDjo6z8=",
          "dtype": "f8"
         },
         "yaxis": "y"
        },
        {
         "hovertemplate": "<b>%{hovertext}</b><br><br>Country=%{text}<br>HEP in 2020=%{x}<br>HEP in 2022=%{y}<extra></extra>",
         "hovertext": [
          "Ecuador"
         ],
         "legendgroup": "Ecuador",
         "marker": {
          "color": "#636efa",
          "size": 10,
          "symbol": "circle"
         },
         "mode": "markers+text",
         "name": "Ecuador",
         "orientation": "v",
         "showlegend": true,
         "text": [
          "Ecuador"
         ],
         "textposition": "top center",
         "type": "scatter",
         "x": {
          "bdata": "PLNwbMtZ5D8=",
          "dtype": "f8"
         },
         "xaxis": "x",
         "y": {
          "bdata": "pDtrQYRy5T8=",
          "dtype": "f8"
         },
         "yaxis": "y"
        },
        {
         "hovertemplate": "<b>%{hovertext}</b><br><br>Country=%{text}<br>HEP in 2020=%{x}<br>HEP in 2022=%{y}<extra></extra>",
         "hovertext": [
          "Egypt"
         ],
         "legendgroup": "Egypt",
         "marker": {
          "color": "#EF553B",
          "size": 10,
          "symbol": "circle"
         },
         "mode": "markers+text",
         "name": "Egypt",
         "orientation": "v",
         "showlegend": true,
         "text": [
          "Egypt"
         ],
         "textposition": "top center",
         "type": "scatter",
         "x": {
          "bdata": "DYVu6ysb4j8=",
          "dtype": "f8"
         },
         "xaxis": "x",
         "y": {
          "bdata": "4VoXstii4j8=",
          "dtype": "f8"
         },
         "yaxis": "y"
        },
        {
         "hovertemplate": "<b>%{hovertext}</b><br><br>Country=%{text}<br>HEP in 2020=%{x}<br>HEP in 2022=%{y}<extra></extra>",
         "hovertext": [
          "Ethiopia"
         ],
         "legendgroup": "Ethiopia",
         "marker": {
          "color": "#00cc96",
          "size": 10,
          "symbol": "circle"
         },
         "mode": "markers+text",
         "name": "Ethiopia",
         "orientation": "v",
         "showlegend": true,
         "text": [
          "Ethiopia"
         ],
         "textposition": "top center",
         "type": "scatter",
         "x": {
          "bdata": "MRdr5Y8k1T8=",
          "dtype": "f8"
         },
         "xaxis": "x",
         "y": {
          "bdata": "JqCYeZX91T8=",
          "dtype": "f8"
         },
         "yaxis": "y"
        },
        {
         "hovertemplate": "<b>%{hovertext}</b><br><br>Country=%{text}<br>HEP in 2020=%{x}<br>HEP in 2022=%{y}<extra></extra>",
         "hovertext": [
          "Germany"
         ],
         "legendgroup": "Germany",
         "marker": {
          "color": "#ab63fa",
          "size": 10,
          "symbol": "circle"
         },
         "mode": "markers+text",
         "name": "Germany",
         "orientation": "v",
         "showlegend": true,
         "text": [
          "Germany"
         ],
         "textposition": "top center",
         "type": "scatter",
         "x": {
          "bdata": "shK1cds97T8=",
          "dtype": "f8"
         },
         "xaxis": "x",
         "y": {
          "bdata": "txMjlfIr7T8=",
          "dtype": "f8"
         },
         "yaxis": "y"
        },
        {
         "hovertemplate": "<b>%{hovertext}</b><br><br>Country=%{text}<br>HEP in 2020=%{x}<br>HEP in 2022=%{y}<extra></extra>",
         "hovertext": [
          "Greece"
         ],
         "legendgroup": "Greece",
         "marker": {
          "color": "#FFA15A",
          "size": 10,
          "symbol": "circle"
         },
         "mode": "markers+text",
         "name": "Greece",
         "orientation": "v",
         "showlegend": true,
         "text": [
          "Greece"
         ],
         "textposition": "top center",
         "type": "scatter",
         "x": {
          "bdata": "NSRwfxQP6j8=",
          "dtype": "f8"
         },
         "xaxis": "x",
         "y": {
          "bdata": "PaKfrtoM6j8=",
          "dtype": "f8"
         },
         "yaxis": "y"
        },
        {
         "hovertemplate": "<b>%{hovertext}</b><br><br>Country=%{text}<br>HEP in 2020=%{x}<br>HEP in 2022=%{y}<extra></extra>",
         "hovertext": [
          "Guatemala"
         ],
         "legendgroup": "Guatemala",
         "marker": {
          "color": "#19d3f3",
          "size": 10,
          "symbol": "circle"
         },
         "mode": "markers+text",
         "name": "Guatemala",
         "orientation": "v",
         "showlegend": true,
         "text": [
          "Guatemala"
         ],
         "textposition": "top center",
         "type": "scatter",
         "x": {
          "bdata": "dAtqJTnd4D8=",
          "dtype": "f8"
         },
         "xaxis": "x",
         "y": {
          "bdata": "N5bfY5VO4T8=",
          "dtype": "f8"
         },
         "yaxis": "y"
        },
        {
         "hovertemplate": "<b>%{hovertext}</b><br><br>Country=%{text}<br>HEP in 2020=%{x}<br>HEP in 2022=%{y}<extra></extra>",
         "hovertext": [
          "India"
         ],
         "legendgroup": "India",
         "marker": {
          "color": "#FF6692",
          "size": 10,
          "symbol": "circle"
         },
         "mode": "markers+text",
         "name": "India",
         "orientation": "v",
         "showlegend": true,
         "text": [
          "India"
         ],
         "textposition": "top center",
         "type": "scatter",
         "x": {
          "bdata": "QRvChhx64D8=",
          "dtype": "f8"
         },
         "xaxis": "x",
         "y": {
          "bdata": "0F3FHSwT4T8=",
          "dtype": "f8"
         },
         "yaxis": "y"
        },
        {
         "hovertemplate": "<b>%{hovertext}</b><br><br>Country=%{text}<br>HEP in 2020=%{x}<br>HEP in 2022=%{y}<extra></extra>",
         "hovertext": [
          "Indonesia"
         ],
         "legendgroup": "Indonesia",
         "marker": {
          "color": "#B6E880",
          "size": 10,
          "symbol": "circle"
         },
         "mode": "markers+text",
         "name": "Indonesia",
         "orientation": "v",
         "showlegend": true,
         "text": [
          "Indonesia"
         ],
         "textposition": "top center",
         "type": "scatter",
         "x": {
          "bdata": "AlAy9DUr4j8=",
          "dtype": "f8"
         },
         "xaxis": "x",
         "y": {
          "bdata": "3q1NjinM4j8=",
          "dtype": "f8"
         },
         "yaxis": "y"
        },
        {
         "hovertemplate": "<b>%{hovertext}</b><br><br>Country=%{text}<br>HEP in 2020=%{x}<br>HEP in 2022=%{y}<extra></extra>",
         "hovertext": [
          "Iran"
         ],
         "legendgroup": "Iran",
         "marker": {
          "color": "#FF97FF",
          "size": 10,
          "symbol": "circle"
         },
         "mode": "markers+text",
         "name": "Iran",
         "orientation": "v",
         "showlegend": true,
         "text": [
          "Iran"
         ],
         "textposition": "top center",
         "type": "scatter",
         "x": {
          "bdata": "sTqY4fBW5j8=",
          "dtype": "f8"
         },
         "xaxis": "x",
         "y": {
          "bdata": "qM4IefkI5z8=",
          "dtype": "f8"
         },
         "yaxis": "y"
        },
        {
         "hovertemplate": "<b>%{hovertext}</b><br><br>Country=%{text}<br>HEP in 2020=%{x}<br>HEP in 2022=%{y}<extra></extra>",
         "hovertext": [
          "Ireland"
         ],
         "legendgroup": "Ireland",
         "marker": {
          "color": "#FECB52",
          "size": 10,
          "symbol": "circle"
         },
         "mode": "markers+text",
         "name": "Ireland",
         "orientation": "v",
         "showlegend": true,
         "text": [
          "Ireland"
         ],
         "textposition": "top center",
         "type": "scatter",
         "x": {
          "bdata": "V1V/dLII7D8=",
          "dtype": "f8"
         },
         "xaxis": "x",
         "y": {
          "bdata": "GDvOeDwT7D8=",
          "dtype": "f8"
         },
         "yaxis": "y"
        },
        {
         "hovertemplate": "<b>%{hovertext}</b><br><br>Country=%{text}<br>HEP in 2020=%{x}<br>HEP in 2022=%{y}<extra></extra>",
         "hovertext": [
          "Japan"
         ],
         "legendgroup": "Japan",
         "marker": {
          "color": "#636efa",
          "size": 10,
          "symbol": "circle"
         },
         "mode": "markers+text",
         "name": "Japan",
         "orientation": "v",
         "showlegend": true,
         "text": [
          "Japan"
         ],
         "textposition": "top center",
         "type": "scatter",
         "x": {
          "bdata": "OnaM7S627T8=",
          "dtype": "f8"
         },
         "xaxis": "x",
         "y": {
          "bdata": "/q4xrZOZ7T8=",
          "dtype": "f8"
         },
         "yaxis": "y"
        },
        {
         "hovertemplate": "<b>%{hovertext}</b><br><br>Country=%{text}<br>HEP in 2020=%{x}<br>HEP in 2022=%{y}<extra></extra>",
         "hovertext": [
          "Jordan"
         ],
         "legendgroup": "Jordan",
         "marker": {
          "color": "#EF553B",
          "size": 10,
          "symbol": "circle"
         },
         "mode": "markers+text",
         "name": "Jordan",
         "orientation": "v",
         "showlegend": true,
         "text": [
          "Jordan"
         ],
         "textposition": "top center",
         "type": "scatter",
         "x": {
          "bdata": "rszoFF1F5j8=",
          "dtype": "f8"
         },
         "xaxis": "x",
         "y": {
          "bdata": "gGsm6meQ5j8=",
          "dtype": "f8"
         },
         "yaxis": "y"
        },
        {
         "hovertemplate": "<b>%{hovertext}</b><br><br>Country=%{text}<br>HEP in 2020=%{x}<br>HEP in 2022=%{y}<extra></extra>",
         "hovertext": [
          "Kazakhstan"
         ],
         "legendgroup": "Kazakhstan",
         "marker": {
          "color": "#00cc96",
          "size": 10,
          "symbol": "circle"
         },
         "mode": "markers+text",
         "name": "Kazakhstan",
         "orientation": "v",
         "showlegend": true,
         "text": [
          "Kazakhstan"
         ],
         "textposition": "top center",
         "type": "scatter",
         "x": {
          "bdata": "2exMRzyc5j8=",
          "dtype": "f8"
         },
         "xaxis": "x",
         "y": {
          "bdata": "bUJk4CIz5z8=",
          "dtype": "f8"
         },
         "yaxis": "y"
        },
        {
         "hovertemplate": "<b>%{hovertext}</b><br><br>Country=%{text}<br>HEP in 2020=%{x}<br>HEP in 2022=%{y}<extra></extra>",
         "hovertext": [
          "Kenya"
         ],
         "legendgroup": "Kenya",
         "marker": {
          "color": "#ab63fa",
          "size": 10,
          "symbol": "circle"
         },
         "mode": "markers+text",
         "name": "Kenya",
         "orientation": "v",
         "showlegend": true,
         "text": [
          "Kenya"
         ],
         "textposition": "top center",
         "type": "scatter",
         "x": {
          "bdata": "jEvwmjRP4D8=",
          "dtype": "f8"
         },
         "xaxis": "x",
         "y": {
          "bdata": "ThWkNrdn4T8=",
          "dtype": "f8"
         },
         "yaxis": "y"
        },
        {
         "hovertemplate": "<b>%{hovertext}</b><br><br>Country=%{text}<br>HEP in 2020=%{x}<br>HEP in 2022=%{y}<extra></extra>",
         "hovertext": [
          "Kyrgyzstan"
         ],
         "legendgroup": "Kyrgyzstan",
         "marker": {
          "color": "#FFA15A",
          "size": 10,
          "symbol": "circle"
         },
         "mode": "markers+text",
         "name": "Kyrgyzstan",
         "orientation": "v",
         "showlegend": true,
         "text": [
          "Kyrgyzstan"
         ],
         "textposition": "top center",
         "type": "scatter",
         "x": {
          "bdata": "Tz0+ZDbs5T8=",
          "dtype": "f8"
         },
         "xaxis": "x",
         "y": {
          "bdata": "K3iH1DIV5j8=",
          "dtype": "f8"
         },
         "yaxis": "y"
        },
        {
         "hovertemplate": "<b>%{hovertext}</b><br><br>Country=%{text}<br>HEP in 2020=%{x}<br>HEP in 2022=%{y}<extra></extra>",
         "hovertext": [
          "Lebanon"
         ],
         "legendgroup": "Lebanon",
         "marker": {
          "color": "#19d3f3",
          "size": 10,
          "symbol": "circle"
         },
         "mode": "markers+text",
         "name": "Lebanon",
         "orientation": "v",
         "showlegend": true,
         "text": [
          "Lebanon"
         ],
         "textposition": "top center",
         "type": "scatter",
         "x": {
          "bdata": "K7Mfg8Yt5T8=",
          "dtype": "f8"
         },
         "xaxis": "x",
         "y": {
          "bdata": "IXxMsKho5T8=",
          "dtype": "f8"
         },
         "yaxis": "y"
        },
        {
         "hovertemplate": "<b>%{hovertext}</b><br><br>Country=%{text}<br>HEP in 2020=%{x}<br>HEP in 2022=%{y}<extra></extra>",
         "hovertext": [
          "Malaysia"
         ],
         "legendgroup": "Malaysia",
         "marker": {
          "color": "#FF6692",
          "size": 10,
          "symbol": "circle"
         },
         "mode": "markers+text",
         "name": "Malaysia",
         "orientation": "v",
         "showlegend": true,
         "text": [
          "Malaysia"
         ],
         "textposition": "top center",
         "type": "scatter",
         "x": {
          "bdata": "VSxVeu6a5z8=",
          "dtype": "f8"
         },
         "xaxis": "x",
         "y": {
          "bdata": "et26KEOo5z8=",
          "dtype": "f8"
         },
         "yaxis": "y"
        },
        {
         "hovertemplate": "<b>%{hovertext}</b><br><br>Country=%{text}<br>HEP in 2020=%{x}<br>HEP in 2022=%{y}<extra></extra>",
         "hovertext": [
          "Mexico"
         ],
         "legendgroup": "Mexico",
         "marker": {
          "color": "#B6E880",
          "size": 10,
          "symbol": "circle"
         },
         "mode": "markers+text",
         "name": "Mexico",
         "orientation": "v",
         "showlegend": true,
         "text": [
          "Mexico"
         ],
         "textposition": "top center",
         "type": "scatter",
         "x": {
          "bdata": "/SML59aI5D8=",
          "dtype": "f8"
         },
         "xaxis": "x",
         "y": {
          "bdata": "K3evXndt5T8=",
          "dtype": "f8"
         },
         "yaxis": "y"
        },
        {
         "hovertemplate": "<b>%{hovertext}</b><br><br>Country=%{text}<br>HEP in 2020=%{x}<br>HEP in 2022=%{y}<extra></extra>",
         "hovertext": [
          "Mongolia"
         ],
         "legendgroup": "Mongolia",
         "marker": {
          "color": "#FF97FF",
          "size": 10,
          "symbol": "circle"
         },
         "mode": "markers+text",
         "name": "Mongolia",
         "orientation": "v",
         "showlegend": true,
         "text": [
          "Mongolia"
         ],
         "textposition": "top center",
         "type": "scatter",
         "x": {
          "bdata": "pVp1ncLz5D8=",
          "dtype": "f8"
         },
         "xaxis": "x",
         "y": {
          "bdata": "flOCBdoe5T8=",
          "dtype": "f8"
         },
         "yaxis": "y"
        },
        {
         "hovertemplate": "<b>%{hovertext}</b><br><br>Country=%{text}<br>HEP in 2020=%{x}<br>HEP in 2022=%{y}<extra></extra>",
         "hovertext": [
          "Morocco"
         ],
         "legendgroup": "Morocco",
         "marker": {
          "color": "#FECB52",
          "size": 10,
          "symbol": "circle"
         },
         "mode": "markers+text",
         "name": "Morocco",
         "orientation": "v",
         "showlegend": true,
         "text": [
          "Morocco"
         ],
         "textposition": "top center",
         "type": "scatter",
         "x": {
          "bdata": "gGzFwvM04T8=",
          "dtype": "f8"
         },
         "xaxis": "x",
         "y": {
          "bdata": "nfjgmYvX4T8=",
          "dtype": "f8"
         },
         "yaxis": "y"
        },
        {
         "hovertemplate": "<b>%{hovertext}</b><br><br>Country=%{text}<br>HEP in 2020=%{x}<br>HEP in 2022=%{y}<extra></extra>",
         "hovertext": [
          "Myanmar"
         ],
         "legendgroup": "Myanmar",
         "marker": {
          "color": "#636efa",
          "size": 10,
          "symbol": "circle"
         },
         "mode": "markers+text",
         "name": "Myanmar",
         "orientation": "v",
         "showlegend": true,
         "text": [
          "Myanmar"
         ],
         "textposition": "top center",
         "type": "scatter",
         "x": {
          "bdata": "31hgTRo73z8=",
          "dtype": "f8"
         },
         "xaxis": "x",
         "y": {
          "bdata": "OtQKtKaW3z8=",
          "dtype": "f8"
         },
         "yaxis": "y"
        },
        {
         "hovertemplate": "<b>%{hovertext}</b><br><br>Country=%{text}<br>HEP in 2020=%{x}<br>HEP in 2022=%{y}<extra></extra>",
         "hovertext": [
          "Netherlands"
         ],
         "legendgroup": "Netherlands",
         "marker": {
          "color": "#EF553B",
          "size": 10,
          "symbol": "circle"
         },
         "mode": "markers+text",
         "name": "Netherlands",
         "orientation": "v",
         "showlegend": true,
         "text": [
          "Netherlands"
         ],
         "textposition": "top center",
         "type": "scatter",
         "x": {
          "bdata": "t89kH9NL7D8=",
          "dtype": "f8"
         },
         "xaxis": "x",
         "y": {
          "bdata": "f5H91jdo7D8=",
          "dtype": "f8"
         },
         "yaxis": "y"
        },
        {
         "hovertemplate": "<b>%{hovertext}</b><br><br>Country=%{text}<br>HEP in 2020=%{x}<br>HEP in 2022=%{y}<extra></extra>",
         "hovertext": [
          "New Zealand"
         ],
         "legendgroup": "New Zealand",
         "marker": {
          "color": "#00cc96",
          "size": 10,
          "symbol": "circle"
         },
         "mode": "markers+text",
         "name": "New Zealand",
         "orientation": "v",
         "showlegend": true,
         "text": [
          "New Zealand"
         ],
         "textposition": "top center",
         "type": "scatter",
         "x": {
          "bdata": "UfYK0E2o7D8=",
          "dtype": "f8"
         },
         "xaxis": "x",
         "y": {
          "bdata": "8GI9Ow6R7D8=",
          "dtype": "f8"
         },
         "yaxis": "y"
        },
        {
         "hovertemplate": "<b>%{hovertext}</b><br><br>Country=%{text}<br>HEP in 2020=%{x}<br>HEP in 2022=%{y}<extra></extra>",
         "hovertext": [
          "Nicaragua"
         ],
         "legendgroup": "Nicaragua",
         "marker": {
          "color": "#ab63fa",
          "size": 10,
          "symbol": "circle"
         },
         "mode": "markers+text",
         "name": "Nicaragua",
         "orientation": "v",
         "showlegend": true,
         "text": [
          "Nicaragua"
         ],
         "textposition": "top center",
         "type": "scatter",
         "x": {
          "bdata": "Xbwdk+Xa4z8=",
          "dtype": "f8"
         },
         "xaxis": "x",
         "y": {
          "bdata": "xaIC6m/P5D8=",
          "dtype": "f8"
         },
         "yaxis": "y"
        },
        {
         "hovertemplate": "<b>%{hovertext}</b><br><br>Country=%{text}<br>HEP in 2020=%{x}<br>HEP in 2022=%{y}<extra></extra>",
         "hovertext": [
          "Nigeria"
         ],
         "legendgroup": "Nigeria",
         "marker": {
          "color": "#FFA15A",
          "size": 10,
          "symbol": "circle"
         },
         "mode": "markers+text",
         "name": "Nigeria",
         "orientation": "v",
         "showlegend": true,
         "text": [
          "Nigeria"
         ],
         "textposition": "top center",
         "type": "scatter",
         "x": {
          "bdata": "VykKDTSzzj8=",
          "dtype": "f8"
         },
         "xaxis": "x",
         "y": {
          "bdata": "qdvmIAyM0D8=",
          "dtype": "f8"
         },
         "yaxis": "y"
        },
        {
         "hovertemplate": "<b>%{hovertext}</b><br><br>Country=%{text}<br>HEP in 2020=%{x}<br>HEP in 2022=%{y}<extra></extra>",
         "hovertext": [
          "Pakistan"
         ],
         "legendgroup": "Pakistan",
         "marker": {
          "color": "#19d3f3",
          "size": 10,
          "symbol": "circle"
         },
         "mode": "markers+text",
         "name": "Pakistan",
         "orientation": "v",
         "showlegend": true,
         "text": [
          "Pakistan"
         ],
         "textposition": "top center",
         "type": "scatter",
         "x": {
          "bdata": "HvC2ACto1D8=",
          "dtype": "f8"
         },
         "xaxis": "x",
         "y": {
          "bdata": "cswA+KeO1T8=",
          "dtype": "f8"
         },
         "yaxis": "y"
        },
        {
         "hovertemplate": "<b>%{hovertext}</b><br><br>Country=%{text}<br>HEP in 2020=%{x}<br>HEP in 2022=%{y}<extra></extra>",
         "hovertext": [
          "Peru"
         ],
         "legendgroup": "Peru",
         "marker": {
          "color": "#FF6692",
          "size": 10,
          "symbol": "circle"
         },
         "mode": "markers+text",
         "name": "Peru",
         "orientation": "v",
         "showlegend": true,
         "text": [
          "Peru"
         ],
         "textposition": "top center",
         "type": "scatter",
         "x": {
          "bdata": "ZmeKiWgf5T8=",
          "dtype": "f8"
         },
         "xaxis": "x",
         "y": {
          "bdata": "cIJN5Hjf5T8=",
          "dtype": "f8"
         },
         "yaxis": "y"
        },
        {
         "hovertemplate": "<b>%{hovertext}</b><br><br>Country=%{text}<br>HEP in 2020=%{x}<br>HEP in 2022=%{y}<extra></extra>",
         "hovertext": [
          "Philippines"
         ],
         "legendgroup": "Philippines",
         "marker": {
          "color": "#B6E880",
          "size": 10,
          "symbol": "circle"
         },
         "mode": "markers+text",
         "name": "Philippines",
         "orientation": "v",
         "showlegend": true,
         "text": [
          "Philippines"
         ],
         "textposition": "top center",
         "type": "scatter",
         "x": {
          "bdata": "cjLlfTxR4T8=",
          "dtype": "f8"
         },
         "xaxis": "x",
         "y": {
          "bdata": "LbiUEGXl4T8=",
          "dtype": "f8"
         },
         "yaxis": "y"
        },
        {
         "hovertemplate": "<b>%{hovertext}</b><br><br>Country=%{text}<br>HEP in 2020=%{x}<br>HEP in 2022=%{y}<extra></extra>",
         "hovertext": [
          "Romania"
         ],
         "legendgroup": "Romania",
         "marker": {
          "color": "#FF97FF",
          "size": 10,
          "symbol": "circle"
         },
         "mode": "markers+text",
         "name": "Romania",
         "orientation": "v",
         "showlegend": true,
         "text": [
          "Romania"
         ],
         "textposition": "top center",
         "type": "scatter",
         "x": {
          "bdata": "EqU2mImY5z8=",
          "dtype": "f8"
         },
         "xaxis": "x",
         "y": {
          "bdata": "xc1z+l7j5z8=",
          "dtype": "f8"
         },
         "yaxis": "y"
        },
        {
         "hovertemplate": "<b>%{hovertext}</b><br><br>Country=%{text}<br>HEP in 2020=%{x}<br>HEP in 2022=%{y}<extra></extra>",
         "hovertext": [
          "Russia"
         ],
         "legendgroup": "Russia",
         "marker": {
          "color": "#FECB52",
          "size": 10,
          "symbol": "circle"
         },
         "mode": "markers+text",
         "name": "Russia",
         "orientation": "v",
         "showlegend": true,
         "text": [
          "Russia"
         ],
         "textposition": "top center",
         "type": "scatter",
         "x": {
          "bdata": "8+xcp4pR6T8=",
          "dtype": "f8"
         },
         "xaxis": "x",
         "y": {
          "bdata": "wRgb5Fuf6T8=",
          "dtype": "f8"
         },
         "yaxis": "y"
        },
        {
         "hovertemplate": "<b>%{hovertext}</b><br><br>Country=%{text}<br>HEP in 2020=%{x}<br>HEP in 2022=%{y}<extra></extra>",
         "hovertext": [
          "Serbia"
         ],
         "legendgroup": "Serbia",
         "marker": {
          "color": "#636efa",
          "size": 10,
          "symbol": "circle"
         },
         "mode": "markers+text",
         "name": "Serbia",
         "orientation": "v",
         "showlegend": true,
         "text": [
          "Serbia"
         ],
         "textposition": "top center",
         "type": "scatter",
         "x": {
          "bdata": "8hftdmY56D8=",
          "dtype": "f8"
         },
         "xaxis": "x",
         "y": {
          "bdata": "jj2iAg996D8=",
          "dtype": "f8"
         },
         "yaxis": "y"
        },
        {
         "hovertemplate": "<b>%{hovertext}</b><br><br>Country=%{text}<br>HEP in 2020=%{x}<br>HEP in 2022=%{y}<extra></extra>",
         "hovertext": [
          "Singapore"
         ],
         "legendgroup": "Singapore",
         "marker": {
          "color": "#EF553B",
          "size": 10,
          "symbol": "circle"
         },
         "mode": "markers+text",
         "name": "Singapore",
         "orientation": "v",
         "showlegend": true,
         "text": [
          "Singapore"
         ],
         "textposition": "top center",
         "type": "scatter",
         "x": {
          "bdata": "Qrj5hbgF7j8=",
          "dtype": "f8"
         },
         "xaxis": "x",
         "y": {
          "bdata": "LxNOnh4J7j8=",
          "dtype": "f8"
         },
         "yaxis": "y"
        },
        {
         "hovertemplate": "<b>%{hovertext}</b><br><br>Country=%{text}<br>HEP in 2020=%{x}<br>HEP in 2022=%{y}<extra></extra>",
         "hovertext": [
          "Slovakia"
         ],
         "legendgroup": "Slovakia",
         "marker": {
          "color": "#00cc96",
          "size": 10,
          "symbol": "circle"
         },
         "mode": "markers+text",
         "name": "Slovakia",
         "orientation": "v",
         "showlegend": true,
         "text": [
          "Slovakia"
         ],
         "textposition": "top center",
         "type": "scatter",
         "x": {
          "bdata": "FvGf8cp56j8=",
          "dtype": "f8"
         },
         "xaxis": "x",
         "y": {
          "bdata": "VIECQp2M6j8=",
          "dtype": "f8"
         },
         "yaxis": "y"
        },
        {
         "hovertemplate": "<b>%{hovertext}</b><br><br>Country=%{text}<br>HEP in 2020=%{x}<br>HEP in 2022=%{y}<extra></extra>",
         "hovertext": [
          "South Korea"
         ],
         "legendgroup": "South Korea",
         "marker": {
          "color": "#ab63fa",
          "size": 10,
          "symbol": "circle"
         },
         "mode": "markers+text",
         "name": "South Korea",
         "orientation": "v",
         "showlegend": true,
         "text": [
          "South Korea"
         ],
         "textposition": "top center",
         "type": "scatter",
         "x": {
          "bdata": "KnXeTjld7T8=",
          "dtype": "f8"
         },
         "xaxis": "x",
         "y": {
          "bdata": "/k3HreNG7T8=",
          "dtype": "f8"
         },
         "yaxis": "y"
        },
        {
         "hovertemplate": "<b>%{hovertext}</b><br><br>Country=%{text}<br>HEP in 2020=%{x}<br>HEP in 2022=%{y}<extra></extra>",
         "hovertext": [
          "Tajikistan"
         ],
         "legendgroup": "Tajikistan",
         "marker": {
          "color": "#FFA15A",
          "size": 10,
          "symbol": "circle"
         },
         "mode": "markers+text",
         "name": "Tajikistan",
         "orientation": "v",
         "showlegend": true,
         "text": [
          "Tajikistan"
         ],
         "textposition": "top center",
         "type": "scatter",
         "x": {
          "bdata": "fk5nvBZQ4z8=",
          "dtype": "f8"
         },
         "xaxis": "x",
         "y": {
          "bdata": "k7DF8Ejx4z8=",
          "dtype": "f8"
         },
         "yaxis": "y"
        },
        {
         "hovertemplate": "<b>%{hovertext}</b><br><br>Country=%{text}<br>HEP in 2020=%{x}<br>HEP in 2022=%{y}<extra></extra>",
         "hovertext": [
          "Thailand"
         ],
         "legendgroup": "Thailand",
         "marker": {
          "color": "#19d3f3",
          "size": 10,
          "symbol": "circle"
         },
         "mode": "markers+text",
         "name": "Thailand",
         "orientation": "v",
         "showlegend": true,
         "text": [
          "Thailand"
         ],
         "textposition": "top center",
         "type": "scatter",
         "x": {
          "bdata": "azFfE+fm5T8=",
          "dtype": "f8"
         },
         "xaxis": "x",
         "y": {
          "bdata": "nn02jTem5T8=",
          "dtype": "f8"
         },
         "yaxis": "y"
        },
        {
         "hovertemplate": "<b>%{hovertext}</b><br><br>Country=%{text}<br>HEP in 2020=%{x}<br>HEP in 2022=%{y}<extra></extra>",
         "hovertext": [
          "Tunisia"
         ],
         "legendgroup": "Tunisia",
         "marker": {
          "color": "#FF6692",
          "size": 10,
          "symbol": "circle"
         },
         "mode": "markers+text",
         "name": "Tunisia",
         "orientation": "v",
         "showlegend": true,
         "text": [
          "Tunisia"
         ],
         "textposition": "top center",
         "type": "scatter",
         "x": {
          "bdata": "P9Lbzx3f4j8=",
          "dtype": "f8"
         },
         "xaxis": "x",
         "y": {
          "bdata": "WM0usdZj4z8=",
          "dtype": "f8"
         },
         "yaxis": "y"
        },
        {
         "hovertemplate": "<b>%{hovertext}</b><br><br>Country=%{text}<br>HEP in 2020=%{x}<br>HEP in 2022=%{y}<extra></extra>",
         "hovertext": [
          "Turkey"
         ],
         "legendgroup": "Turkey",
         "marker": {
          "color": "#B6E880",
          "size": 10,
          "symbol": "circle"
         },
         "mode": "markers+text",
         "name": "Turkey",
         "orientation": "v",
         "showlegend": true,
         "text": [
          "Turkey"
         ],
         "textposition": "top center",
         "type": "scatter",
         "x": {
          "bdata": "2TIav5Q+5z8=",
          "dtype": "f8"
         },
         "xaxis": "x",
         "y": {
          "bdata": "drPRRLqk5z8=",
          "dtype": "f8"
         },
         "yaxis": "y"
        },
        {
         "hovertemplate": "<b>%{hovertext}</b><br><br>Country=%{text}<br>HEP in 2020=%{x}<br>HEP in 2022=%{y}<extra></extra>",
         "hovertext": [
          "Ukraine"
         ],
         "legendgroup": "Ukraine",
         "marker": {
          "color": "#FF97FF",
          "size": 10,
          "symbol": "circle"
         },
         "mode": "markers+text",
         "name": "Ukraine",
         "orientation": "v",
         "showlegend": true,
         "text": [
          "Ukraine"
         ],
         "textposition": "top center",
         "type": "scatter",
         "x": {
          "bdata": "t1Y6fX0O6D8=",
          "dtype": "f8"
         },
         "xaxis": "x",
         "y": {
          "bdata": "aL4c9cft5z8=",
          "dtype": "f8"
         },
         "yaxis": "y"
        },
        {
         "hovertemplate": "<b>%{hovertext}</b><br><br>Country=%{text}<br>HEP in 2020=%{x}<br>HEP in 2022=%{y}<extra></extra>",
         "hovertext": [
          "United Kingdom"
         ],
         "legendgroup": "United Kingdom",
         "marker": {
          "color": "#FECB52",
          "size": 10,
          "symbol": "circle"
         },
         "mode": "markers+text",
         "name": "United Kingdom",
         "orientation": "v",
         "showlegend": true,
         "text": [
          "United Kingdom"
         ],
         "textposition": "top center",
         "type": "scatter",
         "x": {
          "bdata": "jI0G/B6V7D8=",
          "dtype": "f8"
         },
         "xaxis": "x",
         "y": {
          "bdata": "UpV/7BjH7D8=",
          "dtype": "f8"
         },
         "yaxis": "y"
        },
        {
         "hovertemplate": "<b>%{hovertext}</b><br><br>Country=%{text}<br>HEP in 2020=%{x}<br>HEP in 2022=%{y}<extra></extra>",
         "hovertext": [
          "United States"
         ],
         "legendgroup": "United States",
         "marker": {
          "color": "#636efa",
          "size": 10,
          "symbol": "circle"
         },
         "mode": "markers+text",
         "name": "United States",
         "orientation": "v",
         "showlegend": true,
         "text": [
          "United States"
         ],
         "textposition": "top center",
         "type": "scatter",
         "x": {
          "bdata": "bx87DwWm6z8=",
          "dtype": "f8"
         },
         "xaxis": "x",
         "y": {
          "bdata": "mKQoapzj6z8=",
          "dtype": "f8"
         },
         "yaxis": "y"
        },
        {
         "hovertemplate": "<b>%{hovertext}</b><br><br>Country=%{text}<br>HEP in 2020=%{x}<br>HEP in 2022=%{y}<extra></extra>",
         "hovertext": [
          "Uruguay"
         ],
         "legendgroup": "Uruguay",
         "marker": {
          "color": "#EF553B",
          "size": 10,
          "symbol": "circle"
         },
         "mode": "markers+text",
         "name": "Uruguay",
         "orientation": "v",
         "showlegend": true,
         "text": [
          "Uruguay"
         ],
         "textposition": "top center",
         "type": "scatter",
         "x": {
          "bdata": "SUB6d9od5z8=",
          "dtype": "f8"
         },
         "xaxis": "x",
         "y": {
          "bdata": "paB5rfZj5z8=",
          "dtype": "f8"
         },
         "yaxis": "y"
        },
        {
         "hovertemplate": "<b>%{hovertext}</b><br><br>Country=%{text}<br>HEP in 2020=%{x}<br>HEP in 2022=%{y}<extra></extra>",
         "hovertext": [
          "Uzbekistan"
         ],
         "legendgroup": "Uzbekistan",
         "marker": {
          "color": "#00cc96",
          "size": 10,
          "symbol": "circle"
         },
         "mode": "markers+text",
         "name": "Uzbekistan",
         "orientation": "v",
         "showlegend": true,
         "text": [
          "Uzbekistan"
         ],
         "textposition": "top center",
         "type": "scatter",
         "x": {
          "bdata": "7J49sMuC5z8=",
          "dtype": "f8"
         },
         "xaxis": "x",
         "y": {
          "bdata": "u3b+2S3D5z8=",
          "dtype": "f8"
         },
         "yaxis": "y"
        },
        {
         "hovertemplate": "<b>%{hovertext}</b><br><br>Country=%{text}<br>HEP in 2020=%{x}<br>HEP in 2022=%{y}<extra></extra>",
         "hovertext": [
          "Vietnam"
         ],
         "legendgroup": "Vietnam",
         "marker": {
          "color": "#ab63fa",
          "size": 10,
          "symbol": "circle"
         },
         "mode": "markers+text",
         "name": "Vietnam",
         "orientation": "v",
         "showlegend": true,
         "text": [
          "Vietnam"
         ],
         "textposition": "top center",
         "type": "scatter",
         "x": {
          "bdata": "FscOHyCX5z8=",
          "dtype": "f8"
         },
         "xaxis": "x",
         "y": {
          "bdata": "0HlX3Qmp5z8=",
          "dtype": "f8"
         },
         "yaxis": "y"
        }
       ],
       "layout": {
        "height": 600,
        "legend": {
         "title": {
          "text": "Country"
         },
         "tracegroupgap": 0
        },
        "shapes": [
         {
          "line": {
           "color": "gray",
           "dash": "dash"
          },
          "type": "line",
          "x0": 0,
          "x1": 1,
          "y0": 0,
          "y1": 1
         }
        ],
        "template": {
         "data": {
          "bar": [
           {
            "error_x": {
             "color": "#2a3f5f"
            },
            "error_y": {
             "color": "#2a3f5f"
            },
            "marker": {
             "line": {
              "color": "#E5ECF6",
              "width": 0.5
             },
             "pattern": {
              "fillmode": "overlay",
              "size": 10,
              "solidity": 0.2
             }
            },
            "type": "bar"
           }
          ],
          "barpolar": [
           {
            "marker": {
             "line": {
              "color": "#E5ECF6",
              "width": 0.5
             },
             "pattern": {
              "fillmode": "overlay",
              "size": 10,
              "solidity": 0.2
             }
            },
            "type": "barpolar"
           }
          ],
          "carpet": [
           {
            "aaxis": {
             "endlinecolor": "#2a3f5f",
             "gridcolor": "white",
             "linecolor": "white",
             "minorgridcolor": "white",
             "startlinecolor": "#2a3f5f"
            },
            "baxis": {
             "endlinecolor": "#2a3f5f",
             "gridcolor": "white",
             "linecolor": "white",
             "minorgridcolor": "white",
             "startlinecolor": "#2a3f5f"
            },
            "type": "carpet"
           }
          ],
          "choropleth": [
           {
            "colorbar": {
             "outlinewidth": 0,
             "ticks": ""
            },
            "type": "choropleth"
           }
          ],
          "contour": [
           {
            "colorbar": {
             "outlinewidth": 0,
             "ticks": ""
            },
            "colorscale": [
             [
              0,
              "#0d0887"
             ],
             [
              0.1111111111111111,
              "#46039f"
             ],
             [
              0.2222222222222222,
              "#7201a8"
             ],
             [
              0.3333333333333333,
              "#9c179e"
             ],
             [
              0.4444444444444444,
              "#bd3786"
             ],
             [
              0.5555555555555556,
              "#d8576b"
             ],
             [
              0.6666666666666666,
              "#ed7953"
             ],
             [
              0.7777777777777778,
              "#fb9f3a"
             ],
             [
              0.8888888888888888,
              "#fdca26"
             ],
             [
              1,
              "#f0f921"
             ]
            ],
            "type": "contour"
           }
          ],
          "contourcarpet": [
           {
            "colorbar": {
             "outlinewidth": 0,
             "ticks": ""
            },
            "type": "contourcarpet"
           }
          ],
          "heatmap": [
           {
            "colorbar": {
             "outlinewidth": 0,
             "ticks": ""
            },
            "colorscale": [
             [
              0,
              "#0d0887"
             ],
             [
              0.1111111111111111,
              "#46039f"
             ],
             [
              0.2222222222222222,
              "#7201a8"
             ],
             [
              0.3333333333333333,
              "#9c179e"
             ],
             [
              0.4444444444444444,
              "#bd3786"
             ],
             [
              0.5555555555555556,
              "#d8576b"
             ],
             [
              0.6666666666666666,
              "#ed7953"
             ],
             [
              0.7777777777777778,
              "#fb9f3a"
             ],
             [
              0.8888888888888888,
              "#fdca26"
             ],
             [
              1,
              "#f0f921"
             ]
            ],
            "type": "heatmap"
           }
          ],
          "histogram": [
           {
            "marker": {
             "pattern": {
              "fillmode": "overlay",
              "size": 10,
              "solidity": 0.2
             }
            },
            "type": "histogram"
           }
          ],
          "histogram2d": [
           {
            "colorbar": {
             "outlinewidth": 0,
             "ticks": ""
            },
            "colorscale": [
             [
              0,
              "#0d0887"
             ],
             [
              0.1111111111111111,
              "#46039f"
             ],
             [
              0.2222222222222222,
              "#7201a8"
             ],
             [
              0.3333333333333333,
              "#9c179e"
             ],
             [
              0.4444444444444444,
              "#bd3786"
             ],
             [
              0.5555555555555556,
              "#d8576b"
             ],
             [
              0.6666666666666666,
              "#ed7953"
             ],
             [
              0.7777777777777778,
              "#fb9f3a"
             ],
             [
              0.8888888888888888,
              "#fdca26"
             ],
             [
              1,
              "#f0f921"
             ]
            ],
            "type": "histogram2d"
           }
          ],
          "histogram2dcontour": [
           {
            "colorbar": {
             "outlinewidth": 0,
             "ticks": ""
            },
            "colorscale": [
             [
              0,
              "#0d0887"
             ],
             [
              0.1111111111111111,
              "#46039f"
             ],
             [
              0.2222222222222222,
              "#7201a8"
             ],
             [
              0.3333333333333333,
              "#9c179e"
             ],
             [
              0.4444444444444444,
              "#bd3786"
             ],
             [
              0.5555555555555556,
              "#d8576b"
             ],
             [
              0.6666666666666666,
              "#ed7953"
             ],
             [
              0.7777777777777778,
              "#fb9f3a"
             ],
             [
              0.8888888888888888,
              "#fdca26"
             ],
             [
              1,
              "#f0f921"
             ]
            ],
            "type": "histogram2dcontour"
           }
          ],
          "mesh3d": [
           {
            "colorbar": {
             "outlinewidth": 0,
             "ticks": ""
            },
            "type": "mesh3d"
           }
          ],
          "parcoords": [
           {
            "line": {
             "colorbar": {
              "outlinewidth": 0,
              "ticks": ""
             }
            },
            "type": "parcoords"
           }
          ],
          "pie": [
           {
            "automargin": true,
            "type": "pie"
           }
          ],
          "scatter": [
           {
            "fillpattern": {
             "fillmode": "overlay",
             "size": 10,
             "solidity": 0.2
            },
            "type": "scatter"
           }
          ],
          "scatter3d": [
           {
            "line": {
             "colorbar": {
              "outlinewidth": 0,
              "ticks": ""
             }
            },
            "marker": {
             "colorbar": {
              "outlinewidth": 0,
              "ticks": ""
             }
            },
            "type": "scatter3d"
           }
          ],
          "scattercarpet": [
           {
            "marker": {
             "colorbar": {
              "outlinewidth": 0,
              "ticks": ""
             }
            },
            "type": "scattercarpet"
           }
          ],
          "scattergeo": [
           {
            "marker": {
             "colorbar": {
              "outlinewidth": 0,
              "ticks": ""
             }
            },
            "type": "scattergeo"
           }
          ],
          "scattergl": [
           {
            "marker": {
             "colorbar": {
              "outlinewidth": 0,
              "ticks": ""
             }
            },
            "type": "scattergl"
           }
          ],
          "scattermap": [
           {
            "marker": {
             "colorbar": {
              "outlinewidth": 0,
              "ticks": ""
             }
            },
            "type": "scattermap"
           }
          ],
          "scattermapbox": [
           {
            "marker": {
             "colorbar": {
              "outlinewidth": 0,
              "ticks": ""
             }
            },
            "type": "scattermapbox"
           }
          ],
          "scatterpolar": [
           {
            "marker": {
             "colorbar": {
              "outlinewidth": 0,
              "ticks": ""
             }
            },
            "type": "scatterpolar"
           }
          ],
          "scatterpolargl": [
           {
            "marker": {
             "colorbar": {
              "outlinewidth": 0,
              "ticks": ""
             }
            },
            "type": "scatterpolargl"
           }
          ],
          "scatterternary": [
           {
            "marker": {
             "colorbar": {
              "outlinewidth": 0,
              "ticks": ""
             }
            },
            "type": "scatterternary"
           }
          ],
          "surface": [
           {
            "colorbar": {
             "outlinewidth": 0,
             "ticks": ""
            },
            "colorscale": [
             [
              0,
              "#0d0887"
             ],
             [
              0.1111111111111111,
              "#46039f"
             ],
             [
              0.2222222222222222,
              "#7201a8"
             ],
             [
              0.3333333333333333,
              "#9c179e"
             ],
             [
              0.4444444444444444,
              "#bd3786"
             ],
             [
              0.5555555555555556,
              "#d8576b"
             ],
             [
              0.6666666666666666,
              "#ed7953"
             ],
             [
              0.7777777777777778,
              "#fb9f3a"
             ],
             [
              0.8888888888888888,
              "#fdca26"
             ],
             [
              1,
              "#f0f921"
             ]
            ],
            "type": "surface"
           }
          ],
          "table": [
           {
            "cells": {
             "fill": {
              "color": "#EBF0F8"
             },
             "line": {
              "color": "white"
             }
            },
            "header": {
             "fill": {
              "color": "#C8D4E3"
             },
             "line": {
              "color": "white"
             }
            },
            "type": "table"
           }
          ]
         },
         "layout": {
          "annotationdefaults": {
           "arrowcolor": "#2a3f5f",
           "arrowhead": 0,
           "arrowwidth": 1
          },
          "autotypenumbers": "strict",
          "coloraxis": {
           "colorbar": {
            "outlinewidth": 0,
            "ticks": ""
           }
          },
          "colorscale": {
           "diverging": [
            [
             0,
             "#8e0152"
            ],
            [
             0.1,
             "#c51b7d"
            ],
            [
             0.2,
             "#de77ae"
            ],
            [
             0.3,
             "#f1b6da"
            ],
            [
             0.4,
             "#fde0ef"
            ],
            [
             0.5,
             "#f7f7f7"
            ],
            [
             0.6,
             "#e6f5d0"
            ],
            [
             0.7,
             "#b8e186"
            ],
            [
             0.8,
             "#7fbc41"
            ],
            [
             0.9,
             "#4d9221"
            ],
            [
             1,
             "#276419"
            ]
           ],
           "sequential": [
            [
             0,
             "#0d0887"
            ],
            [
             0.1111111111111111,
             "#46039f"
            ],
            [
             0.2222222222222222,
             "#7201a8"
            ],
            [
             0.3333333333333333,
             "#9c179e"
            ],
            [
             0.4444444444444444,
             "#bd3786"
            ],
            [
             0.5555555555555556,
             "#d8576b"
            ],
            [
             0.6666666666666666,
             "#ed7953"
            ],
            [
             0.7777777777777778,
             "#fb9f3a"
            ],
            [
             0.8888888888888888,
             "#fdca26"
            ],
            [
             1,
             "#f0f921"
            ]
           ],
           "sequentialminus": [
            [
             0,
             "#0d0887"
            ],
            [
             0.1111111111111111,
             "#46039f"
            ],
            [
             0.2222222222222222,
             "#7201a8"
            ],
            [
             0.3333333333333333,
             "#9c179e"
            ],
            [
             0.4444444444444444,
             "#bd3786"
            ],
            [
             0.5555555555555556,
             "#d8576b"
            ],
            [
             0.6666666666666666,
             "#ed7953"
            ],
            [
             0.7777777777777778,
             "#fb9f3a"
            ],
            [
             0.8888888888888888,
             "#fdca26"
            ],
            [
             1,
             "#f0f921"
            ]
           ]
          },
          "colorway": [
           "#636efa",
           "#EF553B",
           "#00cc96",
           "#ab63fa",
           "#FFA15A",
           "#19d3f3",
           "#FF6692",
           "#B6E880",
           "#FF97FF",
           "#FECB52"
          ],
          "font": {
           "color": "#2a3f5f"
          },
          "geo": {
           "bgcolor": "white",
           "lakecolor": "white",
           "landcolor": "#E5ECF6",
           "showlakes": true,
           "showland": true,
           "subunitcolor": "white"
          },
          "hoverlabel": {
           "align": "left"
          },
          "hovermode": "closest",
          "mapbox": {
           "style": "light"
          },
          "paper_bgcolor": "white",
          "plot_bgcolor": "#E5ECF6",
          "polar": {
           "angularaxis": {
            "gridcolor": "white",
            "linecolor": "white",
            "ticks": ""
           },
           "bgcolor": "#E5ECF6",
           "radialaxis": {
            "gridcolor": "white",
            "linecolor": "white",
            "ticks": ""
           }
          },
          "scene": {
           "xaxis": {
            "backgroundcolor": "#E5ECF6",
            "gridcolor": "white",
            "gridwidth": 2,
            "linecolor": "white",
            "showbackground": true,
            "ticks": "",
            "zerolinecolor": "white"
           },
           "yaxis": {
            "backgroundcolor": "#E5ECF6",
            "gridcolor": "white",
            "gridwidth": 2,
            "linecolor": "white",
            "showbackground": true,
            "ticks": "",
            "zerolinecolor": "white"
           },
           "zaxis": {
            "backgroundcolor": "#E5ECF6",
            "gridcolor": "white",
            "gridwidth": 2,
            "linecolor": "white",
            "showbackground": true,
            "ticks": "",
            "zerolinecolor": "white"
           }
          },
          "shapedefaults": {
           "line": {
            "color": "#2a3f5f"
           }
          },
          "ternary": {
           "aaxis": {
            "gridcolor": "white",
            "linecolor": "white",
            "ticks": ""
           },
           "baxis": {
            "gridcolor": "white",
            "linecolor": "white",
            "ticks": ""
           },
           "bgcolor": "#E5ECF6",
           "caxis": {
            "gridcolor": "white",
            "linecolor": "white",
            "ticks": ""
           }
          },
          "title": {
           "x": 0.05
          },
          "xaxis": {
           "automargin": true,
           "gridcolor": "white",
           "linecolor": "white",
           "ticks": "",
           "title": {
            "standoff": 15
           },
           "zerolinecolor": "white",
           "zerolinewidth": 2
          },
          "yaxis": {
           "automargin": true,
           "gridcolor": "white",
           "linecolor": "white",
           "ticks": "",
           "title": {
            "standoff": 15
           },
           "zerolinecolor": "white",
           "zerolinewidth": 2
          }
         }
        },
        "title": {
         "text": "HEP Comparison: 2020 vs 2022"
        },
        "width": 800,
        "xaxis": {
         "anchor": "y",
         "domain": [
          0,
          1
         ],
         "title": {
          "text": "HEP in 2020"
         }
        },
        "yaxis": {
         "anchor": "x",
         "domain": [
          0,
          1
         ],
         "title": {
          "text": "HEP in 2022"
         }
        }
       }
      }
     },
     "metadata": {},
     "output_type": "display_data"
    },
    {
     "data": {
      "application/vnd.plotly.v1+json": {
       "config": {
        "plotlyServerURL": "https://plot.ly"
       },
       "data": [
        {
         "hovertemplate": "<b>%{hovertext}</b><br><br>Country=%{text}<br>HEE in 2020=%{x}<br>HEE in 2022=%{y}<extra></extra>",
         "hovertext": [
          "Argentina"
         ],
         "legendgroup": "Argentina",
         "marker": {
          "color": "#636efa",
          "size": 10,
          "symbol": "circle"
         },
         "mode": "markers+text",
         "name": "Argentina",
         "orientation": "v",
         "showlegend": true,
         "text": [
          "Argentina"
         ],
         "textposition": "top center",
         "type": "scatter",
         "x": {
          "bdata": "9tkgmZXmpj8=",
          "dtype": "f8"
         },
         "xaxis": "x",
         "y": {
          "bdata": "Y/MOrquaqD8=",
          "dtype": "f8"
         },
         "yaxis": "y"
        },
        {
         "hovertemplate": "<b>%{hovertext}</b><br><br>Country=%{text}<br>HEE in 2020=%{x}<br>HEE in 2022=%{y}<extra></extra>",
         "hovertext": [
          "Armenia"
         ],
         "legendgroup": "Armenia",
         "marker": {
          "color": "#EF553B",
          "size": 10,
          "symbol": "circle"
         },
         "mode": "markers+text",
         "name": "Armenia",
         "orientation": "v",
         "showlegend": true,
         "text": [
          "Armenia"
         ],
         "textposition": "top center",
         "type": "scatter",
         "x": {
          "bdata": "pjafdNacqD8=",
          "dtype": "f8"
         },
         "xaxis": "x",
         "y": {
          "bdata": "NeVtLlcHrj8=",
          "dtype": "f8"
         },
         "yaxis": "y"
        },
        {
         "hovertemplate": "<b>%{hovertext}</b><br><br>Country=%{text}<br>HEE in 2020=%{x}<br>HEE in 2022=%{y}<extra></extra>",
         "hovertext": [
          "Australia"
         ],
         "legendgroup": "Australia",
         "marker": {
          "color": "#00cc96",
          "size": 10,
          "symbol": "circle"
         },
         "mode": "markers+text",
         "name": "Australia",
         "orientation": "v",
         "showlegend": true,
         "text": [
          "Australia"
         ],
         "textposition": "top center",
         "type": "scatter",
         "x": {
          "bdata": "2wzG6DuRrD8=",
          "dtype": "f8"
         },
         "xaxis": "x",
         "y": {
          "bdata": "99oWR3Jtrj8=",
          "dtype": "f8"
         },
         "yaxis": "y"
        },
        {
         "hovertemplate": "<b>%{hovertext}</b><br><br>Country=%{text}<br>HEE in 2020=%{x}<br>HEE in 2022=%{y}<extra></extra>",
         "hovertext": [
          "Bangladesh"
         ],
         "legendgroup": "Bangladesh",
         "marker": {
          "color": "#ab63fa",
          "size": 10,
          "symbol": "circle"
         },
         "mode": "markers+text",
         "name": "Bangladesh",
         "orientation": "v",
         "showlegend": true,
         "text": [
          "Bangladesh"
         ],
         "textposition": "top center",
         "type": "scatter",
         "x": {
          "bdata": "nVecfhpbwD8=",
          "dtype": "f8"
         },
         "xaxis": "x",
         "y": {
          "bdata": "qYuoT2GJwD8=",
          "dtype": "f8"
         },
         "yaxis": "y"
        },
        {
         "hovertemplate": "<b>%{hovertext}</b><br><br>Country=%{text}<br>HEE in 2020=%{x}<br>HEE in 2022=%{y}<extra></extra>",
         "hovertext": [
          "Brazil"
         ],
         "legendgroup": "Brazil",
         "marker": {
          "color": "#FFA15A",
          "size": 10,
          "symbol": "circle"
         },
         "mode": "markers+text",
         "name": "Brazil",
         "orientation": "v",
         "showlegend": true,
         "text": [
          "Brazil"
         ],
         "textposition": "top center",
         "type": "scatter",
         "x": {
          "bdata": "flJmsTcHpT8=",
          "dtype": "f8"
         },
         "xaxis": "x",
         "y": {
          "bdata": "KqmXwtZRpj8=",
          "dtype": "f8"
         },
         "yaxis": "y"
        },
        {
         "hovertemplate": "<b>%{hovertext}</b><br><br>Country=%{text}<br>HEE in 2020=%{x}<br>HEE in 2022=%{y}<extra></extra>",
         "hovertext": [
          "Canada"
         ],
         "legendgroup": "Canada",
         "marker": {
          "color": "#19d3f3",
          "size": 10,
          "symbol": "circle"
         },
         "mode": "markers+text",
         "name": "Canada",
         "orientation": "v",
         "showlegend": true,
         "text": [
          "Canada"
         ],
         "textposition": "top center",
         "type": "scatter",
         "x": {
          "bdata": "QqVc2sFQqj8=",
          "dtype": "f8"
         },
         "xaxis": "x",
         "y": {
          "bdata": "JyMwwSedrj8=",
          "dtype": "f8"
         },
         "yaxis": "y"
        },
        {
         "hovertemplate": "<b>%{hovertext}</b><br><br>Country=%{text}<br>HEE in 2020=%{x}<br>HEE in 2022=%{y}<extra></extra>",
         "hovertext": [
          "Chile"
         ],
         "legendgroup": "Chile",
         "marker": {
          "color": "#FF6692",
          "size": 10,
          "symbol": "circle"
         },
         "mode": "markers+text",
         "name": "Chile",
         "orientation": "v",
         "showlegend": true,
         "text": [
          "Chile"
         ],
         "textposition": "top center",
         "type": "scatter",
         "x": {
          "bdata": "+z6ok7rdqT8=",
          "dtype": "f8"
         },
         "xaxis": "x",
         "y": {
          "bdata": "z9f7Bpxjqj8=",
          "dtype": "f8"
         },
         "yaxis": "y"
        },
        {
         "hovertemplate": "<b>%{hovertext}</b><br><br>Country=%{text}<br>HEE in 2020=%{x}<br>HEE in 2022=%{y}<extra></extra>",
         "hovertext": [
          "China"
         ],
         "legendgroup": "China",
         "marker": {
          "color": "#B6E880",
          "size": 10,
          "symbol": "circle"
         },
         "mode": "markers+text",
         "name": "China",
         "orientation": "v",
         "showlegend": true,
         "text": [
          "China"
         ],
         "textposition": "top center",
         "type": "scatter",
         "x": {
          "bdata": "f9z/RdQUsj8=",
          "dtype": "f8"
         },
         "xaxis": "x",
         "y": {
          "bdata": "SljKuLwLsz8=",
          "dtype": "f8"
         },
         "yaxis": "y"
        },
        {
         "hovertemplate": "<b>%{hovertext}</b><br><br>Country=%{text}<br>HEE in 2020=%{x}<br>HEE in 2022=%{y}<extra></extra>",
         "hovertext": [
          "Cyprus"
         ],
         "legendgroup": "Cyprus",
         "marker": {
          "color": "#FF97FF",
          "size": 10,
          "symbol": "circle"
         },
         "mode": "markers+text",
         "name": "Cyprus",
         "orientation": "v",
         "showlegend": true,
         "text": [
          "Cyprus"
         ],
         "textposition": "top center",
         "type": "scatter",
         "x": {
          "bdata": "F4Ke387Urj8=",
          "dtype": "f8"
         },
         "xaxis": "x",
         "y": {
          "bdata": "Hk3EPYJWrz8=",
          "dtype": "f8"
         },
         "yaxis": "y"
        },
        {
         "hovertemplate": "<b>%{hovertext}</b><br><br>Country=%{text}<br>HEE in 2020=%{x}<br>HEE in 2022=%{y}<extra></extra>",
         "hovertext": [
          "Czechia"
         ],
         "legendgroup": "Czechia",
         "marker": {
          "color": "#FECB52",
          "size": 10,
          "symbol": "circle"
         },
         "mode": "markers+text",
         "name": "Czechia",
         "orientation": "v",
         "showlegend": true,
         "text": [
          "Czechia"
         ],
         "textposition": "top center",
         "type": "scatter",
         "x": {
          "bdata": "tqW7FD3yrz8=",
          "dtype": "f8"
         },
         "xaxis": "x",
         "y": {
          "bdata": "uyXGtslpsD8=",
          "dtype": "f8"
         },
         "yaxis": "y"
        },
        {
         "hovertemplate": "<b>%{hovertext}</b><br><br>Country=%{text}<br>HEE in 2020=%{x}<br>HEE in 2022=%{y}<extra></extra>",
         "hovertext": [
          "Ecuador"
         ],
         "legendgroup": "Ecuador",
         "marker": {
          "color": "#636efa",
          "size": 10,
          "symbol": "circle"
         },
         "mode": "markers+text",
         "name": "Ecuador",
         "orientation": "v",
         "showlegend": true,
         "text": [
          "Ecuador"
         ],
         "textposition": "top center",
         "type": "scatter",
         "x": {
          "bdata": "jPm39200qT8=",
          "dtype": "f8"
         },
         "xaxis": "x",
         "y": {
          "bdata": "JngavWjSrj8=",
          "dtype": "f8"
         },
         "yaxis": "y"
        },
        {
         "hovertemplate": "<b>%{hovertext}</b><br><br>Country=%{text}<br>HEE in 2020=%{x}<br>HEE in 2022=%{y}<extra></extra>",
         "hovertext": [
          "Egypt"
         ],
         "legendgroup": "Egypt",
         "marker": {
          "color": "#EF553B",
          "size": 10,
          "symbol": "circle"
         },
         "mode": "markers+text",
         "name": "Egypt",
         "orientation": "v",
         "showlegend": true,
         "text": [
          "Egypt"
         ],
         "textposition": "top center",
         "type": "scatter",
         "x": {
          "bdata": "D+aHL53qsT8=",
          "dtype": "f8"
         },
         "xaxis": "x",
         "y": {
          "bdata": "4ZH2uuNDsT8=",
          "dtype": "f8"
         },
         "yaxis": "y"
        },
        {
         "hovertemplate": "<b>%{hovertext}</b><br><br>Country=%{text}<br>HEE in 2020=%{x}<br>HEE in 2022=%{y}<extra></extra>",
         "hovertext": [
          "Ethiopia"
         ],
         "legendgroup": "Ethiopia",
         "marker": {
          "color": "#00cc96",
          "size": 10,
          "symbol": "circle"
         },
         "mode": "markers+text",
         "name": "Ethiopia",
         "orientation": "v",
         "showlegend": true,
         "text": [
          "Ethiopia"
         ],
         "textposition": "top center",
         "type": "scatter",
         "x": {
          "bdata": "q52GxNtWpj8=",
          "dtype": "f8"
         },
         "xaxis": "x",
         "y": {
          "bdata": "EmPJUeGyqj8=",
          "dtype": "f8"
         },
         "yaxis": "y"
        },
        {
         "hovertemplate": "<b>%{hovertext}</b><br><br>Country=%{text}<br>HEE in 2020=%{x}<br>HEE in 2022=%{y}<extra></extra>",
         "hovertext": [
          "Germany"
         ],
         "legendgroup": "Germany",
         "marker": {
          "color": "#ab63fa",
          "size": 10,
          "symbol": "circle"
         },
         "mode": "markers+text",
         "name": "Germany",
         "orientation": "v",
         "showlegend": true,
         "text": [
          "Germany"
         ],
         "textposition": "top center",
         "type": "scatter",
         "x": {
          "bdata": "C3Q2mvSXqT8=",
          "dtype": "f8"
         },
         "xaxis": "x",
         "y": {
          "bdata": "0HpyM5Q3qz8=",
          "dtype": "f8"
         },
         "yaxis": "y"
        },
        {
         "hovertemplate": "<b>%{hovertext}</b><br><br>Country=%{text}<br>HEE in 2020=%{x}<br>HEE in 2022=%{y}<extra></extra>",
         "hovertext": [
          "Greece"
         ],
         "legendgroup": "Greece",
         "marker": {
          "color": "#FFA15A",
          "size": 10,
          "symbol": "circle"
         },
         "mode": "markers+text",
         "name": "Greece",
         "orientation": "v",
         "showlegend": true,
         "text": [
          "Greece"
         ],
         "textposition": "top center",
         "type": "scatter",
         "x": {
          "bdata": "X60wJqS9rT8=",
          "dtype": "f8"
         },
         "xaxis": "x",
         "y": {
          "bdata": "Fs2W+0yQsD8=",
          "dtype": "f8"
         },
         "yaxis": "y"
        },
        {
         "hovertemplate": "<b>%{hovertext}</b><br><br>Country=%{text}<br>HEE in 2020=%{x}<br>HEE in 2022=%{y}<extra></extra>",
         "hovertext": [
          "Guatemala"
         ],
         "legendgroup": "Guatemala",
         "marker": {
          "color": "#19d3f3",
          "size": 10,
          "symbol": "circle"
         },
         "mode": "markers+text",
         "name": "Guatemala",
         "orientation": "v",
         "showlegend": true,
         "text": [
          "Guatemala"
         ],
         "textposition": "top center",
         "type": "scatter",
         "x": {
          "bdata": "xfqhvV6pqz8=",
          "dtype": "f8"
         },
         "xaxis": "x",
         "y": {
          "bdata": "vdiaJI3zqT8=",
          "dtype": "f8"
         },
         "yaxis": "y"
        },
        {
         "hovertemplate": "<b>%{hovertext}</b><br><br>Country=%{text}<br>HEE in 2020=%{x}<br>HEE in 2022=%{y}<extra></extra>",
         "hovertext": [
          "India"
         ],
         "legendgroup": "India",
         "marker": {
          "color": "#FF6692",
          "size": 10,
          "symbol": "circle"
         },
         "mode": "markers+text",
         "name": "India",
         "orientation": "v",
         "showlegend": true,
         "text": [
          "India"
         ],
         "textposition": "top center",
         "type": "scatter",
         "x": {
          "bdata": "oOFhYHzbsT8=",
          "dtype": "f8"
         },
         "xaxis": "x",
         "y": {
          "bdata": "vhd4XKhksj8=",
          "dtype": "f8"
         },
         "yaxis": "y"
        },
        {
         "hovertemplate": "<b>%{hovertext}</b><br><br>Country=%{text}<br>HEE in 2020=%{x}<br>HEE in 2022=%{y}<extra></extra>",
         "hovertext": [
          "Indonesia"
         ],
         "legendgroup": "Indonesia",
         "marker": {
          "color": "#B6E880",
          "size": 10,
          "symbol": "circle"
         },
         "mode": "markers+text",
         "name": "Indonesia",
         "orientation": "v",
         "showlegend": true,
         "text": [
          "Indonesia"
         ],
         "textposition": "top center",
         "type": "scatter",
         "x": {
          "bdata": "AKdrg3xhwD8=",
          "dtype": "f8"
         },
         "xaxis": "x",
         "y": {
          "bdata": "a7cysiAixT8=",
          "dtype": "f8"
         },
         "yaxis": "y"
        },
        {
         "hovertemplate": "<b>%{hovertext}</b><br><br>Country=%{text}<br>HEE in 2020=%{x}<br>HEE in 2022=%{y}<extra></extra>",
         "hovertext": [
          "Iran"
         ],
         "legendgroup": "Iran",
         "marker": {
          "color": "#FF97FF",
          "size": 10,
          "symbol": "circle"
         },
         "mode": "markers+text",
         "name": "Iran",
         "orientation": "v",
         "showlegend": true,
         "text": [
          "Iran"
         ],
         "textposition": "top center",
         "type": "scatter",
         "x": {
          "bdata": "vVOd+fXDtD8=",
          "dtype": "f8"
         },
         "xaxis": "x",
         "y": {
          "bdata": "NtDmgvvptT8=",
          "dtype": "f8"
         },
         "yaxis": "y"
        },
        {
         "hovertemplate": "<b>%{hovertext}</b><br><br>Country=%{text}<br>HEE in 2020=%{x}<br>HEE in 2022=%{y}<extra></extra>",
         "hovertext": [
          "Ireland"
         ],
         "legendgroup": "Ireland",
         "marker": {
          "color": "#FECB52",
          "size": 10,
          "symbol": "circle"
         },
         "mode": "markers+text",
         "name": "Ireland",
         "orientation": "v",
         "showlegend": true,
         "text": [
          "Ireland"
         ],
         "textposition": "top center",
         "type": "scatter",
         "x": {
          "bdata": "rwg+F2++tT8=",
          "dtype": "f8"
         },
         "xaxis": "x",
         "y": {
          "bdata": "JG2dM5ycuD8=",
          "dtype": "f8"
         },
         "yaxis": "y"
        },
        {
         "hovertemplate": "<b>%{hovertext}</b><br><br>Country=%{text}<br>HEE in 2020=%{x}<br>HEE in 2022=%{y}<extra></extra>",
         "hovertext": [
          "Japan"
         ],
         "legendgroup": "Japan",
         "marker": {
          "color": "#636efa",
          "size": 10,
          "symbol": "circle"
         },
         "mode": "markers+text",
         "name": "Japan",
         "orientation": "v",
         "showlegend": true,
         "text": [
          "Japan"
         ],
         "textposition": "top center",
         "type": "scatter",
         "x": {
          "bdata": "EQzJdRVgsD8=",
          "dtype": "f8"
         },
         "xaxis": "x",
         "y": {
          "bdata": "20LLlEEnsD8=",
          "dtype": "f8"
         },
         "yaxis": "y"
        },
        {
         "hovertemplate": "<b>%{hovertext}</b><br><br>Country=%{text}<br>HEE in 2020=%{x}<br>HEE in 2022=%{y}<extra></extra>",
         "hovertext": [
          "Jordan"
         ],
         "legendgroup": "Jordan",
         "marker": {
          "color": "#EF553B",
          "size": 10,
          "symbol": "circle"
         },
         "mode": "markers+text",
         "name": "Jordan",
         "orientation": "v",
         "showlegend": true,
         "text": [
          "Jordan"
         ],
         "textposition": "top center",
         "type": "scatter",
         "x": {
          "bdata": "Y4j78geisT8=",
          "dtype": "f8"
         },
         "xaxis": "x",
         "y": {
          "bdata": "yanzOXoSsj8=",
          "dtype": "f8"
         },
         "yaxis": "y"
        },
        {
         "hovertemplate": "<b>%{hovertext}</b><br><br>Country=%{text}<br>HEE in 2020=%{x}<br>HEE in 2022=%{y}<extra></extra>",
         "hovertext": [
          "Kazakhstan"
         ],
         "legendgroup": "Kazakhstan",
         "marker": {
          "color": "#00cc96",
          "size": 10,
          "symbol": "circle"
         },
         "mode": "markers+text",
         "name": "Kazakhstan",
         "orientation": "v",
         "showlegend": true,
         "text": [
          "Kazakhstan"
         ],
         "textposition": "top center",
         "type": "scatter",
         "x": {
          "bdata": "SUFV0JkPtj8=",
          "dtype": "f8"
         },
         "xaxis": "x",
         "y": {
          "bdata": "Gni7VFyjtj8=",
          "dtype": "f8"
         },
         "yaxis": "y"
        },
        {
         "hovertemplate": "<b>%{hovertext}</b><br><br>Country=%{text}<br>HEE in 2020=%{x}<br>HEE in 2022=%{y}<extra></extra>",
         "hovertext": [
          "Kenya"
         ],
         "legendgroup": "Kenya",
         "marker": {
          "color": "#ab63fa",
          "size": 10,
          "symbol": "circle"
         },
         "mode": "markers+text",
         "name": "Kenya",
         "orientation": "v",
         "showlegend": true,
         "text": [
          "Kenya"
         ],
         "textposition": "top center",
         "type": "scatter",
         "x": {
          "bdata": "Dv65PLxbqz8=",
          "dtype": "f8"
         },
         "xaxis": "x",
         "y": {
          "bdata": "phc9AFWDrz8=",
          "dtype": "f8"
         },
         "yaxis": "y"
        },
        {
         "hovertemplate": "<b>%{hovertext}</b><br><br>Country=%{text}<br>HEE in 2020=%{x}<br>HEE in 2022=%{y}<extra></extra>",
         "hovertext": [
          "Kyrgyzstan"
         ],
         "legendgroup": "Kyrgyzstan",
         "marker": {
          "color": "#FFA15A",
          "size": 10,
          "symbol": "circle"
         },
         "mode": "markers+text",
         "name": "Kyrgyzstan",
         "orientation": "v",
         "showlegend": true,
         "text": [
          "Kyrgyzstan"
         ],
         "textposition": "top center",
         "type": "scatter",
         "x": {
          "bdata": "Y7UXuo9Srj8=",
          "dtype": "f8"
         },
         "xaxis": "x",
         "y": {
          "bdata": "svIOvJk4rT8=",
          "dtype": "f8"
         },
         "yaxis": "y"
        },
        {
         "hovertemplate": "<b>%{hovertext}</b><br><br>Country=%{text}<br>HEE in 2020=%{x}<br>HEE in 2022=%{y}<extra></extra>",
         "hovertext": [
          "Lebanon"
         ],
         "legendgroup": "Lebanon",
         "marker": {
          "color": "#19d3f3",
          "size": 10,
          "symbol": "circle"
         },
         "mode": "markers+text",
         "name": "Lebanon",
         "orientation": "v",
         "showlegend": true,
         "text": [
          "Lebanon"
         ],
         "textposition": "top center",
         "type": "scatter",
         "x": {
          "bdata": "qugu3eNSsj8=",
          "dtype": "f8"
         },
         "xaxis": "x",
         "y": {
          "bdata": "Yp0KUg8htz8=",
          "dtype": "f8"
         },
         "yaxis": "y"
        },
        {
         "hovertemplate": "<b>%{hovertext}</b><br><br>Country=%{text}<br>HEE in 2020=%{x}<br>HEE in 2022=%{y}<extra></extra>",
         "hovertext": [
          "Malaysia"
         ],
         "legendgroup": "Malaysia",
         "marker": {
          "color": "#FF6692",
          "size": 10,
          "symbol": "circle"
         },
         "mode": "markers+text",
         "name": "Malaysia",
         "orientation": "v",
         "showlegend": true,
         "text": [
          "Malaysia"
         ],
         "textposition": "top center",
         "type": "scatter",
         "x": {
          "bdata": "o2o5mGX0tT8=",
          "dtype": "f8"
         },
         "xaxis": "x",
         "y": {
          "bdata": "pN2OmamOuT8=",
          "dtype": "f8"
         },
         "yaxis": "y"
        },
        {
         "hovertemplate": "<b>%{hovertext}</b><br><br>Country=%{text}<br>HEE in 2020=%{x}<br>HEE in 2022=%{y}<extra></extra>",
         "hovertext": [
          "Mexico"
         ],
         "legendgroup": "Mexico",
         "marker": {
          "color": "#B6E880",
          "size": 10,
          "symbol": "circle"
         },
         "mode": "markers+text",
         "name": "Mexico",
         "orientation": "v",
         "showlegend": true,
         "text": [
          "Mexico"
         ],
         "textposition": "top center",
         "type": "scatter",
         "x": {
          "bdata": "9UTN6i0hrz8=",
          "dtype": "f8"
         },
         "xaxis": "x",
         "y": {
          "bdata": "vCGT+iQxsT8=",
          "dtype": "f8"
         },
         "yaxis": "y"
        },
        {
         "hovertemplate": "<b>%{hovertext}</b><br><br>Country=%{text}<br>HEE in 2020=%{x}<br>HEE in 2022=%{y}<extra></extra>",
         "hovertext": [
          "Mongolia"
         ],
         "legendgroup": "Mongolia",
         "marker": {
          "color": "#FF97FF",
          "size": 10,
          "symbol": "circle"
         },
         "mode": "markers+text",
         "name": "Mongolia",
         "orientation": "v",
         "showlegend": true,
         "text": [
          "Mongolia"
         ],
         "textposition": "top center",
         "type": "scatter",
         "x": {
          "bdata": "bqAeHUz3sT8=",
          "dtype": "f8"
         },
         "xaxis": "x",
         "y": {
          "bdata": "GtBr/BvuqT8=",
          "dtype": "f8"
         },
         "yaxis": "y"
        },
        {
         "hovertemplate": "<b>%{hovertext}</b><br><br>Country=%{text}<br>HEE in 2020=%{x}<br>HEE in 2022=%{y}<extra></extra>",
         "hovertext": [
          "Morocco"
         ],
         "legendgroup": "Morocco",
         "marker": {
          "color": "#FECB52",
          "size": 10,
          "symbol": "circle"
         },
         "mode": "markers+text",
         "name": "Morocco",
         "orientation": "v",
         "showlegend": true,
         "text": [
          "Morocco"
         ],
         "textposition": "top center",
         "type": "scatter",
         "x": {
          "bdata": "NVkxKw4vpz8=",
          "dtype": "f8"
         },
         "xaxis": "x",
         "y": {
          "bdata": "AAl9SgKgqD8=",
          "dtype": "f8"
         },
         "yaxis": "y"
        },
        {
         "hovertemplate": "<b>%{hovertext}</b><br><br>Country=%{text}<br>HEE in 2020=%{x}<br>HEE in 2022=%{y}<extra></extra>",
         "hovertext": [
          "Myanmar"
         ],
         "legendgroup": "Myanmar",
         "marker": {
          "color": "#636efa",
          "size": 10,
          "symbol": "circle"
         },
         "mode": "markers+text",
         "name": "Myanmar",
         "orientation": "v",
         "showlegend": true,
         "text": [
          "Myanmar"
         ],
         "textposition": "top center",
         "type": "scatter",
         "x": {
          "bdata": "l90+aHSOsz8=",
          "dtype": "f8"
         },
         "xaxis": "x",
         "y": {
          "bdata": "0lyTjMOJsT8=",
          "dtype": "f8"
         },
         "yaxis": "y"
        },
        {
         "hovertemplate": "<b>%{hovertext}</b><br><br>Country=%{text}<br>HEE in 2020=%{x}<br>HEE in 2022=%{y}<extra></extra>",
         "hovertext": [
          "Netherlands"
         ],
         "legendgroup": "Netherlands",
         "marker": {
          "color": "#EF553B",
          "size": 10,
          "symbol": "circle"
         },
         "mode": "markers+text",
         "name": "Netherlands",
         "orientation": "v",
         "showlegend": true,
         "text": [
          "Netherlands"
         ],
         "textposition": "top center",
         "type": "scatter",
         "x": {
          "bdata": "PPmLLiIyqz8=",
          "dtype": "f8"
         },
         "xaxis": "x",
         "y": {
          "bdata": "2A41Yt3+rT8=",
          "dtype": "f8"
         },
         "yaxis": "y"
        },
        {
         "hovertemplate": "<b>%{hovertext}</b><br><br>Country=%{text}<br>HEE in 2020=%{x}<br>HEE in 2022=%{y}<extra></extra>",
         "hovertext": [
          "New Zealand"
         ],
         "legendgroup": "New Zealand",
         "marker": {
          "color": "#00cc96",
          "size": 10,
          "symbol": "circle"
         },
         "mode": "markers+text",
         "name": "New Zealand",
         "orientation": "v",
         "showlegend": true,
         "text": [
          "New Zealand"
         ],
         "textposition": "top center",
         "type": "scatter",
         "x": {
          "bdata": "uukPXAwvrT8=",
          "dtype": "f8"
         },
         "xaxis": "x",
         "y": {
          "bdata": "FLLRwlb0rT8=",
          "dtype": "f8"
         },
         "yaxis": "y"
        },
        {
         "hovertemplate": "<b>%{hovertext}</b><br><br>Country=%{text}<br>HEE in 2020=%{x}<br>HEE in 2022=%{y}<extra></extra>",
         "hovertext": [
          "Nicaragua"
         ],
         "legendgroup": "Nicaragua",
         "marker": {
          "color": "#ab63fa",
          "size": 10,
          "symbol": "circle"
         },
         "mode": "markers+text",
         "name": "Nicaragua",
         "orientation": "v",
         "showlegend": true,
         "text": [
          "Nicaragua"
         ],
         "textposition": "top center",
         "type": "scatter",
         "x": {
          "bdata": "wqWHYmgeqD8=",
          "dtype": "f8"
         },
         "xaxis": "x",
         "y": {
          "bdata": "6D2piT4eqj8=",
          "dtype": "f8"
         },
         "yaxis": "y"
        },
        {
         "hovertemplate": "<b>%{hovertext}</b><br><br>Country=%{text}<br>HEE in 2020=%{x}<br>HEE in 2022=%{y}<extra></extra>",
         "hovertext": [
          "Nigeria"
         ],
         "legendgroup": "Nigeria",
         "marker": {
          "color": "#FFA15A",
          "size": 10,
          "symbol": "circle"
         },
         "mode": "markers+text",
         "name": "Nigeria",
         "orientation": "v",
         "showlegend": true,
         "text": [
          "Nigeria"
         ],
         "textposition": "top center",
         "type": "scatter",
         "x": {
          "bdata": "6/6pGHpqsD8=",
          "dtype": "f8"
         },
         "xaxis": "x",
         "y": {
          "bdata": "yWPkFRGorD8=",
          "dtype": "f8"
         },
         "yaxis": "y"
        },
        {
         "hovertemplate": "<b>%{hovertext}</b><br><br>Country=%{text}<br>HEE in 2020=%{x}<br>HEE in 2022=%{y}<extra></extra>",
         "hovertext": [
          "Pakistan"
         ],
         "legendgroup": "Pakistan",
         "marker": {
          "color": "#19d3f3",
          "size": 10,
          "symbol": "circle"
         },
         "mode": "markers+text",
         "name": "Pakistan",
         "orientation": "v",
         "showlegend": true,
         "text": [
          "Pakistan"
         ],
         "textposition": "top center",
         "type": "scatter",
         "x": {
          "bdata": "3G50tBBLsD8=",
          "dtype": "f8"
         },
         "xaxis": "x",
         "y": {
          "bdata": "SFfZZZyssT8=",
          "dtype": "f8"
         },
         "yaxis": "y"
        },
        {
         "hovertemplate": "<b>%{hovertext}</b><br><br>Country=%{text}<br>HEE in 2020=%{x}<br>HEE in 2022=%{y}<extra></extra>",
         "hovertext": [
          "Peru"
         ],
         "legendgroup": "Peru",
         "marker": {
          "color": "#FF6692",
          "size": 10,
          "symbol": "circle"
         },
         "mode": "markers+text",
         "name": "Peru",
         "orientation": "v",
         "showlegend": true,
         "text": [
          "Peru"
         ],
         "textposition": "top center",
         "type": "scatter",
         "x": {
          "bdata": "BgC1OSHRrz8=",
          "dtype": "f8"
         },
         "xaxis": "x",
         "y": {
          "bdata": "5io1h9ygsT8=",
          "dtype": "f8"
         },
         "yaxis": "y"
        },
        {
         "hovertemplate": "<b>%{hovertext}</b><br><br>Country=%{text}<br>HEE in 2020=%{x}<br>HEE in 2022=%{y}<extra></extra>",
         "hovertext": [
          "Philippines"
         ],
         "legendgroup": "Philippines",
         "marker": {
          "color": "#B6E880",
          "size": 10,
          "symbol": "circle"
         },
         "mode": "markers+text",
         "name": "Philippines",
         "orientation": "v",
         "showlegend": true,
         "text": [
          "Philippines"
         ],
         "textposition": "top center",
         "type": "scatter",
         "x": {
          "bdata": "rxLJTXW3rj8=",
          "dtype": "f8"
         },
         "xaxis": "x",
         "y": {
          "bdata": "eqZX4T1jsD8=",
          "dtype": "f8"
         },
         "yaxis": "y"
        },
        {
         "hovertemplate": "<b>%{hovertext}</b><br><br>Country=%{text}<br>HEE in 2020=%{x}<br>HEE in 2022=%{y}<extra></extra>",
         "hovertext": [
          "Romania"
         ],
         "legendgroup": "Romania",
         "marker": {
          "color": "#FF97FF",
          "size": 10,
          "symbol": "circle"
         },
         "mode": "markers+text",
         "name": "Romania",
         "orientation": "v",
         "showlegend": true,
         "text": [
          "Romania"
         ],
         "textposition": "top center",
         "type": "scatter",
         "x": {
          "bdata": "IGcDQks7sz8=",
          "dtype": "f8"
         },
         "xaxis": "x",
         "y": {
          "bdata": "9Hjha9MPtT8=",
          "dtype": "f8"
         },
         "yaxis": "y"
        },
        {
         "hovertemplate": "<b>%{hovertext}</b><br><br>Country=%{text}<br>HEE in 2020=%{x}<br>HEE in 2022=%{y}<extra></extra>",
         "hovertext": [
          "Russia"
         ],
         "legendgroup": "Russia",
         "marker": {
          "color": "#FECB52",
          "size": 10,
          "symbol": "circle"
         },
         "mode": "markers+text",
         "name": "Russia",
         "orientation": "v",
         "showlegend": true,
         "text": [
          "Russia"
         ],
         "textposition": "top center",
         "type": "scatter",
         "x": {
          "bdata": "dJA3RonMsD8=",
          "dtype": "f8"
         },
         "xaxis": "x",
         "y": {
          "bdata": "e2J/AMutsj8=",
          "dtype": "f8"
         },
         "yaxis": "y"
        },
        {
         "hovertemplate": "<b>%{hovertext}</b><br><br>Country=%{text}<br>HEE in 2020=%{x}<br>HEE in 2022=%{y}<extra></extra>",
         "hovertext": [
          "Serbia"
         ],
         "legendgroup": "Serbia",
         "marker": {
          "color": "#636efa",
          "size": 10,
          "symbol": "circle"
         },
         "mode": "markers+text",
         "name": "Serbia",
         "orientation": "v",
         "showlegend": true,
         "text": [
          "Serbia"
         ],
         "textposition": "top center",
         "type": "scatter",
         "x": {
          "bdata": "h/HJbsx3rz8=",
          "dtype": "f8"
         },
         "xaxis": "x",
         "y": {
          "bdata": "Wybtx35hrj8=",
          "dtype": "f8"
         },
         "yaxis": "y"
        },
        {
         "hovertemplate": "<b>%{hovertext}</b><br><br>Country=%{text}<br>HEE in 2020=%{x}<br>HEE in 2022=%{y}<extra></extra>",
         "hovertext": [
          "Singapore"
         ],
         "legendgroup": "Singapore",
         "marker": {
          "color": "#EF553B",
          "size": 10,
          "symbol": "circle"
         },
         "mode": "markers+text",
         "name": "Singapore",
         "orientation": "v",
         "showlegend": true,
         "text": [
          "Singapore"
         ],
         "textposition": "top center",
         "type": "scatter",
         "x": {
          "bdata": "x/VSdC3tvD8=",
          "dtype": "f8"
         },
         "xaxis": "x",
         "y": {
          "bdata": "NoOroTBEwD8=",
          "dtype": "f8"
         },
         "yaxis": "y"
        },
        {
         "hovertemplate": "<b>%{hovertext}</b><br><br>Country=%{text}<br>HEE in 2020=%{x}<br>HEE in 2022=%{y}<extra></extra>",
         "hovertext": [
          "Slovakia"
         ],
         "legendgroup": "Slovakia",
         "marker": {
          "color": "#00cc96",
          "size": 10,
          "symbol": "circle"
         },
         "mode": "markers+text",
         "name": "Slovakia",
         "orientation": "v",
         "showlegend": true,
         "text": [
          "Slovakia"
         ],
         "textposition": "top center",
         "type": "scatter",
         "x": {
          "bdata": "DHuxGwjQsT8=",
          "dtype": "f8"
         },
         "xaxis": "x",
         "y": {
          "bdata": "6klMZyz0sD8=",
          "dtype": "f8"
         },
         "yaxis": "y"
        },
        {
         "hovertemplate": "<b>%{hovertext}</b><br><br>Country=%{text}<br>HEE in 2020=%{x}<br>HEE in 2022=%{y}<extra></extra>",
         "hovertext": [
          "South Korea"
         ],
         "legendgroup": "South Korea",
         "marker": {
          "color": "#ab63fa",
          "size": 10,
          "symbol": "circle"
         },
         "mode": "markers+text",
         "name": "South Korea",
         "orientation": "v",
         "showlegend": true,
         "text": [
          "South Korea"
         ],
         "textposition": "top center",
         "type": "scatter",
         "x": {
          "bdata": "QGOrVrXasT8=",
          "dtype": "f8"
         },
         "xaxis": "x",
         "y": {
          "bdata": "bYUXAtNgsD8=",
          "dtype": "f8"
         },
         "yaxis": "y"
        },
        {
         "hovertemplate": "<b>%{hovertext}</b><br><br>Country=%{text}<br>HEE in 2020=%{x}<br>HEE in 2022=%{y}<extra></extra>",
         "hovertext": [
          "Tajikistan"
         ],
         "legendgroup": "Tajikistan",
         "marker": {
          "color": "#FFA15A",
          "size": 10,
          "symbol": "circle"
         },
         "mode": "markers+text",
         "name": "Tajikistan",
         "orientation": "v",
         "showlegend": true,
         "text": [
          "Tajikistan"
         ],
         "textposition": "top center",
         "type": "scatter",
         "x": {
          "bdata": "aCA+PvQfpT8=",
          "dtype": "f8"
         },
         "xaxis": "x",
         "y": {
          "bdata": "USkH5lHppz8=",
          "dtype": "f8"
         },
         "yaxis": "y"
        },
        {
         "hovertemplate": "<b>%{hovertext}</b><br><br>Country=%{text}<br>HEE in 2020=%{x}<br>HEE in 2022=%{y}<extra></extra>",
         "hovertext": [
          "Thailand"
         ],
         "legendgroup": "Thailand",
         "marker": {
          "color": "#19d3f3",
          "size": 10,
          "symbol": "circle"
         },
         "mode": "markers+text",
         "name": "Thailand",
         "orientation": "v",
         "showlegend": true,
         "text": [
          "Thailand"
         ],
         "textposition": "top center",
         "type": "scatter",
         "x": {
          "bdata": "cuBkZ2xUtz8=",
          "dtype": "f8"
         },
         "xaxis": "x",
         "y": {
          "bdata": "WcCaLni9tT8=",
          "dtype": "f8"
         },
         "yaxis": "y"
        },
        {
         "hovertemplate": "<b>%{hovertext}</b><br><br>Country=%{text}<br>HEE in 2020=%{x}<br>HEE in 2022=%{y}<extra></extra>",
         "hovertext": [
          "Tunisia"
         ],
         "legendgroup": "Tunisia",
         "marker": {
          "color": "#FF6692",
          "size": 10,
          "symbol": "circle"
         },
         "mode": "markers+text",
         "name": "Tunisia",
         "orientation": "v",
         "showlegend": true,
         "text": [
          "Tunisia"
         ],
         "textposition": "top center",
         "type": "scatter",
         "x": {
          "bdata": "hVYnE6sXpT8=",
          "dtype": "f8"
         },
         "xaxis": "x",
         "y": {
          "bdata": "G0zwSziIpj8=",
          "dtype": "f8"
         },
         "yaxis": "y"
        },
        {
         "hovertemplate": "<b>%{hovertext}</b><br><br>Country=%{text}<br>HEE in 2020=%{x}<br>HEE in 2022=%{y}<extra></extra>",
         "hovertext": [
          "Turkey"
         ],
         "legendgroup": "Turkey",
         "marker": {
          "color": "#B6E880",
          "size": 10,
          "symbol": "circle"
         },
         "mode": "markers+text",
         "name": "Turkey",
         "orientation": "v",
         "showlegend": true,
         "text": [
          "Turkey"
         ],
         "textposition": "top center",
         "type": "scatter",
         "x": {
          "bdata": "UfEiP0l/tT8=",
          "dtype": "f8"
         },
         "xaxis": "x",
         "y": {
          "bdata": "yTMVmHrwvT8=",
          "dtype": "f8"
         },
         "yaxis": "y"
        },
        {
         "hovertemplate": "<b>%{hovertext}</b><br><br>Country=%{text}<br>HEE in 2020=%{x}<br>HEE in 2022=%{y}<extra></extra>",
         "hovertext": [
          "Ukraine"
         ],
         "legendgroup": "Ukraine",
         "marker": {
          "color": "#FF97FF",
          "size": 10,
          "symbol": "circle"
         },
         "mode": "markers+text",
         "name": "Ukraine",
         "orientation": "v",
         "showlegend": true,
         "text": [
          "Ukraine"
         ],
         "textposition": "top center",
         "type": "scatter",
         "x": {
          "bdata": "o/0FGy+8rT8=",
          "dtype": "f8"
         },
         "xaxis": "x",
         "y": {
          "bdata": "LtMwazgVqz8=",
          "dtype": "f8"
         },
         "yaxis": "y"
        },
        {
         "hovertemplate": "<b>%{hovertext}</b><br><br>Country=%{text}<br>HEE in 2020=%{x}<br>HEE in 2022=%{y}<extra></extra>",
         "hovertext": [
          "United Kingdom"
         ],
         "legendgroup": "United Kingdom",
         "marker": {
          "color": "#FECB52",
          "size": 10,
          "symbol": "circle"
         },
         "mode": "markers+text",
         "name": "United Kingdom",
         "orientation": "v",
         "showlegend": true,
         "text": [
          "United Kingdom"
         ],
         "textposition": "top center",
         "type": "scatter",
         "x": {
          "bdata": "yVOYZYVGqj8=",
          "dtype": "f8"
         },
         "xaxis": "x",
         "y": {
          "bdata": "YlikqnjCrD8=",
          "dtype": "f8"
         },
         "yaxis": "y"
        },
        {
         "hovertemplate": "<b>%{hovertext}</b><br><br>Country=%{text}<br>HEE in 2020=%{x}<br>HEE in 2022=%{y}<extra></extra>",
         "hovertext": [
          "United States"
         ],
         "legendgroup": "United States",
         "marker": {
          "color": "#636efa",
          "size": 10,
          "symbol": "circle"
         },
         "mode": "markers+text",
         "name": "United States",
         "orientation": "v",
         "showlegend": true,
         "text": [
          "United States"
         ],
         "textposition": "top center",
         "type": "scatter",
         "x": {
          "bdata": "DGDj9h9Foj8=",
          "dtype": "f8"
         },
         "xaxis": "x",
         "y": {
          "bdata": "HFzM8lZapD8=",
          "dtype": "f8"
         },
         "yaxis": "y"
        },
        {
         "hovertemplate": "<b>%{hovertext}</b><br><br>Country=%{text}<br>HEE in 2020=%{x}<br>HEE in 2022=%{y}<extra></extra>",
         "hovertext": [
          "Uruguay"
         ],
         "legendgroup": "Uruguay",
         "marker": {
          "color": "#EF553B",
          "size": 10,
          "symbol": "circle"
         },
         "mode": "markers+text",
         "name": "Uruguay",
         "orientation": "v",
         "showlegend": true,
         "text": [
          "Uruguay"
         ],
         "textposition": "top center",
         "type": "scatter",
         "x": {
          "bdata": "6SBMzvQrqz8=",
          "dtype": "f8"
         },
         "xaxis": "x",
         "y": {
          "bdata": "TaMH5tLRqz8=",
          "dtype": "f8"
         },
         "yaxis": "y"
        },
        {
         "hovertemplate": "<b>%{hovertext}</b><br><br>Country=%{text}<br>HEE in 2020=%{x}<br>HEE in 2022=%{y}<extra></extra>",
         "hovertext": [
          "Uzbekistan"
         ],
         "legendgroup": "Uzbekistan",
         "marker": {
          "color": "#00cc96",
          "size": 10,
          "symbol": "circle"
         },
         "mode": "markers+text",
         "name": "Uzbekistan",
         "orientation": "v",
         "showlegend": true,
         "text": [
          "Uzbekistan"
         ],
         "textposition": "top center",
         "type": "scatter",
         "x": {
          "bdata": "bFLTmKwgsD8=",
          "dtype": "f8"
         },
         "xaxis": "x",
         "y": {
          "bdata": "2yJP0eEtrj8=",
          "dtype": "f8"
         },
         "yaxis": "y"
        },
        {
         "hovertemplate": "<b>%{hovertext}</b><br><br>Country=%{text}<br>HEE in 2020=%{x}<br>HEE in 2022=%{y}<extra></extra>",
         "hovertext": [
          "Vietnam"
         ],
         "legendgroup": "Vietnam",
         "marker": {
          "color": "#ab63fa",
          "size": 10,
          "symbol": "circle"
         },
         "mode": "markers+text",
         "name": "Vietnam",
         "orientation": "v",
         "showlegend": true,
         "text": [
          "Vietnam"
         ],
         "textposition": "top center",
         "type": "scatter",
         "x": {
          "bdata": "UWvJBicAuT8=",
          "dtype": "f8"
         },
         "xaxis": "x",
         "y": {
          "bdata": "IKUR31FRuT8=",
          "dtype": "f8"
         },
         "yaxis": "y"
        }
       ],
       "layout": {
        "height": 600,
        "legend": {
         "title": {
          "text": "Country"
         },
         "tracegroupgap": 0
        },
        "shapes": [
         {
          "line": {
           "color": "gray",
           "dash": "dash"
          },
          "type": "line",
          "x0": 0,
          "x1": 0.2651039953334775,
          "y0": 0,
          "y1": 0.2651039953334775
         }
        ],
        "template": {
         "data": {
          "bar": [
           {
            "error_x": {
             "color": "#2a3f5f"
            },
            "error_y": {
             "color": "#2a3f5f"
            },
            "marker": {
             "line": {
              "color": "#E5ECF6",
              "width": 0.5
             },
             "pattern": {
              "fillmode": "overlay",
              "size": 10,
              "solidity": 0.2
             }
            },
            "type": "bar"
           }
          ],
          "barpolar": [
           {
            "marker": {
             "line": {
              "color": "#E5ECF6",
              "width": 0.5
             },
             "pattern": {
              "fillmode": "overlay",
              "size": 10,
              "solidity": 0.2
             }
            },
            "type": "barpolar"
           }
          ],
          "carpet": [
           {
            "aaxis": {
             "endlinecolor": "#2a3f5f",
             "gridcolor": "white",
             "linecolor": "white",
             "minorgridcolor": "white",
             "startlinecolor": "#2a3f5f"
            },
            "baxis": {
             "endlinecolor": "#2a3f5f",
             "gridcolor": "white",
             "linecolor": "white",
             "minorgridcolor": "white",
             "startlinecolor": "#2a3f5f"
            },
            "type": "carpet"
           }
          ],
          "choropleth": [
           {
            "colorbar": {
             "outlinewidth": 0,
             "ticks": ""
            },
            "type": "choropleth"
           }
          ],
          "contour": [
           {
            "colorbar": {
             "outlinewidth": 0,
             "ticks": ""
            },
            "colorscale": [
             [
              0,
              "#0d0887"
             ],
             [
              0.1111111111111111,
              "#46039f"
             ],
             [
              0.2222222222222222,
              "#7201a8"
             ],
             [
              0.3333333333333333,
              "#9c179e"
             ],
             [
              0.4444444444444444,
              "#bd3786"
             ],
             [
              0.5555555555555556,
              "#d8576b"
             ],
             [
              0.6666666666666666,
              "#ed7953"
             ],
             [
              0.7777777777777778,
              "#fb9f3a"
             ],
             [
              0.8888888888888888,
              "#fdca26"
             ],
             [
              1,
              "#f0f921"
             ]
            ],
            "type": "contour"
           }
          ],
          "contourcarpet": [
           {
            "colorbar": {
             "outlinewidth": 0,
             "ticks": ""
            },
            "type": "contourcarpet"
           }
          ],
          "heatmap": [
           {
            "colorbar": {
             "outlinewidth": 0,
             "ticks": ""
            },
            "colorscale": [
             [
              0,
              "#0d0887"
             ],
             [
              0.1111111111111111,
              "#46039f"
             ],
             [
              0.2222222222222222,
              "#7201a8"
             ],
             [
              0.3333333333333333,
              "#9c179e"
             ],
             [
              0.4444444444444444,
              "#bd3786"
             ],
             [
              0.5555555555555556,
              "#d8576b"
             ],
             [
              0.6666666666666666,
              "#ed7953"
             ],
             [
              0.7777777777777778,
              "#fb9f3a"
             ],
             [
              0.8888888888888888,
              "#fdca26"
             ],
             [
              1,
              "#f0f921"
             ]
            ],
            "type": "heatmap"
           }
          ],
          "histogram": [
           {
            "marker": {
             "pattern": {
              "fillmode": "overlay",
              "size": 10,
              "solidity": 0.2
             }
            },
            "type": "histogram"
           }
          ],
          "histogram2d": [
           {
            "colorbar": {
             "outlinewidth": 0,
             "ticks": ""
            },
            "colorscale": [
             [
              0,
              "#0d0887"
             ],
             [
              0.1111111111111111,
              "#46039f"
             ],
             [
              0.2222222222222222,
              "#7201a8"
             ],
             [
              0.3333333333333333,
              "#9c179e"
             ],
             [
              0.4444444444444444,
              "#bd3786"
             ],
             [
              0.5555555555555556,
              "#d8576b"
             ],
             [
              0.6666666666666666,
              "#ed7953"
             ],
             [
              0.7777777777777778,
              "#fb9f3a"
             ],
             [
              0.8888888888888888,
              "#fdca26"
             ],
             [
              1,
              "#f0f921"
             ]
            ],
            "type": "histogram2d"
           }
          ],
          "histogram2dcontour": [
           {
            "colorbar": {
             "outlinewidth": 0,
             "ticks": ""
            },
            "colorscale": [
             [
              0,
              "#0d0887"
             ],
             [
              0.1111111111111111,
              "#46039f"
             ],
             [
              0.2222222222222222,
              "#7201a8"
             ],
             [
              0.3333333333333333,
              "#9c179e"
             ],
             [
              0.4444444444444444,
              "#bd3786"
             ],
             [
              0.5555555555555556,
              "#d8576b"
             ],
             [
              0.6666666666666666,
              "#ed7953"
             ],
             [
              0.7777777777777778,
              "#fb9f3a"
             ],
             [
              0.8888888888888888,
              "#fdca26"
             ],
             [
              1,
              "#f0f921"
             ]
            ],
            "type": "histogram2dcontour"
           }
          ],
          "mesh3d": [
           {
            "colorbar": {
             "outlinewidth": 0,
             "ticks": ""
            },
            "type": "mesh3d"
           }
          ],
          "parcoords": [
           {
            "line": {
             "colorbar": {
              "outlinewidth": 0,
              "ticks": ""
             }
            },
            "type": "parcoords"
           }
          ],
          "pie": [
           {
            "automargin": true,
            "type": "pie"
           }
          ],
          "scatter": [
           {
            "fillpattern": {
             "fillmode": "overlay",
             "size": 10,
             "solidity": 0.2
            },
            "type": "scatter"
           }
          ],
          "scatter3d": [
           {
            "line": {
             "colorbar": {
              "outlinewidth": 0,
              "ticks": ""
             }
            },
            "marker": {
             "colorbar": {
              "outlinewidth": 0,
              "ticks": ""
             }
            },
            "type": "scatter3d"
           }
          ],
          "scattercarpet": [
           {
            "marker": {
             "colorbar": {
              "outlinewidth": 0,
              "ticks": ""
             }
            },
            "type": "scattercarpet"
           }
          ],
          "scattergeo": [
           {
            "marker": {
             "colorbar": {
              "outlinewidth": 0,
              "ticks": ""
             }
            },
            "type": "scattergeo"
           }
          ],
          "scattergl": [
           {
            "marker": {
             "colorbar": {
              "outlinewidth": 0,
              "ticks": ""
             }
            },
            "type": "scattergl"
           }
          ],
          "scattermap": [
           {
            "marker": {
             "colorbar": {
              "outlinewidth": 0,
              "ticks": ""
             }
            },
            "type": "scattermap"
           }
          ],
          "scattermapbox": [
           {
            "marker": {
             "colorbar": {
              "outlinewidth": 0,
              "ticks": ""
             }
            },
            "type": "scattermapbox"
           }
          ],
          "scatterpolar": [
           {
            "marker": {
             "colorbar": {
              "outlinewidth": 0,
              "ticks": ""
             }
            },
            "type": "scatterpolar"
           }
          ],
          "scatterpolargl": [
           {
            "marker": {
             "colorbar": {
              "outlinewidth": 0,
              "ticks": ""
             }
            },
            "type": "scatterpolargl"
           }
          ],
          "scatterternary": [
           {
            "marker": {
             "colorbar": {
              "outlinewidth": 0,
              "ticks": ""
             }
            },
            "type": "scatterternary"
           }
          ],
          "surface": [
           {
            "colorbar": {
             "outlinewidth": 0,
             "ticks": ""
            },
            "colorscale": [
             [
              0,
              "#0d0887"
             ],
             [
              0.1111111111111111,
              "#46039f"
             ],
             [
              0.2222222222222222,
              "#7201a8"
             ],
             [
              0.3333333333333333,
              "#9c179e"
             ],
             [
              0.4444444444444444,
              "#bd3786"
             ],
             [
              0.5555555555555556,
              "#d8576b"
             ],
             [
              0.6666666666666666,
              "#ed7953"
             ],
             [
              0.7777777777777778,
              "#fb9f3a"
             ],
             [
              0.8888888888888888,
              "#fdca26"
             ],
             [
              1,
              "#f0f921"
             ]
            ],
            "type": "surface"
           }
          ],
          "table": [
           {
            "cells": {
             "fill": {
              "color": "#EBF0F8"
             },
             "line": {
              "color": "white"
             }
            },
            "header": {
             "fill": {
              "color": "#C8D4E3"
             },
             "line": {
              "color": "white"
             }
            },
            "type": "table"
           }
          ]
         },
         "layout": {
          "annotationdefaults": {
           "arrowcolor": "#2a3f5f",
           "arrowhead": 0,
           "arrowwidth": 1
          },
          "autotypenumbers": "strict",
          "coloraxis": {
           "colorbar": {
            "outlinewidth": 0,
            "ticks": ""
           }
          },
          "colorscale": {
           "diverging": [
            [
             0,
             "#8e0152"
            ],
            [
             0.1,
             "#c51b7d"
            ],
            [
             0.2,
             "#de77ae"
            ],
            [
             0.3,
             "#f1b6da"
            ],
            [
             0.4,
             "#fde0ef"
            ],
            [
             0.5,
             "#f7f7f7"
            ],
            [
             0.6,
             "#e6f5d0"
            ],
            [
             0.7,
             "#b8e186"
            ],
            [
             0.8,
             "#7fbc41"
            ],
            [
             0.9,
             "#4d9221"
            ],
            [
             1,
             "#276419"
            ]
           ],
           "sequential": [
            [
             0,
             "#0d0887"
            ],
            [
             0.1111111111111111,
             "#46039f"
            ],
            [
             0.2222222222222222,
             "#7201a8"
            ],
            [
             0.3333333333333333,
             "#9c179e"
            ],
            [
             0.4444444444444444,
             "#bd3786"
            ],
            [
             0.5555555555555556,
             "#d8576b"
            ],
            [
             0.6666666666666666,
             "#ed7953"
            ],
            [
             0.7777777777777778,
             "#fb9f3a"
            ],
            [
             0.8888888888888888,
             "#fdca26"
            ],
            [
             1,
             "#f0f921"
            ]
           ],
           "sequentialminus": [
            [
             0,
             "#0d0887"
            ],
            [
             0.1111111111111111,
             "#46039f"
            ],
            [
             0.2222222222222222,
             "#7201a8"
            ],
            [
             0.3333333333333333,
             "#9c179e"
            ],
            [
             0.4444444444444444,
             "#bd3786"
            ],
            [
             0.5555555555555556,
             "#d8576b"
            ],
            [
             0.6666666666666666,
             "#ed7953"
            ],
            [
             0.7777777777777778,
             "#fb9f3a"
            ],
            [
             0.8888888888888888,
             "#fdca26"
            ],
            [
             1,
             "#f0f921"
            ]
           ]
          },
          "colorway": [
           "#636efa",
           "#EF553B",
           "#00cc96",
           "#ab63fa",
           "#FFA15A",
           "#19d3f3",
           "#FF6692",
           "#B6E880",
           "#FF97FF",
           "#FECB52"
          ],
          "font": {
           "color": "#2a3f5f"
          },
          "geo": {
           "bgcolor": "white",
           "lakecolor": "white",
           "landcolor": "#E5ECF6",
           "showlakes": true,
           "showland": true,
           "subunitcolor": "white"
          },
          "hoverlabel": {
           "align": "left"
          },
          "hovermode": "closest",
          "mapbox": {
           "style": "light"
          },
          "paper_bgcolor": "white",
          "plot_bgcolor": "#E5ECF6",
          "polar": {
           "angularaxis": {
            "gridcolor": "white",
            "linecolor": "white",
            "ticks": ""
           },
           "bgcolor": "#E5ECF6",
           "radialaxis": {
            "gridcolor": "white",
            "linecolor": "white",
            "ticks": ""
           }
          },
          "scene": {
           "xaxis": {
            "backgroundcolor": "#E5ECF6",
            "gridcolor": "white",
            "gridwidth": 2,
            "linecolor": "white",
            "showbackground": true,
            "ticks": "",
            "zerolinecolor": "white"
           },
           "yaxis": {
            "backgroundcolor": "#E5ECF6",
            "gridcolor": "white",
            "gridwidth": 2,
            "linecolor": "white",
            "showbackground": true,
            "ticks": "",
            "zerolinecolor": "white"
           },
           "zaxis": {
            "backgroundcolor": "#E5ECF6",
            "gridcolor": "white",
            "gridwidth": 2,
            "linecolor": "white",
            "showbackground": true,
            "ticks": "",
            "zerolinecolor": "white"
           }
          },
          "shapedefaults": {
           "line": {
            "color": "#2a3f5f"
           }
          },
          "ternary": {
           "aaxis": {
            "gridcolor": "white",
            "linecolor": "white",
            "ticks": ""
           },
           "baxis": {
            "gridcolor": "white",
            "linecolor": "white",
            "ticks": ""
           },
           "bgcolor": "#E5ECF6",
           "caxis": {
            "gridcolor": "white",
            "linecolor": "white",
            "ticks": ""
           }
          },
          "title": {
           "x": 0.05
          },
          "xaxis": {
           "automargin": true,
           "gridcolor": "white",
           "linecolor": "white",
           "ticks": "",
           "title": {
            "standoff": 15
           },
           "zerolinecolor": "white",
           "zerolinewidth": 2
          },
          "yaxis": {
           "automargin": true,
           "gridcolor": "white",
           "linecolor": "white",
           "ticks": "",
           "title": {
            "standoff": 15
           },
           "zerolinecolor": "white",
           "zerolinewidth": 2
          }
         }
        },
        "title": {
         "text": "HEE Comparison: 2020 vs 2022"
        },
        "width": 800,
        "xaxis": {
         "anchor": "y",
         "domain": [
          0,
          1
         ],
         "range": [
          0,
          0.2651039953334775
         ],
         "title": {
          "text": "HEE in 2020"
         }
        },
        "yaxis": {
         "anchor": "x",
         "domain": [
          0,
          1
         ],
         "range": [
          0,
          0.2651039953334775
         ],
         "title": {
          "text": "HEE in 2022"
         }
        }
       }
      }
     },
     "metadata": {},
     "output_type": "display_data"
    }
   ],
   "source": [
    "# !pip install plotly\n",
    "\n",
    "import pandas as pd\n",
    "import plotly.express as px\n",
    "import os\n",
    "\n",
    "# === Step 1: Load data ===\n",
    "df = pd.read_csv(\"../data/processed/hep_hee_results_with_region.csv\")\n",
    "\n",
    "# === Step 2: Filter for 2020 and 2022 ===\n",
    "df_filtered = df[df[\"Year\"].isin([2020, 2022])]\n",
    "df_wide = df_filtered.pivot(index=\"Country\", columns=\"Year\", values=[\"HEP\", \"HEE\"]).dropna()\n",
    "df_wide.columns = [f\"{metric}_{year}\" for metric, year in df_wide.columns]\n",
    "df_wide = df_wide.reset_index()\n",
    "\n",
    "# Merge back region info\n",
    "regions = df[[\"Country\", \"Region\"]].drop_duplicates()\n",
    "df_wide = df_wide.merge(regions, on=\"Country\", how=\"left\")\n",
    "\n",
    "# === Step 3: Plot HEP ===\n",
    "fig_hep = px.scatter(\n",
    "    df_wide,\n",
    "    x=\"HEP_2020\",\n",
    "    y=\"HEP_2022\",\n",
    "    text=\"Country\",\n",
    "    color=\"Country\",  # Unique color per country\n",
    "    hover_name=\"Country\",\n",
    "    title=\"HEP Comparison: 2020 vs 2022\",\n",
    "    labels={\"HEP_2020\": \"HEP in 2020\", \"HEP_2022\": \"HEP in 2022\"},\n",
    "    width=800,\n",
    "    height=600\n",
    ")\n",
    "fig_hep.add_shape(type='line', x0=0, y0=0, x1=1, y1=1, line=dict(dash=\"dash\", color=\"gray\"))\n",
    "fig_hep.update_traces(marker=dict(size=10), textposition='top center')\n",
    "fig_hep.show()\n",
    "\n",
    "# === Step 4: Plot HEE (with dynamic axis scaling) ===\n",
    "hee_min = min(df_wide[\"HEE_2020\"].min(), df_wide[\"HEE_2022\"].min())\n",
    "hee_max = max(df_wide[\"HEE_2020\"].max(), df_wide[\"HEE_2022\"].max())\n",
    "hee_min_padded = max(0, hee_min - 0.1)\n",
    "hee_max_padded = hee_max + 0.1\n",
    "\n",
    "fig_hee = px.scatter(\n",
    "    df_wide,\n",
    "    x=\"HEE_2020\",\n",
    "    y=\"HEE_2022\",\n",
    "    text=\"Country\",\n",
    "    color=\"Country\",\n",
    "    hover_name=\"Country\",\n",
    "    title=\"HEE Comparison: 2020 vs 2022\",\n",
    "    labels={\"HEE_2020\": \"HEE in 2020\", \"HEE_2022\": \"HEE in 2022\"},\n",
    "    width=800,\n",
    "    height=600\n",
    ")\n",
    "fig_hee.add_shape(\n",
    "    type='line',\n",
    "    x0=hee_min_padded,\n",
    "    y0=hee_min_padded,\n",
    "    x1=hee_max_padded,\n",
    "    y1=hee_max_padded,\n",
    "    line=dict(dash=\"dash\", color=\"gray\")\n",
    ")\n",
    "fig_hee.update_traces(marker=dict(size=10), textposition='top center')\n",
    "fig_hee.update_layout(\n",
    "    xaxis=dict(range=[hee_min_padded, hee_max_padded]),\n",
    "    yaxis=dict(range=[hee_min_padded, hee_max_padded])\n",
    ")\n",
    "fig_hee.show()\n"
   ]
  }
 ],
 "metadata": {
  "kernelspec": {
   "display_name": "Python 3",
   "language": "python",
   "name": "python3"
  },
  "language_info": {
   "codemirror_mode": {
    "name": "ipython",
    "version": 3
   },
   "file_extension": ".py",
   "mimetype": "text/x-python",
   "name": "python",
   "nbconvert_exporter": "python",
   "pygments_lexer": "ipython3",
   "version": "3.11.9"
  }
 },
 "nbformat": 4,
 "nbformat_minor": 5
}
