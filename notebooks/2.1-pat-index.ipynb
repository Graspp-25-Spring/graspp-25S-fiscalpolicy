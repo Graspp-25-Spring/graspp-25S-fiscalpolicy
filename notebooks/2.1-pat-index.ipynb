{
 "cells": [
  {
   "cell_type": "markdown",
   "id": "58e79ad3",
   "metadata": {},
   "source": [
    "## Index Construction\n",
    "This section develops a framework to evaluate how efficiently countries convert public health expenditure into improved health outcomes. The goal is to compare countries based on their health system performance relative to spending, while accounting for demographic and economic context. Inputs:\n",
    "\n",
    "Health expenditure (per capita or % of GDP)\n",
    "\n",
    "Outputs (Health Outcomes):\n",
    "\n",
    "Life expectancy at birth\n",
    "\n",
    "Infant mortality rate\n",
    "\n",
    "Under-5 mortality rate\n",
    "\n",
    "(Optional: Maternal mortality, DALYs, HALE)\n",
    "\n",
    "Contextual Variables:\n",
    "\n",
    "GDP per capita (economic capacity)\n",
    "\n",
    "Dependency ratio (aging burden)\n",
    "\n",
    "Population size or density (scalability)\n",
    "\n",
    "Urbanization rate (access to care)\n",
    "\n",
    "Efficiency Score:\n",
    "We compute a composite health outcome score using normalized health indicators, then divide it by health spending to obtain an efficiency ratio. This can be adjusted for contextual variables using regression, DEA, or custom weighting.\n",
    "\n",
    "Interpretation: A higher score reflects greater efficiency—achieving better health outcomes with less spending, adjusted for demographic and income differences.\n",
    "\n",
    "try to replicate the model following ECB paper: https://www.ecb.europa.eu/pub/pdf/scpwps/ecbwp242.pdf"
   ]
  },
  {
   "cell_type": "markdown",
   "id": "63d72379",
   "metadata": {},
   "source": [
    "## Public Sector Performance (PSP) Measurement: PSP Index → This index aggregates seven sub-indicators that reflect the outcomes of public sector activity: In the original paper, the PSP index is constructed from 7 sub-indicators (education, health, etc.), each normalized on a 0–1 scale across countries\n",
    "\n",
    "Education\n",
    "Health\n",
    "Public infrastructure\n",
    "Economic stability\n",
    "Economic performance\n",
    "Income distribution\n",
    "Administrative performance\n",
    "\n",
    "\n",
    "\n",
    "## Public Sector Efficiency (PSE) Measurement: PSE Index → This index relates the PSP score to government input, usually government expenditure (either total or specific functional spending). PSE = PSP/Government Spending"
   ]
  },
  {
   "cell_type": "code",
   "execution_count": 8,
   "id": "a841ac0c",
   "metadata": {},
   "outputs": [
    {
     "data": {
      "text/html": [
       "<div>\n",
       "<style scoped>\n",
       "    .dataframe tbody tr th:only-of-type {\n",
       "        vertical-align: middle;\n",
       "    }\n",
       "\n",
       "    .dataframe tbody tr th {\n",
       "        vertical-align: top;\n",
       "    }\n",
       "\n",
       "    .dataframe thead th {\n",
       "        text-align: right;\n",
       "    }\n",
       "</style>\n",
       "<table border=\"1\" class=\"dataframe\">\n",
       "  <thead>\n",
       "    <tr style=\"text-align: right;\">\n",
       "      <th></th>\n",
       "      <th>Country</th>\n",
       "      <th>Year</th>\n",
       "      <th>PSP</th>\n",
       "      <th>PSE</th>\n",
       "    </tr>\n",
       "  </thead>\n",
       "  <tbody>\n",
       "    <tr>\n",
       "      <th>2</th>\n",
       "      <td>Andorra</td>\n",
       "      <td>2002</td>\n",
       "      <td>0.403857</td>\n",
       "      <td>0.052751</td>\n",
       "    </tr>\n",
       "    <tr>\n",
       "      <th>4</th>\n",
       "      <td>Andorra</td>\n",
       "      <td>2004</td>\n",
       "      <td>0.437972</td>\n",
       "      <td>0.064100</td>\n",
       "    </tr>\n",
       "    <tr>\n",
       "      <th>5</th>\n",
       "      <td>Andorra</td>\n",
       "      <td>2005</td>\n",
       "      <td>0.455188</td>\n",
       "      <td>0.062873</td>\n",
       "    </tr>\n",
       "    <tr>\n",
       "      <th>6</th>\n",
       "      <td>Andorra</td>\n",
       "      <td>2006</td>\n",
       "      <td>0.475687</td>\n",
       "      <td>0.065974</td>\n",
       "    </tr>\n",
       "    <tr>\n",
       "      <th>7</th>\n",
       "      <td>Andorra</td>\n",
       "      <td>2007</td>\n",
       "      <td>0.487495</td>\n",
       "      <td>0.069363</td>\n",
       "    </tr>\n",
       "  </tbody>\n",
       "</table>\n",
       "</div>"
      ],
      "text/plain": [
       "   Country  Year       PSP       PSE\n",
       "2  Andorra  2002  0.403857  0.052751\n",
       "4  Andorra  2004  0.437972  0.064100\n",
       "5  Andorra  2005  0.455188  0.062873\n",
       "6  Andorra  2006  0.475687  0.065974\n",
       "7  Andorra  2007  0.487495  0.069363"
      ]
     },
     "execution_count": 8,
     "metadata": {},
     "output_type": "execute_result"
    }
   ],
   "source": [
    "import pandas as pd\n",
    "import numpy as np\n",
    "\n",
    "# Load merged dataset\n",
    "df = pd.read_csv(\"../data/processed/merged_all_data.csv\")\n",
    "\n",
    "# Drop rows with missing key data\n",
    "df = df.dropna(subset=[\"Education_perGDP\", \"Health_Expenditure\", \"GDP_percapita\", \"Dependency_Ratio\"])\n",
    "\n",
    "# Normalize selected indicators using min-max scaling\n",
    "def normalize(series):\n",
    "    return (series - series.min()) / (series.max() - series.min())\n",
    "\n",
    "df[\"edu_index\"] = normalize(df[\"Education_perGDP\"])\n",
    "df[\"health_index\"] = normalize(df[\"Health_Expenditure\"])\n",
    "df[\"gdp_index\"] = normalize(df[\"GDP_percapita\"])\n",
    "df[\"demo_index\"] = 1 - normalize(df[\"Dependency_Ratio\"])  # inverse: higher burden = lower performance\n",
    "\n",
    "# Construct PSP as average of the normalized indices\n",
    "df[\"PSP\"] = df[[\"edu_index\", \"health_index\", \"gdp_index\", \"demo_index\"]].mean(axis=1)\n",
    "\n",
    "# Compute total government spending (as % of GDP)\n",
    "df[\"gov_spending\"] = df[\"Education_perGDP\"] + df[\"Health_Expenditure\"]\n",
    "\n",
    "# Construct PSE = PSP / Government Spending\n",
    "df[\"PSE\"] = df[\"PSP\"] / df[\"gov_spending\"]\n",
    "\n",
    "# Save result\n",
    "df.to_csv(\"../data/processed/psp_pse_results.csv\", index=False)\n",
    "\n",
    "# Display sample\n",
    "df[[\"Country\", \"Year\", \"PSP\", \"PSE\"]].head()\n"
   ]
  },
  {
   "cell_type": "markdown",
   "id": "b9fed85b",
   "metadata": {},
   "source": [
    "## integrate R&D and contribution revenue into a broader index"
   ]
  },
  {
   "cell_type": "code",
   "execution_count": 16,
   "id": "776984c4",
   "metadata": {},
   "outputs": [
    {
     "data": {
      "text/html": [
       "<div>\n",
       "<style scoped>\n",
       "    .dataframe tbody tr th:only-of-type {\n",
       "        vertical-align: middle;\n",
       "    }\n",
       "\n",
       "    .dataframe tbody tr th {\n",
       "        vertical-align: top;\n",
       "    }\n",
       "\n",
       "    .dataframe thead th {\n",
       "        text-align: right;\n",
       "    }\n",
       "</style>\n",
       "<table border=\"1\" class=\"dataframe\">\n",
       "  <thead>\n",
       "    <tr style=\"text-align: right;\">\n",
       "      <th></th>\n",
       "      <th>Country</th>\n",
       "      <th>Year</th>\n",
       "      <th>PSP</th>\n",
       "      <th>PSE</th>\n",
       "    </tr>\n",
       "  </thead>\n",
       "  <tbody>\n",
       "    <tr>\n",
       "      <th>21</th>\n",
       "      <td>Argentina</td>\n",
       "      <td>2000</td>\n",
       "      <td>0.336549</td>\n",
       "      <td>0.026292</td>\n",
       "    </tr>\n",
       "    <tr>\n",
       "      <th>22</th>\n",
       "      <td>Argentina</td>\n",
       "      <td>2001</td>\n",
       "      <td>0.344162</td>\n",
       "      <td>0.026062</td>\n",
       "    </tr>\n",
       "    <tr>\n",
       "      <th>23</th>\n",
       "      <td>Argentina</td>\n",
       "      <td>2002</td>\n",
       "      <td>0.287644</td>\n",
       "      <td>0.025208</td>\n",
       "    </tr>\n",
       "    <tr>\n",
       "      <th>24</th>\n",
       "      <td>Argentina</td>\n",
       "      <td>2003</td>\n",
       "      <td>0.261170</td>\n",
       "      <td>0.025041</td>\n",
       "    </tr>\n",
       "    <tr>\n",
       "      <th>25</th>\n",
       "      <td>Argentina</td>\n",
       "      <td>2004</td>\n",
       "      <td>0.268319</td>\n",
       "      <td>0.025041</td>\n",
       "    </tr>\n",
       "  </tbody>\n",
       "</table>\n",
       "</div>"
      ],
      "text/plain": [
       "      Country  Year       PSP       PSE\n",
       "21  Argentina  2000  0.336549  0.026292\n",
       "22  Argentina  2001  0.344162  0.026062\n",
       "23  Argentina  2002  0.287644  0.025208\n",
       "24  Argentina  2003  0.261170  0.025041\n",
       "25  Argentina  2004  0.268319  0.025041"
      ]
     },
     "execution_count": 16,
     "metadata": {},
     "output_type": "execute_result"
    }
   ],
   "source": [
    "import pandas as pd\n",
    "import numpy as np\n",
    "\n",
    "# Load data\n",
    "df = pd.read_csv(\"../data/processed/merged_all_data.csv\")\n",
    "\n",
    "# Drop rows with missing values in any key indicator\n",
    "df = df.dropna(subset=[\n",
    "    \"Education_perGDP\", \"Health_Expenditure\", \"GDP_percapita\", \"Dependency_Ratio\",\n",
    "    \"RD_Expenditure\", \"Contribution_revenue\"\n",
    "])\n",
    "\n",
    "# Normalize all performance indicators (higher is better)\n",
    "def normalize(series):\n",
    "    return (series - series.min()) / (series.max() - series.min())\n",
    "\n",
    "df[\"edu_index\"] = normalize(df[\"Education_perGDP\"])\n",
    "df[\"health_index\"] = normalize(df[\"Health_Expenditure\"])\n",
    "df[\"gdp_index\"] = normalize(df[\"GDP_percapita\"])\n",
    "df[\"demo_index\"] = 1 - normalize(df[\"Dependency_Ratio\"])  # reverse scale\n",
    "df[\"rd_index\"] = normalize(df[\"RD_Expenditure\"])\n",
    "df[\"contrib_index\"] = normalize(df[\"Contribution_revenue\"])\n",
    "\n",
    "# New PSP: average of all six indicators\n",
    "df[\"PSP\"] = df[[\n",
    "    \"edu_index\", \"health_index\", \"gdp_index\",\n",
    "    \"demo_index\", \"rd_index\", \"contrib_index\"\n",
    "]].mean(axis=1)\n",
    "\n",
    "# Government spending: education + health\n",
    "df[\"gov_spending\"] = df[\"Education_perGDP\"] + df[\"Health_Expenditure\"]\n",
    "\n",
    "# PSE: efficiency = PSP / spending\n",
    "df[\"PSE\"] = df[\"PSP\"] / df[\"gov_spending\"]\n",
    "\n",
    "# Save results\n",
    "df.to_csv(\"../data/processed/psp_pse_results_extended.csv\", index=False)\n",
    "\n",
    "# Show results\n",
    "df[[\"Country\", \"Year\", \"PSP\", \"PSE\"]].head()\n"
   ]
  },
  {
   "cell_type": "code",
   "execution_count": 18,
   "id": "124dbc76",
   "metadata": {},
   "outputs": [
    {
     "data": {
      "text/html": [
       "<div>\n",
       "<style scoped>\n",
       "    .dataframe tbody tr th:only-of-type {\n",
       "        vertical-align: middle;\n",
       "    }\n",
       "\n",
       "    .dataframe tbody tr th {\n",
       "        vertical-align: top;\n",
       "    }\n",
       "\n",
       "    .dataframe thead th {\n",
       "        text-align: right;\n",
       "    }\n",
       "</style>\n",
       "<table border=\"1\" class=\"dataframe\">\n",
       "  <thead>\n",
       "    <tr style=\"text-align: right;\">\n",
       "      <th></th>\n",
       "      <th>Country</th>\n",
       "      <th>Year</th>\n",
       "      <th>PSP_4</th>\n",
       "      <th>PSE_4</th>\n",
       "      <th>PSP_6</th>\n",
       "      <th>PSE_6</th>\n",
       "    </tr>\n",
       "  </thead>\n",
       "  <tbody>\n",
       "    <tr>\n",
       "      <th>21</th>\n",
       "      <td>Argentina</td>\n",
       "      <td>2000</td>\n",
       "      <td>0.376356</td>\n",
       "      <td>0.029402</td>\n",
       "      <td>0.336549</td>\n",
       "      <td>0.026292</td>\n",
       "    </tr>\n",
       "    <tr>\n",
       "      <th>22</th>\n",
       "      <td>Argentina</td>\n",
       "      <td>2001</td>\n",
       "      <td>0.391219</td>\n",
       "      <td>0.029625</td>\n",
       "      <td>0.344162</td>\n",
       "      <td>0.026062</td>\n",
       "    </tr>\n",
       "    <tr>\n",
       "      <th>23</th>\n",
       "      <td>Argentina</td>\n",
       "      <td>2002</td>\n",
       "      <td>0.322529</td>\n",
       "      <td>0.028266</td>\n",
       "      <td>0.287644</td>\n",
       "      <td>0.025208</td>\n",
       "    </tr>\n",
       "    <tr>\n",
       "      <th>24</th>\n",
       "      <td>Argentina</td>\n",
       "      <td>2003</td>\n",
       "      <td>0.296572</td>\n",
       "      <td>0.028436</td>\n",
       "      <td>0.261170</td>\n",
       "      <td>0.025041</td>\n",
       "    </tr>\n",
       "    <tr>\n",
       "      <th>25</th>\n",
       "      <td>Argentina</td>\n",
       "      <td>2004</td>\n",
       "      <td>0.306263</td>\n",
       "      <td>0.028582</td>\n",
       "      <td>0.268319</td>\n",
       "      <td>0.025041</td>\n",
       "    </tr>\n",
       "  </tbody>\n",
       "</table>\n",
       "</div>"
      ],
      "text/plain": [
       "      Country  Year     PSP_4     PSE_4     PSP_6     PSE_6\n",
       "21  Argentina  2000  0.376356  0.029402  0.336549  0.026292\n",
       "22  Argentina  2001  0.391219  0.029625  0.344162  0.026062\n",
       "23  Argentina  2002  0.322529  0.028266  0.287644  0.025208\n",
       "24  Argentina  2003  0.296572  0.028436  0.261170  0.025041\n",
       "25  Argentina  2004  0.306263  0.028582  0.268319  0.025041"
      ]
     },
     "execution_count": 18,
     "metadata": {},
     "output_type": "execute_result"
    }
   ],
   "source": [
    "import pandas as pd\n",
    "import numpy as np\n",
    "\n",
    "# Load merged dataset\n",
    "df = pd.read_csv(\"../data/processed/merged_all_data.csv\")\n",
    "\n",
    "# Drop rows with missing values in any relevant indicators\n",
    "df = df.dropna(subset=[\n",
    "    \"Education_perGDP\", \"Health_Expenditure\", \"GDP_percapita\", \"Dependency_Ratio\",\n",
    "    \"RD_Expenditure\", \"Contribution_revenue\"\n",
    "])\n",
    "\n",
    "# Normalize all indicators (min-max)\n",
    "def normalize(series):\n",
    "    return (series - series.min()) / (series.max() - series.min())\n",
    "\n",
    "# Basic 4-index inputs\n",
    "df[\"edu_index\"] = normalize(df[\"Education_perGDP\"])\n",
    "df[\"health_index\"] = normalize(df[\"Health_Expenditure\"])\n",
    "df[\"gdp_index\"] = normalize(df[\"GDP_percapita\"])\n",
    "df[\"demo_index\"] = 1 - normalize(df[\"Dependency_Ratio\"])  # inverse\n",
    "\n",
    "# Additional 2 indicators\n",
    "df[\"rd_index\"] = normalize(df[\"RD_Expenditure\"])\n",
    "df[\"contrib_index\"] = normalize(df[\"Contribution_revenue\"])\n",
    "\n",
    "# Construct PSP_4 and PSP_6\n",
    "df[\"PSP_4\"] = df[[\"edu_index\", \"health_index\", \"gdp_index\", \"demo_index\"]].mean(axis=1)\n",
    "df[\"PSP_6\"] = df[[\"edu_index\", \"health_index\", \"gdp_index\", \"demo_index\", \"rd_index\", \"contrib_index\"]].mean(axis=1)\n",
    "\n",
    "# Government spending (inputs for PSE): education + health\n",
    "df[\"gov_spending\"] = df[\"Education_perGDP\"] + df[\"Health_Expenditure\"]\n",
    "\n",
    "# Construct PSE_4 and PSE_6\n",
    "df[\"PSE_4\"] = df[\"PSP_4\"] / df[\"gov_spending\"]\n",
    "df[\"PSE_6\"] = df[\"PSP_6\"] / df[\"gov_spending\"]\n",
    "\n",
    "# Save results\n",
    "df.to_csv(\"../data/processed/psp_pse_results_4_and_6.csv\", index=False)\n",
    "\n",
    "# Display results\n",
    "df[[\"Country\", \"Year\", \"PSP_4\", \"PSE_4\", \"PSP_6\", \"PSE_6\"]].head()\n"
   ]
  },
  {
   "cell_type": "code",
   "execution_count": 20,
   "id": "9df46951",
   "metadata": {},
   "outputs": [
    {
     "data": {
      "image/png": "[encoded data removed]",
      "text/plain": [
       "<Figure size 800x600 with 1 Axes>"
      ]
     },
     "metadata": {},
     "output_type": "display_data"
    }
   ],
   "source": [
    "import matplotlib.pyplot as plt\n",
    "import pandas as pd\n",
    "\n",
    "# Load the dataset with PSP_4 and PSP_6\n",
    "df = pd.read_csv(\"../data/processed/psp_pse_results_4_and_6.csv\")\n",
    "\n",
    "# Drop rows with missing PSP scores\n",
    "df_plot = df.dropna(subset=[\"PSP_4\", \"PSP_6\", \"Country\"])\n",
    "\n",
    "# Scatter plot\n",
    "plt.figure(figsize=(8, 6))\n",
    "plt.scatter(df_plot[\"PSP_4\"], df_plot[\"PSP_6\"], alpha=0.7)\n",
    "\n",
    "# Identity line\n",
    "plt.plot([0, 1], [0, 1], linestyle='--', color='gray')\n",
    "\n",
    "# Labels and title\n",
    "plt.xlabel(\"PSP (4-Index)\")\n",
    "plt.ylabel(\"PSP (6-Index)\")\n",
    "plt.title(\"Comparison of PSP (4 vs 6 Sub-Indicators)\")\n",
    "\n",
    "# Annotate countries with largest shifts\n",
    "df_plot[\"diff\"] = (df_plot[\"PSP_6\"] - df_plot[\"PSP_4\"]).abs()\n",
    "top_diff = df_plot.sort_values(by=\"diff\", ascending=False).head(5)\n",
    "\n",
    "for _, row in top_diff.iterrows():\n",
    "    plt.annotate(row[\"Country\"], (row[\"PSP_4\"], row[\"PSP_6\"]), fontsize=8)\n",
    "\n",
    "plt.grid(True)\n",
    "plt.tight_layout()\n",
    "plt.show()\n"
   ]
  },
  {
   "cell_type": "markdown",
   "id": "1bcfa6ac",
   "metadata": {},
   "source": [
    "These countries improve their PSP score when innovation and fiscal capacity are included.\n",
    "\n",
    "Interpretation: They perform strongly in R&D and/or contribution revenue, which enhances their overall public sector quality under a broader metric."
   ]
  },
  {
   "cell_type": "code",
   "execution_count": 22,
   "id": "b8738d39",
   "metadata": {},
   "outputs": [
    {
     "data": {
      "image/png": "[encoded data removed]",
      "text/plain": [
       "<Figure size 800x600 with 1 Axes>"
      ]
     },
     "metadata": {},
     "output_type": "display_data"
    }
   ],
   "source": [
    "import matplotlib.pyplot as plt\n",
    "import pandas as pd\n",
    "\n",
    "# Load the dataset with PSE_4 and PSE_6\n",
    "df = pd.read_csv(\"../data/processed/psp_pse_results_4_and_6.csv\")\n",
    "\n",
    "# Drop rows with missing PSE scores\n",
    "df_plot = df.dropna(subset=[\"PSE_4\", \"PSE_6\", \"Country\"])\n",
    "\n",
    "# Scatter plot\n",
    "plt.figure(figsize=(8, 6))\n",
    "plt.scatter(df_plot[\"PSE_4\"], df_plot[\"PSE_6\"], alpha=0.7)\n",
    "\n",
    "# Identity line\n",
    "plt.plot([0, df_plot[[\"PSE_4\", \"PSE_6\"]].max().max()], \n",
    "         [0, df_plot[[\"PSE_4\", \"PSE_6\"]].max().max()], linestyle='--', color='gray')\n",
    "\n",
    "# Labels and title\n",
    "plt.xlabel(\"PSE (4-Index Efficiency)\")\n",
    "plt.ylabel(\"PSE (6-Index Efficiency)\")\n",
    "plt.title(\"Comparison of PSE (4 vs 6 Sub-Indicators)\")\n",
    "\n",
    "# Annotate countries with largest shifts\n",
    "df_plot[\"diff\"] = (df_plot[\"PSE_6\"] - df_plot[\"PSE_4\"]).abs()\n",
    "top_diff = df_plot.sort_values(by=\"diff\", ascending=False).head(5)\n",
    "\n",
    "for _, row in top_diff.iterrows():\n",
    "    plt.annotate(row[\"Country\"], (row[\"PSE_4\"], row[\"PSE_6\"]), fontsize=8)\n",
    "\n",
    "plt.grid(True)\n",
    "plt.tight_layout()\n",
    "plt.show()\n"
   ]
  },
  {
   "cell_type": "markdown",
   "id": "12053493",
   "metadata": {},
   "source": [
    "Points above the diagonal: countries appear more efficient when R&D and fiscal strength are considered.\n",
    "\n",
    "Points below the line: countries seem less efficient under broader expectations."
   ]
  },
  {
   "cell_type": "code",
   "execution_count": 25,
   "id": "a7f4a9c8",
   "metadata": {},
   "outputs": [
    {
     "data": {
      "image/png": "[encoded data removed]",
      "text/plain": [
       "<Figure size 1500x600 with 2 Axes>"
      ]
     },
     "metadata": {},
     "output_type": "display_data"
    }
   ],
   "source": [
    "import pandas as pd\n",
    "import matplotlib.pyplot as plt\n",
    "\n",
    "# Load dataset\n",
    "df = pd.read_csv(\"../data/processed/psp_pse_results_4_and_6.csv\")\n",
    "\n",
    "# Drop missing values\n",
    "df = df.dropna(subset=[\"PSP_4\", \"PSP_6\", \"PSE_4\", \"PSE_6\", \"Year\", \"Country\"])\n",
    "\n",
    "# Filter to latest year per country\n",
    "df_latest = df.sort_values(\"Year\").groupby(\"Country\").tail(1)\n",
    "\n",
    "# Calculate absolute differences for annotations\n",
    "df_latest[\"psp_diff\"] = (df_latest[\"PSP_6\"] - df_latest[\"PSP_4\"]).abs()\n",
    "df_latest[\"pse_diff\"] = (df_latest[\"PSE_6\"] - df_latest[\"PSE_4\"]).abs()\n",
    "\n",
    "# Set up figure with 2 subplots\n",
    "fig, axes = plt.subplots(1, 2, figsize=(15, 6))\n",
    "\n",
    "# --- Chart 1: PSP Comparison ---\n",
    "axes[0].scatter(df_latest[\"PSP_4\"], df_latest[\"PSP_6\"], alpha=0.7)\n",
    "axes[0].plot([0, 1], [0, 1], linestyle='--', color='gray')\n",
    "axes[0].set_xlabel(\"PSP (4-Index)\")\n",
    "axes[0].set_ylabel(\"PSP (6-Index)\")\n",
    "axes[0].set_title(\"PSP Comparison (Latest Year per Country)\")\n",
    "for _, row in df_latest.sort_values(by=\"psp_diff\", ascending=False).head(5).iterrows():\n",
    "    axes[0].annotate(f\"{row['Country']} ({int(row['Year'])})\", \n",
    "                     (row[\"PSP_4\"], row[\"PSP_6\"]), fontsize=8)\n",
    "\n",
    "# --- Chart 2: PSE Comparison ---\n",
    "max_pse = df_latest[[\"PSE_4\", \"PSE_6\"]].max().max()\n",
    "axes[1].scatter(df_latest[\"PSE_4\"], df_latest[\"PSE_6\"], alpha=0.7)\n",
    "axes[1].plot([0, max_pse], [0, max_pse], linestyle='--', color='gray')\n",
    "axes[1].set_xlabel(\"PSE (4-Index Efficiency)\")\n",
    "axes[1].set_ylabel(\"PSE (6-Index Efficiency)\")\n",
    "axes[1].set_title(\"PSE Comparison (Latest Year per Country)\")\n",
    "for _, row in df_latest.sort_values(by=\"pse_diff\", ascending=False).head(5).iterrows():\n",
    "    axes[1].annotate(f\"{row['Country']} ({int(row['Year'])})\", \n",
    "                     (row[\"PSE_4\"], row[\"PSE_6\"]), fontsize=8)\n",
    "\n",
    "# Final layout\n",
    "plt.tight_layout()\n",
    "plt.show()\n"
   ]
  },
  {
   "cell_type": "code",
   "execution_count": 7,
   "id": "2f9e9233",
   "metadata": {},
   "outputs": [
    {
     "data": {
      "application/vnd.plotly.v1+json": {
       "config": {
        "plotlyServerURL": "https://plot.ly"
       },
       "data": [
        {
         "hovertemplate": "<b>%{hovertext}</b><br><br>Year=2000<br>PSP_6=%{x}<br>PSE_6=%{y}<br>Country=%{text}<br>PSE_6_latest=%{marker.color}<extra></extra>",
         "hovertext": [
          "Argentina",
          "Canada",
          "Colombia",
          "Cyprus",
          "Czechia",
          "United Kingdom",
          "India",
          "Ireland",
          "Mexico",
          "Mongolia",
          "Netherlands",
          "Peru",
          "Romania",
          "Russian Federation",
          "Slovak Republic",
          "Thailand",
          "Ukraine",
          "Uruguay"
         ],
         "ids": [
          "Argentina",
          "Canada",
          "Colombia",
          "Cyprus",
          "Czechia",
          "United Kingdom",
          "India",
          "Ireland",
          "Mexico",
          "Mongolia",
          "Netherlands",
          "Peru",
          "Romania",
          "Russian Federation",
          "Slovak Republic",
          "Thailand",
          "Ukraine",
          "Uruguay"
         ],
         "legendgroup": "",
         "marker": {
          "color": {
           "bdata": "1TvxRg4Bnj+pgHm98IujP+lvyCjaX54/VHIb5az5oz9qZvjUzxmmP9nREJfVPqI/xNzt+DDenD9izlm1/nmnPz6GbaH/uJ4/5vX9TKKhoD+Phzd5jnqkPwbahooMZp0/5KudlkUwpD9K8CFisvGjP/ycEcPNjqU/kkWJ6WYEoz8Bimfg+YWeP/W1QGxKzp8/",
           "dtype": "f8"
          },
          "coloraxis": "coloraxis",
          "size": 8,
          "symbol": "circle"
         },
         "mode": "markers+text",
         "name": "",
         "orientation": "v",
         "showlegend": false,
         "text": [
          "Argentina",
          "Canada",
          "Colombia",
          "Cyprus",
          "Czechia",
          "United Kingdom",
          "India",
          "Ireland",
          "Mexico",
          "Mongolia",
          "Netherlands",
          "Peru",
          "Romania",
          "Russian Federation",
          "Slovak Republic",
          "Thailand",
          "Ukraine",
          "Uruguay"
         ],
         "textposition": "top center",
         "type": "scatter",
         "x": {
          "bdata": "7ymqkgOK1T8jyYpO6/jfPzYHixdTz8o/XEVtS9yq1z+y7dDJprbbP/CTaHXabNo/r3zezZASyD9rx15xJy7YP7ShtgJgPcs/PZjl8dGU0j8/KIAvVLngPyV/b8Ea+8U/rPNuRsJv0z90547k4pzVP+jBTcd3Stg/BIMFrR3L0T8spnMJDJ/XP9gB7SH0itI/",
          "dtype": "f8"
         },
         "xaxis": "x",
         "y": {
          "bdata": "OQIYQFjsmj9k9WOq9K6iPx/ZIdADc5c/j6kp+Ahjoj8c2yIsC7WnP+DvAV0r5aI/XFGQ7+TXlj/aub/MhUajPxRh95rkdJo/Yjq7nTiSmT9DfNrny8SlP2BOnMwNApc/GSsaA2b4pT9O/LBi6LilP5JBtHmuMqU/pQjPg7gJoT/tJtxOuPKjP2N65Peylpk/",
          "dtype": "f8"
         },
         "yaxis": "y"
        }
       ],
       "frames": [
        {
         "data": [
          {
           "hovertemplate": "<b>%{hovertext}</b><br><br>Year=2000<br>PSP_6=%{x}<br>PSE_6=%{y}<br>Country=%{text}<br>PSE_6_latest=%{marker.color}<extra></extra>",
           "hovertext": [
            "Argentina",
            "Canada",
            "Colombia",
            "Cyprus",
            "Czechia",
            "United Kingdom",
            "India",
            "Ireland",
            "Mexico",
            "Mongolia",
            "Netherlands",
            "Peru",
            "Romania",
            "Russian Federation",
            "Slovak Republic",
            "Thailand",
            "Ukraine",
            "Uruguay"
           ],
           "ids": [
            "Argentina",
            "Canada",
            "Colombia",
            "Cyprus",
            "Czechia",
            "United Kingdom",
            "India",
            "Ireland",
            "Mexico",
            "Mongolia",
            "Netherlands",
            "Peru",
            "Romania",
            "Russian Federation",
            "Slovak Republic",
            "Thailand",
            "Ukraine",
            "Uruguay"
           ],
           "legendgroup": "",
           "marker": {
            "color": {
             "bdata": "1TvxRg4Bnj+pgHm98IujP+lvyCjaX54/VHIb5az5oz9qZvjUzxmmP9nREJfVPqI/xNzt+DDenD9izlm1/nmnPz6GbaH/uJ4/5vX9TKKhoD+Phzd5jnqkPwbahooMZp0/5KudlkUwpD9K8CFisvGjP/ycEcPNjqU/kkWJ6WYEoz8Bimfg+YWeP/W1QGxKzp8/",
             "dtype": "f8"
            },
            "coloraxis": "coloraxis",
            "symbol": "circle"
           },
           "mode": "markers+text",
           "name": "",
           "orientation": "v",
           "showlegend": false,
           "text": [
            "Argentina",
            "Canada",
            "Colombia",
            "Cyprus",
            "Czechia",
            "United Kingdom",
            "India",
            "Ireland",
            "Mexico",
            "Mongolia",
            "Netherlands",
            "Peru",
            "Romania",
            "Russian Federation",
            "Slovak Republic",
            "Thailand",
            "Ukraine",
            "Uruguay"
           ],
           "type": "scatter",
           "x": {
            "bdata": "7ymqkgOK1T8jyYpO6/jfPzYHixdTz8o/XEVtS9yq1z+y7dDJprbbP/CTaHXabNo/r3zezZASyD9rx15xJy7YP7ShtgJgPcs/PZjl8dGU0j8/KIAvVLngPyV/b8Ea+8U/rPNuRsJv0z90547k4pzVP+jBTcd3Stg/BIMFrR3L0T8spnMJDJ/XP9gB7SH0itI/",
            "dtype": "f8"
           },
           "xaxis": "x",
           "y": {
            "bdata": "OQIYQFjsmj9k9WOq9K6iPx/ZIdADc5c/j6kp+Ahjoj8c2yIsC7WnP+DvAV0r5aI/XFGQ7+TXlj/aub/MhUajPxRh95rkdJo/Yjq7nTiSmT9DfNrny8SlP2BOnMwNApc/GSsaA2b4pT9O/LBi6LilP5JBtHmuMqU/pQjPg7gJoT/tJtxOuPKjP2N65Peylpk/",
            "dtype": "f8"
           },
           "yaxis": "y"
          }
         ],
         "name": "2000"
        },
        {
         "data": [
          {
           "hovertemplate": "<b>%{hovertext}</b><br><br>Year=2001<br>PSP_6=%{x}<br>PSE_6=%{y}<br>Country=%{text}<br>PSE_6_latest=%{marker.color}<extra></extra>",
           "hovertext": [
            "Argentina",
            "Canada",
            "Cyprus",
            "Czechia",
            "United Kingdom",
            "Greece",
            "Indonesia",
            "Ireland",
            "Iran, Islamic Rep.",
            "Netherlands",
            "New Zealand",
            "Peru",
            "Romania",
            "Russian Federation",
            "Slovak Republic",
            "Thailand",
            "Tajikistan",
            "Ukraine"
           ],
           "ids": [
            "Argentina",
            "Canada",
            "Cyprus",
            "Czechia",
            "United Kingdom",
            "Greece",
            "Indonesia",
            "Ireland",
            "Iran, Islamic Rep.",
            "Netherlands",
            "New Zealand",
            "Peru",
            "Romania",
            "Russian Federation",
            "Slovak Republic",
            "Thailand",
            "Tajikistan",
            "Ukraine"
           ],
           "legendgroup": "",
           "marker": {
            "color": {
             "bdata": "1TvxRg4Bnj+pgHm98IujP1RyG+Ws+aM/amb41M8Zpj/Z0RCX1T6iP6OCdF3aZqE/2o3WnszTmz9izlm1/nmnP+Gl4fwFT6E/j4c3eY56pD8XXbP28FOgPwbahooMZp0/5KudlkUwpD9K8CFisvGjP/ycEcPNjqU/kkWJ6WYEoz+j7Kkpw9+QPwGKZ+D5hZ4/",
             "dtype": "f8"
            },
            "coloraxis": "coloraxis",
            "symbol": "circle"
           },
           "mode": "markers+text",
           "name": "",
           "orientation": "v",
           "showlegend": false,
           "text": [
            "Argentina",
            "Canada",
            "Cyprus",
            "Czechia",
            "United Kingdom",
            "Greece",
            "Indonesia",
            "Ireland",
            "Iran, Islamic Rep.",
            "Netherlands",
            "New Zealand",
            "Peru",
            "Romania",
            "Russian Federation",
            "Slovak Republic",
            "Thailand",
            "Tajikistan",
            "Ukraine"
           ],
           "type": "scatter",
           "x": {
            "bdata": "J8u5MsEG1j8LjWtyRAjgP0QUrfnDKtg/Qd36nSb22z+rqR0Yu+TaP23mZ5kFydc/Tkuu0SLavz/RB95dOhXZP9NUSK11TNE/PNPfRmTF4D8hpnPKyEPZP6eUREaTV8Y/vQdxcTe31D/ARTL85CnWPyj9OoM6MNk/VvWa6SLq0D+7MzAPLDG6PxFy4w4GJNo/",
            "dtype": "f8"
           },
           "xaxis": "x",
           "y": {
            "bdata": "BOCx0Pyvmj8ALolzi96iP/DE1oQMfqI/K7RPaPxFpz/RDF5O2ZeiP8wrjyTowqA/2o3WnszTmz/ictodqSOjP/YEyW2D+p0/ji/pd/AHpT9yVUJq3ZacPxlM2zpvCZc/+PC4uHSvpT9lUp29zTylP0ingRJ+vqU/Pdx0UjFAoT/oLCbIDyGOP4bJad2QFqQ/",
            "dtype": "f8"
           },
           "yaxis": "y"
          }
         ],
         "name": "2001"
        },
        {
         "data": [
          {
           "hovertemplate": "<b>%{hovertext}</b><br><br>Year=2002<br>PSP_6=%{x}<br>PSE_6=%{y}<br>Country=%{text}<br>PSE_6_latest=%{marker.color}<extra></extra>",
           "hovertext": [
            "Argentina",
            "Canada",
            "Cyprus",
            "Czechia",
            "United Kingdom",
            "Ireland",
            "Iran, Islamic Rep.",
            "Mongolia",
            "Netherlands",
            "Peru",
            "Romania",
            "Russian Federation",
            "Slovak Republic",
            "Thailand",
            "Tunisia",
            "Ukraine",
            "Uruguay"
           ],
           "ids": [
            "Argentina",
            "Canada",
            "Cyprus",
            "Czechia",
            "United Kingdom",
            "Ireland",
            "Iran, Islamic Rep.",
            "Mongolia",
            "Netherlands",
            "Peru",
            "Romania",
            "Russian Federation",
            "Slovak Republic",
            "Thailand",
            "Tunisia",
            "Ukraine",
            "Uruguay"
           ],
           "legendgroup": "",
           "marker": {
            "color": {
             "bdata": "1TvxRg4Bnj+pgHm98IujP1RyG+Ws+aM/amb41M8Zpj/Z0RCX1T6iP2LOWbX+eac/4aXh/AVPoT/m9f1MoqGgP4+HN3mOeqQ/BtqGigxmnT/kq52WRTCkP0rwIWKy8aM//JwRw82OpT+SRYnpZgSjPxmc61orlaE/AYpn4PmFnj/1tUBsSs6fPw==",
             "dtype": "f8"
            },
            "coloraxis": "coloraxis",
            "symbol": "circle"
           },
           "mode": "markers+text",
           "name": "",
           "orientation": "v",
           "showlegend": false,
           "text": [
            "Argentina",
            "Canada",
            "Cyprus",
            "Czechia",
            "United Kingdom",
            "Ireland",
            "Iran, Islamic Rep.",
            "Mongolia",
            "Netherlands",
            "Peru",
            "Romania",
            "Russian Federation",
            "Slovak Republic",
            "Thailand",
            "Tunisia",
            "Ukraine",
            "Uruguay"
           ],
           "type": "scatter",
           "x": {
            "bdata": "FQ29VsFo0j+9I5824lPgPxYRous8ztk/s7kQi5Rb3T9EUnLObLLcPzuj6a1pNto/3QYWms+p0T90HZ/NSc7WPwvBr9TwJ+E/Lx4QheIxxj96PNioSD/VP2943JCgZto/qE4ouCKU2j+9xB4ia77OP9oKS+5/8NU/6HFT5a5C3D+yJtpB+SnRPw==",
            "dtype": "f8"
           },
           "xaxis": "x",
           "y": {
            "bdata": "5cxEDjjQmT+tUO7wrNaiP5zb2eDdb6I/zfjY5qcjpz/VjU2WMleiP/oo0zSDdKM/+mJE/X/unj9WVSQoxLmcP6q80uCoZqQ/uWgFFuvhlj9WekpYtgilP4kXupSmkqY/L46D/BbMpT9qh0HpqxShPyJWmENGFqA/JJIVBkfHoz+VLCcOCPWWPw==",
            "dtype": "f8"
           },
           "yaxis": "y"
          }
         ],
         "name": "2002"
        },
        {
         "data": [
          {
           "hovertemplate": "<b>%{hovertext}</b><br><br>Year=2003<br>PSP_6=%{x}<br>PSE_6=%{y}<br>Country=%{text}<br>PSE_6_latest=%{marker.color}<extra></extra>",
           "hovertext": [
            "Argentina",
            "Colombia",
            "Cyprus",
            "Czechia",
            "United Kingdom",
            "Greece",
            "India",
            "Ireland",
            "Iran, Islamic Rep.",
            "Netherlands",
            "New Zealand",
            "Peru",
            "Romania",
            "Russian Federation",
            "Slovak Republic",
            "Thailand",
            "Tajikistan",
            "Tunisia",
            "Ukraine"
           ],
           "ids": [
            "Argentina",
            "Colombia",
            "Cyprus",
            "Czechia",
            "United Kingdom",
            "Greece",
            "India",
            "Ireland",
            "Iran, Islamic Rep.",
            "Netherlands",
            "New Zealand",
            "Peru",
            "Romania",
            "Russian Federation",
            "Slovak Republic",
            "Thailand",
            "Tajikistan",
            "Tunisia",
            "Ukraine"
           ],
           "legendgroup": "",
           "marker": {
            "color": {
             "bdata": "1TvxRg4Bnj/pb8go2l+eP1RyG+Ws+aM/amb41M8Zpj/Z0RCX1T6iP6OCdF3aZqE/xNzt+DDenD9izlm1/nmnP+Gl4fwFT6E/j4c3eY56pD8XXbP28FOgPwbahooMZp0/5KudlkUwpD9K8CFisvGjP/ycEcPNjqU/kkWJ6WYEoz+j7Kkpw9+QPxmc61orlaE/AYpn4PmFnj8=",
             "dtype": "f8"
            },
            "coloraxis": "coloraxis",
            "symbol": "circle"
           },
           "mode": "markers+text",
           "name": "",
           "orientation": "v",
           "showlegend": false,
           "text": [
            "Argentina",
            "Colombia",
            "Cyprus",
            "Czechia",
            "United Kingdom",
            "Greece",
            "India",
            "Ireland",
            "Iran, Islamic Rep.",
            "Netherlands",
            "New Zealand",
            "Peru",
            "Romania",
            "Russian Federation",
            "Slovak Republic",
            "Thailand",
            "Tajikistan",
            "Tunisia",
            "Ukraine"
           ],
           "type": "scatter",
           "x": {
            "bdata": "4qAmxAO30D/29nDRKGDQP/S1s/gp3Nw/lWFvABSj3T9IrL0+iufdPx3ZIhoPodk/3JEK5LtUxj/MJjR6cSrcP5sAhnYV6tI/lQzr71RB4j8wxpR1ybPaPxQTlT4QasY/pZWtIRix1T+C2+YcLNvYP8O0s2eamto/nevIuBakzj+yyjLg+de6P8R+XN6PDtk/KOSU1U5o3T8=",
            "dtype": "f8"
           },
           "xaxis": "x",
           "y": {
            "bdata": "nGJW9G+kmT8/Vjq06vCZP+4xisH/wqI/G9CqL5I9pj82sNmR5JGiP5NJh/HHQqE/qDnlEH85lz80JLBYRhikP4rpAv2wPKA/OBNXFjS4pD+rOt8meiyeP+zAgull1Jc/oXbqPPV2oz9mDIVDE32mP9jVqf9gCaY/7MB7yHGWoT9uxN9FGCaOP5HakwhEq6A/kKDmHXFboz8=",
            "dtype": "f8"
           },
           "yaxis": "y"
          }
         ],
         "name": "2003"
        },
        {
         "data": [
          {
           "hovertemplate": "<b>%{hovertext}</b><br><br>Year=2004<br>PSP_6=%{x}<br>PSE_6=%{y}<br>Country=%{text}<br>PSE_6_latest=%{marker.color}<extra></extra>",
           "hovertext": [
            "Argentina",
            "Armenia",
            "Cyprus",
            "Czechia",
            "United Kingdom",
            "Greece",
            "India",
            "Ireland",
            "Iran, Islamic Rep.",
            "Netherlands",
            "Peru",
            "Romania",
            "Russian Federation",
            "Slovak Republic",
            "Thailand",
            "Tajikistan",
            "Tunisia",
            "Ukraine"
           ],
           "ids": [
            "Argentina",
            "Armenia",
            "Cyprus",
            "Czechia",
            "United Kingdom",
            "Greece",
            "India",
            "Ireland",
            "Iran, Islamic Rep.",
            "Netherlands",
            "Peru",
            "Romania",
            "Russian Federation",
            "Slovak Republic",
            "Thailand",
            "Tajikistan",
            "Tunisia",
            "Ukraine"
           ],
           "legendgroup": "",
           "marker": {
            "color": {
             "bdata": "1TvxRg4Bnj/nI9joJviVP1RyG+Ws+aM/amb41M8Zpj/Z0RCX1T6iP6OCdF3aZqE/xNzt+DDenD9izlm1/nmnP+Gl4fwFT6E/j4c3eY56pD8G2oaKDGadP+SrnZZFMKQ/SvAhYrLxoz/8nBHDzY6lP5JFielmBKM/o+ypKcPfkD8ZnOtaK5WhPwGKZ+D5hZ4/",
             "dtype": "f8"
            },
            "coloraxis": "coloraxis",
            "symbol": "circle"
           },
           "mode": "markers+text",
           "name": "",
           "orientation": "v",
           "showlegend": false,
           "text": [
            "Argentina",
            "Armenia",
            "Cyprus",
            "Czechia",
            "United Kingdom",
            "Greece",
            "India",
            "Ireland",
            "Iran, Islamic Rep.",
            "Netherlands",
            "Peru",
            "Romania",
            "Russian Federation",
            "Slovak Republic",
            "Thailand",
            "Tajikistan",
            "Tunisia",
            "Ukraine"
           ],
           "type": "scatter",
           "x": {
            "bdata": "8OW32SMs0T8RI2viKpDOP6/OWDEfodw/SGp98Egb3j96L2BEpsXePwyYur4jEto/lJJA3FjrxT+HljGboQ/eP1sT0K7kR9M/ahawm0SI4j96n7ZPq8nGP9C4VhrqT9U/bBCO90CV1z9EB3dEu1DbP9VCFAIGGdA/SxHhJGLwvz9dWYcvn03ZP/j/Ihpv3dw/",
            "dtype": "f8"
           },
           "xaxis": "x",
           "y": {
            "bdata": "fXEMPFekmT9OnfcG3J+cPzUugbE14KM/xmaNlbo8pz+pzx9qEdOiPw+EQvvOu6E//Z4QME/Dlz/NnKSDQoukP0m2DZ/GXaA/WruVZ4/rpD8nbanfQq2YP/0CRBaHZaM/IN7dwkO1pj/rJ4rzSd2kP+KjjyUw9qE/o+ypKcPfkD9njq/TgvugP/WmPqx/HKQ/",
            "dtype": "f8"
           },
           "yaxis": "y"
          }
         ],
         "name": "2004"
        },
        {
         "data": [
          {
           "hovertemplate": "<b>%{hovertext}</b><br><br>Year=2005<br>PSP_6=%{x}<br>PSE_6=%{y}<br>Country=%{text}<br>PSE_6_latest=%{marker.color}<extra></extra>",
           "hovertext": [
            "Argentina",
            "Armenia",
            "Canada",
            "Cyprus",
            "Czechia",
            "United Kingdom",
            "Greece",
            "India",
            "Ireland",
            "Iran, Islamic Rep.",
            "Netherlands",
            "New Zealand",
            "Romania",
            "Russian Federation",
            "Slovak Republic",
            "Thailand",
            "Tunisia",
            "Ukraine",
            "Uruguay"
           ],
           "ids": [
            "Argentina",
            "Armenia",
            "Canada",
            "Cyprus",
            "Czechia",
            "United Kingdom",
            "Greece",
            "India",
            "Ireland",
            "Iran, Islamic Rep.",
            "Netherlands",
            "New Zealand",
            "Romania",
            "Russian Federation",
            "Slovak Republic",
            "Thailand",
            "Tunisia",
            "Ukraine",
            "Uruguay"
           ],
           "legendgroup": "",
           "marker": {
            "color": {
             "bdata": "1TvxRg4Bnj/nI9joJviVP6mAeb3wi6M/VHIb5az5oz9qZvjUzxmmP9nREJfVPqI/o4J0XdpmoT/E3O34MN6cP2LOWbX+eac/4aXh/AVPoT+Phzd5jnqkPxdds/bwU6A/5KudlkUwpD9K8CFisvGjP/ycEcPNjqU/kkWJ6WYEoz8ZnOtaK5WhPwGKZ+D5hZ4/9bVAbErOnz8=",
             "dtype": "f8"
            },
            "coloraxis": "coloraxis",
            "symbol": "circle"
           },
           "mode": "markers+text",
           "name": "",
           "orientation": "v",
           "showlegend": false,
           "text": [
            "Argentina",
            "Armenia",
            "Canada",
            "Cyprus",
            "Czechia",
            "United Kingdom",
            "Greece",
            "India",
            "Ireland",
            "Iran, Islamic Rep.",
            "Netherlands",
            "New Zealand",
            "Romania",
            "Russian Federation",
            "Slovak Republic",
            "Thailand",
            "Tunisia",
            "Ukraine",
            "Uruguay"
           ],
           "type": "scatter",
           "x": {
            "bdata": "kri9xGem0j88641V+eTPP5VxAWTlJ+E/gDL0Ddhd3T+CLvEFCofePzOWOxxFiN8/wtN3f6ZA2z/Xy2cCQNPFPxAnftn7ON8/nHGurW5g0z8hqRcJuo3iP93LFaXrxNs/hHw9xU5c1j8XJwy7yjfWP1pM1MPMh9o/VGmjJbn0zz8hzJ+wCvHYPyWq+IwOC94/WjI6KAIC0T8=",
            "dtype": "f8"
           },
           "xaxis": "x",
           "y": {
            "bdata": "EQ3So48Dmj+oRGnCb8KdP34WnmeV3aM/gBwEc4wKpD/bkN8Aud6nP/Y3CuhR66I/o4J0XdpmoT9on41pscmYP9w/FQaPiKQ/7VD+2kiRoD9u5krHhOWkP1fKMhwhiJ4/ps96U2XQoz9bHdL21M2kP4c7/kZhgqQ/sYKuNfQBoj/hLjJQkTShP/3cDSa/XaM/8+joaKsRmj8=",
            "dtype": "f8"
           },
           "yaxis": "y"
          }
         ],
         "name": "2005"
        },
        {
         "data": [
          {
           "hovertemplate": "<b>%{hovertext}</b><br><br>Year=2006<br>PSP_6=%{x}<br>PSE_6=%{y}<br>Country=%{text}<br>PSE_6_latest=%{marker.color}<extra></extra>",
           "hovertext": [
            "Argentina",
            "Armenia",
            "Cyprus",
            "Czechia",
            "Germany",
            "United Kingdom",
            "Guatemala",
            "India",
            "Ireland",
            "Iran, Islamic Rep.",
            "Netherlands",
            "Romania",
            "Russian Federation",
            "Slovak Republic",
            "Thailand",
            "Tunisia",
            "Ukraine",
            "Uruguay"
           ],
           "ids": [
            "Argentina",
            "Armenia",
            "Cyprus",
            "Czechia",
            "Germany",
            "United Kingdom",
            "Guatemala",
            "India",
            "Ireland",
            "Iran, Islamic Rep.",
            "Netherlands",
            "Romania",
            "Russian Federation",
            "Slovak Republic",
            "Thailand",
            "Tunisia",
            "Ukraine",
            "Uruguay"
           ],
           "legendgroup": "",
           "marker": {
            "color": {
             "bdata": "1TvxRg4Bnj/nI9joJviVP1RyG+Ws+aM/amb41M8Zpj8A4Jae6BymP9nREJfVPqI/gRGdFDaAlD/E3O34MN6cP2LOWbX+eac/4aXh/AVPoT+Phzd5jnqkP+SrnZZFMKQ/SvAhYrLxoz/8nBHDzY6lP5JFielmBKM/GZzrWiuVoT8Bimfg+YWeP/W1QGxKzp8/",
             "dtype": "f8"
            },
            "coloraxis": "coloraxis",
            "symbol": "circle"
           },
           "mode": "markers+text",
           "name": "",
           "orientation": "v",
           "showlegend": false,
           "text": [
            "Argentina",
            "Armenia",
            "Cyprus",
            "Czechia",
            "Germany",
            "United Kingdom",
            "Guatemala",
            "India",
            "Ireland",
            "Iran, Islamic Rep.",
            "Netherlands",
            "Romania",
            "Russian Federation",
            "Slovak Republic",
            "Thailand",
            "Tunisia",
            "Ukraine",
            "Uruguay"
           ],
           "type": "scatter",
           "x": {
            "bdata": "aGro2DTj0z+UrRoFLWLQPzDITDJSvt0/bE6fTvec3z8Pwzd8IW3kP3r2AADdJ+A/WcNRLhg6uD/oeaQjL7vFP1b2SlaHwt8/4hecUnFr1D+xTsq8SLriP1YFvG5S1dc/eT2vouz21j/gZLn4grjaP6YHzDrIS9A/sLFVusw12T/PtA3jf1fePzmAqjoCPtE/",
            "dtype": "f8"
           },
           "xaxis": "x",
           "y": {
            "bdata": "zgq4QckJmz/ohik+PJqeP0QcchryLKQ/YISAx89cqD9A+ga/eZSmPy/F26izGqM/z1m09vK7hD9GKWinhYWZP8rywwyAEKU/oChDTGVJoT/flhnB2zalP9sWd8EIVaQ/oZpGbPxHpT8O0IFG9T6kP+F/tq2rO6I/MPZImI5uoT/Cv3ynQTejP+HqVg3KDJo/",
            "dtype": "f8"
           },
           "yaxis": "y"
          }
         ],
         "name": "2006"
        },
        {
         "data": [
          {
           "hovertemplate": "<b>%{hovertext}</b><br><br>Year=2007<br>PSP_6=%{x}<br>PSE_6=%{y}<br>Country=%{text}<br>PSE_6_latest=%{marker.color}<extra></extra>",
           "hovertext": [
            "Argentina",
            "Armenia",
            "Canada",
            "Chile",
            "Cyprus",
            "Czechia",
            "Germany",
            "United Kingdom",
            "Guatemala",
            "Ireland",
            "Mongolia",
            "Netherlands",
            "New Zealand",
            "Romania",
            "Serbia",
            "Slovak Republic",
            "Thailand",
            "Tunisia",
            "Ukraine"
           ],
           "ids": [
            "Argentina",
            "Armenia",
            "Canada",
            "Chile",
            "Cyprus",
            "Czechia",
            "Germany",
            "United Kingdom",
            "Guatemala",
            "Ireland",
            "Mongolia",
            "Netherlands",
            "New Zealand",
            "Romania",
            "Serbia",
            "Slovak Republic",
            "Thailand",
            "Tunisia",
            "Ukraine"
           ],
           "legendgroup": "",
           "marker": {
            "color": {
             "bdata": "1TvxRg4Bnj/nI9joJviVP6mAeb3wi6M/IzYQNn7Jmz9UchvlrPmjP2pm+NTPGaY/AOCWnugcpj/Z0RCX1T6iP4ERnRQ2gJQ/Ys5Ztf55pz/m9f1MoqGgP4+HN3mOeqQ/F12z9vBToD/kq52WRTCkPzHwAT91x58//JwRw82OpT+SRYnpZgSjPxmc61orlaE/AYpn4PmFnj8=",
             "dtype": "f8"
            },
            "coloraxis": "coloraxis",
            "symbol": "circle"
           },
           "mode": "markers+text",
           "name": "",
           "orientation": "v",
           "showlegend": false,
           "text": [
            "Argentina",
            "Armenia",
            "Canada",
            "Chile",
            "Cyprus",
            "Czechia",
            "Germany",
            "United Kingdom",
            "Guatemala",
            "Ireland",
            "Mongolia",
            "Netherlands",
            "New Zealand",
            "Romania",
            "Serbia",
            "Slovak Republic",
            "Thailand",
            "Tunisia",
            "Ukraine"
           ],
           "type": "scatter",
           "x": {
            "bdata": "6caZEktT1j+KmhwAJa7QP5R2Wgiu1eE/jCUShsLj0D/JezooWBfeP2q+o3r9Ud8/qvrWsq+P5D+bGYYtFKfgPzkIoZGaALo/i/FZ6RDc4D+VoND7NX3RPwOlkPId4OI/vxJC22Pm2z/XYZLBybTXP383Lygs2do/NCOYuW402z/IK2U3ry/PP70k2ZwAg9k/5EI5XUYo3j8=",
            "dtype": "f8"
           },
           "xaxis": "x",
           "y": {
            "bdata": "uqkYFUAMnT/qSDm5zFWfP/bIbu4jFaQ/BJv1fv2qnD9ou1yHLa+kP+7NmkV6bqk/SuFpsS/Rpj9EAcah/3yjP2epRc8tiYY/K8Sc1b+LpT+jKX8/juyfP0dJJS1JqqU/sILHb1lWnz8HCduncq2kP6OoRdE4np8/jS4+OMdWpD+PsM7NGVuiP4dwDrZLiKE/aww1N+HQoz8=",
            "dtype": "f8"
           },
           "yaxis": "y"
          }
         ],
         "name": "2007"
        },
        {
         "data": [
          {
           "hovertemplate": "<b>%{hovertext}</b><br><br>Year=2008<br>PSP_6=%{x}<br>PSE_6=%{y}<br>Country=%{text}<br>PSE_6_latest=%{marker.color}<extra></extra>",
           "hovertext": [
            "Argentina",
            "Armenia",
            "Canada",
            "Chile",
            "Colombia",
            "Cyprus",
            "Czechia",
            "Germany",
            "United Kingdom",
            "Guatemala",
            "Ireland",
            "Iran, Islamic Rep.",
            "Mexico",
            "Netherlands",
            "Romania",
            "Russian Federation",
            "Serbia",
            "Slovak Republic",
            "Thailand",
            "Tunisia",
            "Ukraine"
           ],
           "ids": [
            "Argentina",
            "Armenia",
            "Canada",
            "Chile",
            "Colombia",
            "Cyprus",
            "Czechia",
            "Germany",
            "United Kingdom",
            "Guatemala",
            "Ireland",
            "Iran, Islamic Rep.",
            "Mexico",
            "Netherlands",
            "Romania",
            "Russian Federation",
            "Serbia",
            "Slovak Republic",
            "Thailand",
            "Tunisia",
            "Ukraine"
           ],
           "legendgroup": "",
           "marker": {
            "color": {
             "bdata": "1TvxRg4Bnj/nI9joJviVP6mAeb3wi6M/IzYQNn7Jmz/pb8go2l+eP1RyG+Ws+aM/amb41M8Zpj8A4Jae6BymP9nREJfVPqI/gRGdFDaAlD9izlm1/nmnP+Gl4fwFT6E/PoZtof+4nj+Phzd5jnqkP+SrnZZFMKQ/SvAhYrLxoz8x8AE/dcefP/ycEcPNjqU/kkWJ6WYEoz8ZnOtaK5WhPwGKZ+D5hZ4/",
             "dtype": "f8"
            },
            "coloraxis": "coloraxis",
            "symbol": "circle"
           },
           "mode": "markers+text",
           "name": "",
           "orientation": "v",
           "showlegend": false,
           "text": [
            "Argentina",
            "Armenia",
            "Canada",
            "Chile",
            "Colombia",
            "Cyprus",
            "Czechia",
            "Germany",
            "United Kingdom",
            "Guatemala",
            "Ireland",
            "Iran, Islamic Rep.",
            "Mexico",
            "Netherlands",
            "Romania",
            "Russian Federation",
            "Serbia",
            "Slovak Republic",
            "Thailand",
            "Tunisia",
            "Ukraine"
           ],
           "type": "scatter",
           "x": {
            "bdata": "aN3TZ0BJ1z/QBYfahUDSP8EDf2Oh5eE/8uJZSmvz0j9gtnMCgiPTP+6K2YDwMOA/AbnKegzf3z+Jp1iH+CHlP+GtZKUsgeA/m09HAB6ovD/hD5yDbmriPzuk+IoNDdU/LpkLYgdq0j9lK5cMUVzjP8v7gt8N89c/GJJAi7y31z+4ITgm+vzbP+AiCTvmrNs/irMknI12zz/AqEssPx/ZP5FuV59U7t0/",
            "dtype": "f8"
           },
           "xaxis": "x",
           "y": {
            "bdata": "JpmPd6iZnD+qZP3K5MKdP/F6axbGIKQ/r4Kh2THKnD9DukP+hWecPxOoQVTJVqQ/JRokN8dOqT/TzH42hQWnP2ppJPfD86I/+VmbXee9iD8kYcrbNTmkP8LQPBoPz6I/cp6FSA6znD+fxX5JVqelP7Zoe9kmAqU/ajiqON4RpT/J2FiMexSgP0aONe9aIaU/TTavcdgPoj+bX8q+tpKhP+2g06OTEKQ/",
            "dtype": "f8"
           },
           "yaxis": "y"
          }
         ],
         "name": "2008"
        },
        {
         "data": [
          {
           "hovertemplate": "<b>%{hovertext}</b><br><br>Year=2009<br>PSP_6=%{x}<br>PSE_6=%{y}<br>Country=%{text}<br>PSE_6_latest=%{marker.color}<extra></extra>",
           "hovertext": [
            "Argentina",
            "Armenia",
            "Canada",
            "Chile",
            "Colombia",
            "Cyprus",
            "Czechia",
            "Germany",
            "United Kingdom",
            "India",
            "Ireland",
            "Iran, Islamic Rep.",
            "Mexico",
            "Mongolia",
            "Netherlands",
            "New Zealand",
            "Romania",
            "Serbia",
            "Slovak Republic",
            "Thailand",
            "Tunisia",
            "Ukraine"
           ],
           "ids": [
            "Argentina",
            "Armenia",
            "Canada",
            "Chile",
            "Colombia",
            "Cyprus",
            "Czechia",
            "Germany",
            "United Kingdom",
            "India",
            "Ireland",
            "Iran, Islamic Rep.",
            "Mexico",
            "Mongolia",
            "Netherlands",
            "New Zealand",
            "Romania",
            "Serbia",
            "Slovak Republic",
            "Thailand",
            "Tunisia",
            "Ukraine"
           ],
           "legendgroup": "",
           "marker": {
            "color": {
             "bdata": "1TvxRg4Bnj/nI9joJviVP6mAeb3wi6M/IzYQNn7Jmz/pb8go2l+eP1RyG+Ws+aM/amb41M8Zpj8A4Jae6BymP9nREJfVPqI/xNzt+DDenD9izlm1/nmnP+Gl4fwFT6E/PoZtof+4nj/m9f1MoqGgP4+HN3mOeqQ/F12z9vBToD/kq52WRTCkPzHwAT91x58//JwRw82OpT+SRYnpZgSjPxmc61orlaE/AYpn4PmFnj8=",
             "dtype": "f8"
            },
            "coloraxis": "coloraxis",
            "symbol": "circle"
           },
           "mode": "markers+text",
           "name": "",
           "orientation": "v",
           "showlegend": false,
           "text": [
            "Argentina",
            "Armenia",
            "Canada",
            "Chile",
            "Colombia",
            "Cyprus",
            "Czechia",
            "Germany",
            "United Kingdom",
            "India",
            "Ireland",
            "Iran, Islamic Rep.",
            "Mexico",
            "Mongolia",
            "Netherlands",
            "New Zealand",
            "Romania",
            "Serbia",
            "Slovak Republic",
            "Thailand",
            "Tunisia",
            "Ukraine"
           ],
           "type": "scatter",
           "x": {
            "bdata": "88uGe5zM2j8BWNJCT3LVPxTNnPLpUuI/ZU6SBI+K1D8howgT8KzUP2V7BhV+LuE/hKlSW81R4D+3MBq6NeDlPzAYz1v/guA/3lLO3zm+xz/J/9Q1Tj/jP27dSugsi9U/TFVCtMjY0z8PtoEfA5vUP0EtsC82yeM/e+XtXq643T+xpNzKe7TXPw6BG7sPZNw/hL9VLAQY3T/QPoR/fb3QPx/kkNxpmto/wPIi7i5l4D8=",
            "dtype": "f8"
           },
           "xaxis": "x",
           "y": {
            "bdata": "9WvJkk+cnD+Qjl+g1u6bPw5C25Px2aI/y/zCUWqgnD+ywL2u812bP8lnPyjpG6Q/FsvQyUTdpj/z/e/NFK2lP4G9hRJbtKE/1ImO0AzVmz+aJXm0t3yiP+Gl4fwFT6E/An/0HUHGnD/Cs+cHtymhPzp4BgQ0hqQ/Um24F9jnnT+pAJkkJW+kP6jdT/QpbKA/hMaDs114oz8Sb1nel+ahP/5hdT041aE/8rbLcJnVoj8=",
            "dtype": "f8"
           },
           "yaxis": "y"
          }
         ],
         "name": "2009"
        },
        {
         "data": [
          {
           "hovertemplate": "<b>%{hovertext}</b><br><br>Year=2010<br>PSP_6=%{x}<br>PSE_6=%{y}<br>Country=%{text}<br>PSE_6_latest=%{marker.color}<extra></extra>",
           "hovertext": [
            "Argentina",
            "Armenia",
            "Brazil",
            "Canada",
            "Chile",
            "Colombia",
            "Cyprus",
            "Czechia",
            "Germany",
            "United Kingdom",
            "Guatemala",
            "India",
            "Ireland",
            "Mexico",
            "Mongolia",
            "Netherlands",
            "Romania",
            "Serbia",
            "Slovak Republic",
            "Tunisia"
           ],
           "ids": [
            "Argentina",
            "Armenia",
            "Brazil",
            "Canada",
            "Chile",
            "Colombia",
            "Cyprus",
            "Czechia",
            "Germany",
            "United Kingdom",
            "Guatemala",
            "India",
            "Ireland",
            "Mexico",
            "Mongolia",
            "Netherlands",
            "Romania",
            "Serbia",
            "Slovak Republic",
            "Tunisia"
           ],
           "legendgroup": "",
           "marker": {
            "color": {
             "bdata": "1TvxRg4Bnj/nI9joJviVPySPeStEQqE/qYB5vfCLoz8jNhA2fsmbP+lvyCjaX54/VHIb5az5oz9qZvjUzxmmPwDglp7oHKY/2dEQl9U+oj+BEZ0UNoCUP8Tc7fgw3pw/Ys5Ztf55pz8+hm2h/7ieP+b1/UyioaA/j4c3eY56pD/kq52WRTCkPzHwAT91x58//JwRw82OpT8ZnOtaK5WhPw==",
             "dtype": "f8"
            },
            "coloraxis": "coloraxis",
            "symbol": "circle"
           },
           "mode": "markers+text",
           "name": "",
           "orientation": "v",
           "showlegend": false,
           "text": [
            "Argentina",
            "Armenia",
            "Brazil",
            "Canada",
            "Chile",
            "Colombia",
            "Cyprus",
            "Czechia",
            "Germany",
            "United Kingdom",
            "Guatemala",
            "India",
            "Ireland",
            "Mexico",
            "Mongolia",
            "Netherlands",
            "Romania",
            "Serbia",
            "Slovak Republic",
            "Tunisia"
           ],
           "type": "scatter",
           "x": {
            "bdata": "TiqPuDr42T9OKmMJoZ3UP5j2zZ4w7N4/tyQXFSwq4z9JxKDqrUfUPxk6VVUfyNQ/qyPzOXd+4D8Me7AZylLgP/+XcMLs3OU/hZo57t/L4D+mU4cwsWq9P7bOhpLHFcg/F8l+nOaZ4j8BYYmShunTP2Y8xc3wYNI/wFPp8DTc4z8nCguQ+j/WP6z0MEzPo9s/QOkW92SF3T/o4e/CMFbaPw==",
            "dtype": "f8"
           },
           "xaxis": "x",
           "y": {
            "bdata": "J4QAnKO5nD8J7KvL0GuaPxKjLDKmMqI/KFurZJcToz9owOGyIoydP+r+k7IF7ps/BTpGH5s7pD8o17q593qmP0Pp4Hwaz6U/bnb46LFYoT82WuidDVyKP0bh3j3Uspw/Qd2aiUr4oT+eosvJAeudP+CE4zQmiaE/nOw+f9hPpD+R2U5LEXyjP5TUmiQ0658/3T9PoPoYpD8az4BoMsKhPw==",
            "dtype": "f8"
           },
           "yaxis": "y"
          }
         ],
         "name": "2010"
        },
        {
         "data": [
          {
           "hovertemplate": "<b>%{hovertext}</b><br><br>Year=2011<br>PSP_6=%{x}<br>PSE_6=%{y}<br>Country=%{text}<br>PSE_6_latest=%{marker.color}<extra></extra>",
           "hovertext": [
            "Argentina",
            "Armenia",
            "Brazil",
            "Canada",
            "Chile",
            "Colombia",
            "Cyprus",
            "Czechia",
            "Germany",
            "United Kingdom",
            "Guatemala",
            "India",
            "Ireland",
            "Mexico",
            "Mongolia",
            "Netherlands",
            "New Zealand",
            "Peru",
            "Romania",
            "Serbia",
            "Slovak Republic",
            "Thailand",
            "Ukraine",
            "Uruguay"
           ],
           "ids": [
            "Argentina",
            "Armenia",
            "Brazil",
            "Canada",
            "Chile",
            "Colombia",
            "Cyprus",
            "Czechia",
            "Germany",
            "United Kingdom",
            "Guatemala",
            "India",
            "Ireland",
            "Mexico",
            "Mongolia",
            "Netherlands",
            "New Zealand",
            "Peru",
            "Romania",
            "Serbia",
            "Slovak Republic",
            "Thailand",
            "Ukraine",
            "Uruguay"
           ],
           "legendgroup": "",
           "marker": {
            "color": {
             "bdata": "1TvxRg4Bnj/nI9joJviVPySPeStEQqE/qYB5vfCLoz8jNhA2fsmbP+lvyCjaX54/VHIb5az5oz9qZvjUzxmmPwDglp7oHKY/2dEQl9U+oj+BEZ0UNoCUP8Tc7fgw3pw/Ys5Ztf55pz8+hm2h/7ieP+b1/UyioaA/j4c3eY56pD8XXbP28FOgPwbahooMZp0/5KudlkUwpD8x8AE/dcefP/ycEcPNjqU/kkWJ6WYEoz8Bimfg+YWeP/W1QGxKzp8/",
             "dtype": "f8"
            },
            "coloraxis": "coloraxis",
            "symbol": "circle"
           },
           "mode": "markers+text",
           "name": "",
           "orientation": "v",
           "showlegend": false,
           "text": [
            "Argentina",
            "Armenia",
            "Brazil",
            "Canada",
            "Chile",
            "Colombia",
            "Cyprus",
            "Czechia",
            "Germany",
            "United Kingdom",
            "Guatemala",
            "India",
            "Ireland",
            "Mexico",
            "Mongolia",
            "Netherlands",
            "New Zealand",
            "Peru",
            "Romania",
            "Serbia",
            "Slovak Republic",
            "Thailand",
            "Ukraine",
            "Uruguay"
           ],
           "type": "scatter",
           "x": {
            "bdata": "YXiL4sxH2z8+r2I5hbzUP7AmwgOSaN8/Rt6Azbko4z8VxUnx3mPUPwowLzHmOdU/1tzPcgmm4D93//MoCLTgP0NUdrJCCuY/PUEA924N4T/B9usRwa+/P6JZHRvM2ck/ng9K+xKw4j99zAS0T8/TP8+EM5vAe9I/5CLi155F5D9H9kChyCXgP8+dJp/d6sc/youNyjlZ1D8OCytGgWHbP0RZcpfA2Nw/4vCQ2Hoo0z/TLzPBJEzeP7TLafDL3Nc/",
            "dtype": "f8"
           },
           "xaxis": "x",
           "y": {
            "bdata": "37uKT9qsnT8H/idzMYCaP7VM333Dk6I/qYB5vfCLoz9Pzl3EShWeP1e+DcxgMp4/lPkNwr6JpD9G7b5uM6OmP4WaPfKzmaY/h6i0jTa6oT8NVmYrP4mMP9cH/+qHXZ0/N8jHkjoroj/RLiuTFXWeP29a00cTC6I/WXT2q+yppD8v6u9yFGefPxVgdTm8lZo/xOP61OiapT9mBaeNxWegP/Ua+A2PjaQ/ufd2fYtNoj87TL16tayiP1ukh12EHZ8/",
            "dtype": "f8"
           },
           "yaxis": "y"
          }
         ],
         "name": "2011"
        },
        {
         "data": [
          {
           "hovertemplate": "<b>%{hovertext}</b><br><br>Year=2012<br>PSP_6=%{x}<br>PSE_6=%{y}<br>Country=%{text}<br>PSE_6_latest=%{marker.color}<extra></extra>",
           "hovertext": [
            "Argentina",
            "Armenia",
            "Brazil",
            "Colombia",
            "Czechia",
            "Germany",
            "Guatemala",
            "India",
            "Ireland",
            "Mexico",
            "Mongolia",
            "Netherlands",
            "Peru",
            "Romania",
            "Russian Federation",
            "Serbia",
            "Slovak Republic",
            "Tunisia",
            "Ukraine"
           ],
           "ids": [
            "Argentina",
            "Armenia",
            "Brazil",
            "Colombia",
            "Czechia",
            "Germany",
            "Guatemala",
            "India",
            "Ireland",
            "Mexico",
            "Mongolia",
            "Netherlands",
            "Peru",
            "Romania",
            "Russian Federation",
            "Serbia",
            "Slovak Republic",
            "Tunisia",
            "Ukraine"
           ],
           "legendgroup": "",
           "marker": {
            "color": {
             "bdata": "1TvxRg4Bnj/nI9joJviVPySPeStEQqE/6W/IKNpfnj9qZvjUzxmmPwDglp7oHKY/gRGdFDaAlD/E3O34MN6cP2LOWbX+eac/PoZtof+4nj/m9f1MoqGgP4+HN3mOeqQ/BtqGigxmnT/kq52WRTCkP0rwIWKy8aM/MfABP3XHnz/8nBHDzY6lPxmc61orlaE/AYpn4PmFnj8=",
             "dtype": "f8"
            },
            "coloraxis": "coloraxis",
            "symbol": "circle"
           },
           "mode": "markers+text",
           "name": "",
           "orientation": "v",
           "showlegend": false,
           "text": [
            "Argentina",
            "Armenia",
            "Brazil",
            "Colombia",
            "Czechia",
            "Germany",
            "Guatemala",
            "India",
            "Ireland",
            "Mexico",
            "Mongolia",
            "Netherlands",
            "Peru",
            "Romania",
            "Russian Federation",
            "Serbia",
            "Slovak Republic",
            "Tunisia",
            "Ukraine"
           ],
           "type": "scatter",
           "x": {
            "bdata": "AFNKDgMd3D9c/EDX96TTPx/TMfhSed8/pOhZ2gW/1T8QJr2NXazgP+umAxlVHeY/1NObmHPqwD8m5J9fcKfKP+2iJjycJuI/2aE0Tnr10z/G0FSsN3vUP9mbTeewB+Q/ZOmeFCmKyT/9tmEX/8DTP04+6jz0ndg/gLx4mgPw2z9Ti7i5RDjdP6yVcoy0j9s/SiYbV6i83z8=",
            "dtype": "f8"
           },
           "xaxis": "x",
           "y": {
            "bdata": "D0JWETylnT8ZSxlJpWWaP29spA+ThqI/9NbTzLFMnz++rPGhpYWmP3ko1BRbYaY/jYfWBCH4jT9bQQML6qCdPz6SjUy0uKE/YkTxF75Xnj9M+YadPhmiP9rE3l8FGKQ/Q45XqeWumj95R+b6zCylPxI6wEdVj6Y/dF2MCZ2QoD9VsNqWsX+kPxmc61orlaE/X9C1y3Vioj8=",
            "dtype": "f8"
           },
           "yaxis": "y"
          }
         ],
         "name": "2012"
        },
        {
         "data": [
          {
           "hovertemplate": "<b>%{hovertext}</b><br><br>Year=2013<br>PSP_6=%{x}<br>PSE_6=%{y}<br>Country=%{text}<br>PSE_6_latest=%{marker.color}<extra></extra>",
           "hovertext": [
            "Argentina",
            "Armenia",
            "Brazil",
            "Chile",
            "Colombia",
            "Cyprus",
            "Czechia",
            "Germany",
            "Ecuador",
            "United Kingdom",
            "Guatemala",
            "India",
            "Ireland",
            "Mexico",
            "Mongolia",
            "Netherlands",
            "New Zealand",
            "Peru",
            "Romania",
            "Russian Federation",
            "Slovak Republic",
            "Thailand",
            "Ukraine",
            "United States",
            "Uzbekistan"
           ],
           "ids": [
            "Argentina",
            "Armenia",
            "Brazil",
            "Chile",
            "Colombia",
            "Cyprus",
            "Czechia",
            "Germany",
            "Ecuador",
            "United Kingdom",
            "Guatemala",
            "India",
            "Ireland",
            "Mexico",
            "Mongolia",
            "Netherlands",
            "New Zealand",
            "Peru",
            "Romania",
            "Russian Federation",
            "Slovak Republic",
            "Thailand",
            "Ukraine",
            "United States",
            "Uzbekistan"
           ],
           "legendgroup": "",
           "marker": {
            "color": {
             "bdata": "1TvxRg4Bnj/nI9joJviVPySPeStEQqE/IzYQNn7Jmz/pb8go2l+eP1RyG+Ws+aM/amb41M8Zpj8A4Jae6BymP87TCD5XMpw/2dEQl9U+oj+BEZ0UNoCUP8Tc7fgw3pw/Ys5Ztf55pz8+hm2h/7ieP+b1/UyioaA/j4c3eY56pD8XXbP28FOgPwbahooMZp0/5KudlkUwpD9K8CFisvGjP/ycEcPNjqU/kkWJ6WYEoz8Bimfg+YWeP73PiEI9ZaE/OJzqPlzcoD8=",
             "dtype": "f8"
            },
            "coloraxis": "coloraxis",
            "symbol": "circle"
           },
           "mode": "markers+text",
           "name": "",
           "orientation": "v",
           "showlegend": false,
           "text": [
            "Argentina",
            "Armenia",
            "Brazil",
            "Chile",
            "Colombia",
            "Cyprus",
            "Czechia",
            "Germany",
            "Ecuador",
            "United Kingdom",
            "Guatemala",
            "India",
            "Ireland",
            "Mexico",
            "Mongolia",
            "Netherlands",
            "New Zealand",
            "Peru",
            "Romania",
            "Russian Federation",
            "Slovak Republic",
            "Thailand",
            "Ukraine",
            "United States",
            "Uzbekistan"
           ],
           "type": "scatter",
           "x": {
            "bdata": "THpDFUZW3D9ESHLDigjSPw+TXBWRB+A/OuXs92Vn1j+p92GF5+7VPx9n0sr1feA/9uMA74Fw4D+kZ5sbXEvmPwKRYZom9dM/AIX/rN7Y4D9bzpJkH/XAP0VUdA8+Z8s/fSNlGsi44T8BtF2d34vTP+a4DJm1QtQ//0f+y+GO5D+JMC8ZEdffPzKXwImPhcs/pJhvjjNU1D8AW51jH0jZPxAOyTTQs90/J62GHBQD0j+oIX2jkc7fP/fKHB/ozeY/lu2N7DLc1z8=",
            "dtype": "f8"
           },
           "xaxis": "x",
           "y": {
            "bdata": "Aqw3ZEDLnT/1FXdhcj2WP+u26fNvkKI/N+qtTQrcnT/xBrZrH4CdP2QWCHPQrKM/AalFsbKzpj99sV6TmlmmP6KIUVx6GZs/UtF64bBhoT+AOYizkVSPP8Tc7fgw3pw/vkQiop8moj+WOO27JnGePwkYnaML86E/T4pVEeJqpD+aU+nhhrifPx9WdCFVc5s/bPhuzwmooz9xlcjG5N2mP22jQ9LYiKQ/kkWJ6WYEoz9sipWRYrCiPxGCSZuFcaE/9Xn5DQEqoD8=",
            "dtype": "f8"
           },
           "yaxis": "y"
          }
         ],
         "name": "2013"
        },
        {
         "data": [
          {
           "hovertemplate": "<b>%{hovertext}</b><br><br>Year=2014<br>PSP_6=%{x}<br>PSE_6=%{y}<br>Country=%{text}<br>PSE_6_latest=%{marker.color}<extra></extra>",
           "hovertext": [
            "Argentina",
            "Armenia",
            "Brazil",
            "Chile",
            "Colombia",
            "Cyprus",
            "Czechia",
            "Germany",
            "Ecuador",
            "United Kingdom",
            "Guatemala",
            "Ireland",
            "Kyrgyz Republic",
            "Mexico",
            "Mongolia",
            "Netherlands",
            "Peru",
            "Romania",
            "Russian Federation",
            "Serbia",
            "Slovak Republic",
            "Ukraine",
            "United States",
            "Uzbekistan"
           ],
           "ids": [
            "Argentina",
            "Armenia",
            "Brazil",
            "Chile",
            "Colombia",
            "Cyprus",
            "Czechia",
            "Germany",
            "Ecuador",
            "United Kingdom",
            "Guatemala",
            "Ireland",
            "Kyrgyz Republic",
            "Mexico",
            "Mongolia",
            "Netherlands",
            "Peru",
            "Romania",
            "Russian Federation",
            "Serbia",
            "Slovak Republic",
            "Ukraine",
            "United States",
            "Uzbekistan"
           ],
           "legendgroup": "",
           "marker": {
            "color": {
             "bdata": "1TvxRg4Bnj/nI9joJviVPySPeStEQqE/IzYQNn7Jmz/pb8go2l+eP1RyG+Ws+aM/amb41M8Zpj8A4Jae6BymP87TCD5XMpw/2dEQl9U+oj+BEZ0UNoCUP2LOWbX+eac/96CaANWYmj8+hm2h/7ieP+b1/UyioaA/j4c3eY56pD8G2oaKDGadP+SrnZZFMKQ/SvAhYrLxoz8x8AE/dcefP/ycEcPNjqU/AYpn4PmFnj+9z4hCPWWhPzic6j5c3KA/",
             "dtype": "f8"
            },
            "coloraxis": "coloraxis",
            "symbol": "circle"
           },
           "mode": "markers+text",
           "name": "",
           "orientation": "v",
           "showlegend": false,
           "text": [
            "Argentina",
            "Armenia",
            "Brazil",
            "Chile",
            "Colombia",
            "Cyprus",
            "Czechia",
            "Germany",
            "Ecuador",
            "United Kingdom",
            "Guatemala",
            "Ireland",
            "Kyrgyz Republic",
            "Mexico",
            "Mongolia",
            "Netherlands",
            "Peru",
            "Romania",
            "Russian Federation",
            "Serbia",
            "Slovak Republic",
            "Ukraine",
            "United States",
            "Uzbekistan"
           ],
           "type": "scatter",
           "x": {
            "bdata": "4/aBU6p32z8vyVU7jAXRP0Fcyff+kOA/H7vbd3jj1j88JunEIWLWP6nnA29RUOA/ALzwNNRc4D9lCShtrm/mPx/+VLnwMdU/pwZ+y5L74T9Qjo/InWzDP/UbTyFKJ+E/W4oSs2fA1D9E+Q61yLjUP0PJNHxkxtM/4WluQw145D85pZU+YMjNPwkuWBEKBdQ/tftKgKSP2T9WzQfvRPXZP6zL6lTbgN0/XKnsEpK93D8Icts8QwDnP3X1v+NjA9c/",
            "dtype": "f8"
           },
           "xaxis": "x",
           "y": {
            "bdata": "Zr9jlRs8nT+COTdEGOuVP5CWIopPeqI/6Afur+YgnT9LjF65z0+eP5H+018mgqM/y2OEtdGWpj8mdeSJF3ymP87TCD5XMpw/1cyuvnGPoj94bGmxxIKRP2T54alRF6M/Jyl/fITCmT/rf4wwqzyfPxNySt/YuaE/HG+fJ5JvpD9ahwbJOZ6bPwhMfsYMpKM/d7USFJ08pj8WBPhlZoefPxcNTu/QQKU/3qCMUnyXoT+9z4hCPWWhP18W/sV7m6E/",
            "dtype": "f8"
           },
           "yaxis": "y"
          }
         ],
         "name": "2014"
        },
        {
         "data": [
          {
           "hovertemplate": "<b>%{hovertext}</b><br><br>Year=2015<br>PSP_6=%{x}<br>PSE_6=%{y}<br>Country=%{text}<br>PSE_6_latest=%{marker.color}<extra></extra>",
           "hovertext": [
            "Argentina",
            "Armenia",
            "Brazil",
            "Chile",
            "Colombia",
            "Cyprus",
            "Czechia",
            "Germany",
            "United Kingdom",
            "Guatemala",
            "Ireland",
            "Kazakhstan",
            "Kyrgyz Republic",
            "Mexico",
            "Mongolia",
            "Netherlands",
            "New Zealand",
            "Peru",
            "Romania",
            "Russian Federation",
            "Serbia",
            "Slovak Republic",
            "Uzbekistan"
           ],
           "ids": [
            "Argentina",
            "Armenia",
            "Brazil",
            "Chile",
            "Colombia",
            "Cyprus",
            "Czechia",
            "Germany",
            "United Kingdom",
            "Guatemala",
            "Ireland",
            "Kazakhstan",
            "Kyrgyz Republic",
            "Mexico",
            "Mongolia",
            "Netherlands",
            "New Zealand",
            "Peru",
            "Romania",
            "Russian Federation",
            "Serbia",
            "Slovak Republic",
            "Uzbekistan"
           ],
           "legendgroup": "",
           "marker": {
            "color": {
             "bdata": "1TvxRg4Bnj/nI9joJviVPySPeStEQqE/IzYQNn7Jmz/pb8go2l+eP1RyG+Ws+aM/amb41M8Zpj8A4Jae6BymP9nREJfVPqI/gRGdFDaAlD9izlm1/nmnP6TEV7tiAp4/96CaANWYmj8+hm2h/7ieP+b1/UyioaA/j4c3eY56pD8XXbP28FOgPwbahooMZp0/5KudlkUwpD9K8CFisvGjPzHwAT91x58//JwRw82OpT84nOo+XNygPw==",
             "dtype": "f8"
            },
            "coloraxis": "coloraxis",
            "symbol": "circle"
           },
           "mode": "markers+text",
           "name": "",
           "orientation": "v",
           "showlegend": false,
           "text": [
            "Argentina",
            "Armenia",
            "Brazil",
            "Chile",
            "Colombia",
            "Cyprus",
            "Czechia",
            "Germany",
            "United Kingdom",
            "Guatemala",
            "Ireland",
            "Kazakhstan",
            "Kyrgyz Republic",
            "Mexico",
            "Mongolia",
            "Netherlands",
            "New Zealand",
            "Peru",
            "Romania",
            "Russian Federation",
            "Serbia",
            "Slovak Republic",
            "Uzbekistan"
           ],
           "type": "scatter",
           "x": {
            "bdata": "tynhl4ZZ3T+gNnv+vr7RP80eecKCw+A/U2SwHBxd1z971Pw8kG/WP7xfHwC1sN8/TUCQl36F4T9MQXvKlPLlP1XIpvTmsuE/3P972rV/xD8O7mb9SF/ePyZChDkGFMg/8apBYp0t1T8f85ySH6vUP6vegPoYlNI/ty+7D/GO4z8f806fEJXeP758Q+Zggc8/k0u45uxq0z9ZuJSak2/XP3L4f1s05tg/81BfV5gG3j/QmBU/U5/WPw==",
            "dtype": "f8"
           },
           "xaxis": "x",
           "y": {
            "bdata": "eyhQB/hWnT/nI9joJviVP+ykhVMutKE/7LE3dzFDnD82pg0qD+6dP4HjrsYsS6M/HkackXJcpT8v0nCRuemlP4O1yVrAZaI/oNqbBN4lkj8tDSWGL+6lP9BiZ9/VhaA/V/gTCUTMmT+HosXq67meP2893MwEraE/1abPN7P3oz9Hd7bRGVOfPxnQ5+9GWZw/6MPNlzlMoz+Yn+7K+oikP0klsFXNnJ8//U3VBEokpT8Q1AJaETOhPw==",
            "dtype": "f8"
           },
           "yaxis": "y"
          }
         ],
         "name": "2015"
        },
        {
         "data": [
          {
           "hovertemplate": "<b>%{hovertext}</b><br><br>Year=2016<br>PSP_6=%{x}<br>PSE_6=%{y}<br>Country=%{text}<br>PSE_6_latest=%{marker.color}<extra></extra>",
           "hovertext": [
            "Argentina",
            "Brazil",
            "Chile",
            "Colombia",
            "Cyprus",
            "Czechia",
            "Germany",
            "United Kingdom",
            "Guatemala",
            "Ireland",
            "Jordan",
            "Kazakhstan",
            "Kyrgyz Republic",
            "Korea, Rep.",
            "Mexico",
            "Mongolia",
            "Netherlands",
            "Peru",
            "Romania",
            "Russian Federation",
            "Serbia",
            "Slovak Republic",
            "Ukraine",
            "Uruguay",
            "Uzbekistan"
           ],
           "ids": [
            "Argentina",
            "Brazil",
            "Chile",
            "Colombia",
            "Cyprus",
            "Czechia",
            "Germany",
            "United Kingdom",
            "Guatemala",
            "Ireland",
            "Jordan",
            "Kazakhstan",
            "Kyrgyz Republic",
            "Korea, Rep.",
            "Mexico",
            "Mongolia",
            "Netherlands",
            "Peru",
            "Romania",
            "Russian Federation",
            "Serbia",
            "Slovak Republic",
            "Ukraine",
            "Uruguay",
            "Uzbekistan"
           ],
           "legendgroup": "",
           "marker": {
            "color": {
             "bdata": "1TvxRg4Bnj8kj3krREKhPyM2EDZ+yZs/6W/IKNpfnj9UchvlrPmjP2pm+NTPGaY/AOCWnugcpj/Z0RCX1T6iP4ERnRQ2gJQ/Ys5Ztf55pz8M4IcnZMiVP6TEV7tiAp4/96CaANWYmj9nFuIYFq+rPz6GbaH/uJ4/5vX9TKKhoD+Phzd5jnqkPwbahooMZp0/5KudlkUwpD9K8CFisvGjPzHwAT91x58//JwRw82OpT8Bimfg+YWeP/W1QGxKzp8/OJzqPlzcoD8=",
             "dtype": "f8"
            },
            "coloraxis": "coloraxis",
            "symbol": "circle"
           },
           "mode": "markers+text",
           "name": "",
           "orientation": "v",
           "showlegend": false,
           "text": [
            "Argentina",
            "Brazil",
            "Chile",
            "Colombia",
            "Cyprus",
            "Czechia",
            "Germany",
            "United Kingdom",
            "Guatemala",
            "Ireland",
            "Jordan",
            "Kazakhstan",
            "Kyrgyz Republic",
            "Korea, Rep.",
            "Mexico",
            "Mongolia",
            "Netherlands",
            "Peru",
            "Romania",
            "Russian Federation",
            "Serbia",
            "Slovak Republic",
            "Ukraine",
            "Uruguay",
            "Uzbekistan"
           ],
           "type": "scatter",
           "x": {
            "bdata": "TT9QGrWD3D8fD/2VnMzgP+cDCc3gedg/GedDmQak1j/wSaATIXbfP6PUl9yOBOE/wdxlOrEQ5j8mbkGoVkXhP4Lqkn5GBcU/I9+1ZVZx3j+LCsMub5DMP7UiLqQbrsc/qzURxPXH1T/mW6zFfWzjPxkTKH83sNM/b42SyK3z1D/3rgx5TMHjPx+YhYbRU88/5ugPcXgI1D82TQcTxdDXP+nrzEpQCtg/N8bUdE9i3D/cJLC4wPPXP38zQXJtttk/MiTN9bxB1j8=",
            "dtype": "f8"
           },
           "xaxis": "x",
           "y": {
            "bdata": "QyLVj5SfnT8upXH1MlyhP1GPvfSvLJw/Tz2PIqQqnj+kbwIGaaOjPyNP59IA+qQ/QkwPJe7zpT/SniB5cDCiP1KGYbd9p5I/gk88hNy9pT8M4IcnZMiVP57z92AYmZ0/WsDYL3HPmj9nFuIYFq+rP4iYZDmpmZ4/73kDCiUsoT+hb8JINVikP49gdV/CuZw/m3HGeeHloz+kX5IxUw2lP7Nttqd8yp8/CrxyHuqipD/ekvx8AoKePx2uzWUEtZ4/7UUsjCUmoT8=",
            "dtype": "f8"
           },
           "yaxis": "y"
          }
         ],
         "name": "2016"
        },
        {
         "data": [
          {
           "hovertemplate": "<b>%{hovertext}</b><br><br>Year=2017<br>PSP_6=%{x}<br>PSE_6=%{y}<br>Country=%{text}<br>PSE_6_latest=%{marker.color}<extra></extra>",
           "hovertext": [
            "Argentina",
            "Brazil",
            "Chile",
            "Colombia",
            "Cyprus",
            "Czechia",
            "Germany",
            "United Kingdom",
            "Guatemala",
            "Ireland",
            "Kazakhstan",
            "Kyrgyz Republic",
            "Mexico",
            "Myanmar",
            "Mongolia",
            "Netherlands",
            "New Zealand",
            "Peru",
            "Romania",
            "Russian Federation",
            "Serbia",
            "Slovak Republic",
            "Ukraine",
            "Uruguay",
            "Uzbekistan"
           ],
           "ids": [
            "Argentina",
            "Brazil",
            "Chile",
            "Colombia",
            "Cyprus",
            "Czechia",
            "Germany",
            "United Kingdom",
            "Guatemala",
            "Ireland",
            "Kazakhstan",
            "Kyrgyz Republic",
            "Mexico",
            "Myanmar",
            "Mongolia",
            "Netherlands",
            "New Zealand",
            "Peru",
            "Romania",
            "Russian Federation",
            "Serbia",
            "Slovak Republic",
            "Ukraine",
            "Uruguay",
            "Uzbekistan"
           ],
           "legendgroup": "",
           "marker": {
            "color": {
             "bdata": "1TvxRg4Bnj8kj3krREKhPyM2EDZ+yZs/6W/IKNpfnj9UchvlrPmjP2pm+NTPGaY/AOCWnugcpj/Z0RCX1T6iP4ERnRQ2gJQ/Ys5Ztf55pz+kxFe7YgKeP/egmgDVmJo/PoZtof+4nj8I1ATqaZ+bP+b1/UyioaA/j4c3eY56pD8XXbP28FOgPwbahooMZp0/5KudlkUwpD9K8CFisvGjPzHwAT91x58//JwRw82OpT8Bimfg+YWeP/W1QGxKzp8/OJzqPlzcoD8=",
             "dtype": "f8"
            },
            "coloraxis": "coloraxis",
            "symbol": "circle"
           },
           "mode": "markers+text",
           "name": "",
           "orientation": "v",
           "showlegend": false,
           "text": [
            "Argentina",
            "Brazil",
            "Chile",
            "Colombia",
            "Cyprus",
            "Czechia",
            "Germany",
            "United Kingdom",
            "Guatemala",
            "Ireland",
            "Kazakhstan",
            "Kyrgyz Republic",
            "Mexico",
            "Myanmar",
            "Mongolia",
            "Netherlands",
            "New Zealand",
            "Peru",
            "Romania",
            "Russian Federation",
            "Serbia",
            "Slovak Republic",
            "Ukraine",
            "Uruguay",
            "Uzbekistan"
           ],
           "type": "scatter",
           "x": {
            "bdata": "QIAwFCVu3T9hH5F2UwnhP0xYqAgKM9k/T5g7EJQL1T+kbwqgofXeP6ynvbUU7N4/yMKPH4Nu5j9CNvxWPifhP4ZcZ50l8sU/YStzmF8m3z9ipM9sg57FPzWDJyPdTNQ/HE7SklPi0j8qfsz/TlHGPxxK7NN8hdE/yQhRRsGP4z/uaATw3SHfPzWeVeEY+88/s1WJvtzn1D/cEVZeRQ3ZPwzgr3I+7tc/C/pJWrnS3D8qi0fAnoXYPweiuZ/CPts/dE3hHMlT1T8=",
            "dtype": "f8"
           },
           "xaxis": "x",
           "y": {
            "bdata": "1TvxRg4Bnj8kj3krREKhPyM2EDZ+yZs/bMFJOX2Rmz9UchvlrPmjP2pm+NTPGaY/AOCWnugcpj/Z0RCX1T6iP6kdLMLYUZM/Ys5Ztf55pz9MtrlyhM2dP/egmgDVmJo/PoZtof+4nj9av50jKeiYP+b1/UyioaA/j4c3eY56pD8XXbP28FOgP5dQlLqINZ0/5KudlkUwpD9K8CFisvGjP4UQdko9CqA//JwRw82OpT8Bimfg+YWeP9i1VpO3E6A/OJzqPlzcoD8=",
            "dtype": "f8"
           },
           "yaxis": "y"
          }
         ],
         "name": "2017"
        },
        {
         "data": [
          {
           "hovertemplate": "<b>%{hovertext}</b><br><br>Year=2018<br>PSP_6=%{x}<br>PSE_6=%{y}<br>Country=%{text}<br>PSE_6_latest=%{marker.color}<extra></extra>",
           "hovertext": [
            "Colombia",
            "Guatemala",
            "Kazakhstan",
            "Myanmar",
            "Peru",
            "Serbia",
            "Uruguay"
           ],
           "ids": [
            "Colombia",
            "Guatemala",
            "Kazakhstan",
            "Myanmar",
            "Peru",
            "Serbia",
            "Uruguay"
           ],
           "legendgroup": "",
           "marker": {
            "color": {
             "bdata": "6W/IKNpfnj+BEZ0UNoCUP6TEV7tiAp4/CNQE6mmfmz8G2oaKDGadPzHwAT91x58/9bVAbErOnz8=",
             "dtype": "f8"
            },
            "coloraxis": "coloraxis",
            "symbol": "circle"
           },
           "mode": "markers+text",
           "name": "",
           "orientation": "v",
           "showlegend": false,
           "text": [
            "Colombia",
            "Guatemala",
            "Kazakhstan",
            "Myanmar",
            "Peru",
            "Serbia",
            "Uruguay"
           ],
           "type": "scatter",
           "x": {
            "bdata": "oeho/i3w1j+XW7OOHhjHP3jhQB4UYsQ/HuREAP26xT9GYUz9LPfPPzws+8IeEdg/cAxD6Oe52z8=",
            "dtype": "f8"
           },
           "xaxis": "x",
           "y": {
            "bdata": "6W/IKNpfnj+8mQ79iPqTP6TEV7tiAp4/oot8Ys96mT/CFzwf4fucPzHwAT91x58/9bVAbErOnz8=",
            "dtype": "f8"
           },
           "yaxis": "y"
          }
         ],
         "name": "2018"
        },
        {
         "data": [
          {
           "hovertemplate": "<b>%{hovertext}</b><br><br>Year=2019<br>PSP_6=%{x}<br>PSE_6=%{y}<br>Country=%{text}<br>PSE_6_latest=%{marker.color}<extra></extra>",
           "hovertext": [
            "Guatemala",
            "Myanmar",
            "Peru"
           ],
           "ids": [
            "Guatemala",
            "Myanmar",
            "Peru"
           ],
           "legendgroup": "",
           "marker": {
            "color": {
             "bdata": "gRGdFDaAlD8I1ATqaZ+bPwbahooMZp0/",
             "dtype": "f8"
            },
            "coloraxis": "coloraxis",
            "symbol": "circle"
           },
           "mode": "markers+text",
           "name": "",
           "orientation": "v",
           "showlegend": false,
           "text": [
            "Guatemala",
            "Myanmar",
            "Peru"
           ],
           "type": "scatter",
           "x": {
            "bdata": "xEYCA+ENyD9OOyk6YsHEP3IuftiOgtA/",
            "dtype": "f8"
           },
           "xaxis": "x",
           "y": {
            "bdata": "gRGdFDaAlD8I1ATqaZ+bPwbahooMZp0/",
            "dtype": "f8"
           },
           "yaxis": "y"
          }
         ],
         "name": "2019"
        }
       ],
       "layout": {
        "coloraxis": {
         "colorbar": {
          "tickformat": ".3f",
          "title": {
           "text": "Efficiency (Latest PSE_6)"
          }
         },
         "colorscale": [
          [
           0,
           "rgb(165,0,38)"
          ],
          [
           0.1,
           "rgb(215,48,39)"
          ],
          [
           0.2,
           "rgb(244,109,67)"
          ],
          [
           0.3,
           "rgb(253,174,97)"
          ],
          [
           0.4,
           "rgb(254,224,139)"
          ],
          [
           0.5,
           "rgb(255,255,191)"
          ],
          [
           0.6,
           "rgb(217,239,139)"
          ],
          [
           0.7,
           "rgb(166,217,106)"
          ],
          [
           0.8,
           "rgb(102,189,99)"
          ],
          [
           0.9,
           "rgb(26,152,80)"
          ],
          [
           1,
           "rgb(0,104,55)"
          ]
         ]
        },
        "height": 600,
        "legend": {
         "tracegroupgap": 0
        },
        "sliders": [
         {
          "active": 0,
          "currentvalue": {
           "prefix": "Year="
          },
          "len": 0.9,
          "pad": {
           "b": 10,
           "t": 60
          },
          "steps": [
           {
            "args": [
             [
              "2000"
             ],
             {
              "frame": {
               "duration": 0,
               "redraw": false
              },
              "fromcurrent": true,
              "mode": "immediate",
              "transition": {
               "duration": 0,
               "easing": "linear"
              }
             }
            ],
            "label": "2000",
            "method": "animate"
           },
           {
            "args": [
             [
              "2001"
             ],
             {
              "frame": {
               "duration": 0,
               "redraw": false
              },
              "fromcurrent": true,
              "mode": "immediate",
              "transition": {
               "duration": 0,
               "easing": "linear"
              }
             }
            ],
            "label": "2001",
            "method": "animate"
           },
           {
            "args": [
             [
              "2002"
             ],
             {
              "frame": {
               "duration": 0,
               "redraw": false
              },
              "fromcurrent": true,
              "mode": "immediate",
              "transition": {
               "duration": 0,
               "easing": "linear"
              }
             }
            ],
            "label": "2002",
            "method": "animate"
           },
           {
            "args": [
             [
              "2003"
             ],
             {
              "frame": {
               "duration": 0,
               "redraw": false
              },
              "fromcurrent": true,
              "mode": "immediate",
              "transition": {
               "duration": 0,
               "easing": "linear"
              }
             }
            ],
            "label": "2003",
            "method": "animate"
           },
           {
            "args": [
             [
              "2004"
             ],
             {
              "frame": {
               "duration": 0,
               "redraw": false
              },
              "fromcurrent": true,
              "mode": "immediate",
              "transition": {
               "duration": 0,
               "easing": "linear"
              }
             }
            ],
            "label": "2004",
            "method": "animate"
           },
           {
            "args": [
             [
              "2005"
             ],
             {
              "frame": {
               "duration": 0,
               "redraw": false
              },
              "fromcurrent": true,
              "mode": "immediate",
              "transition": {
               "duration": 0,
               "easing": "linear"
              }
             }
            ],
            "label": "2005",
            "method": "animate"
           },
           {
            "args": [
             [
              "2006"
             ],
             {
              "frame": {
               "duration": 0,
               "redraw": false
              },
              "fromcurrent": true,
              "mode": "immediate",
              "transition": {
               "duration": 0,
               "easing": "linear"
              }
             }
            ],
            "label": "2006",
            "method": "animate"
           },
           {
            "args": [
             [
              "2007"
             ],
             {
              "frame": {
               "duration": 0,
               "redraw": false
              },
              "fromcurrent": true,
              "mode": "immediate",
              "transition": {
               "duration": 0,
               "easing": "linear"
              }
             }
            ],
            "label": "2007",
            "method": "animate"
           },
           {
            "args": [
             [
              "2008"
             ],
             {
              "frame": {
               "duration": 0,
               "redraw": false
              },
              "fromcurrent": true,
              "mode": "immediate",
              "transition": {
               "duration": 0,
               "easing": "linear"
              }
             }
            ],
            "label": "2008",
            "method": "animate"
           },
           {
            "args": [
             [
              "2009"
             ],
             {
              "frame": {
               "duration": 0,
               "redraw": false
              },
              "fromcurrent": true,
              "mode": "immediate",
              "transition": {
               "duration": 0,
               "easing": "linear"
              }
             }
            ],
            "label": "2009",
            "method": "animate"
           },
           {
            "args": [
             [
              "2010"
             ],
             {
              "frame": {
               "duration": 0,
               "redraw": false
              },
              "fromcurrent": true,
              "mode": "immediate",
              "transition": {
               "duration": 0,
               "easing": "linear"
              }
             }
            ],
            "label": "2010",
            "method": "animate"
           },
           {
            "args": [
             [
              "2011"
             ],
             {
              "frame": {
               "duration": 0,
               "redraw": false
              },
              "fromcurrent": true,
              "mode": "immediate",
              "transition": {
               "duration": 0,
               "easing": "linear"
              }
             }
            ],
            "label": "2011",
            "method": "animate"
           },
           {
            "args": [
             [
              "2012"
             ],
             {
              "frame": {
               "duration": 0,
               "redraw": false
              },
              "fromcurrent": true,
              "mode": "immediate",
              "transition": {
               "duration": 0,
               "easing": "linear"
              }
             }
            ],
            "label": "2012",
            "method": "animate"
           },
           {
            "args": [
             [
              "2013"
             ],
             {
              "frame": {
               "duration": 0,
               "redraw": false
              },
              "fromcurrent": true,
              "mode": "immediate",
              "transition": {
               "duration": 0,
               "easing": "linear"
              }
             }
            ],
            "label": "2013",
            "method": "animate"
           },
           {
            "args": [
             [
              "2014"
             ],
             {
              "frame": {
               "duration": 0,
               "redraw": false
              },
              "fromcurrent": true,
              "mode": "immediate",
              "transition": {
               "duration": 0,
               "easing": "linear"
              }
             }
            ],
            "label": "2014",
            "method": "animate"
           },
           {
            "args": [
             [
              "2015"
             ],
             {
              "frame": {
               "duration": 0,
               "redraw": false
              },
              "fromcurrent": true,
              "mode": "immediate",
              "transition": {
               "duration": 0,
               "easing": "linear"
              }
             }
            ],
            "label": "2015",
            "method": "animate"
           },
           {
            "args": [
             [
              "2016"
             ],
             {
              "frame": {
               "duration": 0,
               "redraw": false
              },
              "fromcurrent": true,
              "mode": "immediate",
              "transition": {
               "duration": 0,
               "easing": "linear"
              }
             }
            ],
            "label": "2016",
            "method": "animate"
           },
           {
            "args": [
             [
              "2017"
             ],
             {
              "frame": {
               "duration": 0,
               "redraw": false
              },
              "fromcurrent": true,
              "mode": "immediate",
              "transition": {
               "duration": 0,
               "easing": "linear"
              }
             }
            ],
            "label": "2017",
            "method": "animate"
           },
           {
            "args": [
             [
              "2018"
             ],
             {
              "frame": {
               "duration": 0,
               "redraw": false
              },
              "fromcurrent": true,
              "mode": "immediate",
              "transition": {
               "duration": 0,
               "easing": "linear"
              }
             }
            ],
            "label": "2018",
            "method": "animate"
           },
           {
            "args": [
             [
              "2019"
             ],
             {
              "frame": {
               "duration": 0,
               "redraw": false
              },
              "fromcurrent": true,
              "mode": "immediate",
              "transition": {
               "duration": 0,
               "easing": "linear"
              }
             }
            ],
            "label": "2019",
            "method": "animate"
           }
          ],
          "x": 0.1,
          "xanchor": "left",
          "y": 0,
          "yanchor": "top"
         }
        ],
        "template": {
         "data": {
          "bar": [
           {
            "error_x": {
             "color": "#2a3f5f"
            },
            "error_y": {
             "color": "#2a3f5f"
            },
            "marker": {
             "line": {
              "color": "#E5ECF6",
              "width": 0.5
             },
             "pattern": {
              "fillmode": "overlay",
              "size": 10,
              "solidity": 0.2
             }
            },
            "type": "bar"
           }
          ],
          "barpolar": [
           {
            "marker": {
             "line": {
              "color": "#E5ECF6",
              "width": 0.5
             },
             "pattern": {
              "fillmode": "overlay",
              "size": 10,
              "solidity": 0.2
             }
            },
            "type": "barpolar"
           }
          ],
          "carpet": [
           {
            "aaxis": {
             "endlinecolor": "#2a3f5f",
             "gridcolor": "white",
             "linecolor": "white",
             "minorgridcolor": "white",
             "startlinecolor": "#2a3f5f"
            },
            "baxis": {
             "endlinecolor": "#2a3f5f",
             "gridcolor": "white",
             "linecolor": "white",
             "minorgridcolor": "white",
             "startlinecolor": "#2a3f5f"
            },
            "type": "carpet"
           }
          ],
          "choropleth": [
           {
            "colorbar": {
             "outlinewidth": 0,
             "ticks": ""
            },
            "type": "choropleth"
           }
          ],
          "contour": [
           {
            "colorbar": {
             "outlinewidth": 0,
             "ticks": ""
            },
            "colorscale": [
             [
              0,
              "#0d0887"
             ],
             [
              0.1111111111111111,
              "#46039f"
             ],
             [
              0.2222222222222222,
              "#7201a8"
             ],
             [
              0.3333333333333333,
              "#9c179e"
             ],
             [
              0.4444444444444444,
              "#bd3786"
             ],
             [
              0.5555555555555556,
              "#d8576b"
             ],
             [
              0.6666666666666666,
              "#ed7953"
             ],
             [
              0.7777777777777778,
              "#fb9f3a"
             ],
             [
              0.8888888888888888,
              "#fdca26"
             ],
             [
              1,
              "#f0f921"
             ]
            ],
            "type": "contour"
           }
          ],
          "contourcarpet": [
           {
            "colorbar": {
             "outlinewidth": 0,
             "ticks": ""
            },
            "type": "contourcarpet"
           }
          ],
          "heatmap": [
           {
            "colorbar": {
             "outlinewidth": 0,
             "ticks": ""
            },
            "colorscale": [
             [
              0,
              "#0d0887"
             ],
             [
              0.1111111111111111,
              "#46039f"
             ],
             [
              0.2222222222222222,
              "#7201a8"
             ],
             [
              0.3333333333333333,
              "#9c179e"
             ],
             [
              0.4444444444444444,
              "#bd3786"
             ],
             [
              0.5555555555555556,
              "#d8576b"
             ],
             [
              0.6666666666666666,
              "#ed7953"
             ],
             [
              0.7777777777777778,
              "#fb9f3a"
             ],
             [
              0.8888888888888888,
              "#fdca26"
             ],
             [
              1,
              "#f0f921"
             ]
            ],
            "type": "heatmap"
           }
          ],
          "histogram": [
           {
            "marker": {
             "pattern": {
              "fillmode": "overlay",
              "size": 10,
              "solidity": 0.2
             }
            },
            "type": "histogram"
           }
          ],
          "histogram2d": [
           {
            "colorbar": {
             "outlinewidth": 0,
             "ticks": ""
            },
            "colorscale": [
             [
              0,
              "#0d0887"
             ],
             [
              0.1111111111111111,
              "#46039f"
             ],
             [
              0.2222222222222222,
              "#7201a8"
             ],
             [
              0.3333333333333333,
              "#9c179e"
             ],
             [
              0.4444444444444444,
              "#bd3786"
             ],
             [
              0.5555555555555556,
              "#d8576b"
             ],
             [
              0.6666666666666666,
              "#ed7953"
             ],
             [
              0.7777777777777778,
              "#fb9f3a"
             ],
             [
              0.8888888888888888,
              "#fdca26"
             ],
             [
              1,
              "#f0f921"
             ]
            ],
            "type": "histogram2d"
           }
          ],
          "histogram2dcontour": [
           {
            "colorbar": {
             "outlinewidth": 0,
             "ticks": ""
            },
            "colorscale": [
             [
              0,
              "#0d0887"
             ],
             [
              0.1111111111111111,
              "#46039f"
             ],
             [
              0.2222222222222222,
              "#7201a8"
             ],
             [
              0.3333333333333333,
              "#9c179e"
             ],
             [
              0.4444444444444444,
              "#bd3786"
             ],
             [
              0.5555555555555556,
              "#d8576b"
             ],
             [
              0.6666666666666666,
              "#ed7953"
             ],
             [
              0.7777777777777778,
              "#fb9f3a"
             ],
             [
              0.8888888888888888,
              "#fdca26"
             ],
             [
              1,
              "#f0f921"
             ]
            ],
            "type": "histogram2dcontour"
           }
          ],
          "mesh3d": [
           {
            "colorbar": {
             "outlinewidth": 0,
             "ticks": ""
            },
            "type": "mesh3d"
           }
          ],
          "parcoords": [
           {
            "line": {
             "colorbar": {
              "outlinewidth": 0,
              "ticks": ""
             }
            },
            "type": "parcoords"
           }
          ],
          "pie": [
           {
            "automargin": true,
            "type": "pie"
           }
          ],
          "scatter": [
           {
            "fillpattern": {
             "fillmode": "overlay",
             "size": 10,
             "solidity": 0.2
            },
            "type": "scatter"
           }
          ],
          "scatter3d": [
           {
            "line": {
             "colorbar": {
              "outlinewidth": 0,
              "ticks": ""
             }
            },
            "marker": {
             "colorbar": {
              "outlinewidth": 0,
              "ticks": ""
             }
            },
            "type": "scatter3d"
           }
          ],
          "scattercarpet": [
           {
            "marker": {
             "colorbar": {
              "outlinewidth": 0,
              "ticks": ""
             }
            },
            "type": "scattercarpet"
           }
          ],
          "scattergeo": [
           {
            "marker": {
             "colorbar": {
              "outlinewidth": 0,
              "ticks": ""
             }
            },
            "type": "scattergeo"
           }
          ],
          "scattergl": [
           {
            "marker": {
             "colorbar": {
              "outlinewidth": 0,
              "ticks": ""
             }
            },
            "type": "scattergl"
           }
          ],
          "scattermap": [
           {
            "marker": {
             "colorbar": {
              "outlinewidth": 0,
              "ticks": ""
             }
            },
            "type": "scattermap"
           }
          ],
          "scattermapbox": [
           {
            "marker": {
             "colorbar": {
              "outlinewidth": 0,
              "ticks": ""
             }
            },
            "type": "scattermapbox"
           }
          ],
          "scatterpolar": [
           {
            "marker": {
             "colorbar": {
              "outlinewidth": 0,
              "ticks": ""
             }
            },
            "type": "scatterpolar"
           }
          ],
          "scatterpolargl": [
           {
            "marker": {
             "colorbar": {
              "outlinewidth": 0,
              "ticks": ""
             }
            },
            "type": "scatterpolargl"
           }
          ],
          "scatterternary": [
           {
            "marker": {
             "colorbar": {
              "outlinewidth": 0,
              "ticks": ""
             }
            },
            "type": "scatterternary"
           }
          ],
          "surface": [
           {
            "colorbar": {
             "outlinewidth": 0,
             "ticks": ""
            },
            "colorscale": [
             [
              0,
              "#0d0887"
             ],
             [
              0.1111111111111111,
              "#46039f"
             ],
             [
              0.2222222222222222,
              "#7201a8"
             ],
             [
              0.3333333333333333,
              "#9c179e"
             ],
             [
              0.4444444444444444,
              "#bd3786"
             ],
             [
              0.5555555555555556,
              "#d8576b"
             ],
             [
              0.6666666666666666,
              "#ed7953"
             ],
             [
              0.7777777777777778,
              "#fb9f3a"
             ],
             [
              0.8888888888888888,
              "#fdca26"
             ],
             [
              1,
              "#f0f921"
             ]
            ],
            "type": "surface"
           }
          ],
          "table": [
           {
            "cells": {
             "fill": {
              "color": "#EBF0F8"
             },
             "line": {
              "color": "white"
             }
            },
            "header": {
             "fill": {
              "color": "#C8D4E3"
             },
             "line": {
              "color": "white"
             }
            },
            "type": "table"
           }
          ]
         },
         "layout": {
          "annotationdefaults": {
           "arrowcolor": "#2a3f5f",
           "arrowhead": 0,
           "arrowwidth": 1
          },
          "autotypenumbers": "strict",
          "coloraxis": {
           "colorbar": {
            "outlinewidth": 0,
            "ticks": ""
           }
          },
          "colorscale": {
           "diverging": [
            [
             0,
             "#8e0152"
            ],
            [
             0.1,
             "#c51b7d"
            ],
            [
             0.2,
             "#de77ae"
            ],
            [
             0.3,
             "#f1b6da"
            ],
            [
             0.4,
             "#fde0ef"
            ],
            [
             0.5,
             "#f7f7f7"
            ],
            [
             0.6,
             "#e6f5d0"
            ],
            [
             0.7,
             "#b8e186"
            ],
            [
             0.8,
             "#7fbc41"
            ],
            [
             0.9,
             "#4d9221"
            ],
            [
             1,
             "#276419"
            ]
           ],
           "sequential": [
            [
             0,
             "#0d0887"
            ],
            [
             0.1111111111111111,
             "#46039f"
            ],
            [
             0.2222222222222222,
             "#7201a8"
            ],
            [
             0.3333333333333333,
             "#9c179e"
            ],
            [
             0.4444444444444444,
             "#bd3786"
            ],
            [
             0.5555555555555556,
             "#d8576b"
            ],
            [
             0.6666666666666666,
             "#ed7953"
            ],
            [
             0.7777777777777778,
             "#fb9f3a"
            ],
            [
             0.8888888888888888,
             "#fdca26"
            ],
            [
             1,
             "#f0f921"
            ]
           ],
           "sequentialminus": [
            [
             0,
             "#0d0887"
            ],
            [
             0.1111111111111111,
             "#46039f"
            ],
            [
             0.2222222222222222,
             "#7201a8"
            ],
            [
             0.3333333333333333,
             "#9c179e"
            ],
            [
             0.4444444444444444,
             "#bd3786"
            ],
            [
             0.5555555555555556,
             "#d8576b"
            ],
            [
             0.6666666666666666,
             "#ed7953"
            ],
            [
             0.7777777777777778,
             "#fb9f3a"
            ],
            [
             0.8888888888888888,
             "#fdca26"
            ],
            [
             1,
             "#f0f921"
            ]
           ]
          },
          "colorway": [
           "#636efa",
           "#EF553B",
           "#00cc96",
           "#ab63fa",
           "#FFA15A",
           "#19d3f3",
           "#FF6692",
           "#B6E880",
           "#FF97FF",
           "#FECB52"
          ],
          "font": {
           "color": "#2a3f5f"
          },
          "geo": {
           "bgcolor": "white",
           "lakecolor": "white",
           "landcolor": "#E5ECF6",
           "showlakes": true,
           "showland": true,
           "subunitcolor": "white"
          },
          "hoverlabel": {
           "align": "left"
          },
          "hovermode": "closest",
          "mapbox": {
           "style": "light"
          },
          "paper_bgcolor": "white",
          "plot_bgcolor": "#E5ECF6",
          "polar": {
           "angularaxis": {
            "gridcolor": "white",
            "linecolor": "white",
            "ticks": ""
           },
           "bgcolor": "#E5ECF6",
           "radialaxis": {
            "gridcolor": "white",
            "linecolor": "white",
            "ticks": ""
           }
          },
          "scene": {
           "xaxis": {
            "backgroundcolor": "#E5ECF6",
            "gridcolor": "white",
            "gridwidth": 2,
            "linecolor": "white",
            "showbackground": true,
            "ticks": "",
            "zerolinecolor": "white"
           },
           "yaxis": {
            "backgroundcolor": "#E5ECF6",
            "gridcolor": "white",
            "gridwidth": 2,
            "linecolor": "white",
            "showbackground": true,
            "ticks": "",
            "zerolinecolor": "white"
           },
           "zaxis": {
            "backgroundcolor": "#E5ECF6",
            "gridcolor": "white",
            "gridwidth": 2,
            "linecolor": "white",
            "showbackground": true,
            "ticks": "",
            "zerolinecolor": "white"
           }
          },
          "shapedefaults": {
           "line": {
            "color": "#2a3f5f"
           }
          },
          "ternary": {
           "aaxis": {
            "gridcolor": "white",
            "linecolor": "white",
            "ticks": ""
           },
           "baxis": {
            "gridcolor": "white",
            "linecolor": "white",
            "ticks": ""
           },
           "bgcolor": "#E5ECF6",
           "caxis": {
            "gridcolor": "white",
            "linecolor": "white",
            "ticks": ""
           }
          },
          "title": {
           "x": 0.05
          },
          "xaxis": {
           "automargin": true,
           "gridcolor": "white",
           "linecolor": "white",
           "ticks": "",
           "title": {
            "standoff": 15
           },
           "zerolinecolor": "white",
           "zerolinewidth": 2
          },
          "yaxis": {
           "automargin": true,
           "gridcolor": "white",
           "linecolor": "white",
           "ticks": "",
           "title": {
            "standoff": 15
           },
           "zerolinecolor": "white",
           "zerolinewidth": 2
          }
         }
        },
        "title": {
         "text": "Public Sector Performance vs Efficiency (6 Indicators) Over Time"
        },
        "updatemenus": [
         {
          "buttons": [
           {
            "args": [
             null,
             {
              "frame": {
               "duration": 500,
               "redraw": false
              },
              "fromcurrent": true,
              "mode": "immediate",
              "transition": {
               "duration": 500,
               "easing": "linear"
              }
             }
            ],
            "label": "&#9654;",
            "method": "animate"
           },
           {
            "args": [
             [
              null
             ],
             {
              "frame": {
               "duration": 0,
               "redraw": false
              },
              "fromcurrent": true,
              "mode": "immediate",
              "transition": {
               "duration": 0,
               "easing": "linear"
              }
             }
            ],
            "label": "&#9724;",
            "method": "animate"
           }
          ],
          "direction": "left",
          "pad": {
           "r": 10,
           "t": 70
          },
          "showactive": false,
          "type": "buttons",
          "x": 0.1,
          "xanchor": "right",
          "y": 0,
          "yanchor": "top"
         }
        ],
        "xaxis": {
         "anchor": "y",
         "domain": [
          0,
          1
         ],
         "range": [
          0,
          1
         ],
         "title": {
          "text": "PSP_6"
         }
        },
        "yaxis": {
         "anchor": "x",
         "domain": [
          0,
          1
         ],
         "range": [
          0,
          0.05947719534992588
         ],
         "title": {
          "text": "PSE_6"
         }
        }
       }
      }
     },
     "metadata": {},
     "output_type": "display_data"
    }
   ],
   "source": [
    "import pandas as pd\n",
    "import plotly.express as px\n",
    "\n",
    "# Load dataset\n",
    "df = pd.read_csv(\"../data/processed/psp_pse_results_4_and_6.csv\")\n",
    "\n",
    "# Drop missing values\n",
    "df = df.dropna(subset=[\"PSP_6\", \"PSE_6\", \"Year\", \"Country\"])\n",
    "\n",
    "# Calculate latest PSE_6 per country\n",
    "latest_pse = (\n",
    "    df.sort_values(\"Year\")\n",
    "      .groupby(\"Country\")\n",
    "      .tail(1)[[\"Country\", \"PSE_6\"]]\n",
    "      .rename(columns={\"PSE_6\": \"PSE_6_latest\"})\n",
    ")\n",
    "\n",
    "# Merge back to main dataframe\n",
    "df = df.merge(latest_pse, on=\"Country\", how=\"left\")\n",
    "\n",
    "# Create animated scatter plot\n",
    "fig = px.scatter(\n",
    "    df,\n",
    "    x=\"PSP_6\",\n",
    "    y=\"PSE_6\",\n",
    "    animation_frame=\"Year\",\n",
    "    animation_group=\"Country\",\n",
    "    color=\"PSE_6_latest\",\n",
    "    color_continuous_scale=\"RdYlGn\",  # Red (low) to Green (high)\n",
    "    text=\"Country\",\n",
    "    hover_name=\"Country\",\n",
    "    size_max=40,\n",
    "    range_x=[0, 1],\n",
    "    range_y=[0, df[\"PSE_6\"].max() * 1.1],\n",
    "    title=\"Public Sector Performance vs Efficiency (6 Indicators) Over Time\"\n",
    ")\n",
    "\n",
    "fig.update_traces(marker=dict(size=8), textposition='top center')\n",
    "fig.update_layout(\n",
    "    height=600,\n",
    "    coloraxis_colorbar=dict(title=\"Efficiency (Latest PSE_6)\", tickformat=\".3f\")\n",
    ")\n",
    "fig.show()\n"
   ]
  },
  {
   "cell_type": "markdown",
   "id": "1c4a5cc3",
   "metadata": {},
   "source": [
    "### 📝 Note: Health Expenditure Efficiency Index (HEEI)\n",
    "\n",
    "This index evaluates how efficiently countries convert public health spending into better health outcomes. The model uses normalized indicators such as life expectancy and mortality rates to compute a composite outcome score. The efficiency index is calculated as:\n",
    "\n",
    "**HEEI = Health Outcome Score / Health Expenditure per Capita**\n",
    "\n",
    "An adjusted version accounts for GDP per capita and the age dependency ratio to reflect contextual factors affecting health system performance.\n"
   ]
  },
  {
   "cell_type": "code",
   "execution_count": null,
   "id": "bfe6c4cf",
   "metadata": {},
   "outputs": [],
   "source": [
    "# Health Expenditure Efficiency Index (HEEI) - Synthetic Example\n",
    "\n",
    "import pandas as pd\n",
    "import numpy as np\n",
    "\n",
    "# Sample synthetic dataset for demonstration\n",
    "# Replace with actual data in future analysis\n",
    "data = {\n",
    "    'Country': ['A', 'B', 'C', 'D', 'E'],\n",
    "    'Health_Expenditure_Per_Capita': [500, 1500, 800, 200, 1200],\n",
    "    'Life_Expectancy': [70, 82, 75, 65, 78],\n",
    "    'Infant_Mortality_Rate': [30, 4, 10, 50, 6],\n",
    "    'Under5_Mortality_Rate': [40, 5, 12, 70, 8],\n",
    "    'GDP_per_Capita': [2000, 40000, 10000, 1500, 25000],\n",
    "    'Dependency_Ratio': [60, 50, 55, 65, 52]\n",
    "}\n",
    "\n",
    "df = pd.DataFrame(data)\n",
    "\n",
    "# --- Normalize health outcome variables ---\n",
    "# Higher is better\n",
    "df['Norm_Life_Expectancy'] = (\n",
    "    df['Life_Expectancy'] - df['Life_Expectancy'].min()\n",
    ") / (df['Life_Expectancy'].max() - df['Life_Expectancy'].min())\n",
    "\n",
    "# Lower is better — so we invert the scale\n",
    "df['Norm_Infant_Mortality'] = 1 - (\n",
    "    df['Infant_Mortality_Rate'] - df['Infant_Mortality_Rate'].min()\n",
    ") / (df['Infant_Mortality_Rate'].max() - df['Infant_Mortality_Rate'].min())\n",
    "\n",
    "df['Norm_U5_Mortality'] = 1 - (\n",
    "    df['Under5_Mortality_Rate'] - df['Under5_Mortality_Rate'].min()\n",
    ") / (df['Under5_Mortality_Rate'].max() - df['Under5_Mortality_Rate'].min())\n",
    "\n",
    "# Composite health outcome score (equal weights)\n",
    "df['Health_Outcome_Score'] = df[\n",
    "    ['Norm_Life_Expectancy', 'Norm_Infant_Mortality', 'Norm_U5_Mortality']\n",
    "].mean(axis=1)\n",
    "\n",
    "# Efficiency: outcome per dollar spent\n",
    "df['Health_Efficiency_Index'] = (\n",
    "    df['Health_Outcome_Score'] / df['Health_Expenditure_Per_Capita']\n",
    ")\n",
    "\n",
    "# Optional: Adjusted index to account for GDP and demographic pressure\n",
    "df['Adjusted_Health_Efficiency_Index'] = (\n",
    "    df['Health_Efficiency_Index']\n",
    "    * (df['GDP_per_Capita'] / 10000)  # normalize GDP\n",
    "    * (100 / df['Dependency_Ratio'])  # inverse of burden\n",
    ")\n",
    "\n",
    "# Display the resulting index\n",
    "df_sorted = df[['Country', 'Health_Efficiency_Index', 'Adjusted_Health_Efficiency_Index']]\n",
    "print(\"Health Expenditure Efficiency Index (HEEI):\")\n",
    "display(df_sorted.round(6))\n"
   ]
  }
 ],
 "metadata": {
  "kernelspec": {
   "display_name": "Python 3",
   "language": "python",
   "name": "python3"
  },
  "language_info": {
   "codemirror_mode": {
    "name": "ipython",
    "version": 3
   },
   "file_extension": ".py",
   "mimetype": "text/x-python",
   "name": "python",
   "nbconvert_exporter": "python",
   "pygments_lexer": "ipython3",
   "version": "3.11.9"
  }
 },
 "nbformat": 4,
 "nbformat_minor": 5
}
