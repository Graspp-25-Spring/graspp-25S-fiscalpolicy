{
 "cells": [
  {
   "cell_type": "markdown",
   "id": "b9fed85b",
   "metadata": {},
   "source": [
    "## integrate R&D and contribution revenue into a broader index"
   ]
  },
  {
   "cell_type": "markdown",
   "id": "1c4a5cc3",
   "metadata": {},
   "source": [
    "### 📝 Note: Health Expenditure Performance Index (HEP)\n",
    "\n",
    "**HEE = Health Expenditure Efficiency Index (HEE)\n",
    "\n",
    "Clean the following data (for missing data)\n",
    "Life expectancy, Infant Mortality, Average Schooling (years), Learning Outcome, Health Expenditure,Education Expenditure\n",
    "\n",
    "Replicate PSP model by using the following data to generate HEP(Health Expenditure Performance) \n",
    "Independent variables = Life expectancy, Infant Mortality, Average Schooling (years), Learning Outcome\n",
    "\n",
    "After that we will generate HEE (Health Expenditure Efficiency) by divided the HEP with Expenditure\n",
    "HEE = HEP/(Health Expenditure + Education Expenditure)\n",
    "\n"
   ]
  },
  {
   "cell_type": "code",
   "execution_count": 18,
   "id": "7fa4969d",
   "metadata": {},
   "outputs": [
    {
     "name": "stdout",
     "output_type": "stream",
     "text": [
      "✅ HEP & HEE calculated and saved successfully.\n",
      "     ISO3  Year         income_level       HEP       HEE\n",
      "1237  VNM  2004  Lower middle income  0.683046  0.076108\n",
      "1238  VNM  2003  Lower middle income  0.678494  0.076848\n",
      "1239  VNM  2002  Lower middle income  0.671862  0.076719\n",
      "1240  VNM  2001  Lower middle income  0.664594  0.068601\n",
      "1241  VNM  2000  Lower middle income  0.656241  0.072962\n"
     ]
    }
   ],
   "source": [
    "import pandas as pd\n",
    "import os\n",
    "\n",
    "# === Step 1: Load and clean merged data ===\n",
    "\n",
    "# Adjusted path: go up one level from notebooks/ to access data/interim\n",
    "df = pd.read_csv(\"../data/interim/merged_data.csv\")\n",
    "\n",
    "# Filter to only include years up to 2022\n",
    "df = df[df[\"Year\"] <= 2022]\n",
    "\n",
    "# Sort by Country and Year (most recent first) for proper fill\n",
    "df = df.sort_values(by=[\"Country\", \"Year\"], ascending=[True, False])\n",
    "\n",
    "# Fill missing values using most recent data available (backward then forward fill)\n",
    "df_cleaned = (\n",
    "    df.groupby(\"Country\", group_keys=False)\n",
    "      .apply(lambda g: g.bfill().ffill(), include_groups=False)\n",
    "      .reset_index(drop=True)\n",
    ")\n",
    "\n",
    "# Save cleaned data\n",
    "os.makedirs(\"../data/processed\", exist_ok=True)\n",
    "df_cleaned.to_csv(\"../data/processed/merged_data_clean.csv\", index=False)\n",
    "\n",
    "# === Step 2: Normalize performance indicators ===\n",
    "\n",
    "def normalize(series):\n",
    "    return (series - series.min()) / (series.max() - series.min())\n",
    "\n",
    "df_norm = df_cleaned.copy()\n",
    "\n",
    "# Apply normalization (adjust columns to exact spelling)\n",
    "df_norm[\"life_expectancy_norm\"] = normalize(df_norm[\"Life_Expectancy\"])\n",
    "df_norm[\"infant_mortality_norm\"] = 1 - normalize(df_norm[\"Mortality_Rate\"])\n",
    "df_norm[\"average_schooling_norm\"] = normalize(df_norm[\"average_schooling\"])\n",
    "df_norm[\"learning_outcome_norm\"] = normalize(df_norm[\"learning_scores\"])\n",
    "\n",
    "# === Step 3: Calculate HEP and HEE ===\n",
    "\n",
    "df_norm[\"HEP\"] = df_norm[[\n",
    "    \"life_expectancy_norm\",\n",
    "    \"infant_mortality_norm\",\n",
    "    \"average_schooling_norm\",\n",
    "    \"learning_outcome_norm\"\n",
    "]].mean(axis=1)\n",
    "\n",
    "df_norm[\"total_expenditure\"] = (\n",
    "    df_norm[\"Health_Expenditure\"] + df_norm[\"Education_Expenditure\"]\n",
    ")\n",
    "\n",
    "df_norm[\"HEE\"] = df_norm[\"HEP\"] / df_norm[\"total_expenditure\"]\n",
    "\n",
    "\n",
    "result = df_norm[[\"ISO3\", \"Year\", \"income_level\", \"HEP\", \"HEE\"]].copy()\n",
    "# === Step 4: Save only HEP & HEE results ===\n",
    "result = df_norm[[\"ISO3\", \"Year\", \"income_level\", \"HEP\", \"HEE\"]].copy()\n",
    "result.to_csv(\"../data/processed/hep_hee_results.csv\", index=False)\n",
    "\n",
    "print(\"✅ HEP & HEE calculated and saved successfully.\")\n",
    "print(result.tail())\n",
    "\n"
   ]
  },
  {
   "cell_type": "markdown",
   "id": "a064c8ac",
   "metadata": {},
   "source": [
    "Add region"
   ]
  },
  {
   "cell_type": "code",
   "execution_count": 21,
   "id": "5fe0b361",
   "metadata": {},
   "outputs": [
    {
     "name": "stdout",
     "output_type": "stream",
     "text": [
      "✅ 'Region' column added and data saved to: ../data/processed/hep_hee_results_with_region.csv\n"
     ]
    }
   ],
   "source": [
    "import pandas as pd\n",
    "import os\n",
    "\n",
    "# === Step 1: Load the data ===\n",
    "data_path = \"../data/processed/hep_hee_results.csv\"\n",
    "df = pd.read_csv(data_path)\n",
    "\n",
    "# === Step 2: Define compact country-to-region mapping ===\n",
    "emea = [\n",
    "    \"ARM\", \"CYP\", \"CZE\", \"EGY\", \"ETH\", \"DEU\", \"GRC\", \"IRL\", \"JOR\", \"KAZ\", \"KEN\", \"KGZ\",\n",
    "    \"LBN\", \"MAR\", \"NLD\", \"NGA\", \"ROU\", \"SRB\", \"SVK\", \"TJK\", \"TUN\", \"TUR\", \"UKR\", \"GBR\", \"UZB\", \"RUS\", \"IRN\"\n",
    "]\n",
    "apac = [\n",
    "    \"AUS\", \"BGD\", \"CHN\", \"IND\", \"IDN\", \"JPN\", \"MYS\", \"MNG\", \"MMR\",\n",
    "    \"NZL\", \"PAK\", \"PHL\", \"SGP\", \"THA\", \"VNM\", \"KOR\"\n",
    "]\n",
    "latam = [\n",
    "    \"ARG\", \"BRA\", \"CHL\", \"ECU\", \"GTM\", \"MEX\", \"NIC\", \"PER\", \"URY\"\n",
    "]\n",
    "na = [\"CAN\", \"USA\"]\n",
    "\n",
    "# Combine into a single dictionary\n",
    "country_region_map = {\n",
    "    **{ISO3: \"EMEA\" for ISO3 in emea},\n",
    "    **{ISO3: \"APAC\" for ISO3 in apac},\n",
    "    **{ISO3: \"LATAM\" for ISO3 in latam},\n",
    "    **{ISO3: \"NA\" for ISO3 in na},\n",
    "}\n",
    "\n",
    "# === Step 3: Map region and validate ===\n",
    "df[\"Region\"] = df[\"ISO3\"].map(country_region_map)\n",
    "unmapped = df[df[\"Region\"].isnull()][\"ISO3\"].unique()\n",
    "\n",
    "if len(unmapped) > 0:\n",
    "    print(\"⚠️ Warning: The following countries couldn't be mapped to a region:\")\n",
    "    for c in unmapped:\n",
    "        print(f\"- {c}\")\n",
    "    print(\"👉 Please update 'country_region_map' with these countries.\")\n",
    "\n",
    "# === Step 4: Save updated file ===\n",
    "output_path = \"../data/processed/hep_hee_results_with_region.csv\"\n",
    "os.makedirs(os.path.dirname(output_path), exist_ok=True)\n",
    "df.to_csv(output_path, index=False)\n",
    "print(f\"✅ 'Region' column added and data saved to: {output_path}\")\n"
   ]
  },
  {
   "cell_type": "markdown",
   "id": "010832c8",
   "metadata": {},
   "source": [
    "Visualize HEE and HEP"
   ]
  },
  {
   "cell_type": "code",
   "execution_count": 24,
   "id": "a547c374",
   "metadata": {},
   "outputs": [
    {
     "data": {
      "application/vnd.plotly.v1+json": {
       "config": {
        "plotlyServerURL": "https://plot.ly"
       },
       "data": [
        {
         "hovertemplate": "<b>%{hovertext}</b><br><br>ISO3=%{text}<br>HEP in 2020=%{x}<br>HEP in 2022=%{y}<extra></extra>",
         "hovertext": [
          "ARG"
         ],
         "legendgroup": "ARG",
         "marker": {
          "color": "#636efa",
          "size": 10,
          "symbol": "circle"
         },
         "mode": "markers+text",
         "name": "ARG",
         "orientation": "v",
         "showlegend": true,
         "text": [
          "ARG"
         ],
         "textposition": "top center",
         "type": "scatter",
         "x": {
          "bdata": "c+8zIaGC5j8=",
          "dtype": "f8"
         },
         "xaxis": "x",
         "y": {
          "bdata": "lmnG9WiO5j8=",
          "dtype": "f8"
         },
         "yaxis": "y"
        },
        {
         "hovertemplate": "<b>%{hovertext}</b><br><br>ISO3=%{text}<br>HEP in 2020=%{x}<br>HEP in 2022=%{y}<extra></extra>",
         "hovertext": [
          "ARM"
         ],
         "legendgroup": "ARM",
         "marker": {
          "color": "#EF553B",
          "size": 10,
          "symbol": "circle"
         },
         "mode": "markers+text",
         "name": "ARM",
         "orientation": "v",
         "showlegend": true,
         "text": [
          "ARM"
         ],
         "textposition": "top center",
         "type": "scatter",
         "x": {
          "bdata": "I30AeNH95j8=",
          "dtype": "f8"
         },
         "xaxis": "x",
         "y": {
          "bdata": "IXwUv6Vf5z8=",
          "dtype": "f8"
         },
         "yaxis": "y"
        },
        {
         "hovertemplate": "<b>%{hovertext}</b><br><br>ISO3=%{text}<br>HEP in 2020=%{x}<br>HEP in 2022=%{y}<extra></extra>",
         "hovertext": [
          "AUS"
         ],
         "legendgroup": "AUS",
         "marker": {
          "color": "#00cc96",
          "size": 10,
          "symbol": "circle"
         },
         "mode": "markers+text",
         "name": "AUS",
         "orientation": "v",
         "showlegend": true,
         "text": [
          "AUS"
         ],
         "textposition": "top center",
         "type": "scatter",
         "x": {
          "bdata": "xJJxGeqi7D8=",
          "dtype": "f8"
         },
         "xaxis": "x",
         "y": {
          "bdata": "XSVyx6zH7D8=",
          "dtype": "f8"
         },
         "yaxis": "y"
        },
        {
         "hovertemplate": "<b>%{hovertext}</b><br><br>ISO3=%{text}<br>HEP in 2020=%{x}<br>HEP in 2022=%{y}<extra></extra>",
         "hovertext": [
          "BGD"
         ],
         "legendgroup": "BGD",
         "marker": {
          "color": "#ab63fa",
          "size": 10,
          "symbol": "circle"
         },
         "mode": "markers+text",
         "name": "BGD",
         "orientation": "v",
         "showlegend": true,
         "text": [
          "BGD"
         ],
         "textposition": "top center",
         "type": "scatter",
         "x": {
          "bdata": "chBLJrSA4D8=",
          "dtype": "f8"
         },
         "xaxis": "x",
         "y": {
          "bdata": "pEgjHpH14D8=",
          "dtype": "f8"
         },
         "yaxis": "y"
        },
        {
         "hovertemplate": "<b>%{hovertext}</b><br><br>ISO3=%{text}<br>HEP in 2020=%{x}<br>HEP in 2022=%{y}<extra></extra>",
         "hovertext": [
          "BRA"
         ],
         "legendgroup": "BRA",
         "marker": {
          "color": "#FFA15A",
          "size": 10,
          "symbol": "circle"
         },
         "mode": "markers+text",
         "name": "BRA",
         "orientation": "v",
         "showlegend": true,
         "text": [
          "BRA"
         ],
         "textposition": "top center",
         "type": "scatter",
         "x": {
          "bdata": "Z+Nf8JU75D8=",
          "dtype": "f8"
         },
         "xaxis": "x",
         "y": {
          "bdata": "p9XNNBNs5D8=",
          "dtype": "f8"
         },
         "yaxis": "y"
        },
        {
         "hovertemplate": "<b>%{hovertext}</b><br><br>ISO3=%{text}<br>HEP in 2020=%{x}<br>HEP in 2022=%{y}<extra></extra>",
         "hovertext": [
          "CAN"
         ],
         "legendgroup": "CAN",
         "marker": {
          "color": "#19d3f3",
          "size": 10,
          "symbol": "circle"
         },
         "mode": "markers+text",
         "name": "CAN",
         "orientation": "v",
         "showlegend": true,
         "text": [
          "CAN"
         ],
         "textposition": "top center",
         "type": "scatter",
         "x": {
          "bdata": "7nzLUtx17T8=",
          "dtype": "f8"
         },
         "xaxis": "x",
         "y": {
          "bdata": "7Oi25nlq7T8=",
          "dtype": "f8"
         },
         "yaxis": "y"
        },
        {
         "hovertemplate": "<b>%{hovertext}</b><br><br>ISO3=%{text}<br>HEP in 2020=%{x}<br>HEP in 2022=%{y}<extra></extra>",
         "hovertext": [
          "CHL"
         ],
         "legendgroup": "CHL",
         "marker": {
          "color": "#FF6692",
          "size": 10,
          "symbol": "circle"
         },
         "mode": "markers+text",
         "name": "CHL",
         "orientation": "v",
         "showlegend": true,
         "text": [
          "CHL"
         ],
         "textposition": "top center",
         "type": "scatter",
         "x": {
          "bdata": "Q3njCOjD6D8=",
          "dtype": "f8"
         },
         "xaxis": "x",
         "y": {
          "bdata": "1h/AVSDX6D8=",
          "dtype": "f8"
         },
         "yaxis": "y"
        },
        {
         "hovertemplate": "<b>%{hovertext}</b><br><br>ISO3=%{text}<br>HEP in 2020=%{x}<br>HEP in 2022=%{y}<extra></extra>",
         "hovertext": [
          "CHN"
         ],
         "legendgroup": "CHN",
         "marker": {
          "color": "#B6E880",
          "size": 10,
          "symbol": "circle"
         },
         "mode": "markers+text",
         "name": "CHN",
         "orientation": "v",
         "showlegend": true,
         "text": [
          "CHN"
         ],
         "textposition": "top center",
         "type": "scatter",
         "x": {
          "bdata": "EvlQ/Ow15j8=",
          "dtype": "f8"
         },
         "xaxis": "x",
         "y": {
          "bdata": "Cfu9YcJc5j8=",
          "dtype": "f8"
         },
         "yaxis": "y"
        },
        {
         "hovertemplate": "<b>%{hovertext}</b><br><br>ISO3=%{text}<br>HEP in 2020=%{x}<br>HEP in 2022=%{y}<extra></extra>",
         "hovertext": [
          "CYP"
         ],
         "legendgroup": "CYP",
         "marker": {
          "color": "#FF97FF",
          "size": 10,
          "symbol": "circle"
         },
         "mode": "markers+text",
         "name": "CYP",
         "orientation": "v",
         "showlegend": true,
         "text": [
          "CYP"
         ],
         "textposition": "top center",
         "type": "scatter",
         "x": {
          "bdata": "NWlfVi++6z8=",
          "dtype": "f8"
         },
         "xaxis": "x",
         "y": {
          "bdata": "zigA3hOh6z8=",
          "dtype": "f8"
         },
         "yaxis": "y"
        },
        {
         "hovertemplate": "<b>%{hovertext}</b><br><br>ISO3=%{text}<br>HEP in 2020=%{x}<br>HEP in 2022=%{y}<extra></extra>",
         "hovertext": [
          "CZE"
         ],
         "legendgroup": "CZE",
         "marker": {
          "color": "#FECB52",
          "size": 10,
          "symbol": "circle"
         },
         "mode": "markers+text",
         "name": "CZE",
         "orientation": "v",
         "showlegend": true,
         "text": [
          "CZE"
         ],
         "textposition": "top center",
         "type": "scatter",
         "x": {
          "bdata": "solVgQO26z8=",
          "dtype": "f8"
         },
         "xaxis": "x",
         "y": {
          "bdata": "ztyzJDjo6z8=",
          "dtype": "f8"
         },
         "yaxis": "y"
        },
        {
         "hovertemplate": "<b>%{hovertext}</b><br><br>ISO3=%{text}<br>HEP in 2020=%{x}<br>HEP in 2022=%{y}<extra></extra>",
         "hovertext": [
          "DEU"
         ],
         "legendgroup": "DEU",
         "marker": {
          "color": "#636efa",
          "size": 10,
          "symbol": "circle"
         },
         "mode": "markers+text",
         "name": "DEU",
         "orientation": "v",
         "showlegend": true,
         "text": [
          "DEU"
         ],
         "textposition": "top center",
         "type": "scatter",
         "x": {
          "bdata": "shK1cds97T8=",
          "dtype": "f8"
         },
         "xaxis": "x",
         "y": {
          "bdata": "txMjlfIr7T8=",
          "dtype": "f8"
         },
         "yaxis": "y"
        },
        {
         "hovertemplate": "<b>%{hovertext}</b><br><br>ISO3=%{text}<br>HEP in 2020=%{x}<br>HEP in 2022=%{y}<extra></extra>",
         "hovertext": [
          "ECU"
         ],
         "legendgroup": "ECU",
         "marker": {
          "color": "#EF553B",
          "size": 10,
          "symbol": "circle"
         },
         "mode": "markers+text",
         "name": "ECU",
         "orientation": "v",
         "showlegend": true,
         "text": [
          "ECU"
         ],
         "textposition": "top center",
         "type": "scatter",
         "x": {
          "bdata": "PLNwbMtZ5D8=",
          "dtype": "f8"
         },
         "xaxis": "x",
         "y": {
          "bdata": "pDtrQYRy5T8=",
          "dtype": "f8"
         },
         "yaxis": "y"
        },
        {
         "hovertemplate": "<b>%{hovertext}</b><br><br>ISO3=%{text}<br>HEP in 2020=%{x}<br>HEP in 2022=%{y}<extra></extra>",
         "hovertext": [
          "EGY"
         ],
         "legendgroup": "EGY",
         "marker": {
          "color": "#00cc96",
          "size": 10,
          "symbol": "circle"
         },
         "mode": "markers+text",
         "name": "EGY",
         "orientation": "v",
         "showlegend": true,
         "text": [
          "EGY"
         ],
         "textposition": "top center",
         "type": "scatter",
         "x": {
          "bdata": "DYVu6ysb4j8=",
          "dtype": "f8"
         },
         "xaxis": "x",
         "y": {
          "bdata": "4VoXstii4j8=",
          "dtype": "f8"
         },
         "yaxis": "y"
        },
        {
         "hovertemplate": "<b>%{hovertext}</b><br><br>ISO3=%{text}<br>HEP in 2020=%{x}<br>HEP in 2022=%{y}<extra></extra>",
         "hovertext": [
          "ETH"
         ],
         "legendgroup": "ETH",
         "marker": {
          "color": "#ab63fa",
          "size": 10,
          "symbol": "circle"
         },
         "mode": "markers+text",
         "name": "ETH",
         "orientation": "v",
         "showlegend": true,
         "text": [
          "ETH"
         ],
         "textposition": "top center",
         "type": "scatter",
         "x": {
          "bdata": "MRdr5Y8k1T8=",
          "dtype": "f8"
         },
         "xaxis": "x",
         "y": {
          "bdata": "JqCYeZX91T8=",
          "dtype": "f8"
         },
         "yaxis": "y"
        },
        {
         "hovertemplate": "<b>%{hovertext}</b><br><br>ISO3=%{text}<br>HEP in 2020=%{x}<br>HEP in 2022=%{y}<extra></extra>",
         "hovertext": [
          "GBR"
         ],
         "legendgroup": "GBR",
         "marker": {
          "color": "#FFA15A",
          "size": 10,
          "symbol": "circle"
         },
         "mode": "markers+text",
         "name": "GBR",
         "orientation": "v",
         "showlegend": true,
         "text": [
          "GBR"
         ],
         "textposition": "top center",
         "type": "scatter",
         "x": {
          "bdata": "jI0G/B6V7D8=",
          "dtype": "f8"
         },
         "xaxis": "x",
         "y": {
          "bdata": "UpV/7BjH7D8=",
          "dtype": "f8"
         },
         "yaxis": "y"
        },
        {
         "hovertemplate": "<b>%{hovertext}</b><br><br>ISO3=%{text}<br>HEP in 2020=%{x}<br>HEP in 2022=%{y}<extra></extra>",
         "hovertext": [
          "GRC"
         ],
         "legendgroup": "GRC",
         "marker": {
          "color": "#19d3f3",
          "size": 10,
          "symbol": "circle"
         },
         "mode": "markers+text",
         "name": "GRC",
         "orientation": "v",
         "showlegend": true,
         "text": [
          "GRC"
         ],
         "textposition": "top center",
         "type": "scatter",
         "x": {
          "bdata": "NSRwfxQP6j8=",
          "dtype": "f8"
         },
         "xaxis": "x",
         "y": {
          "bdata": "PaKfrtoM6j8=",
          "dtype": "f8"
         },
         "yaxis": "y"
        },
        {
         "hovertemplate": "<b>%{hovertext}</b><br><br>ISO3=%{text}<br>HEP in 2020=%{x}<br>HEP in 2022=%{y}<extra></extra>",
         "hovertext": [
          "GTM"
         ],
         "legendgroup": "GTM",
         "marker": {
          "color": "#FF6692",
          "size": 10,
          "symbol": "circle"
         },
         "mode": "markers+text",
         "name": "GTM",
         "orientation": "v",
         "showlegend": true,
         "text": [
          "GTM"
         ],
         "textposition": "top center",
         "type": "scatter",
         "x": {
          "bdata": "dAtqJTnd4D8=",
          "dtype": "f8"
         },
         "xaxis": "x",
         "y": {
          "bdata": "N5bfY5VO4T8=",
          "dtype": "f8"
         },
         "yaxis": "y"
        },
        {
         "hovertemplate": "<b>%{hovertext}</b><br><br>ISO3=%{text}<br>HEP in 2020=%{x}<br>HEP in 2022=%{y}<extra></extra>",
         "hovertext": [
          "IDN"
         ],
         "legendgroup": "IDN",
         "marker": {
          "color": "#B6E880",
          "size": 10,
          "symbol": "circle"
         },
         "mode": "markers+text",
         "name": "IDN",
         "orientation": "v",
         "showlegend": true,
         "text": [
          "IDN"
         ],
         "textposition": "top center",
         "type": "scatter",
         "x": {
          "bdata": "AlAy9DUr4j8=",
          "dtype": "f8"
         },
         "xaxis": "x",
         "y": {
          "bdata": "3q1NjinM4j8=",
          "dtype": "f8"
         },
         "yaxis": "y"
        },
        {
         "hovertemplate": "<b>%{hovertext}</b><br><br>ISO3=%{text}<br>HEP in 2020=%{x}<br>HEP in 2022=%{y}<extra></extra>",
         "hovertext": [
          "IND"
         ],
         "legendgroup": "IND",
         "marker": {
          "color": "#FF97FF",
          "size": 10,
          "symbol": "circle"
         },
         "mode": "markers+text",
         "name": "IND",
         "orientation": "v",
         "showlegend": true,
         "text": [
          "IND"
         ],
         "textposition": "top center",
         "type": "scatter",
         "x": {
          "bdata": "QRvChhx64D8=",
          "dtype": "f8"
         },
         "xaxis": "x",
         "y": {
          "bdata": "0F3FHSwT4T8=",
          "dtype": "f8"
         },
         "yaxis": "y"
        },
        {
         "hovertemplate": "<b>%{hovertext}</b><br><br>ISO3=%{text}<br>HEP in 2020=%{x}<br>HEP in 2022=%{y}<extra></extra>",
         "hovertext": [
          "IRL"
         ],
         "legendgroup": "IRL",
         "marker": {
          "color": "#FECB52",
          "size": 10,
          "symbol": "circle"
         },
         "mode": "markers+text",
         "name": "IRL",
         "orientation": "v",
         "showlegend": true,
         "text": [
          "IRL"
         ],
         "textposition": "top center",
         "type": "scatter",
         "x": {
          "bdata": "V1V/dLII7D8=",
          "dtype": "f8"
         },
         "xaxis": "x",
         "y": {
          "bdata": "GDvOeDwT7D8=",
          "dtype": "f8"
         },
         "yaxis": "y"
        },
        {
         "hovertemplate": "<b>%{hovertext}</b><br><br>ISO3=%{text}<br>HEP in 2020=%{x}<br>HEP in 2022=%{y}<extra></extra>",
         "hovertext": [
          "IRN"
         ],
         "legendgroup": "IRN",
         "marker": {
          "color": "#636efa",
          "size": 10,
          "symbol": "circle"
         },
         "mode": "markers+text",
         "name": "IRN",
         "orientation": "v",
         "showlegend": true,
         "text": [
          "IRN"
         ],
         "textposition": "top center",
         "type": "scatter",
         "x": {
          "bdata": "sTqY4fBW5j8=",
          "dtype": "f8"
         },
         "xaxis": "x",
         "y": {
          "bdata": "qM4IefkI5z8=",
          "dtype": "f8"
         },
         "yaxis": "y"
        },
        {
         "hovertemplate": "<b>%{hovertext}</b><br><br>ISO3=%{text}<br>HEP in 2020=%{x}<br>HEP in 2022=%{y}<extra></extra>",
         "hovertext": [
          "JOR"
         ],
         "legendgroup": "JOR",
         "marker": {
          "color": "#EF553B",
          "size": 10,
          "symbol": "circle"
         },
         "mode": "markers+text",
         "name": "JOR",
         "orientation": "v",
         "showlegend": true,
         "text": [
          "JOR"
         ],
         "textposition": "top center",
         "type": "scatter",
         "x": {
          "bdata": "rszoFF1F5j8=",
          "dtype": "f8"
         },
         "xaxis": "x",
         "y": {
          "bdata": "gGsm6meQ5j8=",
          "dtype": "f8"
         },
         "yaxis": "y"
        },
        {
         "hovertemplate": "<b>%{hovertext}</b><br><br>ISO3=%{text}<br>HEP in 2020=%{x}<br>HEP in 2022=%{y}<extra></extra>",
         "hovertext": [
          "JPN"
         ],
         "legendgroup": "JPN",
         "marker": {
          "color": "#00cc96",
          "size": 10,
          "symbol": "circle"
         },
         "mode": "markers+text",
         "name": "JPN",
         "orientation": "v",
         "showlegend": true,
         "text": [
          "JPN"
         ],
         "textposition": "top center",
         "type": "scatter",
         "x": {
          "bdata": "OnaM7S627T8=",
          "dtype": "f8"
         },
         "xaxis": "x",
         "y": {
          "bdata": "/q4xrZOZ7T8=",
          "dtype": "f8"
         },
         "yaxis": "y"
        },
        {
         "hovertemplate": "<b>%{hovertext}</b><br><br>ISO3=%{text}<br>HEP in 2020=%{x}<br>HEP in 2022=%{y}<extra></extra>",
         "hovertext": [
          "KAZ"
         ],
         "legendgroup": "KAZ",
         "marker": {
          "color": "#ab63fa",
          "size": 10,
          "symbol": "circle"
         },
         "mode": "markers+text",
         "name": "KAZ",
         "orientation": "v",
         "showlegend": true,
         "text": [
          "KAZ"
         ],
         "textposition": "top center",
         "type": "scatter",
         "x": {
          "bdata": "2exMRzyc5j8=",
          "dtype": "f8"
         },
         "xaxis": "x",
         "y": {
          "bdata": "bUJk4CIz5z8=",
          "dtype": "f8"
         },
         "yaxis": "y"
        },
        {
         "hovertemplate": "<b>%{hovertext}</b><br><br>ISO3=%{text}<br>HEP in 2020=%{x}<br>HEP in 2022=%{y}<extra></extra>",
         "hovertext": [
          "KEN"
         ],
         "legendgroup": "KEN",
         "marker": {
          "color": "#FFA15A",
          "size": 10,
          "symbol": "circle"
         },
         "mode": "markers+text",
         "name": "KEN",
         "orientation": "v",
         "showlegend": true,
         "text": [
          "KEN"
         ],
         "textposition": "top center",
         "type": "scatter",
         "x": {
          "bdata": "jEvwmjRP4D8=",
          "dtype": "f8"
         },
         "xaxis": "x",
         "y": {
          "bdata": "ThWkNrdn4T8=",
          "dtype": "f8"
         },
         "yaxis": "y"
        },
        {
         "hovertemplate": "<b>%{hovertext}</b><br><br>ISO3=%{text}<br>HEP in 2020=%{x}<br>HEP in 2022=%{y}<extra></extra>",
         "hovertext": [
          "KGZ"
         ],
         "legendgroup": "KGZ",
         "marker": {
          "color": "#19d3f3",
          "size": 10,
          "symbol": "circle"
         },
         "mode": "markers+text",
         "name": "KGZ",
         "orientation": "v",
         "showlegend": true,
         "text": [
          "KGZ"
         ],
         "textposition": "top center",
         "type": "scatter",
         "x": {
          "bdata": "Tz0+ZDbs5T8=",
          "dtype": "f8"
         },
         "xaxis": "x",
         "y": {
          "bdata": "K3iH1DIV5j8=",
          "dtype": "f8"
         },
         "yaxis": "y"
        },
        {
         "hovertemplate": "<b>%{hovertext}</b><br><br>ISO3=%{text}<br>HEP in 2020=%{x}<br>HEP in 2022=%{y}<extra></extra>",
         "hovertext": [
          "KOR"
         ],
         "legendgroup": "KOR",
         "marker": {
          "color": "#FF6692",
          "size": 10,
          "symbol": "circle"
         },
         "mode": "markers+text",
         "name": "KOR",
         "orientation": "v",
         "showlegend": true,
         "text": [
          "KOR"
         ],
         "textposition": "top center",
         "type": "scatter",
         "x": {
          "bdata": "KnXeTjld7T8=",
          "dtype": "f8"
         },
         "xaxis": "x",
         "y": {
          "bdata": "/k3HreNG7T8=",
          "dtype": "f8"
         },
         "yaxis": "y"
        },
        {
         "hovertemplate": "<b>%{hovertext}</b><br><br>ISO3=%{text}<br>HEP in 2020=%{x}<br>HEP in 2022=%{y}<extra></extra>",
         "hovertext": [
          "LBN"
         ],
         "legendgroup": "LBN",
         "marker": {
          "color": "#B6E880",
          "size": 10,
          "symbol": "circle"
         },
         "mode": "markers+text",
         "name": "LBN",
         "orientation": "v",
         "showlegend": true,
         "text": [
          "LBN"
         ],
         "textposition": "top center",
         "type": "scatter",
         "x": {
          "bdata": "K7Mfg8Yt5T8=",
          "dtype": "f8"
         },
         "xaxis": "x",
         "y": {
          "bdata": "IXxMsKho5T8=",
          "dtype": "f8"
         },
         "yaxis": "y"
        },
        {
         "hovertemplate": "<b>%{hovertext}</b><br><br>ISO3=%{text}<br>HEP in 2020=%{x}<br>HEP in 2022=%{y}<extra></extra>",
         "hovertext": [
          "MAR"
         ],
         "legendgroup": "MAR",
         "marker": {
          "color": "#FF97FF",
          "size": 10,
          "symbol": "circle"
         },
         "mode": "markers+text",
         "name": "MAR",
         "orientation": "v",
         "showlegend": true,
         "text": [
          "MAR"
         ],
         "textposition": "top center",
         "type": "scatter",
         "x": {
          "bdata": "gGzFwvM04T8=",
          "dtype": "f8"
         },
         "xaxis": "x",
         "y": {
          "bdata": "nfjgmYvX4T8=",
          "dtype": "f8"
         },
         "yaxis": "y"
        },
        {
         "hovertemplate": "<b>%{hovertext}</b><br><br>ISO3=%{text}<br>HEP in 2020=%{x}<br>HEP in 2022=%{y}<extra></extra>",
         "hovertext": [
          "MEX"
         ],
         "legendgroup": "MEX",
         "marker": {
          "color": "#FECB52",
          "size": 10,
          "symbol": "circle"
         },
         "mode": "markers+text",
         "name": "MEX",
         "orientation": "v",
         "showlegend": true,
         "text": [
          "MEX"
         ],
         "textposition": "top center",
         "type": "scatter",
         "x": {
          "bdata": "/SML59aI5D8=",
          "dtype": "f8"
         },
         "xaxis": "x",
         "y": {
          "bdata": "K3evXndt5T8=",
          "dtype": "f8"
         },
         "yaxis": "y"
        },
        {
         "hovertemplate": "<b>%{hovertext}</b><br><br>ISO3=%{text}<br>HEP in 2020=%{x}<br>HEP in 2022=%{y}<extra></extra>",
         "hovertext": [
          "MMR"
         ],
         "legendgroup": "MMR",
         "marker": {
          "color": "#636efa",
          "size": 10,
          "symbol": "circle"
         },
         "mode": "markers+text",
         "name": "MMR",
         "orientation": "v",
         "showlegend": true,
         "text": [
          "MMR"
         ],
         "textposition": "top center",
         "type": "scatter",
         "x": {
          "bdata": "31hgTRo73z8=",
          "dtype": "f8"
         },
         "xaxis": "x",
         "y": {
          "bdata": "OtQKtKaW3z8=",
          "dtype": "f8"
         },
         "yaxis": "y"
        },
        {
         "hovertemplate": "<b>%{hovertext}</b><br><br>ISO3=%{text}<br>HEP in 2020=%{x}<br>HEP in 2022=%{y}<extra></extra>",
         "hovertext": [
          "MNG"
         ],
         "legendgroup": "MNG",
         "marker": {
          "color": "#EF553B",
          "size": 10,
          "symbol": "circle"
         },
         "mode": "markers+text",
         "name": "MNG",
         "orientation": "v",
         "showlegend": true,
         "text": [
          "MNG"
         ],
         "textposition": "top center",
         "type": "scatter",
         "x": {
          "bdata": "pVp1ncLz5D8=",
          "dtype": "f8"
         },
         "xaxis": "x",
         "y": {
          "bdata": "flOCBdoe5T8=",
          "dtype": "f8"
         },
         "yaxis": "y"
        },
        {
         "hovertemplate": "<b>%{hovertext}</b><br><br>ISO3=%{text}<br>HEP in 2020=%{x}<br>HEP in 2022=%{y}<extra></extra>",
         "hovertext": [
          "MYS"
         ],
         "legendgroup": "MYS",
         "marker": {
          "color": "#00cc96",
          "size": 10,
          "symbol": "circle"
         },
         "mode": "markers+text",
         "name": "MYS",
         "orientation": "v",
         "showlegend": true,
         "text": [
          "MYS"
         ],
         "textposition": "top center",
         "type": "scatter",
         "x": {
          "bdata": "VSxVeu6a5z8=",
          "dtype": "f8"
         },
         "xaxis": "x",
         "y": {
          "bdata": "et26KEOo5z8=",
          "dtype": "f8"
         },
         "yaxis": "y"
        },
        {
         "hovertemplate": "<b>%{hovertext}</b><br><br>ISO3=%{text}<br>HEP in 2020=%{x}<br>HEP in 2022=%{y}<extra></extra>",
         "hovertext": [
          "NGA"
         ],
         "legendgroup": "NGA",
         "marker": {
          "color": "#ab63fa",
          "size": 10,
          "symbol": "circle"
         },
         "mode": "markers+text",
         "name": "NGA",
         "orientation": "v",
         "showlegend": true,
         "text": [
          "NGA"
         ],
         "textposition": "top center",
         "type": "scatter",
         "x": {
          "bdata": "VykKDTSzzj8=",
          "dtype": "f8"
         },
         "xaxis": "x",
         "y": {
          "bdata": "qdvmIAyM0D8=",
          "dtype": "f8"
         },
         "yaxis": "y"
        },
        {
         "hovertemplate": "<b>%{hovertext}</b><br><br>ISO3=%{text}<br>HEP in 2020=%{x}<br>HEP in 2022=%{y}<extra></extra>",
         "hovertext": [
          "NIC"
         ],
         "legendgroup": "NIC",
         "marker": {
          "color": "#FFA15A",
          "size": 10,
          "symbol": "circle"
         },
         "mode": "markers+text",
         "name": "NIC",
         "orientation": "v",
         "showlegend": true,
         "text": [
          "NIC"
         ],
         "textposition": "top center",
         "type": "scatter",
         "x": {
          "bdata": "Xbwdk+Xa4z8=",
          "dtype": "f8"
         },
         "xaxis": "x",
         "y": {
          "bdata": "xaIC6m/P5D8=",
          "dtype": "f8"
         },
         "yaxis": "y"
        },
        {
         "hovertemplate": "<b>%{hovertext}</b><br><br>ISO3=%{text}<br>HEP in 2020=%{x}<br>HEP in 2022=%{y}<extra></extra>",
         "hovertext": [
          "NLD"
         ],
         "legendgroup": "NLD",
         "marker": {
          "color": "#19d3f3",
          "size": 10,
          "symbol": "circle"
         },
         "mode": "markers+text",
         "name": "NLD",
         "orientation": "v",
         "showlegend": true,
         "text": [
          "NLD"
         ],
         "textposition": "top center",
         "type": "scatter",
         "x": {
          "bdata": "t89kH9NL7D8=",
          "dtype": "f8"
         },
         "xaxis": "x",
         "y": {
          "bdata": "f5H91jdo7D8=",
          "dtype": "f8"
         },
         "yaxis": "y"
        },
        {
         "hovertemplate": "<b>%{hovertext}</b><br><br>ISO3=%{text}<br>HEP in 2020=%{x}<br>HEP in 2022=%{y}<extra></extra>",
         "hovertext": [
          "NZL"
         ],
         "legendgroup": "NZL",
         "marker": {
          "color": "#FF6692",
          "size": 10,
          "symbol": "circle"
         },
         "mode": "markers+text",
         "name": "NZL",
         "orientation": "v",
         "showlegend": true,
         "text": [
          "NZL"
         ],
         "textposition": "top center",
         "type": "scatter",
         "x": {
          "bdata": "UfYK0E2o7D8=",
          "dtype": "f8"
         },
         "xaxis": "x",
         "y": {
          "bdata": "8GI9Ow6R7D8=",
          "dtype": "f8"
         },
         "yaxis": "y"
        },
        {
         "hovertemplate": "<b>%{hovertext}</b><br><br>ISO3=%{text}<br>HEP in 2020=%{x}<br>HEP in 2022=%{y}<extra></extra>",
         "hovertext": [
          "PAK"
         ],
         "legendgroup": "PAK",
         "marker": {
          "color": "#B6E880",
          "size": 10,
          "symbol": "circle"
         },
         "mode": "markers+text",
         "name": "PAK",
         "orientation": "v",
         "showlegend": true,
         "text": [
          "PAK"
         ],
         "textposition": "top center",
         "type": "scatter",
         "x": {
          "bdata": "HvC2ACto1D8=",
          "dtype": "f8"
         },
         "xaxis": "x",
         "y": {
          "bdata": "cswA+KeO1T8=",
          "dtype": "f8"
         },
         "yaxis": "y"
        },
        {
         "hovertemplate": "<b>%{hovertext}</b><br><br>ISO3=%{text}<br>HEP in 2020=%{x}<br>HEP in 2022=%{y}<extra></extra>",
         "hovertext": [
          "PER"
         ],
         "legendgroup": "PER",
         "marker": {
          "color": "#FF97FF",
          "size": 10,
          "symbol": "circle"
         },
         "mode": "markers+text",
         "name": "PER",
         "orientation": "v",
         "showlegend": true,
         "text": [
          "PER"
         ],
         "textposition": "top center",
         "type": "scatter",
         "x": {
          "bdata": "ZmeKiWgf5T8=",
          "dtype": "f8"
         },
         "xaxis": "x",
         "y": {
          "bdata": "cIJN5Hjf5T8=",
          "dtype": "f8"
         },
         "yaxis": "y"
        },
        {
         "hovertemplate": "<b>%{hovertext}</b><br><br>ISO3=%{text}<br>HEP in 2020=%{x}<br>HEP in 2022=%{y}<extra></extra>",
         "hovertext": [
          "PHL"
         ],
         "legendgroup": "PHL",
         "marker": {
          "color": "#FECB52",
          "size": 10,
          "symbol": "circle"
         },
         "mode": "markers+text",
         "name": "PHL",
         "orientation": "v",
         "showlegend": true,
         "text": [
          "PHL"
         ],
         "textposition": "top center",
         "type": "scatter",
         "x": {
          "bdata": "cjLlfTxR4T8=",
          "dtype": "f8"
         },
         "xaxis": "x",
         "y": {
          "bdata": "LbiUEGXl4T8=",
          "dtype": "f8"
         },
         "yaxis": "y"
        },
        {
         "hovertemplate": "<b>%{hovertext}</b><br><br>ISO3=%{text}<br>HEP in 2020=%{x}<br>HEP in 2022=%{y}<extra></extra>",
         "hovertext": [
          "ROU"
         ],
         "legendgroup": "ROU",
         "marker": {
          "color": "#636efa",
          "size": 10,
          "symbol": "circle"
         },
         "mode": "markers+text",
         "name": "ROU",
         "orientation": "v",
         "showlegend": true,
         "text": [
          "ROU"
         ],
         "textposition": "top center",
         "type": "scatter",
         "x": {
          "bdata": "EqU2mImY5z8=",
          "dtype": "f8"
         },
         "xaxis": "x",
         "y": {
          "bdata": "xc1z+l7j5z8=",
          "dtype": "f8"
         },
         "yaxis": "y"
        },
        {
         "hovertemplate": "<b>%{hovertext}</b><br><br>ISO3=%{text}<br>HEP in 2020=%{x}<br>HEP in 2022=%{y}<extra></extra>",
         "hovertext": [
          "RUS"
         ],
         "legendgroup": "RUS",
         "marker": {
          "color": "#EF553B",
          "size": 10,
          "symbol": "circle"
         },
         "mode": "markers+text",
         "name": "RUS",
         "orientation": "v",
         "showlegend": true,
         "text": [
          "RUS"
         ],
         "textposition": "top center",
         "type": "scatter",
         "x": {
          "bdata": "8+xcp4pR6T8=",
          "dtype": "f8"
         },
         "xaxis": "x",
         "y": {
          "bdata": "wRgb5Fuf6T8=",
          "dtype": "f8"
         },
         "yaxis": "y"
        },
        {
         "hovertemplate": "<b>%{hovertext}</b><br><br>ISO3=%{text}<br>HEP in 2020=%{x}<br>HEP in 2022=%{y}<extra></extra>",
         "hovertext": [
          "SGP"
         ],
         "legendgroup": "SGP",
         "marker": {
          "color": "#00cc96",
          "size": 10,
          "symbol": "circle"
         },
         "mode": "markers+text",
         "name": "SGP",
         "orientation": "v",
         "showlegend": true,
         "text": [
          "SGP"
         ],
         "textposition": "top center",
         "type": "scatter",
         "x": {
          "bdata": "Qrj5hbgF7j8=",
          "dtype": "f8"
         },
         "xaxis": "x",
         "y": {
          "bdata": "LxNOnh4J7j8=",
          "dtype": "f8"
         },
         "yaxis": "y"
        },
        {
         "hovertemplate": "<b>%{hovertext}</b><br><br>ISO3=%{text}<br>HEP in 2020=%{x}<br>HEP in 2022=%{y}<extra></extra>",
         "hovertext": [
          "SRB"
         ],
         "legendgroup": "SRB",
         "marker": {
          "color": "#ab63fa",
          "size": 10,
          "symbol": "circle"
         },
         "mode": "markers+text",
         "name": "SRB",
         "orientation": "v",
         "showlegend": true,
         "text": [
          "SRB"
         ],
         "textposition": "top center",
         "type": "scatter",
         "x": {
          "bdata": "8hftdmY56D8=",
          "dtype": "f8"
         },
         "xaxis": "x",
         "y": {
          "bdata": "jj2iAg996D8=",
          "dtype": "f8"
         },
         "yaxis": "y"
        },
        {
         "hovertemplate": "<b>%{hovertext}</b><br><br>ISO3=%{text}<br>HEP in 2020=%{x}<br>HEP in 2022=%{y}<extra></extra>",
         "hovertext": [
          "SVK"
         ],
         "legendgroup": "SVK",
         "marker": {
          "color": "#FFA15A",
          "size": 10,
          "symbol": "circle"
         },
         "mode": "markers+text",
         "name": "SVK",
         "orientation": "v",
         "showlegend": true,
         "text": [
          "SVK"
         ],
         "textposition": "top center",
         "type": "scatter",
         "x": {
          "bdata": "FvGf8cp56j8=",
          "dtype": "f8"
         },
         "xaxis": "x",
         "y": {
          "bdata": "VIECQp2M6j8=",
          "dtype": "f8"
         },
         "yaxis": "y"
        },
        {
         "hovertemplate": "<b>%{hovertext}</b><br><br>ISO3=%{text}<br>HEP in 2020=%{x}<br>HEP in 2022=%{y}<extra></extra>",
         "hovertext": [
          "THA"
         ],
         "legendgroup": "THA",
         "marker": {
          "color": "#19d3f3",
          "size": 10,
          "symbol": "circle"
         },
         "mode": "markers+text",
         "name": "THA",
         "orientation": "v",
         "showlegend": true,
         "text": [
          "THA"
         ],
         "textposition": "top center",
         "type": "scatter",
         "x": {
          "bdata": "azFfE+fm5T8=",
          "dtype": "f8"
         },
         "xaxis": "x",
         "y": {
          "bdata": "nn02jTem5T8=",
          "dtype": "f8"
         },
         "yaxis": "y"
        },
        {
         "hovertemplate": "<b>%{hovertext}</b><br><br>ISO3=%{text}<br>HEP in 2020=%{x}<br>HEP in 2022=%{y}<extra></extra>",
         "hovertext": [
          "TJK"
         ],
         "legendgroup": "TJK",
         "marker": {
          "color": "#FF6692",
          "size": 10,
          "symbol": "circle"
         },
         "mode": "markers+text",
         "name": "TJK",
         "orientation": "v",
         "showlegend": true,
         "text": [
          "TJK"
         ],
         "textposition": "top center",
         "type": "scatter",
         "x": {
          "bdata": "fk5nvBZQ4z8=",
          "dtype": "f8"
         },
         "xaxis": "x",
         "y": {
          "bdata": "k7DF8Ejx4z8=",
          "dtype": "f8"
         },
         "yaxis": "y"
        },
        {
         "hovertemplate": "<b>%{hovertext}</b><br><br>ISO3=%{text}<br>HEP in 2020=%{x}<br>HEP in 2022=%{y}<extra></extra>",
         "hovertext": [
          "TUN"
         ],
         "legendgroup": "TUN",
         "marker": {
          "color": "#B6E880",
          "size": 10,
          "symbol": "circle"
         },
         "mode": "markers+text",
         "name": "TUN",
         "orientation": "v",
         "showlegend": true,
         "text": [
          "TUN"
         ],
         "textposition": "top center",
         "type": "scatter",
         "x": {
          "bdata": "P9Lbzx3f4j8=",
          "dtype": "f8"
         },
         "xaxis": "x",
         "y": {
          "bdata": "WM0usdZj4z8=",
          "dtype": "f8"
         },
         "yaxis": "y"
        },
        {
         "hovertemplate": "<b>%{hovertext}</b><br><br>ISO3=%{text}<br>HEP in 2020=%{x}<br>HEP in 2022=%{y}<extra></extra>",
         "hovertext": [
          "TUR"
         ],
         "legendgroup": "TUR",
         "marker": {
          "color": "#FF97FF",
          "size": 10,
          "symbol": "circle"
         },
         "mode": "markers+text",
         "name": "TUR",
         "orientation": "v",
         "showlegend": true,
         "text": [
          "TUR"
         ],
         "textposition": "top center",
         "type": "scatter",
         "x": {
          "bdata": "2TIav5Q+5z8=",
          "dtype": "f8"
         },
         "xaxis": "x",
         "y": {
          "bdata": "drPRRLqk5z8=",
          "dtype": "f8"
         },
         "yaxis": "y"
        },
        {
         "hovertemplate": "<b>%{hovertext}</b><br><br>ISO3=%{text}<br>HEP in 2020=%{x}<br>HEP in 2022=%{y}<extra></extra>",
         "hovertext": [
          "UKR"
         ],
         "legendgroup": "UKR",
         "marker": {
          "color": "#FECB52",
          "size": 10,
          "symbol": "circle"
         },
         "mode": "markers+text",
         "name": "UKR",
         "orientation": "v",
         "showlegend": true,
         "text": [
          "UKR"
         ],
         "textposition": "top center",
         "type": "scatter",
         "x": {
          "bdata": "t1Y6fX0O6D8=",
          "dtype": "f8"
         },
         "xaxis": "x",
         "y": {
          "bdata": "aL4c9cft5z8=",
          "dtype": "f8"
         },
         "yaxis": "y"
        },
        {
         "hovertemplate": "<b>%{hovertext}</b><br><br>ISO3=%{text}<br>HEP in 2020=%{x}<br>HEP in 2022=%{y}<extra></extra>",
         "hovertext": [
          "URY"
         ],
         "legendgroup": "URY",
         "marker": {
          "color": "#636efa",
          "size": 10,
          "symbol": "circle"
         },
         "mode": "markers+text",
         "name": "URY",
         "orientation": "v",
         "showlegend": true,
         "text": [
          "URY"
         ],
         "textposition": "top center",
         "type": "scatter",
         "x": {
          "bdata": "SUB6d9od5z8=",
          "dtype": "f8"
         },
         "xaxis": "x",
         "y": {
          "bdata": "paB5rfZj5z8=",
          "dtype": "f8"
         },
         "yaxis": "y"
        },
        {
         "hovertemplate": "<b>%{hovertext}</b><br><br>ISO3=%{text}<br>HEP in 2020=%{x}<br>HEP in 2022=%{y}<extra></extra>",
         "hovertext": [
          "USA"
         ],
         "legendgroup": "USA",
         "marker": {
          "color": "#EF553B",
          "size": 10,
          "symbol": "circle"
         },
         "mode": "markers+text",
         "name": "USA",
         "orientation": "v",
         "showlegend": true,
         "text": [
          "USA"
         ],
         "textposition": "top center",
         "type": "scatter",
         "x": {
          "bdata": "bx87DwWm6z8=",
          "dtype": "f8"
         },
         "xaxis": "x",
         "y": {
          "bdata": "mKQoapzj6z8=",
          "dtype": "f8"
         },
         "yaxis": "y"
        },
        {
         "hovertemplate": "<b>%{hovertext}</b><br><br>ISO3=%{text}<br>HEP in 2020=%{x}<br>HEP in 2022=%{y}<extra></extra>",
         "hovertext": [
          "UZB"
         ],
         "legendgroup": "UZB",
         "marker": {
          "color": "#00cc96",
          "size": 10,
          "symbol": "circle"
         },
         "mode": "markers+text",
         "name": "UZB",
         "orientation": "v",
         "showlegend": true,
         "text": [
          "UZB"
         ],
         "textposition": "top center",
         "type": "scatter",
         "x": {
          "bdata": "7J49sMuC5z8=",
          "dtype": "f8"
         },
         "xaxis": "x",
         "y": {
          "bdata": "u3b+2S3D5z8=",
          "dtype": "f8"
         },
         "yaxis": "y"
        },
        {
         "hovertemplate": "<b>%{hovertext}</b><br><br>ISO3=%{text}<br>HEP in 2020=%{x}<br>HEP in 2022=%{y}<extra></extra>",
         "hovertext": [
          "VNM"
         ],
         "legendgroup": "VNM",
         "marker": {
          "color": "#ab63fa",
          "size": 10,
          "symbol": "circle"
         },
         "mode": "markers+text",
         "name": "VNM",
         "orientation": "v",
         "showlegend": true,
         "text": [
          "VNM"
         ],
         "textposition": "top center",
         "type": "scatter",
         "x": {
          "bdata": "FscOHyCX5z8=",
          "dtype": "f8"
         },
         "xaxis": "x",
         "y": {
          "bdata": "0HlX3Qmp5z8=",
          "dtype": "f8"
         },
         "yaxis": "y"
        }
       ],
       "layout": {
        "height": 600,
        "legend": {
         "title": {
          "text": "ISO3"
         },
         "tracegroupgap": 0
        },
        "shapes": [
         {
          "line": {
           "color": "gray",
           "dash": "dash"
          },
          "type": "line",
          "x0": 0,
          "x1": 1,
          "y0": 0,
          "y1": 1
         }
        ],
        "template": {
         "data": {
          "bar": [
           {
            "error_x": {
             "color": "#2a3f5f"
            },
            "error_y": {
             "color": "#2a3f5f"
            },
            "marker": {
             "line": {
              "color": "#E5ECF6",
              "width": 0.5
             },
             "pattern": {
              "fillmode": "overlay",
              "size": 10,
              "solidity": 0.2
             }
            },
            "type": "bar"
           }
          ],
          "barpolar": [
           {
            "marker": {
             "line": {
              "color": "#E5ECF6",
              "width": 0.5
             },
             "pattern": {
              "fillmode": "overlay",
              "size": 10,
              "solidity": 0.2
             }
            },
            "type": "barpolar"
           }
          ],
          "carpet": [
           {
            "aaxis": {
             "endlinecolor": "#2a3f5f",
             "gridcolor": "white",
             "linecolor": "white",
             "minorgridcolor": "white",
             "startlinecolor": "#2a3f5f"
            },
            "baxis": {
             "endlinecolor": "#2a3f5f",
             "gridcolor": "white",
             "linecolor": "white",
             "minorgridcolor": "white",
             "startlinecolor": "#2a3f5f"
            },
            "type": "carpet"
           }
          ],
          "choropleth": [
           {
            "colorbar": {
             "outlinewidth": 0,
             "ticks": ""
            },
            "type": "choropleth"
           }
          ],
          "contour": [
           {
            "colorbar": {
             "outlinewidth": 0,
             "ticks": ""
            },
            "colorscale": [
             [
              0,
              "#0d0887"
             ],
             [
              0.1111111111111111,
              "#46039f"
             ],
             [
              0.2222222222222222,
              "#7201a8"
             ],
             [
              0.3333333333333333,
              "#9c179e"
             ],
             [
              0.4444444444444444,
              "#bd3786"
             ],
             [
              0.5555555555555556,
              "#d8576b"
             ],
             [
              0.6666666666666666,
              "#ed7953"
             ],
             [
              0.7777777777777778,
              "#fb9f3a"
             ],
             [
              0.8888888888888888,
              "#fdca26"
             ],
             [
              1,
              "#f0f921"
             ]
            ],
            "type": "contour"
           }
          ],
          "contourcarpet": [
           {
            "colorbar": {
             "outlinewidth": 0,
             "ticks": ""
            },
            "type": "contourcarpet"
           }
          ],
          "heatmap": [
           {
            "colorbar": {
             "outlinewidth": 0,
             "ticks": ""
            },
            "colorscale": [
             [
              0,
              "#0d0887"
             ],
             [
              0.1111111111111111,
              "#46039f"
             ],
             [
              0.2222222222222222,
              "#7201a8"
             ],
             [
              0.3333333333333333,
              "#9c179e"
             ],
             [
              0.4444444444444444,
              "#bd3786"
             ],
             [
              0.5555555555555556,
              "#d8576b"
             ],
             [
              0.6666666666666666,
              "#ed7953"
             ],
             [
              0.7777777777777778,
              "#fb9f3a"
             ],
             [
              0.8888888888888888,
              "#fdca26"
             ],
             [
              1,
              "#f0f921"
             ]
            ],
            "type": "heatmap"
           }
          ],
          "histogram": [
           {
            "marker": {
             "pattern": {
              "fillmode": "overlay",
              "size": 10,
              "solidity": 0.2
             }
            },
            "type": "histogram"
           }
          ],
          "histogram2d": [
           {
            "colorbar": {
             "outlinewidth": 0,
             "ticks": ""
            },
            "colorscale": [
             [
              0,
              "#0d0887"
             ],
             [
              0.1111111111111111,
              "#46039f"
             ],
             [
              0.2222222222222222,
              "#7201a8"
             ],
             [
              0.3333333333333333,
              "#9c179e"
             ],
             [
              0.4444444444444444,
              "#bd3786"
             ],
             [
              0.5555555555555556,
              "#d8576b"
             ],
             [
              0.6666666666666666,
              "#ed7953"
             ],
             [
              0.7777777777777778,
              "#fb9f3a"
             ],
             [
              0.8888888888888888,
              "#fdca26"
             ],
             [
              1,
              "#f0f921"
             ]
            ],
            "type": "histogram2d"
           }
          ],
          "histogram2dcontour": [
           {
            "colorbar": {
             "outlinewidth": 0,
             "ticks": ""
            },
            "colorscale": [
             [
              0,
              "#0d0887"
             ],
             [
              0.1111111111111111,
              "#46039f"
             ],
             [
              0.2222222222222222,
              "#7201a8"
             ],
             [
              0.3333333333333333,
              "#9c179e"
             ],
             [
              0.4444444444444444,
              "#bd3786"
             ],
             [
              0.5555555555555556,
              "#d8576b"
             ],
             [
              0.6666666666666666,
              "#ed7953"
             ],
             [
              0.7777777777777778,
              "#fb9f3a"
             ],
             [
              0.8888888888888888,
              "#fdca26"
             ],
             [
              1,
              "#f0f921"
             ]
            ],
            "type": "histogram2dcontour"
           }
          ],
          "mesh3d": [
           {
            "colorbar": {
             "outlinewidth": 0,
             "ticks": ""
            },
            "type": "mesh3d"
           }
          ],
          "parcoords": [
           {
            "line": {
             "colorbar": {
              "outlinewidth": 0,
              "ticks": ""
             }
            },
            "type": "parcoords"
           }
          ],
          "pie": [
           {
            "automargin": true,
            "type": "pie"
           }
          ],
          "scatter": [
           {
            "fillpattern": {
             "fillmode": "overlay",
             "size": 10,
             "solidity": 0.2
            },
            "type": "scatter"
           }
          ],
          "scatter3d": [
           {
            "line": {
             "colorbar": {
              "outlinewidth": 0,
              "ticks": ""
             }
            },
            "marker": {
             "colorbar": {
              "outlinewidth": 0,
              "ticks": ""
             }
            },
            "type": "scatter3d"
           }
          ],
          "scattercarpet": [
           {
            "marker": {
             "colorbar": {
              "outlinewidth": 0,
              "ticks": ""
             }
            },
            "type": "scattercarpet"
           }
          ],
          "scattergeo": [
           {
            "marker": {
             "colorbar": {
              "outlinewidth": 0,
              "ticks": ""
             }
            },
            "type": "scattergeo"
           }
          ],
          "scattergl": [
           {
            "marker": {
             "colorbar": {
              "outlinewidth": 0,
              "ticks": ""
             }
            },
            "type": "scattergl"
           }
          ],
          "scattermap": [
           {
            "marker": {
             "colorbar": {
              "outlinewidth": 0,
              "ticks": ""
             }
            },
            "type": "scattermap"
           }
          ],
          "scattermapbox": [
           {
            "marker": {
             "colorbar": {
              "outlinewidth": 0,
              "ticks": ""
             }
            },
            "type": "scattermapbox"
           }
          ],
          "scatterpolar": [
           {
            "marker": {
             "colorbar": {
              "outlinewidth": 0,
              "ticks": ""
             }
            },
            "type": "scatterpolar"
           }
          ],
          "scatterpolargl": [
           {
            "marker": {
             "colorbar": {
              "outlinewidth": 0,
              "ticks": ""
             }
            },
            "type": "scatterpolargl"
           }
          ],
          "scatterternary": [
           {
            "marker": {
             "colorbar": {
              "outlinewidth": 0,
              "ticks": ""
             }
            },
            "type": "scatterternary"
           }
          ],
          "surface": [
           {
            "colorbar": {
             "outlinewidth": 0,
             "ticks": ""
            },
            "colorscale": [
             [
              0,
              "#0d0887"
             ],
             [
              0.1111111111111111,
              "#46039f"
             ],
             [
              0.2222222222222222,
              "#7201a8"
             ],
             [
              0.3333333333333333,
              "#9c179e"
             ],
             [
              0.4444444444444444,
              "#bd3786"
             ],
             [
              0.5555555555555556,
              "#d8576b"
             ],
             [
              0.6666666666666666,
              "#ed7953"
             ],
             [
              0.7777777777777778,
              "#fb9f3a"
             ],
             [
              0.8888888888888888,
              "#fdca26"
             ],
             [
              1,
              "#f0f921"
             ]
            ],
            "type": "surface"
           }
          ],
          "table": [
           {
            "cells": {
             "fill": {
              "color": "#EBF0F8"
             },
             "line": {
              "color": "white"
             }
            },
            "header": {
             "fill": {
              "color": "#C8D4E3"
             },
             "line": {
              "color": "white"
             }
            },
            "type": "table"
           }
          ]
         },
         "layout": {
          "annotationdefaults": {
           "arrowcolor": "#2a3f5f",
           "arrowhead": 0,
           "arrowwidth": 1
          },
          "autotypenumbers": "strict",
          "coloraxis": {
           "colorbar": {
            "outlinewidth": 0,
            "ticks": ""
           }
          },
          "colorscale": {
           "diverging": [
            [
             0,
             "#8e0152"
            ],
            [
             0.1,
             "#c51b7d"
            ],
            [
             0.2,
             "#de77ae"
            ],
            [
             0.3,
             "#f1b6da"
            ],
            [
             0.4,
             "#fde0ef"
            ],
            [
             0.5,
             "#f7f7f7"
            ],
            [
             0.6,
             "#e6f5d0"
            ],
            [
             0.7,
             "#b8e186"
            ],
            [
             0.8,
             "#7fbc41"
            ],
            [
             0.9,
             "#4d9221"
            ],
            [
             1,
             "#276419"
            ]
           ],
           "sequential": [
            [
             0,
             "#0d0887"
            ],
            [
             0.1111111111111111,
             "#46039f"
            ],
            [
             0.2222222222222222,
             "#7201a8"
            ],
            [
             0.3333333333333333,
             "#9c179e"
            ],
            [
             0.4444444444444444,
             "#bd3786"
            ],
            [
             0.5555555555555556,
             "#d8576b"
            ],
            [
             0.6666666666666666,
             "#ed7953"
            ],
            [
             0.7777777777777778,
             "#fb9f3a"
            ],
            [
             0.8888888888888888,
             "#fdca26"
            ],
            [
             1,
             "#f0f921"
            ]
           ],
           "sequentialminus": [
            [
             0,
             "#0d0887"
            ],
            [
             0.1111111111111111,
             "#46039f"
            ],
            [
             0.2222222222222222,
             "#7201a8"
            ],
            [
             0.3333333333333333,
             "#9c179e"
            ],
            [
             0.4444444444444444,
             "#bd3786"
            ],
            [
             0.5555555555555556,
             "#d8576b"
            ],
            [
             0.6666666666666666,
             "#ed7953"
            ],
            [
             0.7777777777777778,
             "#fb9f3a"
            ],
            [
             0.8888888888888888,
             "#fdca26"
            ],
            [
             1,
             "#f0f921"
            ]
           ]
          },
          "colorway": [
           "#636efa",
           "#EF553B",
           "#00cc96",
           "#ab63fa",
           "#FFA15A",
           "#19d3f3",
           "#FF6692",
           "#B6E880",
           "#FF97FF",
           "#FECB52"
          ],
          "font": {
           "color": "#2a3f5f"
          },
          "geo": {
           "bgcolor": "white",
           "lakecolor": "white",
           "landcolor": "#E5ECF6",
           "showlakes": true,
           "showland": true,
           "subunitcolor": "white"
          },
          "hoverlabel": {
           "align": "left"
          },
          "hovermode": "closest",
          "mapbox": {
           "style": "light"
          },
          "paper_bgcolor": "white",
          "plot_bgcolor": "#E5ECF6",
          "polar": {
           "angularaxis": {
            "gridcolor": "white",
            "linecolor": "white",
            "ticks": ""
           },
           "bgcolor": "#E5ECF6",
           "radialaxis": {
            "gridcolor": "white",
            "linecolor": "white",
            "ticks": ""
           }
          },
          "scene": {
           "xaxis": {
            "backgroundcolor": "#E5ECF6",
            "gridcolor": "white",
            "gridwidth": 2,
            "linecolor": "white",
            "showbackground": true,
            "ticks": "",
            "zerolinecolor": "white"
           },
           "yaxis": {
            "backgroundcolor": "#E5ECF6",
            "gridcolor": "white",
            "gridwidth": 2,
            "linecolor": "white",
            "showbackground": true,
            "ticks": "",
            "zerolinecolor": "white"
           },
           "zaxis": {
            "backgroundcolor": "#E5ECF6",
            "gridcolor": "white",
            "gridwidth": 2,
            "linecolor": "white",
            "showbackground": true,
            "ticks": "",
            "zerolinecolor": "white"
           }
          },
          "shapedefaults": {
           "line": {
            "color": "#2a3f5f"
           }
          },
          "ternary": {
           "aaxis": {
            "gridcolor": "white",
            "linecolor": "white",
            "ticks": ""
           },
           "baxis": {
            "gridcolor": "white",
            "linecolor": "white",
            "ticks": ""
           },
           "bgcolor": "#E5ECF6",
           "caxis": {
            "gridcolor": "white",
            "linecolor": "white",
            "ticks": ""
           }
          },
          "title": {
           "x": 0.05
          },
          "xaxis": {
           "automargin": true,
           "gridcolor": "white",
           "linecolor": "white",
           "ticks": "",
           "title": {
            "standoff": 15
           },
           "zerolinecolor": "white",
           "zerolinewidth": 2
          },
          "yaxis": {
           "automargin": true,
           "gridcolor": "white",
           "linecolor": "white",
           "ticks": "",
           "title": {
            "standoff": 15
           },
           "zerolinecolor": "white",
           "zerolinewidth": 2
          }
         }
        },
        "title": {
         "text": "HEP Comparison: 2020 vs 2022"
        },
        "width": 800,
        "xaxis": {
         "anchor": "y",
         "domain": [
          0,
          1
         ],
         "title": {
          "text": "HEP in 2020"
         }
        },
        "yaxis": {
         "anchor": "x",
         "domain": [
          0,
          1
         ],
         "title": {
          "text": "HEP in 2022"
         }
        }
       }
      }
     },
     "metadata": {},
     "output_type": "display_data"
    },
    {
     "data": {
      "application/vnd.plotly.v1+json": {
       "config": {
        "plotlyServerURL": "https://plot.ly"
       },
       "data": [
        {
         "hovertemplate": "<b>%{hovertext}</b><br><br>ISO3=%{text}<br>HEE in 2020=%{x}<br>HEE in 2022=%{y}<extra></extra>",
         "hovertext": [
          "ARG"
         ],
         "legendgroup": "ARG",
         "marker": {
          "color": "#636efa",
          "size": 10,
          "symbol": "circle"
         },
         "mode": "markers+text",
         "name": "ARG",
         "orientation": "v",
         "showlegend": true,
         "text": [
          "ARG"
         ],
         "textposition": "top center",
         "type": "scatter",
         "x": {
          "bdata": "9tkgmZXmpj8=",
          "dtype": "f8"
         },
         "xaxis": "x",
         "y": {
          "bdata": "Y/MOrquaqD8=",
          "dtype": "f8"
         },
         "yaxis": "y"
        },
        {
         "hovertemplate": "<b>%{hovertext}</b><br><br>ISO3=%{text}<br>HEE in 2020=%{x}<br>HEE in 2022=%{y}<extra></extra>",
         "hovertext": [
          "ARM"
         ],
         "legendgroup": "ARM",
         "marker": {
          "color": "#EF553B",
          "size": 10,
          "symbol": "circle"
         },
         "mode": "markers+text",
         "name": "ARM",
         "orientation": "v",
         "showlegend": true,
         "text": [
          "ARM"
         ],
         "textposition": "top center",
         "type": "scatter",
         "x": {
          "bdata": "pjafdNacqD8=",
          "dtype": "f8"
         },
         "xaxis": "x",
         "y": {
          "bdata": "NeVtLlcHrj8=",
          "dtype": "f8"
         },
         "yaxis": "y"
        },
        {
         "hovertemplate": "<b>%{hovertext}</b><br><br>ISO3=%{text}<br>HEE in 2020=%{x}<br>HEE in 2022=%{y}<extra></extra>",
         "hovertext": [
          "AUS"
         ],
         "legendgroup": "AUS",
         "marker": {
          "color": "#00cc96",
          "size": 10,
          "symbol": "circle"
         },
         "mode": "markers+text",
         "name": "AUS",
         "orientation": "v",
         "showlegend": true,
         "text": [
          "AUS"
         ],
         "textposition": "top center",
         "type": "scatter",
         "x": {
          "bdata": "2wzG6DuRrD8=",
          "dtype": "f8"
         },
         "xaxis": "x",
         "y": {
          "bdata": "99oWR3Jtrj8=",
          "dtype": "f8"
         },
         "yaxis": "y"
        },
        {
         "hovertemplate": "<b>%{hovertext}</b><br><br>ISO3=%{text}<br>HEE in 2020=%{x}<br>HEE in 2022=%{y}<extra></extra>",
         "hovertext": [
          "BGD"
         ],
         "legendgroup": "BGD",
         "marker": {
          "color": "#ab63fa",
          "size": 10,
          "symbol": "circle"
         },
         "mode": "markers+text",
         "name": "BGD",
         "orientation": "v",
         "showlegend": true,
         "text": [
          "BGD"
         ],
         "textposition": "top center",
         "type": "scatter",
         "x": {
          "bdata": "nVecfhpbwD8=",
          "dtype": "f8"
         },
         "xaxis": "x",
         "y": {
          "bdata": "qYuoT2GJwD8=",
          "dtype": "f8"
         },
         "yaxis": "y"
        },
        {
         "hovertemplate": "<b>%{hovertext}</b><br><br>ISO3=%{text}<br>HEE in 2020=%{x}<br>HEE in 2022=%{y}<extra></extra>",
         "hovertext": [
          "BRA"
         ],
         "legendgroup": "BRA",
         "marker": {
          "color": "#FFA15A",
          "size": 10,
          "symbol": "circle"
         },
         "mode": "markers+text",
         "name": "BRA",
         "orientation": "v",
         "showlegend": true,
         "text": [
          "BRA"
         ],
         "textposition": "top center",
         "type": "scatter",
         "x": {
          "bdata": "flJmsTcHpT8=",
          "dtype": "f8"
         },
         "xaxis": "x",
         "y": {
          "bdata": "KqmXwtZRpj8=",
          "dtype": "f8"
         },
         "yaxis": "y"
        },
        {
         "hovertemplate": "<b>%{hovertext}</b><br><br>ISO3=%{text}<br>HEE in 2020=%{x}<br>HEE in 2022=%{y}<extra></extra>",
         "hovertext": [
          "CAN"
         ],
         "legendgroup": "CAN",
         "marker": {
          "color": "#19d3f3",
          "size": 10,
          "symbol": "circle"
         },
         "mode": "markers+text",
         "name": "CAN",
         "orientation": "v",
         "showlegend": true,
         "text": [
          "CAN"
         ],
         "textposition": "top center",
         "type": "scatter",
         "x": {
          "bdata": "QqVc2sFQqj8=",
          "dtype": "f8"
         },
         "xaxis": "x",
         "y": {
          "bdata": "JyMwwSedrj8=",
          "dtype": "f8"
         },
         "yaxis": "y"
        },
        {
         "hovertemplate": "<b>%{hovertext}</b><br><br>ISO3=%{text}<br>HEE in 2020=%{x}<br>HEE in 2022=%{y}<extra></extra>",
         "hovertext": [
          "CHL"
         ],
         "legendgroup": "CHL",
         "marker": {
          "color": "#FF6692",
          "size": 10,
          "symbol": "circle"
         },
         "mode": "markers+text",
         "name": "CHL",
         "orientation": "v",
         "showlegend": true,
         "text": [
          "CHL"
         ],
         "textposition": "top center",
         "type": "scatter",
         "x": {
          "bdata": "+z6ok7rdqT8=",
          "dtype": "f8"
         },
         "xaxis": "x",
         "y": {
          "bdata": "z9f7Bpxjqj8=",
          "dtype": "f8"
         },
         "yaxis": "y"
        },
        {
         "hovertemplate": "<b>%{hovertext}</b><br><br>ISO3=%{text}<br>HEE in 2020=%{x}<br>HEE in 2022=%{y}<extra></extra>",
         "hovertext": [
          "CHN"
         ],
         "legendgroup": "CHN",
         "marker": {
          "color": "#B6E880",
          "size": 10,
          "symbol": "circle"
         },
         "mode": "markers+text",
         "name": "CHN",
         "orientation": "v",
         "showlegend": true,
         "text": [
          "CHN"
         ],
         "textposition": "top center",
         "type": "scatter",
         "x": {
          "bdata": "f9z/RdQUsj8=",
          "dtype": "f8"
         },
         "xaxis": "x",
         "y": {
          "bdata": "SljKuLwLsz8=",
          "dtype": "f8"
         },
         "yaxis": "y"
        },
        {
         "hovertemplate": "<b>%{hovertext}</b><br><br>ISO3=%{text}<br>HEE in 2020=%{x}<br>HEE in 2022=%{y}<extra></extra>",
         "hovertext": [
          "CYP"
         ],
         "legendgroup": "CYP",
         "marker": {
          "color": "#FF97FF",
          "size": 10,
          "symbol": "circle"
         },
         "mode": "markers+text",
         "name": "CYP",
         "orientation": "v",
         "showlegend": true,
         "text": [
          "CYP"
         ],
         "textposition": "top center",
         "type": "scatter",
         "x": {
          "bdata": "F4Ke387Urj8=",
          "dtype": "f8"
         },
         "xaxis": "x",
         "y": {
          "bdata": "Hk3EPYJWrz8=",
          "dtype": "f8"
         },
         "yaxis": "y"
        },
        {
         "hovertemplate": "<b>%{hovertext}</b><br><br>ISO3=%{text}<br>HEE in 2020=%{x}<br>HEE in 2022=%{y}<extra></extra>",
         "hovertext": [
          "CZE"
         ],
         "legendgroup": "CZE",
         "marker": {
          "color": "#FECB52",
          "size": 10,
          "symbol": "circle"
         },
         "mode": "markers+text",
         "name": "CZE",
         "orientation": "v",
         "showlegend": true,
         "text": [
          "CZE"
         ],
         "textposition": "top center",
         "type": "scatter",
         "x": {
          "bdata": "tqW7FD3yrz8=",
          "dtype": "f8"
         },
         "xaxis": "x",
         "y": {
          "bdata": "uyXGtslpsD8=",
          "dtype": "f8"
         },
         "yaxis": "y"
        },
        {
         "hovertemplate": "<b>%{hovertext}</b><br><br>ISO3=%{text}<br>HEE in 2020=%{x}<br>HEE in 2022=%{y}<extra></extra>",
         "hovertext": [
          "DEU"
         ],
         "legendgroup": "DEU",
         "marker": {
          "color": "#636efa",
          "size": 10,
          "symbol": "circle"
         },
         "mode": "markers+text",
         "name": "DEU",
         "orientation": "v",
         "showlegend": true,
         "text": [
          "DEU"
         ],
         "textposition": "top center",
         "type": "scatter",
         "x": {
          "bdata": "C3Q2mvSXqT8=",
          "dtype": "f8"
         },
         "xaxis": "x",
         "y": {
          "bdata": "0HpyM5Q3qz8=",
          "dtype": "f8"
         },
         "yaxis": "y"
        },
        {
         "hovertemplate": "<b>%{hovertext}</b><br><br>ISO3=%{text}<br>HEE in 2020=%{x}<br>HEE in 2022=%{y}<extra></extra>",
         "hovertext": [
          "ECU"
         ],
         "legendgroup": "ECU",
         "marker": {
          "color": "#EF553B",
          "size": 10,
          "symbol": "circle"
         },
         "mode": "markers+text",
         "name": "ECU",
         "orientation": "v",
         "showlegend": true,
         "text": [
          "ECU"
         ],
         "textposition": "top center",
         "type": "scatter",
         "x": {
          "bdata": "jPm39200qT8=",
          "dtype": "f8"
         },
         "xaxis": "x",
         "y": {
          "bdata": "JngavWjSrj8=",
          "dtype": "f8"
         },
         "yaxis": "y"
        },
        {
         "hovertemplate": "<b>%{hovertext}</b><br><br>ISO3=%{text}<br>HEE in 2020=%{x}<br>HEE in 2022=%{y}<extra></extra>",
         "hovertext": [
          "EGY"
         ],
         "legendgroup": "EGY",
         "marker": {
          "color": "#00cc96",
          "size": 10,
          "symbol": "circle"
         },
         "mode": "markers+text",
         "name": "EGY",
         "orientation": "v",
         "showlegend": true,
         "text": [
          "EGY"
         ],
         "textposition": "top center",
         "type": "scatter",
         "x": {
          "bdata": "D+aHL53qsT8=",
          "dtype": "f8"
         },
         "xaxis": "x",
         "y": {
          "bdata": "4ZH2uuNDsT8=",
          "dtype": "f8"
         },
         "yaxis": "y"
        },
        {
         "hovertemplate": "<b>%{hovertext}</b><br><br>ISO3=%{text}<br>HEE in 2020=%{x}<br>HEE in 2022=%{y}<extra></extra>",
         "hovertext": [
          "ETH"
         ],
         "legendgroup": "ETH",
         "marker": {
          "color": "#ab63fa",
          "size": 10,
          "symbol": "circle"
         },
         "mode": "markers+text",
         "name": "ETH",
         "orientation": "v",
         "showlegend": true,
         "text": [
          "ETH"
         ],
         "textposition": "top center",
         "type": "scatter",
         "x": {
          "bdata": "q52GxNtWpj8=",
          "dtype": "f8"
         },
         "xaxis": "x",
         "y": {
          "bdata": "EmPJUeGyqj8=",
          "dtype": "f8"
         },
         "yaxis": "y"
        },
        {
         "hovertemplate": "<b>%{hovertext}</b><br><br>ISO3=%{text}<br>HEE in 2020=%{x}<br>HEE in 2022=%{y}<extra></extra>",
         "hovertext": [
          "GBR"
         ],
         "legendgroup": "GBR",
         "marker": {
          "color": "#FFA15A",
          "size": 10,
          "symbol": "circle"
         },
         "mode": "markers+text",
         "name": "GBR",
         "orientation": "v",
         "showlegend": true,
         "text": [
          "GBR"
         ],
         "textposition": "top center",
         "type": "scatter",
         "x": {
          "bdata": "yVOYZYVGqj8=",
          "dtype": "f8"
         },
         "xaxis": "x",
         "y": {
          "bdata": "YlikqnjCrD8=",
          "dtype": "f8"
         },
         "yaxis": "y"
        },
        {
         "hovertemplate": "<b>%{hovertext}</b><br><br>ISO3=%{text}<br>HEE in 2020=%{x}<br>HEE in 2022=%{y}<extra></extra>",
         "hovertext": [
          "GRC"
         ],
         "legendgroup": "GRC",
         "marker": {
          "color": "#19d3f3",
          "size": 10,
          "symbol": "circle"
         },
         "mode": "markers+text",
         "name": "GRC",
         "orientation": "v",
         "showlegend": true,
         "text": [
          "GRC"
         ],
         "textposition": "top center",
         "type": "scatter",
         "x": {
          "bdata": "X60wJqS9rT8=",
          "dtype": "f8"
         },
         "xaxis": "x",
         "y": {
          "bdata": "Fs2W+0yQsD8=",
          "dtype": "f8"
         },
         "yaxis": "y"
        },
        {
         "hovertemplate": "<b>%{hovertext}</b><br><br>ISO3=%{text}<br>HEE in 2020=%{x}<br>HEE in 2022=%{y}<extra></extra>",
         "hovertext": [
          "GTM"
         ],
         "legendgroup": "GTM",
         "marker": {
          "color": "#FF6692",
          "size": 10,
          "symbol": "circle"
         },
         "mode": "markers+text",
         "name": "GTM",
         "orientation": "v",
         "showlegend": true,
         "text": [
          "GTM"
         ],
         "textposition": "top center",
         "type": "scatter",
         "x": {
          "bdata": "xfqhvV6pqz8=",
          "dtype": "f8"
         },
         "xaxis": "x",
         "y": {
          "bdata": "vdiaJI3zqT8=",
          "dtype": "f8"
         },
         "yaxis": "y"
        },
        {
         "hovertemplate": "<b>%{hovertext}</b><br><br>ISO3=%{text}<br>HEE in 2020=%{x}<br>HEE in 2022=%{y}<extra></extra>",
         "hovertext": [
          "IDN"
         ],
         "legendgroup": "IDN",
         "marker": {
          "color": "#B6E880",
          "size": 10,
          "symbol": "circle"
         },
         "mode": "markers+text",
         "name": "IDN",
         "orientation": "v",
         "showlegend": true,
         "text": [
          "IDN"
         ],
         "textposition": "top center",
         "type": "scatter",
         "x": {
          "bdata": "AKdrg3xhwD8=",
          "dtype": "f8"
         },
         "xaxis": "x",
         "y": {
          "bdata": "a7cysiAixT8=",
          "dtype": "f8"
         },
         "yaxis": "y"
        },
        {
         "hovertemplate": "<b>%{hovertext}</b><br><br>ISO3=%{text}<br>HEE in 2020=%{x}<br>HEE in 2022=%{y}<extra></extra>",
         "hovertext": [
          "IND"
         ],
         "legendgroup": "IND",
         "marker": {
          "color": "#FF97FF",
          "size": 10,
          "symbol": "circle"
         },
         "mode": "markers+text",
         "name": "IND",
         "orientation": "v",
         "showlegend": true,
         "text": [
          "IND"
         ],
         "textposition": "top center",
         "type": "scatter",
         "x": {
          "bdata": "oOFhYHzbsT8=",
          "dtype": "f8"
         },
         "xaxis": "x",
         "y": {
          "bdata": "vhd4XKhksj8=",
          "dtype": "f8"
         },
         "yaxis": "y"
        },
        {
         "hovertemplate": "<b>%{hovertext}</b><br><br>ISO3=%{text}<br>HEE in 2020=%{x}<br>HEE in 2022=%{y}<extra></extra>",
         "hovertext": [
          "IRL"
         ],
         "legendgroup": "IRL",
         "marker": {
          "color": "#FECB52",
          "size": 10,
          "symbol": "circle"
         },
         "mode": "markers+text",
         "name": "IRL",
         "orientation": "v",
         "showlegend": true,
         "text": [
          "IRL"
         ],
         "textposition": "top center",
         "type": "scatter",
         "x": {
          "bdata": "rwg+F2++tT8=",
          "dtype": "f8"
         },
         "xaxis": "x",
         "y": {
          "bdata": "JG2dM5ycuD8=",
          "dtype": "f8"
         },
         "yaxis": "y"
        },
        {
         "hovertemplate": "<b>%{hovertext}</b><br><br>ISO3=%{text}<br>HEE in 2020=%{x}<br>HEE in 2022=%{y}<extra></extra>",
         "hovertext": [
          "IRN"
         ],
         "legendgroup": "IRN",
         "marker": {
          "color": "#636efa",
          "size": 10,
          "symbol": "circle"
         },
         "mode": "markers+text",
         "name": "IRN",
         "orientation": "v",
         "showlegend": true,
         "text": [
          "IRN"
         ],
         "textposition": "top center",
         "type": "scatter",
         "x": {
          "bdata": "vVOd+fXDtD8=",
          "dtype": "f8"
         },
         "xaxis": "x",
         "y": {
          "bdata": "NtDmgvvptT8=",
          "dtype": "f8"
         },
         "yaxis": "y"
        },
        {
         "hovertemplate": "<b>%{hovertext}</b><br><br>ISO3=%{text}<br>HEE in 2020=%{x}<br>HEE in 2022=%{y}<extra></extra>",
         "hovertext": [
          "JOR"
         ],
         "legendgroup": "JOR",
         "marker": {
          "color": "#EF553B",
          "size": 10,
          "symbol": "circle"
         },
         "mode": "markers+text",
         "name": "JOR",
         "orientation": "v",
         "showlegend": true,
         "text": [
          "JOR"
         ],
         "textposition": "top center",
         "type": "scatter",
         "x": {
          "bdata": "Y4j78geisT8=",
          "dtype": "f8"
         },
         "xaxis": "x",
         "y": {
          "bdata": "yanzOXoSsj8=",
          "dtype": "f8"
         },
         "yaxis": "y"
        },
        {
         "hovertemplate": "<b>%{hovertext}</b><br><br>ISO3=%{text}<br>HEE in 2020=%{x}<br>HEE in 2022=%{y}<extra></extra>",
         "hovertext": [
          "JPN"
         ],
         "legendgroup": "JPN",
         "marker": {
          "color": "#00cc96",
          "size": 10,
          "symbol": "circle"
         },
         "mode": "markers+text",
         "name": "JPN",
         "orientation": "v",
         "showlegend": true,
         "text": [
          "JPN"
         ],
         "textposition": "top center",
         "type": "scatter",
         "x": {
          "bdata": "EQzJdRVgsD8=",
          "dtype": "f8"
         },
         "xaxis": "x",
         "y": {
          "bdata": "20LLlEEnsD8=",
          "dtype": "f8"
         },
         "yaxis": "y"
        },
        {
         "hovertemplate": "<b>%{hovertext}</b><br><br>ISO3=%{text}<br>HEE in 2020=%{x}<br>HEE in 2022=%{y}<extra></extra>",
         "hovertext": [
          "KAZ"
         ],
         "legendgroup": "KAZ",
         "marker": {
          "color": "#ab63fa",
          "size": 10,
          "symbol": "circle"
         },
         "mode": "markers+text",
         "name": "KAZ",
         "orientation": "v",
         "showlegend": true,
         "text": [
          "KAZ"
         ],
         "textposition": "top center",
         "type": "scatter",
         "x": {
          "bdata": "SUFV0JkPtj8=",
          "dtype": "f8"
         },
         "xaxis": "x",
         "y": {
          "bdata": "Gni7VFyjtj8=",
          "dtype": "f8"
         },
         "yaxis": "y"
        },
        {
         "hovertemplate": "<b>%{hovertext}</b><br><br>ISO3=%{text}<br>HEE in 2020=%{x}<br>HEE in 2022=%{y}<extra></extra>",
         "hovertext": [
          "KEN"
         ],
         "legendgroup": "KEN",
         "marker": {
          "color": "#FFA15A",
          "size": 10,
          "symbol": "circle"
         },
         "mode": "markers+text",
         "name": "KEN",
         "orientation": "v",
         "showlegend": true,
         "text": [
          "KEN"
         ],
         "textposition": "top center",
         "type": "scatter",
         "x": {
          "bdata": "Dv65PLxbqz8=",
          "dtype": "f8"
         },
         "xaxis": "x",
         "y": {
          "bdata": "phc9AFWDrz8=",
          "dtype": "f8"
         },
         "yaxis": "y"
        },
        {
         "hovertemplate": "<b>%{hovertext}</b><br><br>ISO3=%{text}<br>HEE in 2020=%{x}<br>HEE in 2022=%{y}<extra></extra>",
         "hovertext": [
          "KGZ"
         ],
         "legendgroup": "KGZ",
         "marker": {
          "color": "#19d3f3",
          "size": 10,
          "symbol": "circle"
         },
         "mode": "markers+text",
         "name": "KGZ",
         "orientation": "v",
         "showlegend": true,
         "text": [
          "KGZ"
         ],
         "textposition": "top center",
         "type": "scatter",
         "x": {
          "bdata": "Y7UXuo9Srj8=",
          "dtype": "f8"
         },
         "xaxis": "x",
         "y": {
          "bdata": "svIOvJk4rT8=",
          "dtype": "f8"
         },
         "yaxis": "y"
        },
        {
         "hovertemplate": "<b>%{hovertext}</b><br><br>ISO3=%{text}<br>HEE in 2020=%{x}<br>HEE in 2022=%{y}<extra></extra>",
         "hovertext": [
          "KOR"
         ],
         "legendgroup": "KOR",
         "marker": {
          "color": "#FF6692",
          "size": 10,
          "symbol": "circle"
         },
         "mode": "markers+text",
         "name": "KOR",
         "orientation": "v",
         "showlegend": true,
         "text": [
          "KOR"
         ],
         "textposition": "top center",
         "type": "scatter",
         "x": {
          "bdata": "QGOrVrXasT8=",
          "dtype": "f8"
         },
         "xaxis": "x",
         "y": {
          "bdata": "bYUXAtNgsD8=",
          "dtype": "f8"
         },
         "yaxis": "y"
        },
        {
         "hovertemplate": "<b>%{hovertext}</b><br><br>ISO3=%{text}<br>HEE in 2020=%{x}<br>HEE in 2022=%{y}<extra></extra>",
         "hovertext": [
          "LBN"
         ],
         "legendgroup": "LBN",
         "marker": {
          "color": "#B6E880",
          "size": 10,
          "symbol": "circle"
         },
         "mode": "markers+text",
         "name": "LBN",
         "orientation": "v",
         "showlegend": true,
         "text": [
          "LBN"
         ],
         "textposition": "top center",
         "type": "scatter",
         "x": {
          "bdata": "qugu3eNSsj8=",
          "dtype": "f8"
         },
         "xaxis": "x",
         "y": {
          "bdata": "Yp0KUg8htz8=",
          "dtype": "f8"
         },
         "yaxis": "y"
        },
        {
         "hovertemplate": "<b>%{hovertext}</b><br><br>ISO3=%{text}<br>HEE in 2020=%{x}<br>HEE in 2022=%{y}<extra></extra>",
         "hovertext": [
          "MAR"
         ],
         "legendgroup": "MAR",
         "marker": {
          "color": "#FF97FF",
          "size": 10,
          "symbol": "circle"
         },
         "mode": "markers+text",
         "name": "MAR",
         "orientation": "v",
         "showlegend": true,
         "text": [
          "MAR"
         ],
         "textposition": "top center",
         "type": "scatter",
         "x": {
          "bdata": "NVkxKw4vpz8=",
          "dtype": "f8"
         },
         "xaxis": "x",
         "y": {
          "bdata": "AAl9SgKgqD8=",
          "dtype": "f8"
         },
         "yaxis": "y"
        },
        {
         "hovertemplate": "<b>%{hovertext}</b><br><br>ISO3=%{text}<br>HEE in 2020=%{x}<br>HEE in 2022=%{y}<extra></extra>",
         "hovertext": [
          "MEX"
         ],
         "legendgroup": "MEX",
         "marker": {
          "color": "#FECB52",
          "size": 10,
          "symbol": "circle"
         },
         "mode": "markers+text",
         "name": "MEX",
         "orientation": "v",
         "showlegend": true,
         "text": [
          "MEX"
         ],
         "textposition": "top center",
         "type": "scatter",
         "x": {
          "bdata": "9UTN6i0hrz8=",
          "dtype": "f8"
         },
         "xaxis": "x",
         "y": {
          "bdata": "vCGT+iQxsT8=",
          "dtype": "f8"
         },
         "yaxis": "y"
        },
        {
         "hovertemplate": "<b>%{hovertext}</b><br><br>ISO3=%{text}<br>HEE in 2020=%{x}<br>HEE in 2022=%{y}<extra></extra>",
         "hovertext": [
          "MMR"
         ],
         "legendgroup": "MMR",
         "marker": {
          "color": "#636efa",
          "size": 10,
          "symbol": "circle"
         },
         "mode": "markers+text",
         "name": "MMR",
         "orientation": "v",
         "showlegend": true,
         "text": [
          "MMR"
         ],
         "textposition": "top center",
         "type": "scatter",
         "x": {
          "bdata": "l90+aHSOsz8=",
          "dtype": "f8"
         },
         "xaxis": "x",
         "y": {
          "bdata": "0lyTjMOJsT8=",
          "dtype": "f8"
         },
         "yaxis": "y"
        },
        {
         "hovertemplate": "<b>%{hovertext}</b><br><br>ISO3=%{text}<br>HEE in 2020=%{x}<br>HEE in 2022=%{y}<extra></extra>",
         "hovertext": [
          "MNG"
         ],
         "legendgroup": "MNG",
         "marker": {
          "color": "#EF553B",
          "size": 10,
          "symbol": "circle"
         },
         "mode": "markers+text",
         "name": "MNG",
         "orientation": "v",
         "showlegend": true,
         "text": [
          "MNG"
         ],
         "textposition": "top center",
         "type": "scatter",
         "x": {
          "bdata": "bqAeHUz3sT8=",
          "dtype": "f8"
         },
         "xaxis": "x",
         "y": {
          "bdata": "GtBr/BvuqT8=",
          "dtype": "f8"
         },
         "yaxis": "y"
        },
        {
         "hovertemplate": "<b>%{hovertext}</b><br><br>ISO3=%{text}<br>HEE in 2020=%{x}<br>HEE in 2022=%{y}<extra></extra>",
         "hovertext": [
          "MYS"
         ],
         "legendgroup": "MYS",
         "marker": {
          "color": "#00cc96",
          "size": 10,
          "symbol": "circle"
         },
         "mode": "markers+text",
         "name": "MYS",
         "orientation": "v",
         "showlegend": true,
         "text": [
          "MYS"
         ],
         "textposition": "top center",
         "type": "scatter",
         "x": {
          "bdata": "o2o5mGX0tT8=",
          "dtype": "f8"
         },
         "xaxis": "x",
         "y": {
          "bdata": "pN2OmamOuT8=",
          "dtype": "f8"
         },
         "yaxis": "y"
        },
        {
         "hovertemplate": "<b>%{hovertext}</b><br><br>ISO3=%{text}<br>HEE in 2020=%{x}<br>HEE in 2022=%{y}<extra></extra>",
         "hovertext": [
          "NGA"
         ],
         "legendgroup": "NGA",
         "marker": {
          "color": "#ab63fa",
          "size": 10,
          "symbol": "circle"
         },
         "mode": "markers+text",
         "name": "NGA",
         "orientation": "v",
         "showlegend": true,
         "text": [
          "NGA"
         ],
         "textposition": "top center",
         "type": "scatter",
         "x": {
          "bdata": "6/6pGHpqsD8=",
          "dtype": "f8"
         },
         "xaxis": "x",
         "y": {
          "bdata": "yWPkFRGorD8=",
          "dtype": "f8"
         },
         "yaxis": "y"
        },
        {
         "hovertemplate": "<b>%{hovertext}</b><br><br>ISO3=%{text}<br>HEE in 2020=%{x}<br>HEE in 2022=%{y}<extra></extra>",
         "hovertext": [
          "NIC"
         ],
         "legendgroup": "NIC",
         "marker": {
          "color": "#FFA15A",
          "size": 10,
          "symbol": "circle"
         },
         "mode": "markers+text",
         "name": "NIC",
         "orientation": "v",
         "showlegend": true,
         "text": [
          "NIC"
         ],
         "textposition": "top center",
         "type": "scatter",
         "x": {
          "bdata": "wqWHYmgeqD8=",
          "dtype": "f8"
         },
         "xaxis": "x",
         "y": {
          "bdata": "6D2piT4eqj8=",
          "dtype": "f8"
         },
         "yaxis": "y"
        },
        {
         "hovertemplate": "<b>%{hovertext}</b><br><br>ISO3=%{text}<br>HEE in 2020=%{x}<br>HEE in 2022=%{y}<extra></extra>",
         "hovertext": [
          "NLD"
         ],
         "legendgroup": "NLD",
         "marker": {
          "color": "#19d3f3",
          "size": 10,
          "symbol": "circle"
         },
         "mode": "markers+text",
         "name": "NLD",
         "orientation": "v",
         "showlegend": true,
         "text": [
          "NLD"
         ],
         "textposition": "top center",
         "type": "scatter",
         "x": {
          "bdata": "PPmLLiIyqz8=",
          "dtype": "f8"
         },
         "xaxis": "x",
         "y": {
          "bdata": "2A41Yt3+rT8=",
          "dtype": "f8"
         },
         "yaxis": "y"
        },
        {
         "hovertemplate": "<b>%{hovertext}</b><br><br>ISO3=%{text}<br>HEE in 2020=%{x}<br>HEE in 2022=%{y}<extra></extra>",
         "hovertext": [
          "NZL"
         ],
         "legendgroup": "NZL",
         "marker": {
          "color": "#FF6692",
          "size": 10,
          "symbol": "circle"
         },
         "mode": "markers+text",
         "name": "NZL",
         "orientation": "v",
         "showlegend": true,
         "text": [
          "NZL"
         ],
         "textposition": "top center",
         "type": "scatter",
         "x": {
          "bdata": "uukPXAwvrT8=",
          "dtype": "f8"
         },
         "xaxis": "x",
         "y": {
          "bdata": "FLLRwlb0rT8=",
          "dtype": "f8"
         },
         "yaxis": "y"
        },
        {
         "hovertemplate": "<b>%{hovertext}</b><br><br>ISO3=%{text}<br>HEE in 2020=%{x}<br>HEE in 2022=%{y}<extra></extra>",
         "hovertext": [
          "PAK"
         ],
         "legendgroup": "PAK",
         "marker": {
          "color": "#B6E880",
          "size": 10,
          "symbol": "circle"
         },
         "mode": "markers+text",
         "name": "PAK",
         "orientation": "v",
         "showlegend": true,
         "text": [
          "PAK"
         ],
         "textposition": "top center",
         "type": "scatter",
         "x": {
          "bdata": "3G50tBBLsD8=",
          "dtype": "f8"
         },
         "xaxis": "x",
         "y": {
          "bdata": "SFfZZZyssT8=",
          "dtype": "f8"
         },
         "yaxis": "y"
        },
        {
         "hovertemplate": "<b>%{hovertext}</b><br><br>ISO3=%{text}<br>HEE in 2020=%{x}<br>HEE in 2022=%{y}<extra></extra>",
         "hovertext": [
          "PER"
         ],
         "legendgroup": "PER",
         "marker": {
          "color": "#FF97FF",
          "size": 10,
          "symbol": "circle"
         },
         "mode": "markers+text",
         "name": "PER",
         "orientation": "v",
         "showlegend": true,
         "text": [
          "PER"
         ],
         "textposition": "top center",
         "type": "scatter",
         "x": {
          "bdata": "BgC1OSHRrz8=",
          "dtype": "f8"
         },
         "xaxis": "x",
         "y": {
          "bdata": "5io1h9ygsT8=",
          "dtype": "f8"
         },
         "yaxis": "y"
        },
        {
         "hovertemplate": "<b>%{hovertext}</b><br><br>ISO3=%{text}<br>HEE in 2020=%{x}<br>HEE in 2022=%{y}<extra></extra>",
         "hovertext": [
          "PHL"
         ],
         "legendgroup": "PHL",
         "marker": {
          "color": "#FECB52",
          "size": 10,
          "symbol": "circle"
         },
         "mode": "markers+text",
         "name": "PHL",
         "orientation": "v",
         "showlegend": true,
         "text": [
          "PHL"
         ],
         "textposition": "top center",
         "type": "scatter",
         "x": {
          "bdata": "rxLJTXW3rj8=",
          "dtype": "f8"
         },
         "xaxis": "x",
         "y": {
          "bdata": "eqZX4T1jsD8=",
          "dtype": "f8"
         },
         "yaxis": "y"
        },
        {
         "hovertemplate": "<b>%{hovertext}</b><br><br>ISO3=%{text}<br>HEE in 2020=%{x}<br>HEE in 2022=%{y}<extra></extra>",
         "hovertext": [
          "ROU"
         ],
         "legendgroup": "ROU",
         "marker": {
          "color": "#636efa",
          "size": 10,
          "symbol": "circle"
         },
         "mode": "markers+text",
         "name": "ROU",
         "orientation": "v",
         "showlegend": true,
         "text": [
          "ROU"
         ],
         "textposition": "top center",
         "type": "scatter",
         "x": {
          "bdata": "IGcDQks7sz8=",
          "dtype": "f8"
         },
         "xaxis": "x",
         "y": {
          "bdata": "9Hjha9MPtT8=",
          "dtype": "f8"
         },
         "yaxis": "y"
        },
        {
         "hovertemplate": "<b>%{hovertext}</b><br><br>ISO3=%{text}<br>HEE in 2020=%{x}<br>HEE in 2022=%{y}<extra></extra>",
         "hovertext": [
          "RUS"
         ],
         "legendgroup": "RUS",
         "marker": {
          "color": "#EF553B",
          "size": 10,
          "symbol": "circle"
         },
         "mode": "markers+text",
         "name": "RUS",
         "orientation": "v",
         "showlegend": true,
         "text": [
          "RUS"
         ],
         "textposition": "top center",
         "type": "scatter",
         "x": {
          "bdata": "dJA3RonMsD8=",
          "dtype": "f8"
         },
         "xaxis": "x",
         "y": {
          "bdata": "e2J/AMutsj8=",
          "dtype": "f8"
         },
         "yaxis": "y"
        },
        {
         "hovertemplate": "<b>%{hovertext}</b><br><br>ISO3=%{text}<br>HEE in 2020=%{x}<br>HEE in 2022=%{y}<extra></extra>",
         "hovertext": [
          "SGP"
         ],
         "legendgroup": "SGP",
         "marker": {
          "color": "#00cc96",
          "size": 10,
          "symbol": "circle"
         },
         "mode": "markers+text",
         "name": "SGP",
         "orientation": "v",
         "showlegend": true,
         "text": [
          "SGP"
         ],
         "textposition": "top center",
         "type": "scatter",
         "x": {
          "bdata": "x/VSdC3tvD8=",
          "dtype": "f8"
         },
         "xaxis": "x",
         "y": {
          "bdata": "NoOroTBEwD8=",
          "dtype": "f8"
         },
         "yaxis": "y"
        },
        {
         "hovertemplate": "<b>%{hovertext}</b><br><br>ISO3=%{text}<br>HEE in 2020=%{x}<br>HEE in 2022=%{y}<extra></extra>",
         "hovertext": [
          "SRB"
         ],
         "legendgroup": "SRB",
         "marker": {
          "color": "#ab63fa",
          "size": 10,
          "symbol": "circle"
         },
         "mode": "markers+text",
         "name": "SRB",
         "orientation": "v",
         "showlegend": true,
         "text": [
          "SRB"
         ],
         "textposition": "top center",
         "type": "scatter",
         "x": {
          "bdata": "h/HJbsx3rz8=",
          "dtype": "f8"
         },
         "xaxis": "x",
         "y": {
          "bdata": "Wybtx35hrj8=",
          "dtype": "f8"
         },
         "yaxis": "y"
        },
        {
         "hovertemplate": "<b>%{hovertext}</b><br><br>ISO3=%{text}<br>HEE in 2020=%{x}<br>HEE in 2022=%{y}<extra></extra>",
         "hovertext": [
          "SVK"
         ],
         "legendgroup": "SVK",
         "marker": {
          "color": "#FFA15A",
          "size": 10,
          "symbol": "circle"
         },
         "mode": "markers+text",
         "name": "SVK",
         "orientation": "v",
         "showlegend": true,
         "text": [
          "SVK"
         ],
         "textposition": "top center",
         "type": "scatter",
         "x": {
          "bdata": "DHuxGwjQsT8=",
          "dtype": "f8"
         },
         "xaxis": "x",
         "y": {
          "bdata": "6klMZyz0sD8=",
          "dtype": "f8"
         },
         "yaxis": "y"
        },
        {
         "hovertemplate": "<b>%{hovertext}</b><br><br>ISO3=%{text}<br>HEE in 2020=%{x}<br>HEE in 2022=%{y}<extra></extra>",
         "hovertext": [
          "THA"
         ],
         "legendgroup": "THA",
         "marker": {
          "color": "#19d3f3",
          "size": 10,
          "symbol": "circle"
         },
         "mode": "markers+text",
         "name": "THA",
         "orientation": "v",
         "showlegend": true,
         "text": [
          "THA"
         ],
         "textposition": "top center",
         "type": "scatter",
         "x": {
          "bdata": "cuBkZ2xUtz8=",
          "dtype": "f8"
         },
         "xaxis": "x",
         "y": {
          "bdata": "WcCaLni9tT8=",
          "dtype": "f8"
         },
         "yaxis": "y"
        },
        {
         "hovertemplate": "<b>%{hovertext}</b><br><br>ISO3=%{text}<br>HEE in 2020=%{x}<br>HEE in 2022=%{y}<extra></extra>",
         "hovertext": [
          "TJK"
         ],
         "legendgroup": "TJK",
         "marker": {
          "color": "#FF6692",
          "size": 10,
          "symbol": "circle"
         },
         "mode": "markers+text",
         "name": "TJK",
         "orientation": "v",
         "showlegend": true,
         "text": [
          "TJK"
         ],
         "textposition": "top center",
         "type": "scatter",
         "x": {
          "bdata": "aCA+PvQfpT8=",
          "dtype": "f8"
         },
         "xaxis": "x",
         "y": {
          "bdata": "USkH5lHppz8=",
          "dtype": "f8"
         },
         "yaxis": "y"
        },
        {
         "hovertemplate": "<b>%{hovertext}</b><br><br>ISO3=%{text}<br>HEE in 2020=%{x}<br>HEE in 2022=%{y}<extra></extra>",
         "hovertext": [
          "TUN"
         ],
         "legendgroup": "TUN",
         "marker": {
          "color": "#B6E880",
          "size": 10,
          "symbol": "circle"
         },
         "mode": "markers+text",
         "name": "TUN",
         "orientation": "v",
         "showlegend": true,
         "text": [
          "TUN"
         ],
         "textposition": "top center",
         "type": "scatter",
         "x": {
          "bdata": "hVYnE6sXpT8=",
          "dtype": "f8"
         },
         "xaxis": "x",
         "y": {
          "bdata": "G0zwSziIpj8=",
          "dtype": "f8"
         },
         "yaxis": "y"
        },
        {
         "hovertemplate": "<b>%{hovertext}</b><br><br>ISO3=%{text}<br>HEE in 2020=%{x}<br>HEE in 2022=%{y}<extra></extra>",
         "hovertext": [
          "TUR"
         ],
         "legendgroup": "TUR",
         "marker": {
          "color": "#FF97FF",
          "size": 10,
          "symbol": "circle"
         },
         "mode": "markers+text",
         "name": "TUR",
         "orientation": "v",
         "showlegend": true,
         "text": [
          "TUR"
         ],
         "textposition": "top center",
         "type": "scatter",
         "x": {
          "bdata": "UfEiP0l/tT8=",
          "dtype": "f8"
         },
         "xaxis": "x",
         "y": {
          "bdata": "yTMVmHrwvT8=",
          "dtype": "f8"
         },
         "yaxis": "y"
        },
        {
         "hovertemplate": "<b>%{hovertext}</b><br><br>ISO3=%{text}<br>HEE in 2020=%{x}<br>HEE in 2022=%{y}<extra></extra>",
         "hovertext": [
          "UKR"
         ],
         "legendgroup": "UKR",
         "marker": {
          "color": "#FECB52",
          "size": 10,
          "symbol": "circle"
         },
         "mode": "markers+text",
         "name": "UKR",
         "orientation": "v",
         "showlegend": true,
         "text": [
          "UKR"
         ],
         "textposition": "top center",
         "type": "scatter",
         "x": {
          "bdata": "o/0FGy+8rT8=",
          "dtype": "f8"
         },
         "xaxis": "x",
         "y": {
          "bdata": "LtMwazgVqz8=",
          "dtype": "f8"
         },
         "yaxis": "y"
        },
        {
         "hovertemplate": "<b>%{hovertext}</b><br><br>ISO3=%{text}<br>HEE in 2020=%{x}<br>HEE in 2022=%{y}<extra></extra>",
         "hovertext": [
          "URY"
         ],
         "legendgroup": "URY",
         "marker": {
          "color": "#636efa",
          "size": 10,
          "symbol": "circle"
         },
         "mode": "markers+text",
         "name": "URY",
         "orientation": "v",
         "showlegend": true,
         "text": [
          "URY"
         ],
         "textposition": "top center",
         "type": "scatter",
         "x": {
          "bdata": "6SBMzvQrqz8=",
          "dtype": "f8"
         },
         "xaxis": "x",
         "y": {
          "bdata": "TaMH5tLRqz8=",
          "dtype": "f8"
         },
         "yaxis": "y"
        },
        {
         "hovertemplate": "<b>%{hovertext}</b><br><br>ISO3=%{text}<br>HEE in 2020=%{x}<br>HEE in 2022=%{y}<extra></extra>",
         "hovertext": [
          "USA"
         ],
         "legendgroup": "USA",
         "marker": {
          "color": "#EF553B",
          "size": 10,
          "symbol": "circle"
         },
         "mode": "markers+text",
         "name": "USA",
         "orientation": "v",
         "showlegend": true,
         "text": [
          "USA"
         ],
         "textposition": "top center",
         "type": "scatter",
         "x": {
          "bdata": "DGDj9h9Foj8=",
          "dtype": "f8"
         },
         "xaxis": "x",
         "y": {
          "bdata": "HFzM8lZapD8=",
          "dtype": "f8"
         },
         "yaxis": "y"
        },
        {
         "hovertemplate": "<b>%{hovertext}</b><br><br>ISO3=%{text}<br>HEE in 2020=%{x}<br>HEE in 2022=%{y}<extra></extra>",
         "hovertext": [
          "UZB"
         ],
         "legendgroup": "UZB",
         "marker": {
          "color": "#00cc96",
          "size": 10,
          "symbol": "circle"
         },
         "mode": "markers+text",
         "name": "UZB",
         "orientation": "v",
         "showlegend": true,
         "text": [
          "UZB"
         ],
         "textposition": "top center",
         "type": "scatter",
         "x": {
          "bdata": "bFLTmKwgsD8=",
          "dtype": "f8"
         },
         "xaxis": "x",
         "y": {
          "bdata": "2yJP0eEtrj8=",
          "dtype": "f8"
         },
         "yaxis": "y"
        },
        {
         "hovertemplate": "<b>%{hovertext}</b><br><br>ISO3=%{text}<br>HEE in 2020=%{x}<br>HEE in 2022=%{y}<extra></extra>",
         "hovertext": [
          "VNM"
         ],
         "legendgroup": "VNM",
         "marker": {
          "color": "#ab63fa",
          "size": 10,
          "symbol": "circle"
         },
         "mode": "markers+text",
         "name": "VNM",
         "orientation": "v",
         "showlegend": true,
         "text": [
          "VNM"
         ],
         "textposition": "top center",
         "type": "scatter",
         "x": {
          "bdata": "UWvJBicAuT8=",
          "dtype": "f8"
         },
         "xaxis": "x",
         "y": {
          "bdata": "IKUR31FRuT8=",
          "dtype": "f8"
         },
         "yaxis": "y"
        }
       ],
       "layout": {
        "height": 600,
        "legend": {
         "title": {
          "text": "ISO3"
         },
         "tracegroupgap": 0
        },
        "shapes": [
         {
          "line": {
           "color": "gray",
           "dash": "dash"
          },
          "type": "line",
          "x0": 0,
          "x1": 0.2651039953334775,
          "y0": 0,
          "y1": 0.2651039953334775
         }
        ],
        "template": {
         "data": {
          "bar": [
           {
            "error_x": {
             "color": "#2a3f5f"
            },
            "error_y": {
             "color": "#2a3f5f"
            },
            "marker": {
             "line": {
              "color": "#E5ECF6",
              "width": 0.5
             },
             "pattern": {
              "fillmode": "overlay",
              "size": 10,
              "solidity": 0.2
             }
            },
            "type": "bar"
           }
          ],
          "barpolar": [
           {
            "marker": {
             "line": {
              "color": "#E5ECF6",
              "width": 0.5
             },
             "pattern": {
              "fillmode": "overlay",
              "size": 10,
              "solidity": 0.2
             }
            },
            "type": "barpolar"
           }
          ],
          "carpet": [
           {
            "aaxis": {
             "endlinecolor": "#2a3f5f",
             "gridcolor": "white",
             "linecolor": "white",
             "minorgridcolor": "white",
             "startlinecolor": "#2a3f5f"
            },
            "baxis": {
             "endlinecolor": "#2a3f5f",
             "gridcolor": "white",
             "linecolor": "white",
             "minorgridcolor": "white",
             "startlinecolor": "#2a3f5f"
            },
            "type": "carpet"
           }
          ],
          "choropleth": [
           {
            "colorbar": {
             "outlinewidth": 0,
             "ticks": ""
            },
            "type": "choropleth"
           }
          ],
          "contour": [
           {
            "colorbar": {
             "outlinewidth": 0,
             "ticks": ""
            },
            "colorscale": [
             [
              0,
              "#0d0887"
             ],
             [
              0.1111111111111111,
              "#46039f"
             ],
             [
              0.2222222222222222,
              "#7201a8"
             ],
             [
              0.3333333333333333,
              "#9c179e"
             ],
             [
              0.4444444444444444,
              "#bd3786"
             ],
             [
              0.5555555555555556,
              "#d8576b"
             ],
             [
              0.6666666666666666,
              "#ed7953"
             ],
             [
              0.7777777777777778,
              "#fb9f3a"
             ],
             [
              0.8888888888888888,
              "#fdca26"
             ],
             [
              1,
              "#f0f921"
             ]
            ],
            "type": "contour"
           }
          ],
          "contourcarpet": [
           {
            "colorbar": {
             "outlinewidth": 0,
             "ticks": ""
            },
            "type": "contourcarpet"
           }
          ],
          "heatmap": [
           {
            "colorbar": {
             "outlinewidth": 0,
             "ticks": ""
            },
            "colorscale": [
             [
              0,
              "#0d0887"
             ],
             [
              0.1111111111111111,
              "#46039f"
             ],
             [
              0.2222222222222222,
              "#7201a8"
             ],
             [
              0.3333333333333333,
              "#9c179e"
             ],
             [
              0.4444444444444444,
              "#bd3786"
             ],
             [
              0.5555555555555556,
              "#d8576b"
             ],
             [
              0.6666666666666666,
              "#ed7953"
             ],
             [
              0.7777777777777778,
              "#fb9f3a"
             ],
             [
              0.8888888888888888,
              "#fdca26"
             ],
             [
              1,
              "#f0f921"
             ]
            ],
            "type": "heatmap"
           }
          ],
          "histogram": [
           {
            "marker": {
             "pattern": {
              "fillmode": "overlay",
              "size": 10,
              "solidity": 0.2
             }
            },
            "type": "histogram"
           }
          ],
          "histogram2d": [
           {
            "colorbar": {
             "outlinewidth": 0,
             "ticks": ""
            },
            "colorscale": [
             [
              0,
              "#0d0887"
             ],
             [
              0.1111111111111111,
              "#46039f"
             ],
             [
              0.2222222222222222,
              "#7201a8"
             ],
             [
              0.3333333333333333,
              "#9c179e"
             ],
             [
              0.4444444444444444,
              "#bd3786"
             ],
             [
              0.5555555555555556,
              "#d8576b"
             ],
             [
              0.6666666666666666,
              "#ed7953"
             ],
             [
              0.7777777777777778,
              "#fb9f3a"
             ],
             [
              0.8888888888888888,
              "#fdca26"
             ],
             [
              1,
              "#f0f921"
             ]
            ],
            "type": "histogram2d"
           }
          ],
          "histogram2dcontour": [
           {
            "colorbar": {
             "outlinewidth": 0,
             "ticks": ""
            },
            "colorscale": [
             [
              0,
              "#0d0887"
             ],
             [
              0.1111111111111111,
              "#46039f"
             ],
             [
              0.2222222222222222,
              "#7201a8"
             ],
             [
              0.3333333333333333,
              "#9c179e"
             ],
             [
              0.4444444444444444,
              "#bd3786"
             ],
             [
              0.5555555555555556,
              "#d8576b"
             ],
             [
              0.6666666666666666,
              "#ed7953"
             ],
             [
              0.7777777777777778,
              "#fb9f3a"
             ],
             [
              0.8888888888888888,
              "#fdca26"
             ],
             [
              1,
              "#f0f921"
             ]
            ],
            "type": "histogram2dcontour"
           }
          ],
          "mesh3d": [
           {
            "colorbar": {
             "outlinewidth": 0,
             "ticks": ""
            },
            "type": "mesh3d"
           }
          ],
          "parcoords": [
           {
            "line": {
             "colorbar": {
              "outlinewidth": 0,
              "ticks": ""
             }
            },
            "type": "parcoords"
           }
          ],
          "pie": [
           {
            "automargin": true,
            "type": "pie"
           }
          ],
          "scatter": [
           {
            "fillpattern": {
             "fillmode": "overlay",
             "size": 10,
             "solidity": 0.2
            },
            "type": "scatter"
           }
          ],
          "scatter3d": [
           {
            "line": {
             "colorbar": {
              "outlinewidth": 0,
              "ticks": ""
             }
            },
            "marker": {
             "colorbar": {
              "outlinewidth": 0,
              "ticks": ""
             }
            },
            "type": "scatter3d"
           }
          ],
          "scattercarpet": [
           {
            "marker": {
             "colorbar": {
              "outlinewidth": 0,
              "ticks": ""
             }
            },
            "type": "scattercarpet"
           }
          ],
          "scattergeo": [
           {
            "marker": {
             "colorbar": {
              "outlinewidth": 0,
              "ticks": ""
             }
            },
            "type": "scattergeo"
           }
          ],
          "scattergl": [
           {
            "marker": {
             "colorbar": {
              "outlinewidth": 0,
              "ticks": ""
             }
            },
            "type": "scattergl"
           }
          ],
          "scattermap": [
           {
            "marker": {
             "colorbar": {
              "outlinewidth": 0,
              "ticks": ""
             }
            },
            "type": "scattermap"
           }
          ],
          "scattermapbox": [
           {
            "marker": {
             "colorbar": {
              "outlinewidth": 0,
              "ticks": ""
             }
            },
            "type": "scattermapbox"
           }
          ],
          "scatterpolar": [
           {
            "marker": {
             "colorbar": {
              "outlinewidth": 0,
              "ticks": ""
             }
            },
            "type": "scatterpolar"
           }
          ],
          "scatterpolargl": [
           {
            "marker": {
             "colorbar": {
              "outlinewidth": 0,
              "ticks": ""
             }
            },
            "type": "scatterpolargl"
           }
          ],
          "scatterternary": [
           {
            "marker": {
             "colorbar": {
              "outlinewidth": 0,
              "ticks": ""
             }
            },
            "type": "scatterternary"
           }
          ],
          "surface": [
           {
            "colorbar": {
             "outlinewidth": 0,
             "ticks": ""
            },
            "colorscale": [
             [
              0,
              "#0d0887"
             ],
             [
              0.1111111111111111,
              "#46039f"
             ],
             [
              0.2222222222222222,
              "#7201a8"
             ],
             [
              0.3333333333333333,
              "#9c179e"
             ],
             [
              0.4444444444444444,
              "#bd3786"
             ],
             [
              0.5555555555555556,
              "#d8576b"
             ],
             [
              0.6666666666666666,
              "#ed7953"
             ],
             [
              0.7777777777777778,
              "#fb9f3a"
             ],
             [
              0.8888888888888888,
              "#fdca26"
             ],
             [
              1,
              "#f0f921"
             ]
            ],
            "type": "surface"
           }
          ],
          "table": [
           {
            "cells": {
             "fill": {
              "color": "#EBF0F8"
             },
             "line": {
              "color": "white"
             }
            },
            "header": {
             "fill": {
              "color": "#C8D4E3"
             },
             "line": {
              "color": "white"
             }
            },
            "type": "table"
           }
          ]
         },
         "layout": {
          "annotationdefaults": {
           "arrowcolor": "#2a3f5f",
           "arrowhead": 0,
           "arrowwidth": 1
          },
          "autotypenumbers": "strict",
          "coloraxis": {
           "colorbar": {
            "outlinewidth": 0,
            "ticks": ""
           }
          },
          "colorscale": {
           "diverging": [
            [
             0,
             "#8e0152"
            ],
            [
             0.1,
             "#c51b7d"
            ],
            [
             0.2,
             "#de77ae"
            ],
            [
             0.3,
             "#f1b6da"
            ],
            [
             0.4,
             "#fde0ef"
            ],
            [
             0.5,
             "#f7f7f7"
            ],
            [
             0.6,
             "#e6f5d0"
            ],
            [
             0.7,
             "#b8e186"
            ],
            [
             0.8,
             "#7fbc41"
            ],
            [
             0.9,
             "#4d9221"
            ],
            [
             1,
             "#276419"
            ]
           ],
           "sequential": [
            [
             0,
             "#0d0887"
            ],
            [
             0.1111111111111111,
             "#46039f"
            ],
            [
             0.2222222222222222,
             "#7201a8"
            ],
            [
             0.3333333333333333,
             "#9c179e"
            ],
            [
             0.4444444444444444,
             "#bd3786"
            ],
            [
             0.5555555555555556,
             "#d8576b"
            ],
            [
             0.6666666666666666,
             "#ed7953"
            ],
            [
             0.7777777777777778,
             "#fb9f3a"
            ],
            [
             0.8888888888888888,
             "#fdca26"
            ],
            [
             1,
             "#f0f921"
            ]
           ],
           "sequentialminus": [
            [
             0,
             "#0d0887"
            ],
            [
             0.1111111111111111,
             "#46039f"
            ],
            [
             0.2222222222222222,
             "#7201a8"
            ],
            [
             0.3333333333333333,
             "#9c179e"
            ],
            [
             0.4444444444444444,
             "#bd3786"
            ],
            [
             0.5555555555555556,
             "#d8576b"
            ],
            [
             0.6666666666666666,
             "#ed7953"
            ],
            [
             0.7777777777777778,
             "#fb9f3a"
            ],
            [
             0.8888888888888888,
             "#fdca26"
            ],
            [
             1,
             "#f0f921"
            ]
           ]
          },
          "colorway": [
           "#636efa",
           "#EF553B",
           "#00cc96",
           "#ab63fa",
           "#FFA15A",
           "#19d3f3",
           "#FF6692",
           "#B6E880",
           "#FF97FF",
           "#FECB52"
          ],
          "font": {
           "color": "#2a3f5f"
          },
          "geo": {
           "bgcolor": "white",
           "lakecolor": "white",
           "landcolor": "#E5ECF6",
           "showlakes": true,
           "showland": true,
           "subunitcolor": "white"
          },
          "hoverlabel": {
           "align": "left"
          },
          "hovermode": "closest",
          "mapbox": {
           "style": "light"
          },
          "paper_bgcolor": "white",
          "plot_bgcolor": "#E5ECF6",
          "polar": {
           "angularaxis": {
            "gridcolor": "white",
            "linecolor": "white",
            "ticks": ""
           },
           "bgcolor": "#E5ECF6",
           "radialaxis": {
            "gridcolor": "white",
            "linecolor": "white",
            "ticks": ""
           }
          },
          "scene": {
           "xaxis": {
            "backgroundcolor": "#E5ECF6",
            "gridcolor": "white",
            "gridwidth": 2,
            "linecolor": "white",
            "showbackground": true,
            "ticks": "",
            "zerolinecolor": "white"
           },
           "yaxis": {
            "backgroundcolor": "#E5ECF6",
            "gridcolor": "white",
            "gridwidth": 2,
            "linecolor": "white",
            "showbackground": true,
            "ticks": "",
            "zerolinecolor": "white"
           },
           "zaxis": {
            "backgroundcolor": "#E5ECF6",
            "gridcolor": "white",
            "gridwidth": 2,
            "linecolor": "white",
            "showbackground": true,
            "ticks": "",
            "zerolinecolor": "white"
           }
          },
          "shapedefaults": {
           "line": {
            "color": "#2a3f5f"
           }
          },
          "ternary": {
           "aaxis": {
            "gridcolor": "white",
            "linecolor": "white",
            "ticks": ""
           },
           "baxis": {
            "gridcolor": "white",
            "linecolor": "white",
            "ticks": ""
           },
           "bgcolor": "#E5ECF6",
           "caxis": {
            "gridcolor": "white",
            "linecolor": "white",
            "ticks": ""
           }
          },
          "title": {
           "x": 0.05
          },
          "xaxis": {
           "automargin": true,
           "gridcolor": "white",
           "linecolor": "white",
           "ticks": "",
           "title": {
            "standoff": 15
           },
           "zerolinecolor": "white",
           "zerolinewidth": 2
          },
          "yaxis": {
           "automargin": true,
           "gridcolor": "white",
           "linecolor": "white",
           "ticks": "",
           "title": {
            "standoff": 15
           },
           "zerolinecolor": "white",
           "zerolinewidth": 2
          }
         }
        },
        "title": {
         "text": "HEE Comparison: 2020 vs 2022"
        },
        "width": 800,
        "xaxis": {
         "anchor": "y",
         "domain": [
          0,
          1
         ],
         "range": [
          0,
          0.2651039953334775
         ],
         "title": {
          "text": "HEE in 2020"
         }
        },
        "yaxis": {
         "anchor": "x",
         "domain": [
          0,
          1
         ],
         "range": [
          0,
          0.2651039953334775
         ],
         "title": {
          "text": "HEE in 2022"
         }
        }
       }
      }
     },
     "metadata": {},
     "output_type": "display_data"
    }
   ],
   "source": [
    "import pandas as pd\n",
    "import plotly.express as px\n",
    "import os\n",
    "\n",
    "# === Step 1: Load data ===\n",
    "df = pd.read_csv(\"../data/processed/hep_hee_results_with_region.csv\")\n",
    "\n",
    "# === Step 2: Filter for 2020 and 2022 ===\n",
    "df_filtered = df[df[\"Year\"].isin([2020, 2022])]\n",
    "df_wide = df_filtered.pivot(index=\"ISO3\", columns=\"Year\", values=[\"HEP\", \"HEE\"]).dropna()\n",
    "df_wide.columns = [f\"{metric}_{year}\" for metric, year in df_wide.columns]\n",
    "df_wide = df_wide.reset_index()\n",
    "\n",
    "# Merge back region info\n",
    "regions = df[[\"ISO3\", \"Region\"]].drop_duplicates()\n",
    "df_wide = df_wide.merge(regions, on=\"ISO3\", how=\"left\")\n",
    "\n",
    "# === Step 3: Plot HEP ===\n",
    "fig_hep = px.scatter(\n",
    "    df_wide,\n",
    "    x=\"HEP_2020\",\n",
    "    y=\"HEP_2022\",\n",
    "    text=\"ISO3\",\n",
    "    color=\"ISO3\",\n",
    "    hover_name=\"ISO3\",\n",
    "    title=\"HEP Comparison: 2020 vs 2022\",\n",
    "    labels={\"HEP_2020\": \"HEP in 2020\", \"HEP_2022\": \"HEP in 2022\"},\n",
    "    width=800,\n",
    "    height=600\n",
    ")\n",
    "fig_hep.add_shape(type='line', x0=0, y0=0, x1=1, y1=1, line=dict(dash=\"dash\", color=\"gray\"))\n",
    "fig_hep.update_traces(marker=dict(size=10), textposition='top center')\n",
    "fig_hep.show()\n",
    "\n",
    "# === Step 4: Plot HEE (with dynamic axis scaling) ===\n",
    "hee_min = min(df_wide[\"HEE_2020\"].min(), df_wide[\"HEE_2022\"].min())\n",
    "hee_max = max(df_wide[\"HEE_2020\"].max(), df_wide[\"HEE_2022\"].max())\n",
    "hee_min_padded = max(0, hee_min - 0.1)\n",
    "hee_max_padded = hee_max + 0.1\n",
    "\n",
    "fig_hee = px.scatter(\n",
    "    df_wide,\n",
    "    x=\"HEE_2020\",\n",
    "    y=\"HEE_2022\",\n",
    "    text=\"ISO3\",\n",
    "    color=\"ISO3\",\n",
    "    hover_name=\"ISO3\",\n",
    "    title=\"HEE Comparison: 2020 vs 2022\",\n",
    "    labels={\"HEE_2020\": \"HEE in 2020\", \"HEE_2022\": \"HEE in 2022\"},\n",
    "    width=800,\n",
    "    height=600\n",
    ")\n",
    "fig_hee.add_shape(\n",
    "    type='line',\n",
    "    x0=hee_min_padded,\n",
    "    y0=hee_min_padded,\n",
    "    x1=hee_max_padded,\n",
    "    y1=hee_max_padded,\n",
    "    line=dict(dash=\"dash\", color=\"gray\")\n",
    ")\n",
    "fig_hee.update_traces(marker=dict(size=10), textposition='top center')\n",
    "fig_hee.update_layout(\n",
    "    xaxis=dict(range=[hee_min_padded, hee_max_padded]),\n",
    "    yaxis=dict(range=[hee_min_padded, hee_max_padded])\n",
    ")\n",
    "fig_hee.show()\n"
   ]
  },
  {
   "cell_type": "code",
   "execution_count": 25,
   "id": "0f2722d3",
   "metadata": {},
   "outputs": [
    {
     "data": {
      "application/vnd.plotly.v1+json": {
       "config": {
        "plotlyServerURL": "https://plot.ly"
       },
       "data": [
        {
         "hovertemplate": "<b>%{hovertext}</b><br><br>income_level=Upper middle income<br>HEP in 2020=%{x}<br>HEP in 2022=%{y}<br>ISO3=%{text}<extra></extra>",
         "hovertext": [
          "ARG",
          "ARM",
          "BRA",
          "CHN",
          "ECU",
          "GTM",
          "IDN",
          "IRN",
          "KAZ",
          "MEX",
          "MNG",
          "MYS",
          "PER",
          "SRB",
          "THA",
          "TUR",
          "UKR"
         ],
         "legendgroup": "Upper middle income",
         "marker": {
          "color": "#636efa",
          "size": 10,
          "symbol": "circle"
         },
         "mode": "markers+text",
         "name": "Upper middle income",
         "orientation": "v",
         "showlegend": true,
         "text": [
          "ARG",
          "ARM",
          "BRA",
          "CHN",
          "ECU",
          "GTM",
          "IDN",
          "IRN",
          "KAZ",
          "MEX",
          "MNG",
          "MYS",
          "PER",
          "SRB",
          "THA",
          "TUR",
          "UKR"
         ],
         "textposition": "top center",
         "type": "scatter",
         "x": {
          "bdata": "c+8zIaGC5j8jfQB40f3mP2fjX/CVO+Q/EvlQ/Ow15j88s3Bsy1nkP3QLaiU53eA/AlAy9DUr4j+xOpjh8FbmP9nsTEc8nOY//SML59aI5D+lWnWdwvPkP1UsVXrumuc/ZmeKiWgf5T/yF+12ZjnoP2sxXxPn5uU/2TIav5Q+5z+3Vjp9fQ7oPw==",
          "dtype": "f8"
         },
         "xaxis": "x",
         "y": {
          "bdata": "lmnG9WiO5j8hfBS/pV/nP6fVzTQTbOQ/Cfu9YcJc5j+kO2tBhHLlPzeW32OVTuE/3q1NjinM4j+ozgh5+QjnP21CZOAiM+c/K3evXndt5T9+U4IF2h7lP3rduihDqOc/cIJN5Hjf5T+OPaICD33oP559No03puU/drPRRLqk5z9ovhz1x+3nPw==",
          "dtype": "f8"
         },
         "yaxis": "y"
        },
        {
         "hovertemplate": "<b>%{hovertext}</b><br><br>income_level=High income<br>HEP in 2020=%{x}<br>HEP in 2022=%{y}<br>ISO3=%{text}<extra></extra>",
         "hovertext": [
          "AUS",
          "CAN",
          "CHL",
          "CYP",
          "CZE",
          "DEU",
          "GBR",
          "GRC",
          "IRL",
          "JPN",
          "KOR",
          "NLD",
          "NZL",
          "ROU",
          "RUS",
          "SGP",
          "SVK",
          "URY",
          "USA"
         ],
         "legendgroup": "High income",
         "marker": {
          "color": "#EF553B",
          "size": 10,
          "symbol": "circle"
         },
         "mode": "markers+text",
         "name": "High income",
         "orientation": "v",
         "showlegend": true,
         "text": [
          "AUS",
          "CAN",
          "CHL",
          "CYP",
          "CZE",
          "DEU",
          "GBR",
          "GRC",
          "IRL",
          "JPN",
          "KOR",
          "NLD",
          "NZL",
          "ROU",
          "RUS",
          "SGP",
          "SVK",
          "URY",
          "USA"
         ],
         "textposition": "top center",
         "type": "scatter",
         "x": {
          "bdata": "xJJxGeqi7D/ufMtS3HXtP0N54wjow+g/NWlfVi++6z+yiVWBA7brP7IStXHbPe0/jI0G/B6V7D81JHB/FA/qP1dVf3SyCOw/OnaM7S627T8qdd5OOV3tP7fPZB/TS+w/UfYK0E2o7D8SpTaYiZjnP/PsXKeKUek/Qrj5hbgF7j8W8Z/xynnqP0lAenfaHec/bx87DwWm6z8=",
          "dtype": "f8"
         },
         "xaxis": "x",
         "y": {
          "bdata": "XSVyx6zH7D/s6LbmeWrtP9YfwFUg1+g/zigA3hOh6z/O3LMkOOjrP7cTI5XyK+0/UpV/7BjH7D89op+u2gzqPxg7zng8E+w//q4xrZOZ7T/+Tcet40btP3+R/dY3aOw/8GI9Ow6R7D/FzXP6XuPnP8EYG+Rbn+k/LxNOnh4J7j9UgQJCnYzqP6Wgea32Y+c/mKQoapzj6z8=",
          "dtype": "f8"
         },
         "yaxis": "y"
        },
        {
         "hovertemplate": "<b>%{hovertext}</b><br><br>income_level=Lower middle income<br>HEP in 2020=%{x}<br>HEP in 2022=%{y}<br>ISO3=%{text}<extra></extra>",
         "hovertext": [
          "BGD",
          "EGY",
          "IND",
          "JOR",
          "KEN",
          "KGZ",
          "LBN",
          "MAR",
          "MMR",
          "NGA",
          "NIC",
          "PAK",
          "PHL",
          "TJK",
          "TUN",
          "UZB",
          "VNM"
         ],
         "legendgroup": "Lower middle income",
         "marker": {
          "color": "#00cc96",
          "size": 10,
          "symbol": "circle"
         },
         "mode": "markers+text",
         "name": "Lower middle income",
         "orientation": "v",
         "showlegend": true,
         "text": [
          "BGD",
          "EGY",
          "IND",
          "JOR",
          "KEN",
          "KGZ",
          "LBN",
          "MAR",
          "MMR",
          "NGA",
          "NIC",
          "PAK",
          "PHL",
          "TJK",
          "TUN",
          "UZB",
          "VNM"
         ],
         "textposition": "top center",
         "type": "scatter",
         "x": {
          "bdata": "chBLJrSA4D8NhW7rKxviP0EbwoYceuA/rszoFF1F5j+MS/CaNE/gP089PmQ27OU/K7Mfg8Yt5T+AbMXC8zThP99YYE0aO98/VykKDTSzzj9dvB2T5drjPx7wtgAraNQ/cjLlfTxR4T9+Tme8FlDjPz/S288d3+I/7J49sMuC5z8Wxw4fIJfnPw==",
          "dtype": "f8"
         },
         "xaxis": "x",
         "y": {
          "bdata": "pEgjHpH14D/hWhey2KLiP9BdxR0sE+E/gGsm6meQ5j9OFaQ2t2fhPyt4h9QyFeY/IXxMsKho5T+d+OCZi9fhPzrUCrSmlt8/qdvmIAyM0D/FogLqb8/kP3LMAPinjtU/LbiUEGXl4T+TsMXwSPHjP1jNLrHWY+M/u3b+2S3D5z/QeVfdCannPw==",
          "dtype": "f8"
         },
         "yaxis": "y"
        },
        {
         "hovertemplate": "<b>%{hovertext}</b><br><br>income_level=Low income<br>HEP in 2020=%{x}<br>HEP in 2022=%{y}<br>ISO3=%{text}<extra></extra>",
         "hovertext": [
          "ETH"
         ],
         "legendgroup": "Low income",
         "marker": {
          "color": "#ab63fa",
          "size": 10,
          "symbol": "circle"
         },
         "mode": "markers+text",
         "name": "Low income",
         "orientation": "v",
         "showlegend": true,
         "text": [
          "ETH"
         ],
         "textposition": "top center",
         "type": "scatter",
         "x": {
          "bdata": "MRdr5Y8k1T8=",
          "dtype": "f8"
         },
         "xaxis": "x",
         "y": {
          "bdata": "JqCYeZX91T8=",
          "dtype": "f8"
         },
         "yaxis": "y"
        }
       ],
       "layout": {
        "height": 600,
        "legend": {
         "title": {
          "text": "income_level"
         },
         "tracegroupgap": 0
        },
        "shapes": [
         {
          "line": {
           "color": "gray",
           "dash": "dash"
          },
          "type": "line",
          "x0": 0,
          "x1": 1,
          "y0": 0,
          "y1": 1
         }
        ],
        "template": {
         "data": {
          "bar": [
           {
            "error_x": {
             "color": "#2a3f5f"
            },
            "error_y": {
             "color": "#2a3f5f"
            },
            "marker": {
             "line": {
              "color": "#E5ECF6",
              "width": 0.5
             },
             "pattern": {
              "fillmode": "overlay",
              "size": 10,
              "solidity": 0.2
             }
            },
            "type": "bar"
           }
          ],
          "barpolar": [
           {
            "marker": {
             "line": {
              "color": "#E5ECF6",
              "width": 0.5
             },
             "pattern": {
              "fillmode": "overlay",
              "size": 10,
              "solidity": 0.2
             }
            },
            "type": "barpolar"
           }
          ],
          "carpet": [
           {
            "aaxis": {
             "endlinecolor": "#2a3f5f",
             "gridcolor": "white",
             "linecolor": "white",
             "minorgridcolor": "white",
             "startlinecolor": "#2a3f5f"
            },
            "baxis": {
             "endlinecolor": "#2a3f5f",
             "gridcolor": "white",
             "linecolor": "white",
             "minorgridcolor": "white",
             "startlinecolor": "#2a3f5f"
            },
            "type": "carpet"
           }
          ],
          "choropleth": [
           {
            "colorbar": {
             "outlinewidth": 0,
             "ticks": ""
            },
            "type": "choropleth"
           }
          ],
          "contour": [
           {
            "colorbar": {
             "outlinewidth": 0,
             "ticks": ""
            },
            "colorscale": [
             [
              0,
              "#0d0887"
             ],
             [
              0.1111111111111111,
              "#46039f"
             ],
             [
              0.2222222222222222,
              "#7201a8"
             ],
             [
              0.3333333333333333,
              "#9c179e"
             ],
             [
              0.4444444444444444,
              "#bd3786"
             ],
             [
              0.5555555555555556,
              "#d8576b"
             ],
             [
              0.6666666666666666,
              "#ed7953"
             ],
             [
              0.7777777777777778,
              "#fb9f3a"
             ],
             [
              0.8888888888888888,
              "#fdca26"
             ],
             [
              1,
              "#f0f921"
             ]
            ],
            "type": "contour"
           }
          ],
          "contourcarpet": [
           {
            "colorbar": {
             "outlinewidth": 0,
             "ticks": ""
            },
            "type": "contourcarpet"
           }
          ],
          "heatmap": [
           {
            "colorbar": {
             "outlinewidth": 0,
             "ticks": ""
            },
            "colorscale": [
             [
              0,
              "#0d0887"
             ],
             [
              0.1111111111111111,
              "#46039f"
             ],
             [
              0.2222222222222222,
              "#7201a8"
             ],
             [
              0.3333333333333333,
              "#9c179e"
             ],
             [
              0.4444444444444444,
              "#bd3786"
             ],
             [
              0.5555555555555556,
              "#d8576b"
             ],
             [
              0.6666666666666666,
              "#ed7953"
             ],
             [
              0.7777777777777778,
              "#fb9f3a"
             ],
             [
              0.8888888888888888,
              "#fdca26"
             ],
             [
              1,
              "#f0f921"
             ]
            ],
            "type": "heatmap"
           }
          ],
          "histogram": [
           {
            "marker": {
             "pattern": {
              "fillmode": "overlay",
              "size": 10,
              "solidity": 0.2
             }
            },
            "type": "histogram"
           }
          ],
          "histogram2d": [
           {
            "colorbar": {
             "outlinewidth": 0,
             "ticks": ""
            },
            "colorscale": [
             [
              0,
              "#0d0887"
             ],
             [
              0.1111111111111111,
              "#46039f"
             ],
             [
              0.2222222222222222,
              "#7201a8"
             ],
             [
              0.3333333333333333,
              "#9c179e"
             ],
             [
              0.4444444444444444,
              "#bd3786"
             ],
             [
              0.5555555555555556,
              "#d8576b"
             ],
             [
              0.6666666666666666,
              "#ed7953"
             ],
             [
              0.7777777777777778,
              "#fb9f3a"
             ],
             [
              0.8888888888888888,
              "#fdca26"
             ],
             [
              1,
              "#f0f921"
             ]
            ],
            "type": "histogram2d"
           }
          ],
          "histogram2dcontour": [
           {
            "colorbar": {
             "outlinewidth": 0,
             "ticks": ""
            },
            "colorscale": [
             [
              0,
              "#0d0887"
             ],
             [
              0.1111111111111111,
              "#46039f"
             ],
             [
              0.2222222222222222,
              "#7201a8"
             ],
             [
              0.3333333333333333,
              "#9c179e"
             ],
             [
              0.4444444444444444,
              "#bd3786"
             ],
             [
              0.5555555555555556,
              "#d8576b"
             ],
             [
              0.6666666666666666,
              "#ed7953"
             ],
             [
              0.7777777777777778,
              "#fb9f3a"
             ],
             [
              0.8888888888888888,
              "#fdca26"
             ],
             [
              1,
              "#f0f921"
             ]
            ],
            "type": "histogram2dcontour"
           }
          ],
          "mesh3d": [
           {
            "colorbar": {
             "outlinewidth": 0,
             "ticks": ""
            },
            "type": "mesh3d"
           }
          ],
          "parcoords": [
           {
            "line": {
             "colorbar": {
              "outlinewidth": 0,
              "ticks": ""
             }
            },
            "type": "parcoords"
           }
          ],
          "pie": [
           {
            "automargin": true,
            "type": "pie"
           }
          ],
          "scatter": [
           {
            "fillpattern": {
             "fillmode": "overlay",
             "size": 10,
             "solidity": 0.2
            },
            "type": "scatter"
           }
          ],
          "scatter3d": [
           {
            "line": {
             "colorbar": {
              "outlinewidth": 0,
              "ticks": ""
             }
            },
            "marker": {
             "colorbar": {
              "outlinewidth": 0,
              "ticks": ""
             }
            },
            "type": "scatter3d"
           }
          ],
          "scattercarpet": [
           {
            "marker": {
             "colorbar": {
              "outlinewidth": 0,
              "ticks": ""
             }
            },
            "type": "scattercarpet"
           }
          ],
          "scattergeo": [
           {
            "marker": {
             "colorbar": {
              "outlinewidth": 0,
              "ticks": ""
             }
            },
            "type": "scattergeo"
           }
          ],
          "scattergl": [
           {
            "marker": {
             "colorbar": {
              "outlinewidth": 0,
              "ticks": ""
             }
            },
            "type": "scattergl"
           }
          ],
          "scattermap": [
           {
            "marker": {
             "colorbar": {
              "outlinewidth": 0,
              "ticks": ""
             }
            },
            "type": "scattermap"
           }
          ],
          "scattermapbox": [
           {
            "marker": {
             "colorbar": {
              "outlinewidth": 0,
              "ticks": ""
             }
            },
            "type": "scattermapbox"
           }
          ],
          "scatterpolar": [
           {
            "marker": {
             "colorbar": {
              "outlinewidth": 0,
              "ticks": ""
             }
            },
            "type": "scatterpolar"
           }
          ],
          "scatterpolargl": [
           {
            "marker": {
             "colorbar": {
              "outlinewidth": 0,
              "ticks": ""
             }
            },
            "type": "scatterpolargl"
           }
          ],
          "scatterternary": [
           {
            "marker": {
             "colorbar": {
              "outlinewidth": 0,
              "ticks": ""
             }
            },
            "type": "scatterternary"
           }
          ],
          "surface": [
           {
            "colorbar": {
             "outlinewidth": 0,
             "ticks": ""
            },
            "colorscale": [
             [
              0,
              "#0d0887"
             ],
             [
              0.1111111111111111,
              "#46039f"
             ],
             [
              0.2222222222222222,
              "#7201a8"
             ],
             [
              0.3333333333333333,
              "#9c179e"
             ],
             [
              0.4444444444444444,
              "#bd3786"
             ],
             [
              0.5555555555555556,
              "#d8576b"
             ],
             [
              0.6666666666666666,
              "#ed7953"
             ],
             [
              0.7777777777777778,
              "#fb9f3a"
             ],
             [
              0.8888888888888888,
              "#fdca26"
             ],
             [
              1,
              "#f0f921"
             ]
            ],
            "type": "surface"
           }
          ],
          "table": [
           {
            "cells": {
             "fill": {
              "color": "#EBF0F8"
             },
             "line": {
              "color": "white"
             }
            },
            "header": {
             "fill": {
              "color": "#C8D4E3"
             },
             "line": {
              "color": "white"
             }
            },
            "type": "table"
           }
          ]
         },
         "layout": {
          "annotationdefaults": {
           "arrowcolor": "#2a3f5f",
           "arrowhead": 0,
           "arrowwidth": 1
          },
          "autotypenumbers": "strict",
          "coloraxis": {
           "colorbar": {
            "outlinewidth": 0,
            "ticks": ""
           }
          },
          "colorscale": {
           "diverging": [
            [
             0,
             "#8e0152"
            ],
            [
             0.1,
             "#c51b7d"
            ],
            [
             0.2,
             "#de77ae"
            ],
            [
             0.3,
             "#f1b6da"
            ],
            [
             0.4,
             "#fde0ef"
            ],
            [
             0.5,
             "#f7f7f7"
            ],
            [
             0.6,
             "#e6f5d0"
            ],
            [
             0.7,
             "#b8e186"
            ],
            [
             0.8,
             "#7fbc41"
            ],
            [
             0.9,
             "#4d9221"
            ],
            [
             1,
             "#276419"
            ]
           ],
           "sequential": [
            [
             0,
             "#0d0887"
            ],
            [
             0.1111111111111111,
             "#46039f"
            ],
            [
             0.2222222222222222,
             "#7201a8"
            ],
            [
             0.3333333333333333,
             "#9c179e"
            ],
            [
             0.4444444444444444,
             "#bd3786"
            ],
            [
             0.5555555555555556,
             "#d8576b"
            ],
            [
             0.6666666666666666,
             "#ed7953"
            ],
            [
             0.7777777777777778,
             "#fb9f3a"
            ],
            [
             0.8888888888888888,
             "#fdca26"
            ],
            [
             1,
             "#f0f921"
            ]
           ],
           "sequentialminus": [
            [
             0,
             "#0d0887"
            ],
            [
             0.1111111111111111,
             "#46039f"
            ],
            [
             0.2222222222222222,
             "#7201a8"
            ],
            [
             0.3333333333333333,
             "#9c179e"
            ],
            [
             0.4444444444444444,
             "#bd3786"
            ],
            [
             0.5555555555555556,
             "#d8576b"
            ],
            [
             0.6666666666666666,
             "#ed7953"
            ],
            [
             0.7777777777777778,
             "#fb9f3a"
            ],
            [
             0.8888888888888888,
             "#fdca26"
            ],
            [
             1,
             "#f0f921"
            ]
           ]
          },
          "colorway": [
           "#636efa",
           "#EF553B",
           "#00cc96",
           "#ab63fa",
           "#FFA15A",
           "#19d3f3",
           "#FF6692",
           "#B6E880",
           "#FF97FF",
           "#FECB52"
          ],
          "font": {
           "color": "#2a3f5f"
          },
          "geo": {
           "bgcolor": "white",
           "lakecolor": "white",
           "landcolor": "#E5ECF6",
           "showlakes": true,
           "showland": true,
           "subunitcolor": "white"
          },
          "hoverlabel": {
           "align": "left"
          },
          "hovermode": "closest",
          "mapbox": {
           "style": "light"
          },
          "paper_bgcolor": "white",
          "plot_bgcolor": "#E5ECF6",
          "polar": {
           "angularaxis": {
            "gridcolor": "white",
            "linecolor": "white",
            "ticks": ""
           },
           "bgcolor": "#E5ECF6",
           "radialaxis": {
            "gridcolor": "white",
            "linecolor": "white",
            "ticks": ""
           }
          },
          "scene": {
           "xaxis": {
            "backgroundcolor": "#E5ECF6",
            "gridcolor": "white",
            "gridwidth": 2,
            "linecolor": "white",
            "showbackground": true,
            "ticks": "",
            "zerolinecolor": "white"
           },
           "yaxis": {
            "backgroundcolor": "#E5ECF6",
            "gridcolor": "white",
            "gridwidth": 2,
            "linecolor": "white",
            "showbackground": true,
            "ticks": "",
            "zerolinecolor": "white"
           },
           "zaxis": {
            "backgroundcolor": "#E5ECF6",
            "gridcolor": "white",
            "gridwidth": 2,
            "linecolor": "white",
            "showbackground": true,
            "ticks": "",
            "zerolinecolor": "white"
           }
          },
          "shapedefaults": {
           "line": {
            "color": "#2a3f5f"
           }
          },
          "ternary": {
           "aaxis": {
            "gridcolor": "white",
            "linecolor": "white",
            "ticks": ""
           },
           "baxis": {
            "gridcolor": "white",
            "linecolor": "white",
            "ticks": ""
           },
           "bgcolor": "#E5ECF6",
           "caxis": {
            "gridcolor": "white",
            "linecolor": "white",
            "ticks": ""
           }
          },
          "title": {
           "x": 0.05
          },
          "xaxis": {
           "automargin": true,
           "gridcolor": "white",
           "linecolor": "white",
           "ticks": "",
           "title": {
            "standoff": 15
           },
           "zerolinecolor": "white",
           "zerolinewidth": 2
          },
          "yaxis": {
           "automargin": true,
           "gridcolor": "white",
           "linecolor": "white",
           "ticks": "",
           "title": {
            "standoff": 15
           },
           "zerolinecolor": "white",
           "zerolinewidth": 2
          }
         }
        },
        "title": {
         "text": "HEP Comparison: 2020 vs 2022 by Income Level"
        },
        "width": 800,
        "xaxis": {
         "anchor": "y",
         "domain": [
          0,
          1
         ],
         "title": {
          "text": "HEP in 2020"
         }
        },
        "yaxis": {
         "anchor": "x",
         "domain": [
          0,
          1
         ],
         "title": {
          "text": "HEP in 2022"
         }
        }
       }
      }
     },
     "metadata": {},
     "output_type": "display_data"
    },
    {
     "data": {
      "application/vnd.plotly.v1+json": {
       "config": {
        "plotlyServerURL": "https://plot.ly"
       },
       "data": [
        {
         "hovertemplate": "<b>%{hovertext}</b><br><br>income_level=Upper middle income<br>HEE in 2020=%{x}<br>HEE in 2022=%{y}<br>ISO3=%{text}<extra></extra>",
         "hovertext": [
          "ARG",
          "ARM",
          "BRA",
          "CHN",
          "ECU",
          "GTM",
          "IDN",
          "IRN",
          "KAZ",
          "MEX",
          "MNG",
          "MYS",
          "PER",
          "SRB",
          "THA",
          "TUR",
          "UKR"
         ],
         "legendgroup": "Upper middle income",
         "marker": {
          "color": "#636efa",
          "size": 10,
          "symbol": "circle"
         },
         "mode": "markers+text",
         "name": "Upper middle income",
         "orientation": "v",
         "showlegend": true,
         "text": [
          "ARG",
          "ARM",
          "BRA",
          "CHN",
          "ECU",
          "GTM",
          "IDN",
          "IRN",
          "KAZ",
          "MEX",
          "MNG",
          "MYS",
          "PER",
          "SRB",
          "THA",
          "TUR",
          "UKR"
         ],
         "textposition": "top center",
         "type": "scatter",
         "x": {
          "bdata": "9tkgmZXmpj+mNp901pyoP35SZrE3B6U/f9z/RdQUsj+M+bf3bTSpP8X6ob1eqas/AKdrg3xhwD+9U5359cO0P0lBVdCZD7Y/9UTN6i0hrz9uoB4dTPexP6NqOZhl9LU/BgC1OSHRrz+H8cluzHevP3LgZGdsVLc/UfEiP0l/tT+j/QUbL7ytPw==",
          "dtype": "f8"
         },
         "xaxis": "x",
         "y": {
          "bdata": "Y/MOrquaqD815W0uVweuPyqpl8LWUaY/SljKuLwLsz8meBq9aNKuP73YmiSN86k/a7cysiAixT820OaC++m1Pxp4u1Rco7Y/vCGT+iQxsT8a0Gv8G+6pP6Tdjpmpjrk/5io1h9ygsT9bJu3HfmGuP1nAmi54vbU/yTMVmHrwvT8u0zBrOBWrPw==",
          "dtype": "f8"
         },
         "yaxis": "y"
        },
        {
         "hovertemplate": "<b>%{hovertext}</b><br><br>income_level=High income<br>HEE in 2020=%{x}<br>HEE in 2022=%{y}<br>ISO3=%{text}<extra></extra>",
         "hovertext": [
          "AUS",
          "CAN",
          "CHL",
          "CYP",
          "CZE",
          "DEU",
          "GBR",
          "GRC",
          "IRL",
          "JPN",
          "KOR",
          "NLD",
          "NZL",
          "ROU",
          "RUS",
          "SGP",
          "SVK",
          "URY",
          "USA"
         ],
         "legendgroup": "High income",
         "marker": {
          "color": "#EF553B",
          "size": 10,
          "symbol": "circle"
         },
         "mode": "markers+text",
         "name": "High income",
         "orientation": "v",
         "showlegend": true,
         "text": [
          "AUS",
          "CAN",
          "CHL",
          "CYP",
          "CZE",
          "DEU",
          "GBR",
          "GRC",
          "IRL",
          "JPN",
          "KOR",
          "NLD",
          "NZL",
          "ROU",
          "RUS",
          "SGP",
          "SVK",
          "URY",
          "USA"
         ],
         "textposition": "top center",
         "type": "scatter",
         "x": {
          "bdata": "2wzG6DuRrD9CpVzawVCqP/s+qJO63ak/F4Ke387Urj+2pbsUPfKvPwt0Npr0l6k/yVOYZYVGqj9frTAmpL2tP68IPhdvvrU/EQzJdRVgsD9AY6tWtdqxPzz5iy4iMqs/uukPXAwvrT8gZwNCSzuzP3SQN0aJzLA/x/VSdC3tvD8Me7EbCNCxP+kgTM70K6s/DGDj9h9Foj8=",
          "dtype": "f8"
         },
         "xaxis": "x",
         "y": {
          "bdata": "99oWR3Jtrj8nIzDBJ52uP8/X+wacY6o/Hk3EPYJWrz+7Jca2yWmwP9B6cjOUN6s/YlikqnjCrD8WzZb7TJCwPyRtnTOcnLg/20LLlEEnsD9thRcC02CwP9gONWLd/q0/FLLRwlb0rT/0eOFr0w+1P3tifwDLrbI/NoOroTBEwD/qSUxnLPSwP02jB+bS0as/HFzM8lZapD8=",
          "dtype": "f8"
         },
         "yaxis": "y"
        },
        {
         "hovertemplate": "<b>%{hovertext}</b><br><br>income_level=Lower middle income<br>HEE in 2020=%{x}<br>HEE in 2022=%{y}<br>ISO3=%{text}<extra></extra>",
         "hovertext": [
          "BGD",
          "EGY",
          "IND",
          "JOR",
          "KEN",
          "KGZ",
          "LBN",
          "MAR",
          "MMR",
          "NGA",
          "NIC",
          "PAK",
          "PHL",
          "TJK",
          "TUN",
          "UZB",
          "VNM"
         ],
         "legendgroup": "Lower middle income",
         "marker": {
          "color": "#00cc96",
          "size": 10,
          "symbol": "circle"
         },
         "mode": "markers+text",
         "name": "Lower middle income",
         "orientation": "v",
         "showlegend": true,
         "text": [
          "BGD",
          "EGY",
          "IND",
          "JOR",
          "KEN",
          "KGZ",
          "LBN",
          "MAR",
          "MMR",
          "NGA",
          "NIC",
          "PAK",
          "PHL",
          "TJK",
          "TUN",
          "UZB",
          "VNM"
         ],
         "textposition": "top center",
         "type": "scatter",
         "x": {
          "bdata": "nVecfhpbwD8P5ocvneqxP6DhYWB827E/Y4j78geisT8O/rk8vFurP2O1F7qPUq4/qugu3eNSsj81WTErDi+nP5fdPmh0jrM/6/6pGHpqsD/CpYdiaB6oP9xudLQQS7A/rxLJTXW3rj9oID4+9B+lP4VWJxOrF6U/bFLTmKwgsD9Ra8kGJwC5Pw==",
          "dtype": "f8"
         },
         "xaxis": "x",
         "y": {
          "bdata": "qYuoT2GJwD/hkfa640OxP74XeFyoZLI/yanzOXoSsj+mFz0AVYOvP7LyDryZOK0/Yp0KUg8htz8ACX1KAqCoP9Jck4zDibE/yWPkFRGorD/oPamJPh6qP0hX2WWcrLE/eqZX4T1jsD9RKQfmUemnPxtM8Es4iKY/2yJP0eEtrj8gpRHfUVG5Pw==",
          "dtype": "f8"
         },
         "yaxis": "y"
        },
        {
         "hovertemplate": "<b>%{hovertext}</b><br><br>income_level=Low income<br>HEE in 2020=%{x}<br>HEE in 2022=%{y}<br>ISO3=%{text}<extra></extra>",
         "hovertext": [
          "ETH"
         ],
         "legendgroup": "Low income",
         "marker": {
          "color": "#ab63fa",
          "size": 10,
          "symbol": "circle"
         },
         "mode": "markers+text",
         "name": "Low income",
         "orientation": "v",
         "showlegend": true,
         "text": [
          "ETH"
         ],
         "textposition": "top center",
         "type": "scatter",
         "x": {
          "bdata": "q52GxNtWpj8=",
          "dtype": "f8"
         },
         "xaxis": "x",
         "y": {
          "bdata": "EmPJUeGyqj8=",
          "dtype": "f8"
         },
         "yaxis": "y"
        }
       ],
       "layout": {
        "height": 600,
        "legend": {
         "title": {
          "text": "income_level"
         },
         "tracegroupgap": 0
        },
        "shapes": [
         {
          "line": {
           "color": "gray",
           "dash": "dash"
          },
          "type": "line",
          "x0": 0,
          "x1": 0.2651039953334775,
          "y0": 0,
          "y1": 0.2651039953334775
         }
        ],
        "template": {
         "data": {
          "bar": [
           {
            "error_x": {
             "color": "#2a3f5f"
            },
            "error_y": {
             "color": "#2a3f5f"
            },
            "marker": {
             "line": {
              "color": "#E5ECF6",
              "width": 0.5
             },
             "pattern": {
              "fillmode": "overlay",
              "size": 10,
              "solidity": 0.2
             }
            },
            "type": "bar"
           }
          ],
          "barpolar": [
           {
            "marker": {
             "line": {
              "color": "#E5ECF6",
              "width": 0.5
             },
             "pattern": {
              "fillmode": "overlay",
              "size": 10,
              "solidity": 0.2
             }
            },
            "type": "barpolar"
           }
          ],
          "carpet": [
           {
            "aaxis": {
             "endlinecolor": "#2a3f5f",
             "gridcolor": "white",
             "linecolor": "white",
             "minorgridcolor": "white",
             "startlinecolor": "#2a3f5f"
            },
            "baxis": {
             "endlinecolor": "#2a3f5f",
             "gridcolor": "white",
             "linecolor": "white",
             "minorgridcolor": "white",
             "startlinecolor": "#2a3f5f"
            },
            "type": "carpet"
           }
          ],
          "choropleth": [
           {
            "colorbar": {
             "outlinewidth": 0,
             "ticks": ""
            },
            "type": "choropleth"
           }
          ],
          "contour": [
           {
            "colorbar": {
             "outlinewidth": 0,
             "ticks": ""
            },
            "colorscale": [
             [
              0,
              "#0d0887"
             ],
             [
              0.1111111111111111,
              "#46039f"
             ],
             [
              0.2222222222222222,
              "#7201a8"
             ],
             [
              0.3333333333333333,
              "#9c179e"
             ],
             [
              0.4444444444444444,
              "#bd3786"
             ],
             [
              0.5555555555555556,
              "#d8576b"
             ],
             [
              0.6666666666666666,
              "#ed7953"
             ],
             [
              0.7777777777777778,
              "#fb9f3a"
             ],
             [
              0.8888888888888888,
              "#fdca26"
             ],
             [
              1,
              "#f0f921"
             ]
            ],
            "type": "contour"
           }
          ],
          "contourcarpet": [
           {
            "colorbar": {
             "outlinewidth": 0,
             "ticks": ""
            },
            "type": "contourcarpet"
           }
          ],
          "heatmap": [
           {
            "colorbar": {
             "outlinewidth": 0,
             "ticks": ""
            },
            "colorscale": [
             [
              0,
              "#0d0887"
             ],
             [
              0.1111111111111111,
              "#46039f"
             ],
             [
              0.2222222222222222,
              "#7201a8"
             ],
             [
              0.3333333333333333,
              "#9c179e"
             ],
             [
              0.4444444444444444,
              "#bd3786"
             ],
             [
              0.5555555555555556,
              "#d8576b"
             ],
             [
              0.6666666666666666,
              "#ed7953"
             ],
             [
              0.7777777777777778,
              "#fb9f3a"
             ],
             [
              0.8888888888888888,
              "#fdca26"
             ],
             [
              1,
              "#f0f921"
             ]
            ],
            "type": "heatmap"
           }
          ],
          "histogram": [
           {
            "marker": {
             "pattern": {
              "fillmode": "overlay",
              "size": 10,
              "solidity": 0.2
             }
            },
            "type": "histogram"
           }
          ],
          "histogram2d": [
           {
            "colorbar": {
             "outlinewidth": 0,
             "ticks": ""
            },
            "colorscale": [
             [
              0,
              "#0d0887"
             ],
             [
              0.1111111111111111,
              "#46039f"
             ],
             [
              0.2222222222222222,
              "#7201a8"
             ],
             [
              0.3333333333333333,
              "#9c179e"
             ],
             [
              0.4444444444444444,
              "#bd3786"
             ],
             [
              0.5555555555555556,
              "#d8576b"
             ],
             [
              0.6666666666666666,
              "#ed7953"
             ],
             [
              0.7777777777777778,
              "#fb9f3a"
             ],
             [
              0.8888888888888888,
              "#fdca26"
             ],
             [
              1,
              "#f0f921"
             ]
            ],
            "type": "histogram2d"
           }
          ],
          "histogram2dcontour": [
           {
            "colorbar": {
             "outlinewidth": 0,
             "ticks": ""
            },
            "colorscale": [
             [
              0,
              "#0d0887"
             ],
             [
              0.1111111111111111,
              "#46039f"
             ],
             [
              0.2222222222222222,
              "#7201a8"
             ],
             [
              0.3333333333333333,
              "#9c179e"
             ],
             [
              0.4444444444444444,
              "#bd3786"
             ],
             [
              0.5555555555555556,
              "#d8576b"
             ],
             [
              0.6666666666666666,
              "#ed7953"
             ],
             [
              0.7777777777777778,
              "#fb9f3a"
             ],
             [
              0.8888888888888888,
              "#fdca26"
             ],
             [
              1,
              "#f0f921"
             ]
            ],
            "type": "histogram2dcontour"
           }
          ],
          "mesh3d": [
           {
            "colorbar": {
             "outlinewidth": 0,
             "ticks": ""
            },
            "type": "mesh3d"
           }
          ],
          "parcoords": [
           {
            "line": {
             "colorbar": {
              "outlinewidth": 0,
              "ticks": ""
             }
            },
            "type": "parcoords"
           }
          ],
          "pie": [
           {
            "automargin": true,
            "type": "pie"
           }
          ],
          "scatter": [
           {
            "fillpattern": {
             "fillmode": "overlay",
             "size": 10,
             "solidity": 0.2
            },
            "type": "scatter"
           }
          ],
          "scatter3d": [
           {
            "line": {
             "colorbar": {
              "outlinewidth": 0,
              "ticks": ""
             }
            },
            "marker": {
             "colorbar": {
              "outlinewidth": 0,
              "ticks": ""
             }
            },
            "type": "scatter3d"
           }
          ],
          "scattercarpet": [
           {
            "marker": {
             "colorbar": {
              "outlinewidth": 0,
              "ticks": ""
             }
            },
            "type": "scattercarpet"
           }
          ],
          "scattergeo": [
           {
            "marker": {
             "colorbar": {
              "outlinewidth": 0,
              "ticks": ""
             }
            },
            "type": "scattergeo"
           }
          ],
          "scattergl": [
           {
            "marker": {
             "colorbar": {
              "outlinewidth": 0,
              "ticks": ""
             }
            },
            "type": "scattergl"
           }
          ],
          "scattermap": [
           {
            "marker": {
             "colorbar": {
              "outlinewidth": 0,
              "ticks": ""
             }
            },
            "type": "scattermap"
           }
          ],
          "scattermapbox": [
           {
            "marker": {
             "colorbar": {
              "outlinewidth": 0,
              "ticks": ""
             }
            },
            "type": "scattermapbox"
           }
          ],
          "scatterpolar": [
           {
            "marker": {
             "colorbar": {
              "outlinewidth": 0,
              "ticks": ""
             }
            },
            "type": "scatterpolar"
           }
          ],
          "scatterpolargl": [
           {
            "marker": {
             "colorbar": {
              "outlinewidth": 0,
              "ticks": ""
             }
            },
            "type": "scatterpolargl"
           }
          ],
          "scatterternary": [
           {
            "marker": {
             "colorbar": {
              "outlinewidth": 0,
              "ticks": ""
             }
            },
            "type": "scatterternary"
           }
          ],
          "surface": [
           {
            "colorbar": {
             "outlinewidth": 0,
             "ticks": ""
            },
            "colorscale": [
             [
              0,
              "#0d0887"
             ],
             [
              0.1111111111111111,
              "#46039f"
             ],
             [
              0.2222222222222222,
              "#7201a8"
             ],
             [
              0.3333333333333333,
              "#9c179e"
             ],
             [
              0.4444444444444444,
              "#bd3786"
             ],
             [
              0.5555555555555556,
              "#d8576b"
             ],
             [
              0.6666666666666666,
              "#ed7953"
             ],
             [
              0.7777777777777778,
              "#fb9f3a"
             ],
             [
              0.8888888888888888,
              "#fdca26"
             ],
             [
              1,
              "#f0f921"
             ]
            ],
            "type": "surface"
           }
          ],
          "table": [
           {
            "cells": {
             "fill": {
              "color": "#EBF0F8"
             },
             "line": {
              "color": "white"
             }
            },
            "header": {
             "fill": {
              "color": "#C8D4E3"
             },
             "line": {
              "color": "white"
             }
            },
            "type": "table"
           }
          ]
         },
         "layout": {
          "annotationdefaults": {
           "arrowcolor": "#2a3f5f",
           "arrowhead": 0,
           "arrowwidth": 1
          },
          "autotypenumbers": "strict",
          "coloraxis": {
           "colorbar": {
            "outlinewidth": 0,
            "ticks": ""
           }
          },
          "colorscale": {
           "diverging": [
            [
             0,
             "#8e0152"
            ],
            [
             0.1,
             "#c51b7d"
            ],
            [
             0.2,
             "#de77ae"
            ],
            [
             0.3,
             "#f1b6da"
            ],
            [
             0.4,
             "#fde0ef"
            ],
            [
             0.5,
             "#f7f7f7"
            ],
            [
             0.6,
             "#e6f5d0"
            ],
            [
             0.7,
             "#b8e186"
            ],
            [
             0.8,
             "#7fbc41"
            ],
            [
             0.9,
             "#4d9221"
            ],
            [
             1,
             "#276419"
            ]
           ],
           "sequential": [
            [
             0,
             "#0d0887"
            ],
            [
             0.1111111111111111,
             "#46039f"
            ],
            [
             0.2222222222222222,
             "#7201a8"
            ],
            [
             0.3333333333333333,
             "#9c179e"
            ],
            [
             0.4444444444444444,
             "#bd3786"
            ],
            [
             0.5555555555555556,
             "#d8576b"
            ],
            [
             0.6666666666666666,
             "#ed7953"
            ],
            [
             0.7777777777777778,
             "#fb9f3a"
            ],
            [
             0.8888888888888888,
             "#fdca26"
            ],
            [
             1,
             "#f0f921"
            ]
           ],
           "sequentialminus": [
            [
             0,
             "#0d0887"
            ],
            [
             0.1111111111111111,
             "#46039f"
            ],
            [
             0.2222222222222222,
             "#7201a8"
            ],
            [
             0.3333333333333333,
             "#9c179e"
            ],
            [
             0.4444444444444444,
             "#bd3786"
            ],
            [
             0.5555555555555556,
             "#d8576b"
            ],
            [
             0.6666666666666666,
             "#ed7953"
            ],
            [
             0.7777777777777778,
             "#fb9f3a"
            ],
            [
             0.8888888888888888,
             "#fdca26"
            ],
            [
             1,
             "#f0f921"
            ]
           ]
          },
          "colorway": [
           "#636efa",
           "#EF553B",
           "#00cc96",
           "#ab63fa",
           "#FFA15A",
           "#19d3f3",
           "#FF6692",
           "#B6E880",
           "#FF97FF",
           "#FECB52"
          ],
          "font": {
           "color": "#2a3f5f"
          },
          "geo": {
           "bgcolor": "white",
           "lakecolor": "white",
           "landcolor": "#E5ECF6",
           "showlakes": true,
           "showland": true,
           "subunitcolor": "white"
          },
          "hoverlabel": {
           "align": "left"
          },
          "hovermode": "closest",
          "mapbox": {
           "style": "light"
          },
          "paper_bgcolor": "white",
          "plot_bgcolor": "#E5ECF6",
          "polar": {
           "angularaxis": {
            "gridcolor": "white",
            "linecolor": "white",
            "ticks": ""
           },
           "bgcolor": "#E5ECF6",
           "radialaxis": {
            "gridcolor": "white",
            "linecolor": "white",
            "ticks": ""
           }
          },
          "scene": {
           "xaxis": {
            "backgroundcolor": "#E5ECF6",
            "gridcolor": "white",
            "gridwidth": 2,
            "linecolor": "white",
            "showbackground": true,
            "ticks": "",
            "zerolinecolor": "white"
           },
           "yaxis": {
            "backgroundcolor": "#E5ECF6",
            "gridcolor": "white",
            "gridwidth": 2,
            "linecolor": "white",
            "showbackground": true,
            "ticks": "",
            "zerolinecolor": "white"
           },
           "zaxis": {
            "backgroundcolor": "#E5ECF6",
            "gridcolor": "white",
            "gridwidth": 2,
            "linecolor": "white",
            "showbackground": true,
            "ticks": "",
            "zerolinecolor": "white"
           }
          },
          "shapedefaults": {
           "line": {
            "color": "#2a3f5f"
           }
          },
          "ternary": {
           "aaxis": {
            "gridcolor": "white",
            "linecolor": "white",
            "ticks": ""
           },
           "baxis": {
            "gridcolor": "white",
            "linecolor": "white",
            "ticks": ""
           },
           "bgcolor": "#E5ECF6",
           "caxis": {
            "gridcolor": "white",
            "linecolor": "white",
            "ticks": ""
           }
          },
          "title": {
           "x": 0.05
          },
          "xaxis": {
           "automargin": true,
           "gridcolor": "white",
           "linecolor": "white",
           "ticks": "",
           "title": {
            "standoff": 15
           },
           "zerolinecolor": "white",
           "zerolinewidth": 2
          },
          "yaxis": {
           "automargin": true,
           "gridcolor": "white",
           "linecolor": "white",
           "ticks": "",
           "title": {
            "standoff": 15
           },
           "zerolinecolor": "white",
           "zerolinewidth": 2
          }
         }
        },
        "title": {
         "text": "HEE Comparison: 2020 vs 2022 by Income Level"
        },
        "width": 800,
        "xaxis": {
         "anchor": "y",
         "domain": [
          0,
          1
         ],
         "range": [
          0,
          0.2651039953334775
         ],
         "title": {
          "text": "HEE in 2020"
         }
        },
        "yaxis": {
         "anchor": "x",
         "domain": [
          0,
          1
         ],
         "range": [
          0,
          0.2651039953334775
         ],
         "title": {
          "text": "HEE in 2022"
         }
        }
       }
      }
     },
     "metadata": {},
     "output_type": "display_data"
    }
   ],
   "source": [
    "import pandas as pd\n",
    "import plotly.express as px\n",
    "\n",
    "# === Step 1: Load data ===\n",
    "df = pd.read_csv(\"../data/processed/hep_hee_results_with_region.csv\")\n",
    "\n",
    "# === Step 2: Filter for 2020 and 2022 ===\n",
    "df_filtered = df[df[\"Year\"].isin([2020, 2022])]\n",
    "df_wide = df_filtered.pivot(index=\"ISO3\", columns=\"Year\", values=[\"HEP\", \"HEE\"]).dropna()\n",
    "df_wide.columns = [f\"{metric}_{year}\" for metric, year in df_wide.columns]\n",
    "df_wide = df_wide.reset_index()\n",
    "\n",
    "# Merge income level info\n",
    "income_info = df[[\"ISO3\", \"income_level\"]].drop_duplicates()\n",
    "df_wide = df_wide.merge(income_info, on=\"ISO3\", how=\"left\")\n",
    "\n",
    "# === Step 3: Plot HEP (colored by income level) ===\n",
    "fig_hep = px.scatter(\n",
    "    df_wide,\n",
    "    x=\"HEP_2020\",\n",
    "    y=\"HEP_2022\",\n",
    "    text=\"ISO3\",\n",
    "    color=\"income_level\",\n",
    "    hover_name=\"ISO3\",\n",
    "    title=\"HEP Comparison: 2020 vs 2022 by Income Level\",\n",
    "    labels={\"HEP_2020\": \"HEP in 2020\", \"HEP_2022\": \"HEP in 2022\"},\n",
    "    width=800,\n",
    "    height=600\n",
    ")\n",
    "fig_hep.add_shape(type='line', x0=0, y0=0, x1=1, y1=1, line=dict(dash=\"dash\", color=\"gray\"))\n",
    "fig_hep.update_traces(marker=dict(size=10), textposition='top center')\n",
    "fig_hep.show()\n",
    "\n",
    "# === Step 4: Plot HEE (colored by income level) ===\n",
    "hee_min = min(df_wide[\"HEE_2020\"].min(), df_wide[\"HEE_2022\"].min())\n",
    "hee_max = max(df_wide[\"HEE_2020\"].max(), df_wide[\"HEE_2022\"].max())\n",
    "hee_min_padded = max(0, hee_min - 0.1)\n",
    "hee_max_padded = hee_max + 0.1\n",
    "\n",
    "fig_hee = px.scatter(\n",
    "    df_wide,\n",
    "    x=\"HEE_2020\",\n",
    "    y=\"HEE_2022\",\n",
    "    text=\"ISO3\",\n",
    "    color=\"income_level\",\n",
    "    hover_name=\"ISO3\",\n",
    "    title=\"HEE Comparison: 2020 vs 2022 by Income Level\",\n",
    "    labels={\"HEE_2020\": \"HEE in 2020\", \"HEE_2022\": \"HEE in 2022\"},\n",
    "    width=800,\n",
    "    height=600\n",
    ")\n",
    "fig_hee.add_shape(\n",
    "    type='line',\n",
    "    x0=hee_min_padded,\n",
    "    y0=hee_min_padded,\n",
    "    x1=hee_max_padded,\n",
    "    y1=hee_max_padded,\n",
    "    line=dict(dash=\"dash\", color=\"gray\")\n",
    ")\n",
    "fig_hee.update_traces(marker=dict(size=10), textposition='top center')\n",
    "fig_hee.update_layout(\n",
    "    xaxis=dict(range=[hee_min_padded, hee_max_padded]),\n",
    "    yaxis=dict(range=[hee_min_padded, hee_max_padded])\n",
    ")\n",
    "fig_hee.show()\n"
   ]
  }
 ],
 "metadata": {
  "kernelspec": {
   "display_name": "Python 3",
   "language": "python",
   "name": "python3"
  },
  "language_info": {
   "codemirror_mode": {
    "name": "ipython",
    "version": 3
   },
   "file_extension": ".py",
   "mimetype": "text/x-python",
   "name": "python",
   "nbconvert_exporter": "python",
   "pygments_lexer": "ipython3",
   "version": "3.11.9"
  }
 },
 "nbformat": 4,
 "nbformat_minor": 5
}
