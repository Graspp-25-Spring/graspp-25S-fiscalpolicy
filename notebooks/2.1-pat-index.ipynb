{
 "cells": [
  {
   "cell_type": "markdown",
   "id": "b9fed85b",
   "metadata": {},
   "source": [
    "## Integrate R&D and contribution revenue into a broader index"
   ]
  },
  {
   "cell_type": "markdown",
   "id": "1c4a5cc3",
   "metadata": {},
   "source": [
    "### 📝 Note: Health Expenditure Performance Index (HEP)\n",
    "\n",
    "**HEE = Health Expenditure Efficiency Index (HEE)\n",
    "\n",
    "Clean the following data (for missing data)\n",
    "Life expectancy (years), Infant Mortality (Death rate per 1000 people), Average Schooling (years), Learning Outcome (scores), Health Expenditure (% of GDP),Education Expenditure (% of GDP)\n",
    "\n",
    "Replicate PSP model by using the following data to generate \n",
    "\n",
    "HEP(Health Expenditure Performance) \n",
    "Independent variables = Life expectancy, Infant Mortality, Average Schooling (years), Learning Outcome\n",
    "\n",
    "After that we will generate HEE (Health Expenditure Efficiency) by divided the HEP by Expenditure\n",
    "\n",
    "\n",
    "\n",
    "HEE = HEP/(Health Expenditure + Education Expenditure)\n",
    "\n",
    "HEP = sum of Life expectancy, Infant Mortality, Average Schooling (years), Learning Outcome (Scores)\n",
    "→ Methodology, normalised each independent variables before combine to HEP index, noted that Infant Mortality using inverse value since the less is better\n",
    "→ Higher HEP means better standard of living\n",
    "\n",
    "HEE = HEP/(Health Expenditure + Education Expenditure) \n",
    "→ to evaluate the efficiency of government spending \n",
    "→ Higher HEE means using lower health and education expenditure but get better HEP\n",
    "In order to compute efficiency indicators, government spending was normalised across countries, with the average taking the value of one for each of the two categories (Health Expenditure, Education Expenditure)\n",
    "\n",
    "For each indicator (Health and Education Expenditure):\n",
    "\n",
    "Normalize each country's value by dividing it by the cross-country average, so that:\n",
    "\n",
    "normalized value = raw value/ mean value across countries\n",
    "\n",
    "The result will have a mean of 1, but preserve relative differences."
   ]
  },
  {
   "cell_type": "code",
   "execution_count": 1,
   "id": "7fa4969d",
   "metadata": {},
   "outputs": [
    {
     "name": "stdout",
     "output_type": "stream",
     "text": [
      "✅ HEP & HEE calculated and saved successfully.\n",
      "     ISO3  Year         income_level       HEP       HEE\n",
      "1237  VNM  2004  Lower middle income  0.683046  0.370482\n",
      "1238  VNM  2003  Lower middle income  0.678494  0.372637\n",
      "1239  VNM  2002  Lower middle income  0.671862  0.371287\n",
      "1240  VNM  2001  Lower middle income  0.664594  0.339823\n",
      "1241  VNM  2000  Lower middle income  0.656241  0.355349\n"
     ]
    }
   ],
   "source": [
    "import pandas as pd\n",
    "import os\n",
    "\n",
    "# === Step 1: Load and clean merged data ===\n",
    "\n",
    "# Adjusted path: go up one level from notebooks/ to access data/interim\n",
    "df = pd.read_csv(\"../data/interim/merged_data.csv\")\n",
    "\n",
    "# Filter to only include years up to 2022\n",
    "df = df[df[\"Year\"] <= 2022]\n",
    "\n",
    "# Sort by Country and Year (most recent first) for proper fill\n",
    "df = df.sort_values(by=[\"Country\", \"Year\"], ascending=[True, False])\n",
    "\n",
    "# Fill missing values using most recent data available (backward then forward fill)\n",
    "df_cleaned = (\n",
    "    df.groupby(\"Country\", group_keys=False)\n",
    "      .apply(lambda g: g.bfill().ffill(), include_groups=False)\n",
    "      .reset_index(drop=True)\n",
    ")\n",
    "\n",
    "# Save cleaned data\n",
    "os.makedirs(\"../data/processed\", exist_ok=True)\n",
    "df_cleaned.to_csv(\"../data/processed/merged_data_clean_for_HEE_HEP.csv\", index=False)\n",
    "\n",
    "# === Step 2: Normalize performance indicators ===\n",
    "\n",
    "def normalize(series):\n",
    "    return (series - series.min()) / (series.max() - series.min())\n",
    "\n",
    "df_norm = df_cleaned.copy()\n",
    "\n",
    "# Apply normalization (adjust columns to exact spelling) (invert only the normalized values for infant_mortality which less is better)\n",
    "df_norm[\"life_expectancy_norm\"] = normalize(df_norm[\"Life_Expectancy\"])\n",
    "df_norm[\"infant_mortality_norm\"] = 1 - normalize(df_norm[\"Mortality_Rate\"])\n",
    "df_norm[\"average_schooling_norm\"] = normalize(df_norm[\"average_schooling\"])\n",
    "df_norm[\"learning_outcome_norm\"] = normalize(df_norm[\"learning_scores\"])\n",
    "\n",
    "# === Step 3: Calculate HEP and HEE ===\n",
    "\n",
    "df_norm[\"HEP\"] = df_norm[[\n",
    "    \"life_expectancy_norm\",\n",
    "    \"infant_mortality_norm\",\n",
    "    \"average_schooling_norm\",\n",
    "    \"learning_outcome_norm\"\n",
    "]].mean(axis=1)\n",
    "\n",
    "# Normalize Health and Education Expenditure so that their mean = 1\n",
    "df_norm[\"Health_Expenditure_norm\"] = (\n",
    "    df_norm[\"Health_Expenditure\"] / df_norm[\"Health_Expenditure\"].mean()\n",
    ")\n",
    "df_norm[\"Education_Expenditure_norm\"] = (\n",
    "    df_norm[\"Education_Expenditure\"] / df_norm[\"Education_Expenditure\"].mean()\n",
    ")\n",
    "\n",
    "# Now compute normalized total expenditure\n",
    "df_norm[\"total_expenditure\"] = (\n",
    "    df_norm[\"Health_Expenditure_norm\"] + df_norm[\"Education_Expenditure_norm\"]\n",
    ")\n",
    "# Calculate HEE (Health Expenditure Efficiency)\n",
    "df_norm[\"HEE\"] = df_norm[\"HEP\"] / df_norm[\"total_expenditure\"]\n",
    "\n",
    "\n",
    "result = df_norm[[\"ISO3\", \"Year\", \"income_level\", \"HEP\", \"HEE\"]].copy()\n",
    "# === Step 4: Save only HEP & HEE results ===\n",
    "result = df_norm[[\"ISO3\", \"Year\", \"income_level\", \"HEP\", \"HEE\"]].copy()\n",
    "result.to_csv(\"../data/processed/hep_hee_results.csv\", index=False)\n",
    "\n",
    "print(\"✅ HEP & HEE calculated and saved successfully.\")\n",
    "print(result.tail())\n",
    "\n"
   ]
  },
  {
   "cell_type": "markdown",
   "id": "a064c8ac",
   "metadata": {},
   "source": [
    "Add region"
   ]
  },
  {
   "cell_type": "code",
   "execution_count": 2,
   "id": "5fe0b361",
   "metadata": {},
   "outputs": [
    {
     "name": "stdout",
     "output_type": "stream",
     "text": [
      "✅ 'Region' column added and data saved to: ../data/processed/hep_hee_results_with_region.csv\n"
     ]
    }
   ],
   "source": [
    "import pandas as pd\n",
    "import os\n",
    "\n",
    "# === Step 1: Load the data ===\n",
    "data_path = \"../data/processed/hep_hee_results.csv\"\n",
    "df = pd.read_csv(data_path)\n",
    "\n",
    "# === Step 2: Define compact country-to-region mapping ===\n",
    "emea = [\n",
    "    \"ARM\", \"CYP\", \"CZE\", \"EGY\", \"ETH\", \"DEU\", \"GRC\", \"IRL\", \"JOR\", \"KAZ\", \"KEN\", \"KGZ\",\n",
    "    \"LBN\", \"MAR\", \"NLD\", \"NGA\", \"ROU\", \"SRB\", \"SVK\", \"TJK\", \"TUN\", \"TUR\", \"UKR\", \"GBR\", \"UZB\", \"RUS\", \"IRN\"\n",
    "]\n",
    "apac = [\n",
    "    \"AUS\", \"BGD\", \"CHN\", \"IND\", \"IDN\", \"JPN\", \"MYS\", \"MNG\", \"MMR\",\n",
    "    \"NZL\", \"PAK\", \"PHL\", \"SGP\", \"THA\", \"VNM\", \"KOR\"\n",
    "]\n",
    "latam = [\n",
    "    \"ARG\", \"BRA\", \"CHL\", \"ECU\", \"GTM\", \"MEX\", \"NIC\", \"PER\", \"URY\"\n",
    "]\n",
    "na = [\"CAN\", \"USA\"]\n",
    "\n",
    "# Combine into a single dictionary\n",
    "country_region_map = {\n",
    "    **{ISO3: \"EMEA\" for ISO3 in emea},\n",
    "    **{ISO3: \"APAC\" for ISO3 in apac},\n",
    "    **{ISO3: \"LATAM\" for ISO3 in latam},\n",
    "    **{ISO3: \"NA\" for ISO3 in na},\n",
    "}\n",
    "\n",
    "# === Step 3: Map region and validate ===\n",
    "df[\"Region\"] = df[\"ISO3\"].map(country_region_map)\n",
    "unmapped = df[df[\"Region\"].isnull()][\"ISO3\"].unique()\n",
    "\n",
    "if len(unmapped) > 0:\n",
    "    print(\"⚠️ Warning: The following countries couldn't be mapped to a region:\")\n",
    "    for c in unmapped:\n",
    "        print(f\"- {c}\")\n",
    "    print(\"👉 Please update 'country_region_map' with these countries.\")\n",
    "\n",
    "# === Step 4: Save updated file ===\n",
    "output_path = \"../data/processed/hep_hee_results_with_region.csv\"\n",
    "os.makedirs(os.path.dirname(output_path), exist_ok=True)\n",
    "df.to_csv(output_path, index=False)\n",
    "print(f\"✅ 'Region' column added and data saved to: {output_path}\")\n"
   ]
  },
  {
   "cell_type": "markdown",
   "id": "010832c8",
   "metadata": {},
   "source": [
    "Visualize HEE and HEP"
   ]
  },
  {
   "cell_type": "code",
   "execution_count": 5,
   "id": "0f2722d3",
   "metadata": {},
   "outputs": [
    {
     "data": {
      "text/html": [
       "\n",
       "        <iframe\n",
       "            width=\"100%\"\n",
       "            height=\"650\"\n",
       "            src=\"http://127.0.0.1:8050/\"\n",
       "            frameborder=\"0\"\n",
       "            allowfullscreen\n",
       "            \n",
       "        ></iframe>\n",
       "        "
      ],
      "text/plain": [
       "<IPython.lib.display.IFrame at 0x23b822c2710>"
      ]
     },
     "metadata": {},
     "output_type": "display_data"
    }
   ],
   "source": [
    "# === Step 0: Install Dash if not already installed ===\n",
    "try:\n",
    "    import dash\n",
    "except ImportError:\n",
    "    import subprocess\n",
    "    import sys\n",
    "    subprocess.check_call([sys.executable, \"-m\", \"pip\", \"install\", \"dash\"])\n",
    "\n",
    "# === Step 1: Import libraries ===\n",
    "import pandas as pd\n",
    "import plotly.express as px\n",
    "from dash import Dash, dcc, html, Input, Output\n",
    "\n",
    "# === Step 2: Load and prepare data ===\n",
    "df = pd.read_csv(\"../data/processed/hep_hee_results_with_region.csv\")\n",
    "df = df[df[\"income_level\"].notnull()]  # Ensure income_level is present\n",
    "\n",
    "# Get list of available years\n",
    "available_years = sorted(df[\"Year\"].unique())\n",
    "\n",
    "# === Step 3: Build Dash App ===\n",
    "app = Dash(__name__)\n",
    "app.title = \"HEP vs HEE by Income Level\"\n",
    "\n",
    "app.layout = html.Div([\n",
    "    html.H2(\"HEP vs HEE Comparison by Income Level\"),\n",
    "\n",
    "    html.Div([\n",
    "        html.Label(\"Select Year(s):\"),\n",
    "        dcc.Dropdown(\n",
    "            id=\"year-dropdown\",\n",
    "            options=[{\"label\": str(y), \"value\": y} for y in available_years],\n",
    "            value=[2022],  # default selected year(s)\n",
    "            multi=True,\n",
    "            clearable=False\n",
    "        ),\n",
    "    ], style={\"width\": \"30%\", \"display\": \"inline-block\", \"paddingRight\": \"20px\"}),\n",
    "\n",
    "    html.Div([\n",
    "        html.Label(\"Type ISO3 Country Codes (e.g., JPN, USA, THA):\"),\n",
    "        dcc.Input(\n",
    "            id=\"iso3-input\",\n",
    "            type=\"text\",\n",
    "            placeholder=\"Leave blank to show all countries\",\n",
    "            debounce=True,\n",
    "            style={\"width\": \"100%\"}\n",
    "        )\n",
    "    ], style={\"width\": \"65%\", \"display\": \"inline-block\"}),\n",
    "\n",
    "    html.Br(), html.Br(),\n",
    "\n",
    "    dcc.Graph(id=\"scatter-graph\", style={\"height\": \"700px\"})\n",
    "])\n",
    "\n",
    "# === Step 4: Define callback ===\n",
    "@app.callback(\n",
    "    Output(\"scatter-graph\", \"figure\"),\n",
    "    Input(\"iso3-input\", \"value\"),\n",
    "    Input(\"year-dropdown\", \"value\")\n",
    ")\n",
    "def update_figure(iso_input, selected_years):\n",
    "    dff = df[df[\"Year\"].isin(selected_years)]\n",
    "\n",
    "    # Optional ISO3 filter\n",
    "    if iso_input:\n",
    "        codes = [code.strip().upper() for code in iso_input.split(\",\")]\n",
    "        dff = dff[dff[\"ISO3\"].isin(codes)]\n",
    "\n",
    "    if len(selected_years) == 1:\n",
    "        # === One year: standard scatter ===\n",
    "        fig = px.scatter(\n",
    "            dff,\n",
    "            x=\"HEP\",\n",
    "            y=\"HEE\",\n",
    "            color=\"income_level\",\n",
    "            text=\"ISO3\",\n",
    "            labels={\"HEP\": \"Performance\", \"HEE\": \"Efficiency\"},\n",
    "            title=f\"HEP vs HEE – {selected_years[0]}\",\n",
    "            range_x=[0, 1],\n",
    "            range_y=[0, 1],\n",
    "            width=900,\n",
    "            height=600\n",
    "        )\n",
    "\n",
    "        fig.update_traces(marker=dict(size=10), textposition=\"top center\")\n",
    "\n",
    "        fig.add_shape(\n",
    "            type=\"line\",\n",
    "            x0=0, y0=0, x1=1, y1=1,\n",
    "            xref=\"x\", yref=\"y\",\n",
    "            line=dict(dash=\"dash\", color=\"gray\")\n",
    "        )\n",
    "    else:\n",
    "        # === Multiple years: facet row layout ===\n",
    "        fig = px.scatter(\n",
    "            dff,\n",
    "            x=\"HEP\",\n",
    "            y=\"HEE\",\n",
    "            color=\"income_level\",\n",
    "            text=\"ISO3\",\n",
    "            facet_row=\"Year\",\n",
    "            labels={\"HEP\": \"Performance\", \"HEE\": \"Efficiency\"},\n",
    "            title=\"HEP vs HEE by Year and Income Level\",\n",
    "            range_x=[0, 1],\n",
    "            range_y=[0, 1],\n",
    "            width=900,\n",
    "            height=300 * len(selected_years)\n",
    "        )\n",
    "\n",
    "        fig.update_traces(marker=dict(size=10), textposition=\"top center\")\n",
    "\n",
    "        for i in range(1, len(selected_years) + 1):\n",
    "            fig.add_shape(\n",
    "                type=\"line\",\n",
    "                x0=0, y0=0, x1=1, y1=1,\n",
    "                xref=\"x\", yref=f\"y{i}\",\n",
    "                line=dict(dash=\"dash\", color=\"gray\")\n",
    "            )\n",
    "\n",
    "    return fig\n",
    "\n",
    "\n",
    "# === Step 5: Run App ===\n",
    "if __name__ == \"__main__\":\n",
    "    app.run(debug=True)\n"
   ]
  },
  {
   "cell_type": "code",
   "execution_count": 7,
   "id": "0cc336a9",
   "metadata": {},
   "outputs": [
    {
     "data": {
      "application/vnd.plotly.v1+json": {
       "config": {
        "plotlyServerURL": "https://plot.ly"
       },
       "data": [
        {
         "hovertemplate": "Income Level=Lower middle income<br>Year_str=2000<br>Performance (HEP)=%{x}<br>Efficiency (HEE)=%{y}<br>ISO3=%{text}<extra></extra>",
         "legendgroup": "Lower middle income",
         "marker": {
          "color": "#636efa",
          "size": 10,
          "symbol": "circle"
         },
         "mode": "markers+text",
         "name": "Lower middle income",
         "orientation": "v",
         "showlegend": true,
         "text": [
          "VNM",
          "UZB",
          "KEN",
          "LBN",
          "PAK",
          "EGY",
          "TUN",
          "JOR",
          "MMR",
          "MAR",
          "PHL",
          "NGA",
          "IND",
          "BGD",
          "KGZ",
          "NIC",
          "TJK"
         ],
         "textposition": "top center",
         "type": "scatter",
         "x": {
          "bdata": "3WiQJuz/5D8NKg1J8KbhP0yeiI0C/dQ/rjOrpSK84z+AnPx4O27HP1cxk/N9s90/lLgj4ZKS4D/5Jmj9l1biP5RTAN7+DdI/pv/JMD8h1z+qYky0zwPhP3qKUdpk5rI/sahigtze0T8ROaqVh5rTPxOcWsm41eE/h7svL7Pu3j+bkol8JjngPw==",
          "dtype": "f8"
         },
         "xaxis": "x",
         "y": {
          "bdata": "Os8pigq+1j8GtgHPZpDPPz7Jvu+ewcY/ePWzSzdy0D92CoYZVdfLP4YjUdG5bM4/25lsEDIQzT9+Eo52P6nPP0J8eClXHOE/T+3Y57gVyj+LPPzsMA3bP+nqMXN/RL4/UwfJVQvsxD8EGhlsHFLYP0DBRtpi7NY/f0e+ZNXQ0z/aeKed0RzaPw==",
          "dtype": "f8"
         },
         "yaxis": "y"
        },
        {
         "hovertemplate": "Income Level=High income<br>Year_str=2000<br>Performance (HEP)=%{x}<br>Efficiency (HEE)=%{y}<br>ISO3=%{text}<extra></extra>",
         "legendgroup": "High income",
         "marker": {
          "color": "#EF553B",
          "size": 10,
          "symbol": "circle"
         },
         "mode": "markers+text",
         "name": "High income",
         "orientation": "v",
         "showlegend": true,
         "text": [
          "URY",
          "SGP",
          "ROU",
          "CAN",
          "CHL",
          "IRL",
          "SVK",
          "GRC",
          "NLD",
          "NZL",
          "GBR",
          "CZE",
          "JPN",
          "RUS",
          "USA",
          "AUS",
          "DEU",
          "CYP",
          "KOR"
         ],
         "textposition": "top center",
         "type": "scatter",
         "x": {
          "bdata": "st0LGAz05D/1f6VVz+jqP+fFHNBGpOQ/ztZdQ/VX7D+zxmgMLtbmPyvaoZ9Zmek/pXsys3wN6D+QZIJJcU7oPwAzRGMPces/13v+JQ9L7D8AMPU2nxrqPw1qRMFYfOk/yCQ0ZGjC7D8TYLtsL4bmP9aFbFT7Bus/IJZAd/5j6z/2KhroX57rP0YhK01i5uc/5p3ONhPi6j8=",
          "dtype": "f8"
         },
         "xaxis": "x",
         "y": {
          "bdata": "NFb3At2T1D+0BJxb7g3kP1i6/yUhNt4/yjrobJSP1T9dMxPJaZLWP7Sf/QyjWto/NnJUhRL62j/psxCNFCnZP0knt4dHedc/MMm4gYpW1D8YVK0BZbfYP3oRNawdd9w//dwJep9o3T8u0HYXNs7dP9U8mTx7Qs8/yrcYwYUw1z9NgZVlZKHVP9tk3KBkMtc/gWUx82Ul4T8=",
          "dtype": "f8"
         },
         "yaxis": "y"
        },
        {
         "hovertemplate": "Income Level=Upper middle income<br>Year_str=2000<br>Performance (HEP)=%{x}<br>Efficiency (HEE)=%{y}<br>ISO3=%{text}<extra></extra>",
         "legendgroup": "Upper middle income",
         "marker": {
          "color": "#00cc96",
          "size": 10,
          "symbol": "circle"
         },
         "mode": "markers+text",
         "name": "Upper middle income",
         "orientation": "v",
         "showlegend": true,
         "text": [
          "ARG",
          "KAZ",
          "MNG",
          "UKR",
          "BRA",
          "TUR",
          "MYS",
          "ECU",
          "SRB",
          "GTM",
          "PER",
          "THA",
          "MEX",
          "CHN",
          "IDN",
          "ARM",
          "IRN"
         ],
         "textposition": "top center",
         "type": "scatter",
         "x": {
          "bdata": "JSr2l1f74z+KVaA8uufgP2e53z79B+A/rL7pNcBB5j9J17/zyu/fP0poJL0UEeI/0de591nJ5D/TKpUaxgDhP7gQ98+KiuQ/rlxsOn+V2D/9LGh6ieLgPx/JZZMQFuI/hqjzooWA4j/hfZDmMzriP8Sbtn64XNw/PF/GK8fi5D+15V87rvDiPw==",
          "dtype": "f8"
         },
         "xaxis": "x",
         "y": {
          "bdata": "g8NPLPKH0D/CMolbxz/XPzY5a+Fipss/vsqix65r2D9vUR6l8ALMP9m5uFGKetc/UXLEz/lP1j9IYRPHoyzkP6zgPGuQedQ/Ah4F0ejazj8Wq3A+67TWP41Miu7DVdQ/RzPrYNUU1z+W+jSUFx/cPzpWMrMmqN8/PrmEABYn3z81BvdrFdzVPw==",
          "dtype": "f8"
         },
         "yaxis": "y"
        },
        {
         "hovertemplate": "Income Level=Low income<br>Year_str=2000<br>Performance (HEP)=%{x}<br>Efficiency (HEE)=%{y}<br>ISO3=%{text}<extra></extra>",
         "legendgroup": "Low income",
         "marker": {
          "color": "#ab63fa",
          "size": 10,
          "symbol": "circle"
         },
         "mode": "markers+text",
         "name": "Low income",
         "orientation": "v",
         "showlegend": true,
         "text": [
          "ETH"
         ],
         "textposition": "top center",
         "type": "scatter",
         "x": {
          "bdata": "cSkB6UlxtT8=",
          "dtype": "f8"
         },
         "xaxis": "x",
         "y": {
          "bdata": "ta2HpVohqj8=",
          "dtype": "f8"
         },
         "yaxis": "y"
        }
       ],
       "frames": [
        {
         "data": [
          {
           "hovertemplate": "Income Level=Lower middle income<br>Year_str=2000<br>Performance (HEP)=%{x}<br>Efficiency (HEE)=%{y}<br>ISO3=%{text}<extra></extra>",
           "legendgroup": "Lower middle income",
           "marker": {
            "color": "#636efa",
            "symbol": "circle"
           },
           "mode": "markers+text",
           "name": "Lower middle income",
           "orientation": "v",
           "showlegend": true,
           "text": [
            "VNM",
            "UZB",
            "KEN",
            "LBN",
            "PAK",
            "EGY",
            "TUN",
            "JOR",
            "MMR",
            "MAR",
            "PHL",
            "NGA",
            "IND",
            "BGD",
            "KGZ",
            "NIC",
            "TJK"
           ],
           "type": "scatter",
           "x": {
            "bdata": "3WiQJuz/5D8NKg1J8KbhP0yeiI0C/dQ/rjOrpSK84z+AnPx4O27HP1cxk/N9s90/lLgj4ZKS4D/5Jmj9l1biP5RTAN7+DdI/pv/JMD8h1z+qYky0zwPhP3qKUdpk5rI/sahigtze0T8ROaqVh5rTPxOcWsm41eE/h7svL7Pu3j+bkol8JjngPw==",
            "dtype": "f8"
           },
           "xaxis": "x",
           "y": {
            "bdata": "Os8pigq+1j8GtgHPZpDPPz7Jvu+ewcY/ePWzSzdy0D92CoYZVdfLP4YjUdG5bM4/25lsEDIQzT9+Eo52P6nPP0J8eClXHOE/T+3Y57gVyj+LPPzsMA3bP+nqMXN/RL4/UwfJVQvsxD8EGhlsHFLYP0DBRtpi7NY/f0e+ZNXQ0z/aeKed0RzaPw==",
            "dtype": "f8"
           },
           "yaxis": "y"
          },
          {
           "hovertemplate": "Income Level=High income<br>Year_str=2000<br>Performance (HEP)=%{x}<br>Efficiency (HEE)=%{y}<br>ISO3=%{text}<extra></extra>",
           "legendgroup": "High income",
           "marker": {
            "color": "#EF553B",
            "symbol": "circle"
           },
           "mode": "markers+text",
           "name": "High income",
           "orientation": "v",
           "showlegend": true,
           "text": [
            "URY",
            "SGP",
            "ROU",
            "CAN",
            "CHL",
            "IRL",
            "SVK",
            "GRC",
            "NLD",
            "NZL",
            "GBR",
            "CZE",
            "JPN",
            "RUS",
            "USA",
            "AUS",
            "DEU",
            "CYP",
            "KOR"
           ],
           "type": "scatter",
           "x": {
            "bdata": "st0LGAz05D/1f6VVz+jqP+fFHNBGpOQ/ztZdQ/VX7D+zxmgMLtbmPyvaoZ9Zmek/pXsys3wN6D+QZIJJcU7oPwAzRGMPces/13v+JQ9L7D8AMPU2nxrqPw1qRMFYfOk/yCQ0ZGjC7D8TYLtsL4bmP9aFbFT7Bus/IJZAd/5j6z/2KhroX57rP0YhK01i5uc/5p3ONhPi6j8=",
            "dtype": "f8"
           },
           "xaxis": "x",
           "y": {
            "bdata": "NFb3At2T1D+0BJxb7g3kP1i6/yUhNt4/yjrobJSP1T9dMxPJaZLWP7Sf/QyjWto/NnJUhRL62j/psxCNFCnZP0knt4dHedc/MMm4gYpW1D8YVK0BZbfYP3oRNawdd9w//dwJep9o3T8u0HYXNs7dP9U8mTx7Qs8/yrcYwYUw1z9NgZVlZKHVP9tk3KBkMtc/gWUx82Ul4T8=",
            "dtype": "f8"
           },
           "yaxis": "y"
          },
          {
           "hovertemplate": "Income Level=Upper middle income<br>Year_str=2000<br>Performance (HEP)=%{x}<br>Efficiency (HEE)=%{y}<br>ISO3=%{text}<extra></extra>",
           "legendgroup": "Upper middle income",
           "marker": {
            "color": "#00cc96",
            "symbol": "circle"
           },
           "mode": "markers+text",
           "name": "Upper middle income",
           "orientation": "v",
           "showlegend": true,
           "text": [
            "ARG",
            "KAZ",
            "MNG",
            "UKR",
            "BRA",
            "TUR",
            "MYS",
            "ECU",
            "SRB",
            "GTM",
            "PER",
            "THA",
            "MEX",
            "CHN",
            "IDN",
            "ARM",
            "IRN"
           ],
           "type": "scatter",
           "x": {
            "bdata": "JSr2l1f74z+KVaA8uufgP2e53z79B+A/rL7pNcBB5j9J17/zyu/fP0poJL0UEeI/0de591nJ5D/TKpUaxgDhP7gQ98+KiuQ/rlxsOn+V2D/9LGh6ieLgPx/JZZMQFuI/hqjzooWA4j/hfZDmMzriP8Sbtn64XNw/PF/GK8fi5D+15V87rvDiPw==",
            "dtype": "f8"
           },
           "xaxis": "x",
           "y": {
            "bdata": "g8NPLPKH0D/CMolbxz/XPzY5a+Fipss/vsqix65r2D9vUR6l8ALMP9m5uFGKetc/UXLEz/lP1j9IYRPHoyzkP6zgPGuQedQ/Ah4F0ejazj8Wq3A+67TWP41Miu7DVdQ/RzPrYNUU1z+W+jSUFx/cPzpWMrMmqN8/PrmEABYn3z81BvdrFdzVPw==",
            "dtype": "f8"
           },
           "yaxis": "y"
          },
          {
           "hovertemplate": "Income Level=Low income<br>Year_str=2000<br>Performance (HEP)=%{x}<br>Efficiency (HEE)=%{y}<br>ISO3=%{text}<extra></extra>",
           "legendgroup": "Low income",
           "marker": {
            "color": "#ab63fa",
            "symbol": "circle"
           },
           "mode": "markers+text",
           "name": "Low income",
           "orientation": "v",
           "showlegend": true,
           "text": [
            "ETH"
           ],
           "type": "scatter",
           "x": {
            "bdata": "cSkB6UlxtT8=",
            "dtype": "f8"
           },
           "xaxis": "x",
           "y": {
            "bdata": "ta2HpVohqj8=",
            "dtype": "f8"
           },
           "yaxis": "y"
          }
         ],
         "name": "2000"
        },
        {
         "data": [
          {
           "hovertemplate": "Income Level=Lower middle income<br>Year_str=2001<br>Performance (HEP)=%{x}<br>Efficiency (HEE)=%{y}<br>ISO3=%{text}<extra></extra>",
           "legendgroup": "Lower middle income",
           "marker": {
            "color": "#636efa",
            "symbol": "circle"
           },
           "mode": "markers+text",
           "name": "Lower middle income",
           "orientation": "v",
           "showlegend": true,
           "text": [
            "LBN",
            "UZB",
            "EGY",
            "PAK",
            "JOR",
            "MAR",
            "MMR",
            "IND",
            "TUN",
            "NGA",
            "PHL",
            "KEN",
            "VNM",
            "NIC",
            "TJK",
            "KGZ",
            "BGD"
           ],
           "type": "scatter",
           "x": {
            "bdata": "cjGMnb/q4z92kTi6CfrhPwH0lUFHL94/tYbyS9YNyT80XY133ojiP0POQRKkuNc/cLWqWwmM0j+waeabN3rSPyYutve70+A/4f1W0UYntj+XXGTwfzvhP0fKnglYv9U/IqTgmVtE5T+CJZV6Wp3fP4bjy2rVx+A/+DmPC2cY4j9Gt10RVJ/UPw==",
            "dtype": "f8"
           },
           "xaxis": "x",
           "y": {
            "bdata": "I1W6QqPk0D8f4D0gE+nPP/jESjtwxs0/2z6iIHyTzj9OoaJg9ILPP4FYVSKpdso/GDjAJxPD4D/4Nb10Ty7FP601tjVZac0/jA2HZznGwT/IPel4D4zdP4yG6PwwSsc/kypuIaq/1T9xaEuQk8PTP72FH7kdv9k/35StOLtY1j/7EfBVoWLZPw==",
            "dtype": "f8"
           },
           "yaxis": "y"
          },
          {
           "hovertemplate": "Income Level=High income<br>Year_str=2001<br>Performance (HEP)=%{x}<br>Efficiency (HEE)=%{y}<br>ISO3=%{text}<extra></extra>",
           "legendgroup": "High income",
           "marker": {
            "color": "#EF553B",
            "symbol": "circle"
           },
           "mode": "markers+text",
           "name": "High income",
           "orientation": "v",
           "showlegend": true,
           "text": [
            "SGP",
            "IRL",
            "CAN",
            "CHL",
            "SVK",
            "GRC",
            "JPN",
            "NZL",
            "CZE",
            "KOR",
            "CYP",
            "GBR",
            "URY",
            "NLD",
            "DEU",
            "RUS",
            "ROU",
            "AUS",
            "USA"
           ],
           "type": "scatter",
           "x": {
            "bdata": "c1a36vAW6z/FQHsxu9TpP3y0OYBsgOw/JW9ywrgP5z+zfCJktFjoPz6TXrQRh+g/NG4Y83Dg7D9REATt83rsP0GRYmcprOk/TW6fZtcX6z9V9XQojRjoP/3l/6P1UOo/u26kCYcu5T8rgxIdSn7rPwBsq3iz7es/xc8da5ab5j85zLNVAsPkP00PoeQBhes/hbDo0XsO6z8=",
            "dtype": "f8"
           },
           "xaxis": "x",
           "y": {
            "bdata": "qXlOR+LN4z+aSOYJZLbZP7y7NTwkKNY/m0/fdZ2f1j+RMeNoN/naP7D40nltj9c/GZ1doN1D3T8GopQ871jUPxaFl10y7Ns/FicUSVuC4D/aqlh2i/zWPw4uiNcbKNg/bLhGOeMR0z8OVCJz6LTWP0svusxdqtU/zDmrXVl83D94e37NvtvbP/AEQeiEG9Y/3XVyvxfrzT8=",
            "dtype": "f8"
           },
           "yaxis": "y"
          },
          {
           "hovertemplate": "Income Level=Upper middle income<br>Year_str=2001<br>Performance (HEP)=%{x}<br>Efficiency (HEE)=%{y}<br>ISO3=%{text}<extra></extra>",
           "legendgroup": "Upper middle income",
           "marker": {
            "color": "#00cc96",
            "symbol": "circle"
           },
           "mode": "markers+text",
           "name": "Upper middle income",
           "orientation": "v",
           "showlegend": true,
           "text": [
            "ARG",
            "UKR",
            "TUR",
            "BRA",
            "PER",
            "SRB",
            "ECU",
            "GTM",
            "MYS",
            "MNG",
            "KAZ",
            "THA",
            "CHN",
            "IDN",
            "IRN",
            "MEX",
            "ARM"
           ],
           "type": "scatter",
           "x": {
            "bdata": "qrM/ik8e5D8/foy/cVzmPzPtiq5SY+I/D300LYlQ4D/DpU9fTDbhP5ZHIkCzzeQ/M4WDG9w74T9tEe0F0e/YPwSbOdKczOQ/+9+ABfVq4D8+Bb8Q9FHhP4+AeGrbdeI/rOoP1a+N4j/nM48WPyHdP4rCqu83UeM/K+kdjFfC4j8es++mwgXlPw==",
            "dtype": "f8"
           },
           "xaxis": "x",
           "y": {
            "bdata": "Tj4EmkAS0D8sLaBr5znWP5wDG/aKNtc/+bnNulGEzD9Zz3nriyDXP8Mgm8xxPdQ/0/JXr6a84j/8B2tWeFnNPwYUZUYlZ9I/c856+TS/zz/W4il5RaHZP4df3JT/PdY/NbfhcY2J3T8pnuDNMxHfP9EkH5zGUtU/ZILYmYvt1T+zy3axqnLfPw==",
            "dtype": "f8"
           },
           "yaxis": "y"
          },
          {
           "hovertemplate": "Income Level=Low income<br>Year_str=2001<br>Performance (HEP)=%{x}<br>Efficiency (HEE)=%{y}<br>ISO3=%{text}<extra></extra>",
           "legendgroup": "Low income",
           "marker": {
            "color": "#ab63fa",
            "symbol": "circle"
           },
           "mode": "markers+text",
           "name": "Low income",
           "orientation": "v",
           "showlegend": true,
           "text": [
            "ETH"
           ],
           "type": "scatter",
           "x": {
            "bdata": "Nsy9zZAZuT8=",
            "dtype": "f8"
           },
           "xaxis": "x",
           "y": {
            "bdata": "WnXa4jpkrj8=",
            "dtype": "f8"
           },
           "yaxis": "y"
          }
         ],
         "name": "2001"
        },
        {
         "data": [
          {
           "hovertemplate": "Income Level=Lower middle income<br>Year_str=2002<br>Performance (HEP)=%{x}<br>Efficiency (HEE)=%{y}<br>ISO3=%{text}<extra></extra>",
           "legendgroup": "Lower middle income",
           "marker": {
            "color": "#636efa",
            "symbol": "circle"
           },
           "mode": "markers+text",
           "name": "Lower middle income",
           "orientation": "v",
           "showlegend": true,
           "text": [
            "KGZ",
            "LBN",
            "BGD",
            "MAR",
            "PHL",
            "IND",
            "JOR",
            "MMR",
            "TJK",
            "NIC",
            "TUN",
            "NGA",
            "PAK",
            "EGY",
            "KEN",
            "UZB",
            "VNM"
           ],
           "type": "scatter",
           "x": {
            "bdata": "1I9JuJ4y4j/4Piu3eBjkP49p5nl9jNU/JiXNFRxJ2D9yE/5A+HHhP2+0Y2hAGtM/hRvd1Si54j+QftV35BLTP2jbEJK8VOE/k9g+9ucz4D98q+JviRbhP4GKOmsBp7k/k58va8+fyj8HfeyVIpneP9Twx4oqfdY/MzNj5MBc4j91dj285X/lPw==",
            "dtype": "f8"
           },
           "xaxis": "x",
           "y": {
            "bdata": "Uqp9ICsP1D84dKu5qUTTPxHl6RFf8do/+I2TVvSFyj8q205dPwDfP48AzeZl8cU/XL66QQo80D/2o6N6hoLeP3dm5bO0INk/VYIwWh3F1T+JTJe95q3OP0s8ln6d+8g/6UNkDGD8zz8mUpcBTe3NP8ySqmrmPMU/Aznl6C5o0D+2Eb10KcPXPw==",
            "dtype": "f8"
           },
           "yaxis": "y"
          },
          {
           "hovertemplate": "Income Level=High income<br>Year_str=2002<br>Performance (HEP)=%{x}<br>Efficiency (HEE)=%{y}<br>ISO3=%{text}<extra></extra>",
           "legendgroup": "High income",
           "marker": {
            "color": "#EF553B",
            "symbol": "circle"
           },
           "mode": "markers+text",
           "name": "High income",
           "orientation": "v",
           "showlegend": true,
           "text": [
            "USA",
            "ROU",
            "AUS",
            "DEU",
            "RUS",
            "KOR",
            "URY",
            "GBR",
            "NZL",
            "JPN",
            "IRL",
            "CYP",
            "CZE",
            "NLD",
            "CHL",
            "CAN",
            "SVK",
            "GRC",
            "SGP"
           ],
           "type": "scatter",
           "x": {
            "bdata": "3rz361wO6z+u3L60JtPkP8JeklWuoOs/WGnb2IYh7D8HJKth1qzmP1bAgcRQQ+s/ZjrkKVRW5T8c9ToC+YPqP0KIJvCAjew/p0qnnrj47D+SBH7h6wzqP7wW64R7Wug//6YOmiLP6T8ILf+iC4brP6vwli7BPuc/KMbEkcic7D80CByXCI7oPz6hY0YQsOg/YTzERexC6z8=",
            "dtype": "f8"
           },
           "xaxis": "x",
           "y": {
            "bdata": "nqW6kd/DzD8rCP3D3VnaP+nUkLBtvtU/wgfu8zpy1T8oq5zr/AzZPxh5dO9TDeE/fIRgb4521D8jyNB5XVzWP9LBaDihCdQ/hAdymQYS3T+LUkr/iFLZP5Jk816emtU/MMZ77T6O2j+1y247Q6vVP/nunYQh2dU/PmM4fJPZ1T/wt5uIlbjZP3t7/PE2H9c/3tKewrFn4j8=",
            "dtype": "f8"
           },
           "yaxis": "y"
          },
          {
           "hovertemplate": "Income Level=Upper middle income<br>Year_str=2002<br>Performance (HEP)=%{x}<br>Efficiency (HEE)=%{y}<br>ISO3=%{text}<extra></extra>",
           "legendgroup": "Upper middle income",
           "marker": {
            "color": "#00cc96",
            "symbol": "circle"
           },
           "mode": "markers+text",
           "name": "Upper middle income",
           "orientation": "v",
           "showlegend": true,
           "text": [
            "MYS",
            "ARM",
            "TUR",
            "THA",
            "MEX",
            "CHN",
            "IRN",
            "IDN",
            "GTM",
            "SRB",
            "ECU",
            "PER",
            "MNG",
            "BRA",
            "UKR",
            "KAZ",
            "ARG"
           ],
           "type": "scatter",
           "x": {
            "bdata": "zZvQ4NHN5D90fs4K5CblPzSJcmkWs+I/ueSTg13S4j9zzl2dn/viP0RIo3Oj3+I/QCeWKfKz4z8f3KKSh+7dP7BPuRv0TNk/dpgDeQTw5D8mMyFyE33hP7O2AN3wg+E/ZAPm1yLM4D+WHaMTRargPwSZWd6GfuY/3OMSrbe24T8QijTrdoPkPw==",
            "dtype": "f8"
           },
           "xaxis": "x",
           "y": {
            "bdata": "shLkwAwT0j/+cjNmn5TYP6udW018NNc/M6R9mEuJ2T/trEpnZBHVP0PBmoljkd0/vO9IQR1+1T9MvG5lTSDfPzxOD96h780/ty6OPLvL0j/vk2/CjtrgP+BTSxwf19c/VWD/fC1+yT9aQkmmWSHNPylAj+pILdQ/aeBc65z82j+MB7uH5RbTPw==",
            "dtype": "f8"
           },
           "yaxis": "y"
          },
          {
           "hovertemplate": "Income Level=Low income<br>Year_str=2002<br>Performance (HEP)=%{x}<br>Efficiency (HEE)=%{y}<br>ISO3=%{text}<extra></extra>",
           "legendgroup": "Low income",
           "marker": {
            "color": "#ab63fa",
            "symbol": "circle"
           },
           "mode": "markers+text",
           "name": "Low income",
           "orientation": "v",
           "showlegend": true,
           "text": [
            "ETH"
           ],
           "type": "scatter",
           "x": {
            "bdata": "/KyGaMMCvT8=",
            "dtype": "f8"
           },
           "xaxis": "x",
           "y": {
            "bdata": "iMfWYLjCsT8=",
            "dtype": "f8"
           },
           "yaxis": "y"
          }
         ],
         "name": "2002"
        },
        {
         "data": [
          {
           "hovertemplate": "Income Level=Lower middle income<br>Year_str=2003<br>Performance (HEP)=%{x}<br>Efficiency (HEE)=%{y}<br>ISO3=%{text}<extra></extra>",
           "legendgroup": "Lower middle income",
           "marker": {
            "color": "#636efa",
            "symbol": "circle"
           },
           "mode": "markers+text",
           "name": "Lower middle income",
           "orientation": "v",
           "showlegend": true,
           "text": [
            "MAR",
            "UZB",
            "IND",
            "PHL",
            "NIC",
            "JOR",
            "TUN",
            "NGA",
            "MMR",
            "TJK",
            "KGZ",
            "LBN",
            "EGY",
            "PAK",
            "BGD",
            "KEN",
            "VNM"
           ],
           "type": "scatter",
           "x": {
            "bdata": "wVyKPjjd2D/80waNK7/iP3cNFeJftNM/pwaL8mOw4T+lrSDlGo7gP8VC4HEJ7OI//Nbcc0ZU4T8GGkaHiW+9P7V1Xu3qk9M/UtZXyGTs4T9+mhANL2ziPyW2VCexQeQ/SayayNz63j8ozwN6TAfMP86l3p5oZtY/zaRhOzld1z+s/U4RObblPw==",
            "dtype": "f8"
           },
           "xaxis": "x",
           "y": {
            "bdata": "mEKWnkccyz/We0HFI7LQPyKvc7eFxck/969xDRhc3T8maFeIdljVPyZeQ4gO+dA/GH2GxE7Kyz+yoBHvEhHAP1U6o3H3h+A/9AWq37Df2j/cewfFe0jSP2b0kqEiXNQ/N6EfnRRszj/KqJbfhunRP26tZaZna9s/p2HzyHXzxD+IOq/4SNnXPw==",
            "dtype": "f8"
           },
           "yaxis": "y"
          },
          {
           "hovertemplate": "Income Level=High income<br>Year_str=2003<br>Performance (HEP)=%{x}<br>Efficiency (HEE)=%{y}<br>ISO3=%{text}<extra></extra>",
           "legendgroup": "High income",
           "marker": {
            "color": "#EF553B",
            "symbol": "circle"
           },
           "mode": "markers+text",
           "name": "High income",
           "orientation": "v",
           "showlegend": true,
           "text": [
            "KOR",
            "JPN",
            "NZL",
            "URY",
            "GBR",
            "SVK",
            "CAN",
            "IRL",
            "CYP",
            "NLD",
            "CHL",
            "CZE",
            "DEU",
            "RUS",
            "ROU",
            "USA",
            "AUS",
            "SGP",
            "GRC"
           ],
           "type": "scatter",
           "x": {
            "bdata": "xvMoHCV26z+yHpsdxgXtP6DzpX0QqOw/KMq/25KG5T/A/8REQ7/qP4pDRxAitug/N5SIKfm77D/zz4QQh0fqP4CeF7ZCheg/KXnULyST6z/vl0KNhFvnP8Uk+KjI7uk/kAg8URpj7D9ZOVLB1b3mPziwqyvPAuU/xLkLQGQQ6z918jScNLrrPz9LvGFVe+s/7tyaFUXY6D8=",
            "dtype": "f8"
           },
           "xaxis": "x",
           "y": {
            "bdata": "UpwdjXs/4D/psAWAjp3cP9ORexyCT9Q/BbEa5vpi1T8HazFCnNbVP2e44awHI9o/MauGc+m91T869Vs07Z7YP4bMkTd5a9M/rPcQbpC31D/iVTDW+zfWP2/hkGx8ddk/mf+rf69Y1T/Y7R6d1ILaPyAEORIMgNg/zNLdatw6zD8MYrcL2PHVP1fGjxurx+E/FKU4mJ3k1j8=",
            "dtype": "f8"
           },
           "yaxis": "y"
          },
          {
           "hovertemplate": "Income Level=Upper middle income<br>Year_str=2003<br>Performance (HEP)=%{x}<br>Efficiency (HEE)=%{y}<br>ISO3=%{text}<extra></extra>",
           "legendgroup": "Upper middle income",
           "marker": {
            "color": "#00cc96",
            "symbol": "circle"
           },
           "mode": "markers+text",
           "name": "Upper middle income",
           "orientation": "v",
           "showlegend": true,
           "text": [
            "THA",
            "CHN",
            "ARG",
            "ECU",
            "PER",
            "SRB",
            "GTM",
            "IDN",
            "IRN",
            "MEX",
            "TUR",
            "MYS",
            "KAZ",
            "BRA",
            "MNG",
            "ARM",
            "UKR"
           ],
           "type": "scatter",
           "x": {
            "bdata": "1LKQfcIy4z/2y17RAC/jP5WbUFay3+Q/cvi62QCx4T8HMpazQsvhP3Sajp0lTeU/LZEmJj2d2T8ZsYPmTp7eP0GxGqA42OM/KBbYmjEz4z/Z6cx4v/ziPx1+Aje1xeQ/LIY4E1Ua4j/x7BOYpQPhPz3r6zTPIuE/5TLkFQRO5T/YpFTnzpnmPw==",
            "dtype": "f8"
           },
           "xaxis": "x",
           "y": {
            "bdata": "KWbJfJvv2j+kCAF18OzdP/3R/OVaYtU/XFuHYhqz3T/thida9qnYPwsRBU3sBdM/9Of/+e3qzT+WeTyOSsHaPxa31fQ5cNU/Wqr3MZ6n0j/11Yb+P6zXP+vzYK77B9I/jgJdqWFA2j/NXEr7odDOPzTN+c72/8s/NA3eauK92T9miRDRey/TPw==",
            "dtype": "f8"
           },
           "yaxis": "y"
          },
          {
           "hovertemplate": "Income Level=Low income<br>Year_str=2003<br>Performance (HEP)=%{x}<br>Efficiency (HEE)=%{y}<br>ISO3=%{text}<extra></extra>",
           "legendgroup": "Low income",
           "marker": {
            "color": "#ab63fa",
            "symbol": "circle"
           },
           "mode": "markers+text",
           "name": "Low income",
           "orientation": "v",
           "showlegend": true,
           "text": [
            "ETH"
           ],
           "type": "scatter",
           "x": {
            "bdata": "a4G+5/CKwD8=",
            "dtype": "f8"
           },
           "xaxis": "x",
           "y": {
            "bdata": "NHmSnKzlsz8=",
            "dtype": "f8"
           },
           "yaxis": "y"
          }
         ],
         "name": "2003"
        },
        {
         "data": [
          {
           "hovertemplate": "Income Level=Lower middle income<br>Year_str=2004<br>Performance (HEP)=%{x}<br>Efficiency (HEE)=%{y}<br>ISO3=%{text}<extra></extra>",
           "legendgroup": "Lower middle income",
           "marker": {
            "color": "#636efa",
            "symbol": "circle"
           },
           "mode": "markers+text",
           "name": "Lower middle income",
           "orientation": "v",
           "showlegend": true,
           "text": [
            "UZB",
            "MAR",
            "NIC",
            "LBN",
            "IND",
            "PHL",
            "TUN",
            "TJK",
            "MMR",
            "JOR",
            "NGA",
            "KGZ",
            "BGD",
            "PAK",
            "EGY",
            "KEN",
            "VNM"
           ],
           "type": "scatter",
           "x": {
            "bdata": "uQlvHSsf4z+msYHpimrZP0vO8TkT5OA/eHjWVsNp5D8woqBrOkrUP/prRpaI8eE/TnvkD9OO4T9KaPN0/W3iP9PTr2npGtQ/9QvO2wU74z9KrNk8VqLAPz6Zun1eluI/cB8Nbr0v1z9BDVu/gGvNP6s4qVEVTN8/qd3Wsl9C2D/y7K33gtvlPw==",
            "dtype": "f8"
           },
           "xaxis": "x",
           "y": {
            "bdata": "1DcZ9kt00T/NlbUnW1vLP8BbDaLm1dU/pnJWp39r1T8N1r6irNrLP0Cq850thuA/9+2I5qZxzD84HdAjaK3ZPzfoYrHMSOE/woND1RtN0T9GutKlXJHDP4f1B3NKnNE/7o4AOlRQ3T9dG6b/SMzVP+SWpA+qX9A/mPd1WZDMxD/Cm9hB+rXXPw==",
            "dtype": "f8"
           },
           "yaxis": "y"
          },
          {
           "hovertemplate": "Income Level=High income<br>Year_str=2004<br>Performance (HEP)=%{x}<br>Efficiency (HEE)=%{y}<br>ISO3=%{text}<extra></extra>",
           "legendgroup": "High income",
           "marker": {
            "color": "#EF553B",
            "symbol": "circle"
           },
           "mode": "markers+text",
           "name": "High income",
           "orientation": "v",
           "showlegend": true,
           "text": [
            "GBR",
            "NZL",
            "NLD",
            "KOR",
            "CYP",
            "URY",
            "USA",
            "ROU",
            "AUS",
            "GRC",
            "RUS",
            "SVK",
            "IRL",
            "JPN",
            "CHL",
            "CZE",
            "DEU",
            "CAN",
            "SGP"
           ],
           "type": "scatter",
           "x": {
            "bdata": "WAZWWmv66j9QkJiGYcrsPx5iO95puOs/QyvJoBup6z8Bn6YvGavoPznBWKN1a+U/T4a41aQl6z+MqdOYPjblP+K3Ak0T0+s/po1AnTH+6D+FALSeyu7mPyDLfQKX8eg/4Oy3sWR86j/TDemv0x3tPxQkwwAuiec/lIwkHGgv6j86n/KA0qzsP3H8Qm484Ow/tCwYoZev6z8=",
            "dtype": "f8"
           },
           "xaxis": "x",
           "y": {
            "bdata": "KG+St4bO1T8HSfGFOTTUPxbmqiaPt9Q/dYLKd/do4D+QCJ7N9vbUP2CbketVZNY/aeAngVFmzD8wKcNhA1TZP4wDrMNK2tU/qw9QVlMA1z/THyaFRE/cP/1kRsWS09g/DlWg0KSv1z+3hklEsb3cPwNE/z53Dtg/5aeDqpp12j9qG80bIwrWP6883/X/xtU/GrdjBiLg4z8=",
            "dtype": "f8"
           },
           "yaxis": "y"
          },
          {
           "hovertemplate": "Income Level=Upper middle income<br>Year_str=2004<br>Performance (HEP)=%{x}<br>Efficiency (HEE)=%{y}<br>ISO3=%{text}<extra></extra>",
           "legendgroup": "Upper middle income",
           "marker": {
            "color": "#00cc96",
            "symbol": "circle"
           },
           "mode": "markers+text",
           "name": "Upper middle income",
           "orientation": "v",
           "showlegend": true,
           "text": [
            "THA",
            "CHN",
            "ARG",
            "SRB",
            "MYS",
            "TUR",
            "MEX",
            "PER",
            "GTM",
            "ECU",
            "IRN",
            "IDN",
            "UKR",
            "MNG",
            "KAZ",
            "BRA",
            "ARM"
           ],
           "type": "scatter",
           "x": {
            "bdata": "h8q1Yxt/4z94uHY4BoDjPx8xukiyF+U/LDv3dlWt5T+pynHpvr3kPwg8D44iReM/B3xjiVhk4z/52dZ8CvzhP2sK4Eyeydk/3vAXeDvY4T98w9WwE3TkP0eU9MBAK94/36+Polev5j+KJ0whAK3hP+LOTs1HeOI/RFMby0Va4T/9uzFZ8H3lPw==",
            "dtype": "f8"
           },
           "xaxis": "x",
           "y": {
            "bdata": "TQbBdtNF2j9vba8IoePePzAGZ2IeK9U/jd56SLUf0z/Ow0COQsTVP/fNH5stRtg/0x+sQdte0z8sUFX5RUbZP1F/RWWV0s0/H1JEa82b3T+Yww4CMPjVP+99uR7r590/AV/YbiVb1D/9eUBjAlPUPzn/YuFrS98/PoQ4ZsDMzj/3ncbiyoHbPw==",
            "dtype": "f8"
           },
           "yaxis": "y"
          },
          {
           "hovertemplate": "Income Level=Low income<br>Year_str=2004<br>Performance (HEP)=%{x}<br>Efficiency (HEE)=%{y}<br>ISO3=%{text}<extra></extra>",
           "legendgroup": "Low income",
           "marker": {
            "color": "#ab63fa",
            "symbol": "circle"
           },
           "mode": "markers+text",
           "name": "Low income",
           "orientation": "v",
           "showlegend": true,
           "text": [
            "ETH"
           ],
           "type": "scatter",
           "x": {
            "bdata": "YwHYAUK3wj8=",
            "dtype": "f8"
           },
           "xaxis": "x",
           "y": {
            "bdata": "s5HBpxjVtz8=",
            "dtype": "f8"
           },
           "yaxis": "y"
          }
         ],
         "name": "2004"
        },
        {
         "data": [
          {
           "hovertemplate": "Income Level=Lower middle income<br>Year_str=2005<br>Performance (HEP)=%{x}<br>Efficiency (HEE)=%{y}<br>ISO3=%{text}<extra></extra>",
           "legendgroup": "Lower middle income",
           "marker": {
            "color": "#636efa",
            "symbol": "circle"
           },
           "mode": "markers+text",
           "name": "Lower middle income",
           "orientation": "v",
           "showlegend": true,
           "text": [
            "VNM",
            "PHL",
            "KEN",
            "LBN",
            "EGY",
            "PAK",
            "MMR",
            "JOR",
            "MAR",
            "IND",
            "TUN",
            "NIC",
            "NGA",
            "TJK",
            "KGZ",
            "BGD",
            "UZB"
           ],
           "type": "scatter",
           "x": {
            "bdata": "Miqad54P5j9ggurOwAXiPx3ZvCYuKtk/jbNb76iN5D/r4ohZ5ZrfP7EI6XrW780/QhTUoDCl1D+VXKEaPonjP9k0JsTlDdo/DIOJXFLm1D+OkXkn38PhPxfZHdGuP+E/wzh/BkFuwj8yynG147jiP9X6UMoMt+I/PhLWTNHx1z/exm5kcn3jPw==",
            "dtype": "f8"
           },
           "xaxis": "x",
           "y": {
            "bdata": "eedVy5d41z8aS6CvchDfP6f4ueGcaMQ/0xorZxdi1j9eyiWkzzDQP3GGkNJZGtM/zU4kH+qv4T9bdtrjKOXRPwLo+j5ftss/F7sWXmQUzj/P9c//B63NP2BS2x767NU/ci91bfxfxj8w8MHz8ELWP6fAGb+Wms8/hHgUEiLq3T+AKkT+ld3RPw==",
            "dtype": "f8"
           },
           "yaxis": "y"
          },
          {
           "hovertemplate": "Income Level=High income<br>Year_str=2005<br>Performance (HEP)=%{x}<br>Efficiency (HEE)=%{y}<br>ISO3=%{text}<extra></extra>",
           "legendgroup": "High income",
           "marker": {
            "color": "#EF553B",
            "symbol": "circle"
           },
           "mode": "markers+text",
           "name": "High income",
           "orientation": "v",
           "showlegend": true,
           "text": [
            "ROU",
            "DEU",
            "RUS",
            "GRC",
            "CHL",
            "SVK",
            "NLD",
            "SGP",
            "CAN",
            "IRL",
            "NZL",
            "KOR",
            "JPN",
            "CYP",
            "CZE",
            "USA",
            "URY",
            "AUS",
            "GBR"
           ],
           "type": "scatter",
           "x": {
            "bdata": "5VRWAwx85T+4TqQkvazsPyxT9+qLCOc/9ELNLBoi6T8BiqjCWp3nPzOtQp7AFuk/5QKQQHbK6z/Y12FuhebrP0v5AsQT/uw/dxLLh2Cv6j+KvDsh7eLsP++31tXf3us/UIut+/ki7T+WokqfuNfoP16hKoXwXOo/Smut/j0n6z+IE2QUzmPlPwCU6Dyx7Os/AhHgnLU16z8=",
            "dtype": "f8"
           },
           "xaxis": "x",
           "y": {
            "bdata": "vkSJggPa2D/qjacgxs7VP2LR3QEveNs/fim2AWaq1T+WIUZm7ZHZP73Jdcdxm9k/Yq3Sf9Sy1D8wW152GxrmP1cY/jmmYNY/s//571UW1z/MXtUNDd3TP3jpA3g7LuA/Qaa1G/7f3D99K36CobTUP/fgb2X4Fds/5XT3LGSGzD8PuJ+GlL7WPzPsY8l37NU/a8dzdMWA1T8=",
            "dtype": "f8"
           },
           "yaxis": "y"
          },
          {
           "hovertemplate": "Income Level=Upper middle income<br>Year_str=2005<br>Performance (HEP)=%{x}<br>Efficiency (HEE)=%{y}<br>ISO3=%{text}<extra></extra>",
           "legendgroup": "Upper middle income",
           "marker": {
            "color": "#00cc96",
            "symbol": "circle"
           },
           "mode": "markers+text",
           "name": "Upper middle income",
           "orientation": "v",
           "showlegend": true,
           "text": [
            "ARM",
            "SRB",
            "BRA",
            "GTM",
            "UKR",
            "KAZ",
            "PER",
            "MNG",
            "TUR",
            "THA",
            "ECU",
            "IRN",
            "CHN",
            "IDN",
            "MYS",
            "ARG",
            "MEX"
           ],
           "type": "scatter",
           "x": {
            "bdata": "SY3zspWl5T82Pl5RKgbmP8mheTRPreE/BYLXlvjo2T/YPB29Rs7mP3cmsxr32eI/WnxX/+fI4T8qKu2U6B7iP1GxZTr1iuM/j6G1dxSl4z+VDfK6yfThP1POwZS+zeQ/jwh3XnnL4z/Vba6TBfXfPxeuRCAjuOQ/uUyWvIdE5T8fxnM9LaDjPw==",
            "dtype": "f8"
           },
           "xaxis": "x",
           "y": {
            "bdata": "c8O78LBE2z/w7xirT9rSP0I3WE9X6s0/ubBqZc1Gzj/A80iypLvSP06OP5OYHuA/QByVaxfb2D/jlU7ba7HVP4DNctn3p9g/3k4z9uDS2j+1ErDiluHdP+mXi4yavNY/FdfRUCvS3z8NkWtx2vHcP7sGrbsv4NU/8i/5oDnV0z96iNySDnjTPw==",
            "dtype": "f8"
           },
           "yaxis": "y"
          },
          {
           "hovertemplate": "Income Level=Low income<br>Year_str=2005<br>Performance (HEP)=%{x}<br>Efficiency (HEE)=%{y}<br>ISO3=%{text}<extra></extra>",
           "legendgroup": "Low income",
           "marker": {
            "color": "#ab63fa",
            "symbol": "circle"
           },
           "mode": "markers+text",
           "name": "Low income",
           "orientation": "v",
           "showlegend": true,
           "text": [
            "ETH"
           ],
           "type": "scatter",
           "x": {
            "bdata": "v9kv7z6gxD8=",
            "dtype": "f8"
           },
           "xaxis": "x",
           "y": {
            "bdata": "RRQ/qlHVuj8=",
            "dtype": "f8"
           },
           "yaxis": "y"
          }
         ],
         "name": "2005"
        },
        {
         "data": [
          {
           "hovertemplate": "Income Level=Lower middle income<br>Year_str=2006<br>Performance (HEP)=%{x}<br>Efficiency (HEE)=%{y}<br>ISO3=%{text}<extra></extra>",
           "legendgroup": "Lower middle income",
           "marker": {
            "color": "#636efa",
            "symbol": "circle"
           },
           "mode": "markers+text",
           "name": "Lower middle income",
           "orientation": "v",
           "showlegend": true,
           "text": [
            "MMR",
            "EGY",
            "PAK",
            "LBN",
            "TJK",
            "NGA",
            "NIC",
            "IND",
            "TUN",
            "JOR",
            "MAR",
            "KEN",
            "PHL",
            "BGD",
            "UZB",
            "KGZ",
            "VNM"
           ],
           "type": "scatter",
           "x": {
            "bdata": "/0o0TH9A1T9BrZybdODfP8APtz7daM8/In3iXZ6l5D8SyK4M2BrjP+Vt8jeYHcQ/VUQvVJCO4T/W2dCquYnVPxBheLdX9+E/kY+UGbHa4z8km16yzaTaP8SHbjki6tk/ZcMoi44F4j8VrcXhpqDYP3r/dgOy4eM/fvOKYBzS4j+usPAxAD/mPw==",
            "dtype": "f8"
           },
           "xaxis": "x",
           "y": {
            "bdata": "dwjXbn+g4j8AA8bxskXSPxx43tfzJNE/ux1h58cz1D+vrGYjnHrXPyZpdTcabsk/DiHhHnAG1j9oiIL74+3PP0fHhpppFM4/hN8PqNtR0z/OWnS+IOTLP9LJoTlbj8Q/JrCLYLFK3j+w3ROdf87cP3RVXwvGQ9I/xfraal0xzD9MlgCvOy7XPw==",
            "dtype": "f8"
           },
           "yaxis": "y"
          },
          {
           "hovertemplate": "Income Level=High income<br>Year_str=2006<br>Performance (HEP)=%{x}<br>Efficiency (HEE)=%{y}<br>ISO3=%{text}<extra></extra>",
           "legendgroup": "High income",
           "marker": {
            "color": "#EF553B",
            "symbol": "circle"
           },
           "mode": "markers+text",
           "name": "High income",
           "orientation": "v",
           "showlegend": true,
           "text": [
            "CHL",
            "SGP",
            "GRC",
            "CZE",
            "IRL",
            "CYP",
            "KOR",
            "NZL",
            "SVK",
            "CAN",
            "JPN",
            "NLD",
            "DEU",
            "ROU",
            "URY",
            "AUS",
            "USA",
            "RUS",
            "GBR"
           ],
           "type": "scatter",
           "x": {
            "bdata": "fLPkD2qp5z+lg2LDOdXrP+7cL3hJaek/TFrLezug6j+OhRGjfNzqP9WGwCg/FOk/5K+bjefx6z/OOR1T4ffsP/7aJNhrUek/thTrhMMq7T/XTjvEKj7tP2Q8RUvR7+s/BKnoF9qp7D/Y0Kaz0sLlPxdTfDOdReU//OxZOiwI7D9G3ynTH0HrP9IbeAd/Xuc/EcLMJo5v6z8=",
            "dtype": "f8"
           },
           "xaxis": "x",
           "y": {
            "bdata": "FmLk0WTQ2z9RlL/qW+nnP4ZcWKpRKdc/b8Bk2r+g2j+kEnmeel7XPzfHxfSnxdQ/u5QC376F3z8ojqEA2YjTP5Ox6wYSedk//50Xk54f1j9R2U9q/AzdP7clKV/R89Q/59Arn50k1j/TztpoxHTXP5VErBqIO9Y/ZXJAEm471j82XLa9733MP4JhGrPEgNs/6Y9sYFpi1T8=",
            "dtype": "f8"
           },
           "yaxis": "y"
          },
          {
           "hovertemplate": "Income Level=Upper middle income<br>Year_str=2006<br>Performance (HEP)=%{x}<br>Efficiency (HEE)=%{y}<br>ISO3=%{text}<extra></extra>",
           "legendgroup": "Upper middle income",
           "marker": {
            "color": "#00cc96",
            "symbol": "circle"
           },
           "mode": "markers+text",
           "name": "Upper middle income",
           "orientation": "v",
           "showlegend": true,
           "text": [
            "TUR",
            "MNG",
            "IDN",
            "CHN",
            "THA",
            "IRN",
            "KAZ",
            "ECU",
            "BRA",
            "GTM",
            "UKR",
            "PER",
            "SRB",
            "ARM",
            "MYS",
            "ARG",
            "MEX"
           ],
           "type": "scatter",
           "x": {
            "bdata": "dZlNhdHL4z9MsZHox4jiP9xW75iHS+A/gFmJyH0Q5D/5OVxfD7jjP4I8hz0cOOU/qGADyDw84z9zWKWVehLiP5C0OGPQ/eE/uG0qc8NQ2j81y/eDYt3mP2f0k/I+9eE/MlShu5dw5j8j5Il7z7zlP2xyJzDAGOU/xEi8XyNe5T+DwKzDd/LjPw==",
            "dtype": "f8"
           },
           "xaxis": "x",
           "y": {
            "bdata": "hFw5l/9d2D8R4z0fLm7WP/EUH4WdJ90/6rcqEwBx4D/y8GUe3JjaPzxXmzovwNY/blSIPy9O4D+G8D6dJsbdP6v3Tt6F3Mw/HjGJzX0nzj+WJdxXy3PSPxx2WDEztNo/nbvit+nw0j8EmeMUFWbbP9h3xSfkg9o/IWPEpJRK0z8/TFDDiWrUPw==",
            "dtype": "f8"
           },
           "yaxis": "y"
          },
          {
           "hovertemplate": "Income Level=Low income<br>Year_str=2006<br>Performance (HEP)=%{x}<br>Efficiency (HEE)=%{y}<br>ISO3=%{text}<extra></extra>",
           "legendgroup": "Low income",
           "marker": {
            "color": "#ab63fa",
            "symbol": "circle"
           },
           "mode": "markers+text",
           "name": "Low income",
           "orientation": "v",
           "showlegend": true,
           "text": [
            "ETH"
           ],
           "type": "scatter",
           "x": {
            "bdata": "owipjcfixj8=",
            "dtype": "f8"
           },
           "xaxis": "x",
           "y": {
            "bdata": "GhhJHxBTtj8=",
            "dtype": "f8"
           },
           "yaxis": "y"
          }
         ],
         "name": "2006"
        },
        {
         "data": [
          {
           "hovertemplate": "Income Level=Lower middle income<br>Year_str=2007<br>Performance (HEP)=%{x}<br>Efficiency (HEE)=%{y}<br>ISO3=%{text}<extra></extra>",
           "legendgroup": "Lower middle income",
           "marker": {
            "color": "#636efa",
            "symbol": "circle"
           },
           "mode": "markers+text",
           "name": "Lower middle income",
           "orientation": "v",
           "showlegend": true,
           "text": [
            "MMR",
            "PAK",
            "EGY",
            "PHL",
            "KEN",
            "MAR",
            "TJK",
            "NIC",
            "NGA",
            "JOR",
            "TUN",
            "IND",
            "LBN",
            "UZB",
            "KGZ",
            "BGD",
            "VNM"
           ],
           "type": "scatter",
           "x": {
            "bdata": "ywl616Lf1T8k/mhM5PPPP3dk2kyQN+A/E9zTr5Ul4j+33u0HmH7aPzwRGu2eQds/chOG7eBu4z/yYUC1j8rhP3M1caS118U/56PaQoco5D/0Gsi5JSXiPwKo4zD9MNY/ECZUi4UJ5T9Q4BixplDkP85xNUWNCOM/j4PNHhE92T+crwrjN27mPw==",
            "dtype": "f8"
           },
           "xaxis": "x",
           "y": {
            "bdata": "5ic6lASM5D+CkkkyRZ3QP+l9oyvdN9Q/SnmwN4s63j9NqAipdODEP+vWiqbu+cs/GU3NjOm71j/LCHjaThPVPzibsxyFqc0/xrNOvqFG0z9Ig7j/FTbOP3SvFC2DntA/CrprpwZA1T8JzSKnxfLSP2AvEeoia8w/c7v9RhmX3D+9LUSkfkLXPw==",
            "dtype": "f8"
           },
           "yaxis": "y"
          },
          {
           "hovertemplate": "Income Level=High income<br>Year_str=2007<br>Performance (HEP)=%{x}<br>Efficiency (HEE)=%{y}<br>ISO3=%{text}<extra></extra>",
           "legendgroup": "High income",
           "marker": {
            "color": "#EF553B",
            "symbol": "circle"
           },
           "mode": "markers+text",
           "name": "High income",
           "orientation": "v",
           "showlegend": true,
           "text": [
            "GRC",
            "RUS",
            "CHL",
            "DEU",
            "AUS",
            "ROU",
            "SVK",
            "CZE",
            "NZL",
            "KOR",
            "CYP",
            "CAN",
            "NLD",
            "JPN",
            "SGP",
            "USA",
            "URY",
            "IRL",
            "GBR"
           ],
           "type": "scatter",
           "x": {
            "bdata": "7EeAHjFn6T9mCXB+xJ/nPzRWIbjJtec/tm0hgdDO7D+k0GC7aCXsP1ZIRkjgEeY/XhpJfqd56T9pcIpahrDqP2tX+qvfAe0/ulbswUMC7D+Hj/Y5k1DpP7HFx6GVNO0/dsaA/v0Z7D+WY2Obj1HtP3xomPig9es/qmW0NxZa6z+KGVPTkIDlP9FT0mp78+o/rusyu2ap6z8=",
            "dtype": "f8"
           },
           "xaxis": "x",
           "y": {
            "bdata": "+Vfgl7sR1z8ZCCyg29nbP/wEe0f8xto/ijrFdAyn1j/FJzZj+qLWP6fsEZy0Zdg/r7gzwviN2T+gRPWUl0zcP5qkpRUE49M/HoLKv+6X3z8UxgHTejjVP0WRq/wJBNY/Wt8+4thr1T+27sDYcujcP0YhIkhG5Oc/s6uEbR01zD+7xxZD3/DWP4kY3al1l9Y/uVcuAbVj1T8=",
            "dtype": "f8"
           },
           "yaxis": "y"
          },
          {
           "hovertemplate": "Income Level=Upper middle income<br>Year_str=2007<br>Performance (HEP)=%{x}<br>Efficiency (HEE)=%{y}<br>ISO3=%{text}<extra></extra>",
           "legendgroup": "Upper middle income",
           "marker": {
            "color": "#00cc96",
            "symbol": "circle"
           },
           "mode": "markers+text",
           "name": "Upper middle income",
           "orientation": "v",
           "showlegend": true,
           "text": [
            "GTM",
            "TUR",
            "THA",
            "SRB",
            "PER",
            "UKR",
            "MNG",
            "IDN",
            "CHN",
            "IRN",
            "KAZ",
            "ECU",
            "BRA",
            "ARG",
            "ARM",
            "MEX",
            "MYS"
           ],
           "type": "scatter",
           "x": {
            "bdata": "3Rofo1P52j9gFo68egjkPyU+aw2A9uM/om87Cy/I5j+LYGN5rUriP5cIZWJJ+uY/TOGeOQbw4j+zcwZeDBrgPx3gmNX4VuQ/AQxTJM1D5T+6Tx/AsaXjP2bvaNJ2NuI/5WFrFPpJ4j/0Gfm0Kl3lP8NyZJAo4OU/cXX+ZLID5D80GBN+6nXlPw==",
            "dtype": "f8"
           },
           "xaxis": "x",
           "y": {
            "bdata": "Ffv9HuUlzz9D2AR0MXHYP6/+wN+2xtw/mmG+/rEq0j/MUBjKoUPbP7g1MAHsLNM/2mP6E7Ye1T9okaJyrAPbP/mO+iqnYuA/dqR778tc1j/3Xd8VoIfhPz6IoE+lKt8/JkiZzeQgzT/dlDB/nFrSP+5l89AJPts/EAoCI1Zb1D+Gspa2Q4/bPw==",
            "dtype": "f8"
           },
           "yaxis": "y"
          },
          {
           "hovertemplate": "Income Level=Low income<br>Year_str=2007<br>Performance (HEP)=%{x}<br>Efficiency (HEE)=%{y}<br>ISO3=%{text}<extra></extra>",
           "legendgroup": "Low income",
           "marker": {
            "color": "#ab63fa",
            "symbol": "circle"
           },
           "mode": "markers+text",
           "name": "Low income",
           "orientation": "v",
           "showlegend": true,
           "text": [
            "ETH"
           ],
           "type": "scatter",
           "x": {
            "bdata": "vJvSehwnyT8=",
            "dtype": "f8"
           },
           "xaxis": "x",
           "y": {
            "bdata": "0NicIriptz8=",
            "dtype": "f8"
           },
           "yaxis": "y"
          }
         ],
         "name": "2007"
        },
        {
         "data": [
          {
           "hovertemplate": "Income Level=Lower middle income<br>Year_str=2008<br>Performance (HEP)=%{x}<br>Efficiency (HEE)=%{y}<br>ISO3=%{text}<extra></extra>",
           "legendgroup": "Lower middle income",
           "marker": {
            "color": "#636efa",
            "symbol": "circle"
           },
           "mode": "markers+text",
           "name": "Lower middle income",
           "orientation": "v",
           "showlegend": true,
           "text": [
            "VNM",
            "BGD",
            "KGZ",
            "UZB",
            "TJK",
            "NIC",
            "NGA",
            "JOR",
            "IND",
            "TUN",
            "PAK",
            "MMR",
            "EGY",
            "MAR",
            "KEN",
            "LBN",
            "PHL"
           ],
           "type": "scatter",
           "x": {
            "bdata": "DM1WKxWa5j/gqXsPe+TZP7Z0rASiVOM/SXnHEgS65D/J9+a0isLjP51DiYqoAuI/vPBYwdJZxz93qYjsynLkPyRYgf7I2dY/5+MnwA9T4j+WsRVBEkXQPyJOjLs+wNE/2HLUJsB84D+sPKYYo9bbPz1g2BxwPts/yogOtWFC5T9qAh9I+TPiPw==",
            "dtype": "f8"
           },
           "xaxis": "x",
           "y": {
            "bdata": "rgA1uVb21z8TBysW4uXeP4aSVPUlMc8/8QE1rBEb0z9+AeDMlTXWP1m/mQ/M7NQ/di0xE0Kd0D8BO0Z0B73SP6rxMiENGdE/VABCi7olzz8xAZPNtejQP9r9aNVQPeA/SEED85lG1D8GdnyuDoHMP7uDWgT0YMU/a+kccn6r2D9kNB97dVDdPw==",
            "dtype": "f8"
           },
           "yaxis": "y"
          },
          {
           "hovertemplate": "Income Level=High income<br>Year_str=2008<br>Performance (HEP)=%{x}<br>Efficiency (HEE)=%{y}<br>ISO3=%{text}<extra></extra>",
           "legendgroup": "High income",
           "marker": {
            "color": "#EF553B",
            "symbol": "circle"
           },
           "mode": "markers+text",
           "name": "High income",
           "orientation": "v",
           "showlegend": true,
           "text": [
            "GBR",
            "URY",
            "USA",
            "CZE",
            "IRL",
            "KOR",
            "SVK",
            "CYP",
            "NZL",
            "SGP",
            "NLD",
            "JPN",
            "CAN",
            "CHL",
            "RUS",
            "GRC",
            "AUS",
            "ROU",
            "DEU"
           ],
           "type": "scatter",
           "x": {
            "bdata": "mkurwZPg6z/esV3NBLTlPz5OB7FuZes/GYqniZDK6j84AgK7LhrrP9KkxPOJDew/xpD18iK/6T8ZqzlBK2npP90XruYOD+0/HLh6kng17D+jnTPtwxfsP4N9nU86X+0/nwpZbylG7T8C0rW4NevnPyvmkgCMwec/+BrO6hmL6T8UDU7v7FHsP9NqoQInNOY/xOWWgtTo7D8=",
            "dtype": "f8"
           },
           "xaxis": "x",
           "y": {
            "bdata": "1WRhVIM41T9bicTy3v7VP550/ATXl8s/aIEQm4UK3D93/Nd0XofTP6JrG4Ey/d4/B2Ah/CpK2j/u2LIZZpDTP6IYLpm5GtM/tEmWGHvf5z99OaYNetvUP6vnvL0rTtw/mjtrem4l1j8O3hP/rQbYP/prBom4tdo/vGJwJKsS1j/sKL/lAKbWP5/FPgRUuNg/FIf5Qecv1T8=",
            "dtype": "f8"
           },
           "yaxis": "y"
          },
          {
           "hovertemplate": "Income Level=Upper middle income<br>Year_str=2008<br>Performance (HEP)=%{x}<br>Efficiency (HEE)=%{y}<br>ISO3=%{text}<extra></extra>",
           "legendgroup": "Upper middle income",
           "marker": {
            "color": "#00cc96",
            "symbol": "circle"
           },
           "mode": "markers+text",
           "name": "Upper middle income",
           "orientation": "v",
           "showlegend": true,
           "text": [
            "MEX",
            "BRA",
            "MYS",
            "ARG",
            "ARM",
            "IDN",
            "PER",
            "CHN",
            "IRN",
            "ECU",
            "MNG",
            "KAZ",
            "TUR",
            "THA",
            "GTM",
            "UKR",
            "SRB"
           ],
           "type": "scatter",
           "x": {
            "bdata": "lOEmK0AW5D8S0GnUfY/iP2yuKegHz+U/ZT4W2KWa5T/t/I2JyAvmP4MUIfYvReA/n9Pa4gBg4j/fx21WV4TkP9VTi81lTuU/KRDtzYph4j8aONVrAlPjP5qnsuJ1xeM/e54Np49Z5D/SJBqrAjPkPzdLVD1of9s/5ylAC9Ao5z80HzWyBh7nPw==",
            "dtype": "f8"
           },
           "xaxis": "x",
           "y": {
            "bdata": "g4ql+0Y11D+B3lsptRHNPz2qBfoBLN4/tcSPzmVy0T9nSiFWMi/YPxLzZNsaN90/fBTIw37v2T8QCigXDUHbP2ZZf51XS9g/9eIJNfKa3z82iYcwt63UP3BozIm8x+E/+ga8H1Lg2D+HJ+HoS7vcPzq5yV2MZ88/zaC8UPN90z/CAgpfyi/SPw==",
            "dtype": "f8"
           },
           "yaxis": "y"
          },
          {
           "hovertemplate": "Income Level=Low income<br>Year_str=2008<br>Performance (HEP)=%{x}<br>Efficiency (HEE)=%{y}<br>ISO3=%{text}<extra></extra>",
           "legendgroup": "Low income",
           "marker": {
            "color": "#ab63fa",
            "symbol": "circle"
           },
           "mode": "markers+text",
           "name": "Low income",
           "orientation": "v",
           "showlegend": true,
           "text": [
            "ETH"
           ],
           "type": "scatter",
           "x": {
            "bdata": "UUC0aXdAyz8=",
            "dtype": "f8"
           },
           "xaxis": "x",
           "y": {
            "bdata": "J+l8q/k4uz8=",
            "dtype": "f8"
           },
           "yaxis": "y"
          }
         ],
         "name": "2008"
        },
        {
         "data": [
          {
           "hovertemplate": "Income Level=Lower middle income<br>Year_str=2009<br>Performance (HEP)=%{x}<br>Efficiency (HEE)=%{y}<br>ISO3=%{text}<extra></extra>",
           "legendgroup": "Lower middle income",
           "marker": {
            "color": "#636efa",
            "symbol": "circle"
           },
           "mode": "markers+text",
           "name": "Lower middle income",
           "orientation": "v",
           "showlegend": true,
           "text": [
            "JOR",
            "NIC",
            "BGD",
            "PAK",
            "IND",
            "TUN",
            "MMR",
            "EGY",
            "TJK",
            "NGA",
            "UZB",
            "VNM",
            "PHL",
            "LBN",
            "KEN",
            "KGZ",
            "MAR"
           ],
           "type": "scatter",
           "x": {
            "bdata": "mBeKmZyM5D9f9y4LoDTiP1FX1xaqe9o/TNpvL62Y0D+/YQ9W3YfXP3Wut3Gve+I/RP77kIsr1z9uCVAZ4sDgP55klKTvAuQ/I8nZsv5MyD+e2ePfYRvlPwTrkE7Mw+Y/5NMFUeVL4j+eZRuRbnvlP+zny+shpts/xxQ36Deq4z/UhciXlmjcPw==",
            "dtype": "f8"
           },
           "xaxis": "x",
           "y": {
            "bdata": "BdaU7Wfi0T+oulGnCzLUP6Hbz/jkJuA/XKzi2Mff0T9cF5jpJEPRP4Btu2tyH84/uQ2G62nf5D8gJLEI8SvVP1/L8FJ0w9Q/jZMzNLi/0T8eJP9W2lPTP8ENDILyGtg/GySPcPeg3D/4cVTJc/3bP4LQqXl6Y84/vkO2oxkRzj8vPA/ZHy7MPw==",
            "dtype": "f8"
           },
           "yaxis": "y"
          },
          {
           "hovertemplate": "Income Level=High income<br>Year_str=2009<br>Performance (HEP)=%{x}<br>Efficiency (HEE)=%{y}<br>ISO3=%{text}<extra></extra>",
           "legendgroup": "High income",
           "marker": {
            "color": "#EF553B",
            "symbol": "circle"
           },
           "mode": "markers+text",
           "name": "High income",
           "orientation": "v",
           "showlegend": true,
           "text": [
            "CYP",
            "SVK",
            "USA",
            "IRL",
            "RUS",
            "CAN",
            "CHL",
            "JPN",
            "NLD",
            "SGP",
            "KOR",
            "NZL",
            "URY",
            "GBR",
            "CZE",
            "AUS",
            "ROU",
            "DEU",
            "GRC"
           ],
           "type": "scatter",
           "x": {
            "bdata": "B6dq3fCD6T/kINYtc/LpP9pfFXQAfus/zNStQkIt6z8k9QrelvXnP47zYySsYu0/iIwmTfzd5z8F1WvyT3vtP/460Pv+Luw/F4t1YOpR7D8sTAMDwBvsP0fTwiqrJu0/lmbZRmLU5T/7ndqIUirsPzslN85z5Oo/ZHyQvVtm7D/S6r0623LmP3DOPPqj++w/MBzUZqij6T8=",
            "dtype": "f8"
           },
           "xaxis": "x",
           "y": {
            "bdata": "YufXiglP0j+iXxtTrzvXP14pDPLIK8o/KVevSwoq0T/dQU2aZCHYP94Cf5ZheNQ/H37pe2fY1T8jElotfNfZP6VquOnFZtM/tYKsMSM+5j8Nit/yWsPdP1Y3vyt9r9I/4tQoto1v1j+NqUyKYS3UP0O1UUX369g/YO7xR3ZI1T8WFD8W4sLYP/QRmcPcdtQ/bizm8DOR1D8=",
            "dtype": "f8"
           },
           "yaxis": "y"
          },
          {
           "hovertemplate": "Income Level=Upper middle income<br>Year_str=2009<br>Performance (HEP)=%{x}<br>Efficiency (HEE)=%{y}<br>ISO3=%{text}<extra></extra>",
           "legendgroup": "Upper middle income",
           "marker": {
            "color": "#00cc96",
            "symbol": "circle"
           },
           "mode": "markers+text",
           "name": "Upper middle income",
           "orientation": "v",
           "showlegend": true,
           "text": [
            "PER",
            "IRN",
            "CHN",
            "GTM",
            "THA",
            "TUR",
            "ECU",
            "MNG",
            "KAZ",
            "IDN",
            "MYS",
            "ARG",
            "ARM",
            "MEX",
            "BRA",
            "SRB",
            "UKR"
           ],
           "type": "scatter",
           "x": {
            "bdata": "vrl1Ldxv4j9FzdZCNJPlP786JwOlx+Q/7OXBS/z/2z/x9DVa2W/kP4ySubTinuQ/lNSBSbF84j/5nj9xZLPjP9eH43zn6+M/i6U0lSWN4D9yj5N0NCTmP1UpjEstwOU/bMJo608q5j9ICmYgsjvkP3vO4eTAxeI/XCL4JWMx5z9kiTwZpWznPw==",
            "dtype": "f8"
           },
           "xaxis": "x",
           "y": {
            "bdata": "SQLf5sTD1z9oBW/JhKXWP4U1RBoQ4tk/fhMnUSRBzz83RGK/mezaP6s6HU/9Ddc/iSgaVOX10T9WBgfFyQvUP34W6XvXsN4/gRcbxsDi2T+n9wkGN1rWP3SNgXyVk84/qPhyQZOF0z+KZtLl7PLSP4cwzov9NMw/ZV7UVzUL0j/yUdubtebQPw==",
            "dtype": "f8"
           },
           "yaxis": "y"
          },
          {
           "hovertemplate": "Income Level=Low income<br>Year_str=2009<br>Performance (HEP)=%{x}<br>Efficiency (HEE)=%{y}<br>ISO3=%{text}<extra></extra>",
           "legendgroup": "Low income",
           "marker": {
            "color": "#ab63fa",
            "symbol": "circle"
           },
           "mode": "markers+text",
           "name": "Low income",
           "orientation": "v",
           "showlegend": true,
           "text": [
            "ETH"
           ],
           "type": "scatter",
           "x": {
            "bdata": "UyBSQSAgzT8=",
            "dtype": "f8"
           },
           "xaxis": "x",
           "y": {
            "bdata": "VAmFaQMGwD8=",
            "dtype": "f8"
           },
           "yaxis": "y"
          }
         ],
         "name": "2009"
        },
        {
         "data": [
          {
           "hovertemplate": "Income Level=Lower middle income<br>Year_str=2010<br>Performance (HEP)=%{x}<br>Efficiency (HEE)=%{y}<br>ISO3=%{text}<extra></extra>",
           "legendgroup": "Lower middle income",
           "marker": {
            "color": "#636efa",
            "symbol": "circle"
           },
           "mode": "markers+text",
           "name": "Lower middle income",
           "orientation": "v",
           "showlegend": true,
           "text": [
            "MMR",
            "JOR",
            "NIC",
            "TJK",
            "VNM",
            "BGD",
            "PAK",
            "TUN",
            "IND",
            "NGA",
            "EGY",
            "LBN",
            "KGZ",
            "KEN",
            "MAR",
            "PHL",
            "UZB"
           ],
           "type": "scatter",
           "x": {
            "bdata": "c54UbbDT1z/U/UmgeaPkPz6WEGyVbeI/8jototMx5D8EJCo3Vt3mP6G7O5Z4Cts/tcGrHdQZ0T+4tWvfnKHiP6V7LaGhMtg/xjv7JyQRyT/P6npKqAfhP0xgFfVYsuU/poKcZ3zp4z+luNgUSE7bP/Ub9qQA7tw/TD6pYR5w4j8wTOqHz3HlPw==",
            "dtype": "f8"
           },
           "xaxis": "x",
           "y": {
            "bdata": "zFxe7GPe5j9SoxWOQ1vTPyC+bOSk288/fJ/ecOdp1T/jzPE6sIbZPymCtQTTKuA/UM1MnARL0z+AfJzFsr/PPyvncbMk3dE/Hc4kMFeV0z8t7iWqVlvWP2hm6sb4uNs/kw2jdDCTzz+X4MGIXuXKP1XE+vkdYMw/ZGdGdCD43D84Y54WgfPSPw==",
            "dtype": "f8"
           },
           "yaxis": "y"
          },
          {
           "hovertemplate": "Income Level=High income<br>Year_str=2010<br>Performance (HEP)=%{x}<br>Efficiency (HEE)=%{y}<br>ISO3=%{text}<extra></extra>",
           "legendgroup": "High income",
           "marker": {
            "color": "#EF553B",
            "symbol": "circle"
           },
           "mode": "markers+text",
           "name": "High income",
           "orientation": "v",
           "showlegend": true,
           "text": [
            "IRL",
            "CZE",
            "CYP",
            "SVK",
            "USA",
            "GBR",
            "URY",
            "RUS",
            "CHL",
            "CAN",
            "SGP",
            "KOR",
            "NZL",
            "NLD",
            "JPN",
            "GRC",
            "ROU",
            "DEU",
            "AUS"
           ],
           "type": "scatter",
           "x": {
            "bdata": "iCm/xm5Z6z+bVvp+ignrP0kc9vrssOk/76y9O6El6j9A7ltG+JDrP+KgiwoGVew/0oQHneLZ5T9UKDezzQfoP80Z8dST1uc/CU9Rjlx47T9Q2TEGqajsP8MiFDEcoew/ypdvkvwz7T/0zf3V8j/sP6iBWMGQfe0/tttgJWW36T8Ejl5LsIzmP+2TdTAdB+0/xArXj1N57D8=",
            "dtype": "f8"
           },
           "xaxis": "x",
           "y": {
            "bdata": "x+4a1ERq0T90h5iw5tLYP0jU5sfLkdM/GqCd10nI1z9301/FG1DKP/zH4NC0R9M/xwkL6yaH1j8J1AOYftTbPxkr+IsXsNY/zcqYtwao0z+5MbE7pL/mP79HV+ylkN8/MF61P2aq0j/NiB4Bdy/TP86hQZPYi9k/n8Q2Nz5d1D+VPyRcVyDaP5ZDzImXYNM/h+0QndcW1D8=",
            "dtype": "f8"
           },
           "yaxis": "y"
          },
          {
           "hovertemplate": "Income Level=Upper middle income<br>Year_str=2010<br>Performance (HEP)=%{x}<br>Efficiency (HEE)=%{y}<br>ISO3=%{text}<extra></extra>",
           "legendgroup": "Upper middle income",
           "marker": {
            "color": "#00cc96",
            "symbol": "circle"
           },
           "mode": "markers+text",
           "name": "Upper middle income",
           "orientation": "v",
           "showlegend": true,
           "text": [
            "PER",
            "IDN",
            "IRN",
            "BRA",
            "MYS",
            "ARM",
            "ARG",
            "GTM",
            "THA",
            "TUR",
            "ECU",
            "CHN",
            "MNG",
            "KAZ",
            "UKR",
            "SRB",
            "MEX"
           ],
           "type": "scatter",
           "x": {
            "bdata": "l9s6qL/04j80IVX0E7rgPyGxSFI40+U/jnZGigD44j/Q92b7b0DmP+IfBnEqTOY/97KvEgDY5T8YkJEAaYPcP21bsJrKpOQ/gl2i5hUX5T88TySDBq3iP9HDLu6EAeU/LwQCJ0cF5D++vz2ZhVjkP5s1jpiNtec/5qzOtfJR5z/ISHr/vDjkPw==",
            "dtype": "f8"
           },
           "xaxis": "x",
           "y": {
            "bdata": "8UPxAZg62j/tIazzupvdP8IE9VQ2+NY/0zGBJ+3FzD/ZKQcilObZP71sg3ie0tM/kJfNgroS0D/uyOzbaCbRP+KOFVHUl90/+ZxdpraG2D9gpmFrYozRPwdwDXWXSNs/FazPL9cm1z+aQks/jgTfP+niSMesadA/UjzAG9j90j+oYpp6pXrTPw==",
            "dtype": "f8"
           },
           "yaxis": "y"
          },
          {
           "hovertemplate": "Income Level=Low income<br>Year_str=2010<br>Performance (HEP)=%{x}<br>Efficiency (HEE)=%{y}<br>ISO3=%{text}<extra></extra>",
           "legendgroup": "Low income",
           "marker": {
            "color": "#ab63fa",
            "symbol": "circle"
           },
           "mode": "markers+text",
           "name": "Low income",
           "orientation": "v",
           "showlegend": true,
           "text": [
            "ETH"
           ],
           "type": "scatter",
           "x": {
            "bdata": "CBRZiDjxzj8=",
            "dtype": "f8"
           },
           "xaxis": "x",
           "y": {
            "bdata": "uYcfESuBvz8=",
            "dtype": "f8"
           },
           "yaxis": "y"
          }
         ],
         "name": "2010"
        },
        {
         "data": [
          {
           "hovertemplate": "Income Level=Lower middle income<br>Year_str=2011<br>Performance (HEP)=%{x}<br>Efficiency (HEE)=%{y}<br>ISO3=%{text}<extra></extra>",
           "legendgroup": "Lower middle income",
           "marker": {
            "color": "#636efa",
            "symbol": "circle"
           },
           "mode": "markers+text",
           "name": "Lower middle income",
           "orientation": "v",
           "showlegend": true,
           "text": [
            "BGD",
            "TJK",
            "UZB",
            "MAR",
            "KEN",
            "MMR",
            "JOR",
            "EGY",
            "PHL",
            "TUN",
            "PAK",
            "IND",
            "NGA",
            "LBN",
            "KGZ",
            "VNM",
            "NIC"
           ],
           "type": "scatter",
           "x": {
            "bdata": "4fLiRiea2z8c5mn/12nkP/jSDutqw+U/S6jDUL2n3T/lsxnJstDbP72xWbc7l9g/MeSxXc/L5D+8W+o7ykvhP5j8T6gCj+I/ZrxsR+PC4j8O7f/8G6rRP73K0WUGC9k//1oSacSlyT934y/DbuPlP4sXT39+LuQ/ejD0K5r15j9jWETJH63iPw==",
            "dtype": "f8"
           },
           "xaxis": "x",
           "y": {
            "bdata": "bClq1HDQ3j/XLvgDsZ/VPy/AhExHSNM/NHnbPS0yzT8aX8BnwTLMPyydr+hbu+c/w6Oh6EOJ0z+goBDqWfXWP237WsiCi90/X+t5MXrozj/iFu49h/fUP69jdKHTWdE/bSPxFhhq0z/0qteacOPZP5CpGUeF+cw/zIPVN6HW2j+JR6VwH2/QPw==",
            "dtype": "f8"
           },
           "yaxis": "y"
          },
          {
           "hovertemplate": "Income Level=High income<br>Year_str=2011<br>Performance (HEP)=%{x}<br>Efficiency (HEE)=%{y}<br>ISO3=%{text}<extra></extra>",
           "legendgroup": "High income",
           "marker": {
            "color": "#EF553B",
            "symbol": "circle"
           },
           "mode": "markers+text",
           "name": "High income",
           "orientation": "v",
           "showlegend": true,
           "text": [
            "GBR",
            "URY",
            "CYP",
            "SVK",
            "CZE",
            "KOR",
            "CHL",
            "ROU",
            "DEU",
            "RUS",
            "USA",
            "NLD",
            "SGP",
            "CAN",
            "JPN",
            "AUS",
            "IRL",
            "NZL",
            "GRC"
           ],
           "type": "scatter",
           "x": {
            "bdata": "LWeQZANy7D9vLvBidOnlP9n8ETHO1+k/A2hxqg186j9gaK4+CjHrP8pzr8VMy+w/p0F4tuWu5z9GWoScRuDmP7alKfCcLu0/dd4eEz476D/wDBhslaDrPy1Hh9lmWuw/64erkFS97D+RpJVt94rtP2yfRDYwdO0/MmNasvSW7D8KMUP6nADrP+CsoqIfRu0/2NDJFKfX6T8=",
            "dtype": "f8"
           },
           "xaxis": "x",
           "y": {
            "bdata": "IcIeP76O0z9CUqquGlzTPxxykeLRxtM/DXqKeaQp2T9dXNGm6WzYP0jADWMDe98/GK7PWuDq1j/7pLorvR3gP8qUEloS/9M/m1RT1Y8W3T8b8wR4wbzKP4/Y6KSHN9M/XLVksFMq5z8A7NVTZCzUP1t8YSocP9c/CKykt8NL1D+8rV7pBXDRPy1ohjUn2dI/lde4MEk71D8=",
            "dtype": "f8"
           },
           "yaxis": "y"
          },
          {
           "hovertemplate": "Income Level=Upper middle income<br>Year_str=2011<br>Performance (HEP)=%{x}<br>Efficiency (HEE)=%{y}<br>ISO3=%{text}<extra></extra>",
           "legendgroup": "Upper middle income",
           "marker": {
            "color": "#00cc96",
            "symbol": "circle"
           },
           "mode": "markers+text",
           "name": "Upper middle income",
           "orientation": "v",
           "showlegend": true,
           "text": [
            "BRA",
            "CHN",
            "MEX",
            "KAZ",
            "MNG",
            "ECU",
            "THA",
            "SRB",
            "UKR",
            "MYS",
            "IDN",
            "IRN",
            "ARG",
            "ARM",
            "PER",
            "TUR",
            "GTM"
           ],
           "type": "scatter",
           "x": {
            "bdata": "s2BT230q4z8KafxBODLlP+ORyQD0dOQ/FfhSZhjI5D9xSx7VqlXkP7gSqmAqxeI/unl2amTP5D8k3NeaKIHnP+imYx4K1Oc/5M9/RmpY5j9GYlgtDu7gP1oli+bpBOY/F8O0crcJ5j96jRQZyovmPyx4Uib6HOM/W5z709xN5T8+Lsgirx/dPw==",
            "dtype": "f8"
           },
           "xaxis": "x",
           "y": {
            "bdata": "2K+YCaMazT/CKMbGEjDaPz9gCIUQEtQ/KXqBU2kE4D+Yi/FsvvjXP9xdxFw6CNE/mtiYIi3k1z/Xux8LpADTP45Y80e61NI/REE3Ya4Q1z9uftsdfgHbPzzoDVUpRNg/vVITzYK0zz/DSS4z0BPUP3+QhYsc9ts/Wj3rmGIW2D8VmorXYHnRPw==",
            "dtype": "f8"
           },
           "yaxis": "y"
          },
          {
           "hovertemplate": "Income Level=Low income<br>Year_str=2011<br>Performance (HEP)=%{x}<br>Efficiency (HEE)=%{y}<br>ISO3=%{text}<extra></extra>",
           "legendgroup": "Low income",
           "marker": {
            "color": "#ab63fa",
            "symbol": "circle"
           },
           "mode": "markers+text",
           "name": "Low income",
           "orientation": "v",
           "showlegend": true,
           "text": [
            "ETH"
           ],
           "type": "scatter",
           "x": {
            "bdata": "W+WFhAlR0D8=",
            "dtype": "f8"
           },
           "xaxis": "x",
           "y": {
            "bdata": "SKLoyxvTvz8=",
            "dtype": "f8"
           },
           "yaxis": "y"
          }
         ],
         "name": "2011"
        },
        {
         "data": [
          {
           "hovertemplate": "Income Level=Lower middle income<br>Year_str=2012<br>Performance (HEP)=%{x}<br>Efficiency (HEE)=%{y}<br>ISO3=%{text}<extra></extra>",
           "legendgroup": "Lower middle income",
           "marker": {
            "color": "#636efa",
            "symbol": "circle"
           },
           "mode": "markers+text",
           "name": "Lower middle income",
           "orientation": "v",
           "showlegend": true,
           "text": [
            "EGY",
            "KEN",
            "JOR",
            "UZB",
            "NGA",
            "PAK",
            "NIC",
            "TUN",
            "MMR",
            "IND",
            "PHL",
            "LBN",
            "VNM",
            "KGZ",
            "TJK",
            "MAR",
            "BGD"
           ],
           "type": "scatter",
           "x": {
            "bdata": "f5Ft+AqS4T+7dq5MJTHcP1NhJmuR9eQ/Ym78CboO5j+sAh/rbT/KP4UFD3jDLNI/c4UenKHx4j/sKgDUZ8HiPyC2akkXXNk/dxkLZRC22T85Bjjsz6fiP/5HnbvnEOY/xOJ+WNEI5z9G2Cj/PnDkP2p1KSMboeQ/VUSK88hZ3j82wBUHoifcPw==",
            "dtype": "f8"
           },
           "xaxis": "x",
           "y": {
            "bdata": "95vnbA791j/Bj48WhS7MPx+32eJULtQ/l+d29cS+0j/KYj87bMzTP7zK+npvwNU/Je3jmxCg0D+J7t0VIpvOP5GEnFaH498/pmCaEIXV0D/7TKd3QiXdP9S+bImRGNs/VYp6AS+k2D+6zmjZJe/JP9BkrMJgZ9U/5kOFQvhtyz9RWy+RMSDgPw==",
            "dtype": "f8"
           },
           "yaxis": "y"
          },
          {
           "hovertemplate": "Income Level=High income<br>Year_str=2012<br>Performance (HEP)=%{x}<br>Efficiency (HEE)=%{y}<br>ISO3=%{text}<extra></extra>",
           "legendgroup": "High income",
           "marker": {
            "color": "#EF553B",
            "symbol": "circle"
           },
           "mode": "markers+text",
           "name": "High income",
           "orientation": "v",
           "showlegend": true,
           "text": [
            "SVK",
            "USA",
            "KOR",
            "CZE",
            "SGP",
            "CAN",
            "IRL",
            "ROU",
            "CHL",
            "DEU",
            "RUS",
            "NZL",
            "NLD",
            "JPN",
            "GRC",
            "AUS",
            "GBR",
            "CYP",
            "URY"
           ],
           "type": "scatter",
           "x": {
            "bdata": "NKdXyExz6j+vRt9oma7rPyR4h/KK6uw/BTIzoBxE6z+988X6Rs7sPzB1SI10nO0/uhLlprAT6z91TWgcI/vmP+yf6BTv1+c/AMnMHTY87T+jDu96z1XoPzZp8LZsVO0/NP50wKpg7D9vWqGLNZTtP7Bfrmfl4ek/VXcFwkzA7D/Eg5K+v4vsP/S9qEyoDeo/zOveBucA5j8=",
            "dtype": "f8"
           },
           "xaxis": "x",
           "y": {
            "bdata": "uaKN9BbO2D/qWXXmrzTLP3Cl1wzxd98/NRBraRhy2D9xL6Bv0I3mPyNefsnHEtU/lXMpASiN0T/+c6q+ymLgP/V6Ju9rsdY/yvVS68sL1D+8IAtJg37cPz/s87oSytI/akbv0REC0z/UrrvcQ4DXPz3tPUPPeNQ/PydLcaUS1T+ekDzDt4PTP6rTrMHUCtU/Fj+ITDxm0z8=",
            "dtype": "f8"
           },
           "yaxis": "y"
          },
          {
           "hovertemplate": "Income Level=Upper middle income<br>Year_str=2012<br>Performance (HEP)=%{x}<br>Efficiency (HEE)=%{y}<br>ISO3=%{text}<extra></extra>",
           "legendgroup": "Upper middle income",
           "marker": {
            "color": "#00cc96",
            "symbol": "circle"
           },
           "mode": "markers+text",
           "name": "Upper middle income",
           "orientation": "v",
           "showlegend": true,
           "text": [
            "THA",
            "IDN",
            "MYS",
            "PER",
            "UKR",
            "SRB",
            "GTM",
            "ARM",
            "ARG",
            "TUR",
            "IRN",
            "MEX",
            "CHN",
            "MNG",
            "KAZ",
            "BRA",
            "ECU"
           ],
           "type": "scatter",
           "x": {
            "bdata": "Mj4CD7z35D/09Hunvx/hPysv0P3DbeY/rIc8wcZp4z/lJkfOfujnP5TTsRs6l+c/BdwlH9Sz3T+T/1gPuLzmP580LgeJEuY/7uKB+uGd5T+5TrUtvzPmP7qPaQ5jseQ/Ezz6rNhn5T8hRCQlHpbkP0kxN6FGMuU/cPt2Z5Bm4z/nPIcfYQPjPw==",
            "dtype": "f8"
           },
           "xaxis": "x",
           "y": {
            "bdata": "kaVANJ8q3T9KLHXTJm/aP3WLSx1A9NY/O6WgHOGM2j+l0rPi9bHRP0QBEUTCkNM/KyQsHGeL0T+U6BCy0XvVP827NzLR484/9Bobjc5U2D9z2Kzio1zaP2SrhIc9KtQ/U9mh4Agi2D882SLfN9/TPyB/rzZTg90/mogoNsk6zT+v6n793RfRPw==",
            "dtype": "f8"
           },
           "yaxis": "y"
          },
          {
           "hovertemplate": "Income Level=Low income<br>Year_str=2012<br>Performance (HEP)=%{x}<br>Efficiency (HEE)=%{y}<br>ISO3=%{text}<extra></extra>",
           "legendgroup": "Low income",
           "marker": {
            "color": "#ab63fa",
            "symbol": "circle"
           },
           "mode": "markers+text",
           "name": "Low income",
           "orientation": "v",
           "showlegend": true,
           "text": [
            "ETH"
           ],
           "type": "scatter",
           "x": {
            "bdata": "6gS5TSMh0T8=",
            "dtype": "f8"
           },
           "xaxis": "x",
           "y": {
            "bdata": "Qq44csp0wD8=",
            "dtype": "f8"
           },
           "yaxis": "y"
          }
         ],
         "name": "2012"
        },
        {
         "data": [
          {
           "hovertemplate": "Income Level=Lower middle income<br>Year_str=2013<br>Performance (HEP)=%{x}<br>Efficiency (HEE)=%{y}<br>ISO3=%{text}<extra></extra>",
           "legendgroup": "Lower middle income",
           "marker": {
            "color": "#636efa",
            "symbol": "circle"
           },
           "mode": "markers+text",
           "name": "Lower middle income",
           "orientation": "v",
           "showlegend": true,
           "text": [
            "TJK",
            "JOR",
            "KEN",
            "VNM",
            "KGZ",
            "MAR",
            "BGD",
            "UZB",
            "LBN",
            "TUN",
            "PAK",
            "NGA",
            "PHL",
            "IND",
            "NIC",
            "EGY",
            "MMR"
           ],
           "type": "scatter",
           "x": {
            "bdata": "cAYKDNrS5D87ZoXqWSHlPyYj9AaYpNw/usG0xLoe5z/nTC3y5qTkPy8tOBEJC98/lIyiYZpN3D9VmAypb1TmP/AV56EDOOY/cLD7Ngra4j8DF9By7bLSP7VW7SPKqco/ckujC2q74j/4hk1fhVnaP4m/9PN7JuM/hnvl78rU4T9/+OmigRXaPw==",
            "dtype": "f8"
           },
           "xaxis": "x",
           "y": {
            "bdata": "jO89uijk0T/1kyE1sWbVP8zJqok5K80/F5zjgqOY2T+5IRH9HfbLP2l1UqeqVsw/KFm1WRjE4D/1va4a9FTTP4QYLbCiAdo/2aPeAtJTzj+ODqitWh3UP/qCEMJ979M/txf6VMHr3D+OuA8xgizRP/nUwBhSotA/ZVgVCLho1D+4KaXDKN7aPw==",
            "dtype": "f8"
           },
           "yaxis": "y"
          },
          {
           "hovertemplate": "Income Level=High income<br>Year_str=2013<br>Performance (HEP)=%{x}<br>Efficiency (HEE)=%{y}<br>ISO3=%{text}<extra></extra>",
           "legendgroup": "High income",
           "marker": {
            "color": "#EF553B",
            "symbol": "circle"
           },
           "mode": "markers+text",
           "name": "High income",
           "orientation": "v",
           "showlegend": true,
           "text": [
            "DEU",
            "NLD",
            "CYP",
            "CZE",
            "RUS",
            "JPN",
            "ROU",
            "USA",
            "SGP",
            "CHL",
            "NZL",
            "AUS",
            "SVK",
            "KOR",
            "URY",
            "GBR",
            "CAN",
            "GRC",
            "IRL"
           ],
           "type": "scatter",
           "x": {
            "bdata": "RSZJOnxA7T/HwwD1mnPsP3pcQLEwI+o/rP/NQIVY6z+Y+3eXAHnoP+o8Oyhbo+0/TuNI2EM15z8KpK6DVrrrP2I2ZifO8Ow/9+J3dLQR6D+360Dick7tP64VKc1Nm+w/mvvEq5eP6j8nySKHuxTtPyS8jkAVHOY/c4u87ttB7D+fU+2+VabtP/xTp3n5Euo/7n8GduYm6z8=",
            "dtype": "f8"
           },
           "xaxis": "x",
           "y": {
            "bdata": "uqyKD9Dj0z9gk/BIPtXSP8JHolhShNM/OrUp4bws2T9IIoxJnWXcP3JDcwKXkdc/gXoQND143T/U/vWw3m7LP1285YD4muY/rukQXUD/1D9NkY+1uhXUP0Bq0Xho89Q/y93lCDBk2D8tt1PsbErfP75ZXcK0H9M/axYMZ3dQ0z8ArymqrWvVP3PbevMHdNU/GzNliuyH0j8=",
            "dtype": "f8"
           },
           "yaxis": "y"
          },
          {
           "hovertemplate": "Income Level=Upper middle income<br>Year_str=2013<br>Performance (HEP)=%{x}<br>Efficiency (HEE)=%{y}<br>ISO3=%{text}<extra></extra>",
           "legendgroup": "Upper middle income",
           "marker": {
            "color": "#00cc96",
            "symbol": "circle"
           },
           "mode": "markers+text",
           "name": "Upper middle income",
           "orientation": "v",
           "showlegend": true,
           "text": [
            "SRB",
            "UKR",
            "ECU",
            "CHN",
            "MNG",
            "THA",
            "KAZ",
            "BRA",
            "MEX",
            "ARG",
            "IRN",
            "MYS",
            "ARM",
            "PER",
            "IDN",
            "GTM",
            "TUR"
           ],
           "type": "scatter",
           "x": {
            "bdata": "lCv75dCt5z8+mIpTE/vnP8ZJZTGUQeM/vg/9E/KV5T/9PuQJcdvkPzt88opqIuU/JGoWP6qZ5T9lmAlmWInjP1JX8n0EruQ/tec5rb0u5j+HbPtRu2vmP9t2YubLeuY/2r5OSHL25j+b532ndZ3jPwgt5bu+T+E/HsZG+NkP3j9lpS2tLuXlPw==",
            "dtype": "f8"
           },
           "xaxis": "x",
           "y": {
            "bdata": "m0EZMrOo0z+Ql6u83vfRPwd4R8vZ6dA/2a11y4mV2D+i/PQ2P5rVP3mkdtLIgdw/yKpcZpoR4T9/KZECnhDNP9nGSwPg1tQ/+eZ2nqvhzj+GVcKvc4LcP+v0APtjq9c/zLUHun0z1D8GRylC5kPZP0sb0iriHts/Ux+RR9GX0j+lwWlJB/TYPw==",
            "dtype": "f8"
           },
           "yaxis": "y"
          },
          {
           "hovertemplate": "Income Level=Low income<br>Year_str=2013<br>Performance (HEP)=%{x}<br>Efficiency (HEE)=%{y}<br>ISO3=%{text}<extra></extra>",
           "legendgroup": "Low income",
           "marker": {
            "color": "#ab63fa",
            "symbol": "circle"
           },
           "mode": "markers+text",
           "name": "Low income",
           "orientation": "v",
           "showlegend": true,
           "text": [
            "ETH"
           ],
           "type": "scatter",
           "x": {
            "bdata": "z0Bu9gHj0T8=",
            "dtype": "f8"
           },
           "xaxis": "x",
           "y": {
            "bdata": "fq9idmqWwz8=",
            "dtype": "f8"
           },
           "yaxis": "y"
          }
         ],
         "name": "2013"
        },
        {
         "data": [
          {
           "hovertemplate": "Income Level=Lower middle income<br>Year_str=2014<br>Performance (HEP)=%{x}<br>Efficiency (HEE)=%{y}<br>ISO3=%{text}<extra></extra>",
           "legendgroup": "Lower middle income",
           "marker": {
            "color": "#636efa",
            "symbol": "circle"
           },
           "mode": "markers+text",
           "name": "Lower middle income",
           "orientation": "v",
           "showlegend": true,
           "text": [
            "EGY",
            "MMR",
            "JOR",
            "BGD",
            "UZB",
            "TJK",
            "KEN",
            "MAR",
            "TUN",
            "PAK",
            "PHL",
            "IND",
            "NIC",
            "NGA",
            "LBN",
            "KGZ",
            "VNM"
           ],
           "type": "scatter",
           "x": {
            "bdata": "0WbaE3gb4j+IlnoA1MvaP8svD/cxVOU/Gny4B/Ho3D+WahafiZPmP1akTQR78uQ/Hp8jnckw3T8YrOhEILjfP1xjuQWX9OI/uUVePldf0z+rEj5bVpjiP+dOwo4S/to/EwqTpwdg4z9aUEnNMoDLPyyKTZHLXeY/njqZymjX5D8I3cRL+DTnPw==",
            "dtype": "f8"
           },
           "xaxis": "x",
           "y": {
            "bdata": "izvH7Bcs1D8PQf17bZ3WP/j/lN1Uh9U/JPXvXbiJ4D8VtLdSWH7VP5m2d1w9S9E/ZUbVj3w5zj994u05qNnMP7QFTVIsns4/BP8dIJXD1D8yDnLDYhHeP0wqiHayrNE/Tu0Ftfcq0T8z7KFt7GzVP11OkMgZIdk/HzY40tFbzj980RI6eeDcPw==",
            "dtype": "f8"
           },
           "yaxis": "y"
          },
          {
           "hovertemplate": "Income Level=High income<br>Year_str=2014<br>Performance (HEP)=%{x}<br>Efficiency (HEE)=%{y}<br>ISO3=%{text}<extra></extra>",
           "legendgroup": "High income",
           "marker": {
            "color": "#EF553B",
            "symbol": "circle"
           },
           "mode": "markers+text",
           "name": "High income",
           "orientation": "v",
           "showlegend": true,
           "text": [
            "URY",
            "DEU",
            "JPN",
            "NLD",
            "RUS",
            "USA",
            "SGP",
            "NZL",
            "CYP",
            "CZE",
            "KOR",
            "SVK",
            "ROU",
            "GRC",
            "CAN",
            "IRL",
            "CHL",
            "AUS",
            "GBR"
           ],
           "type": "scatter",
           "x": {
            "bdata": "jVBfBhs+5j80u3HsHmbtPz/qPSK/te0/kyp8aPqO7D9y/P7Vo4voP8cTjC4oxes/DBdQMZwJ7T9F4qgrc0vtP5vj5RNvJuo/tspfn2yC6z8pGr4b7D7tP2SUXaCip+o/y5AeFi0g5z/iOlHN4SXqP/U4Na4UsO0/JVU7mT9I6z+X1VcPwTDoP2d74zy0vew/zdswpQRe7D8=",
            "dtype": "f8"
           },
           "xaxis": "x",
           "y": {
            "bdata": "ZaSdMX890z/rN2nVN/zTP5tC+WbNh9c/96dCMmEG0z/K2OC3FELbP1AflGaRa8s/jU1h0RTh5T/OTMLH8irUPwXOSsAIm9M/8CCN62xg2T/riTWZsvfeP3YkIZJlK9k/AtsViqKu3T8rZ4V9NLfWP6DOSWW4J9U/+iIvBw5N1D9av9whSijUPxtwJPjW9NM/h+3a/g1Y0z8=",
            "dtype": "f8"
           },
           "yaxis": "y"
          },
          {
           "hovertemplate": "Income Level=Upper middle income<br>Year_str=2014<br>Performance (HEP)=%{x}<br>Efficiency (HEE)=%{y}<br>ISO3=%{text}<extra></extra>",
           "legendgroup": "Upper middle income",
           "marker": {
            "color": "#00cc96",
            "symbol": "circle"
           },
           "mode": "markers+text",
           "name": "Upper middle income",
           "orientation": "v",
           "showlegend": true,
           "text": [
            "SRB",
            "UKR",
            "CHN",
            "KAZ",
            "ECU",
            "BRA",
            "MEX",
            "ARG",
            "MNG",
            "PER",
            "IRN",
            "GTM",
            "THA",
            "TUR",
            "MYS",
            "IDN",
            "ARM"
           ],
           "type": "scatter",
           "x": {
            "bdata": "xHW8o/bT5z9TiS4/pQroP4/y4ZuXxOU/TEqIUNzz5T8TE97lkmrjP1Foy/0JrOM/pDQwPXPF5D92KhcAtlTmP6MJ+/NyGOU/nd5iSx/K4z+YC5noEJXmP4x7nXtQbt8/SlvLyFBS5T/ZbhTKxh7mP2dGcUr7g+Y/uEdh/QN/4T+7Y5pebCLnPw==",
            "dtype": "f8"
           },
           "xaxis": "x",
           "y": {
            "bdata": "AC3h/1/e0z+wZmTqvqzSP4YyUDylvNg/7zGdBbPA4D9SOAPIOpHQP6bZGWz5Scw/OFHjzqPn0z8/wSVusXrPP076dzpcI9U/tDQLKQmD1z+vYKvmc4TbP9PfCZur8dI/HAsCL62l2z8StTpBDRPZP7d4ERkSwNg/mNfWUu522z9ACKX+ToHVPw==",
            "dtype": "f8"
           },
           "yaxis": "y"
          },
          {
           "hovertemplate": "Income Level=Low income<br>Year_str=2014<br>Performance (HEP)=%{x}<br>Efficiency (HEE)=%{y}<br>ISO3=%{text}<extra></extra>",
           "legendgroup": "Low income",
           "marker": {
            "color": "#ab63fa",
            "symbol": "circle"
           },
           "mode": "markers+text",
           "name": "Low income",
           "orientation": "v",
           "showlegend": true,
           "text": [
            "ETH"
           ],
           "type": "scatter",
           "x": {
            "bdata": "dHBsMomh0j8=",
            "dtype": "f8"
           },
           "xaxis": "x",
           "y": {
            "bdata": "OyTI31uQxD8=",
            "dtype": "f8"
           },
           "yaxis": "y"
          }
         ],
         "name": "2014"
        },
        {
         "data": [
          {
           "hovertemplate": "Income Level=Lower middle income<br>Year_str=2015<br>Performance (HEP)=%{x}<br>Efficiency (HEE)=%{y}<br>ISO3=%{text}<extra></extra>",
           "legendgroup": "Lower middle income",
           "marker": {
            "color": "#636efa",
            "symbol": "circle"
           },
           "mode": "markers+text",
           "name": "Lower middle income",
           "orientation": "v",
           "showlegend": true,
           "text": [
            "PAK",
            "MAR",
            "KEN",
            "TJK",
            "NIC",
            "NGA",
            "PHL",
            "IND",
            "TUN",
            "EGY",
            "MMR",
            "JOR",
            "LBN",
            "KGZ",
            "VNM",
            "UZB",
            "BGD"
           ],
           "type": "scatter",
           "x": {
            "bdata": "ujvAD/jJ0z+Iw44MgSzgP/XNo2ukyN0/0cma5JkF5T+ZJhvJPZLjP2TOtPqlPcw/VWKLFVZ74j+INTaKDprbP86795kZDuM/Tlm2kyJf4j826dEUxHTbPy/r15MnjuU/bEpel02C5j92Ae72bwrlP3QW9dptS+c/eS8fQ1zI5j97kdFbh17ePw==",
            "dtype": "f8"
           },
           "xaxis": "x",
           "y": {
            "bdata": "9VpsecA41D8TMQePR1jPPx0L6HwFT84/07l6pWs60j/9+MhOL17RP/ispCb3EdU/PBwXiZpA3D+tyPf/2oHRP02XPjXca84/Ar5APpbb1D+wqjygf2/TP97CUzK3VNU/zGlzGCqH2T8D3BlGn6zNP9erhWrQe90/+3b8+SDA1T848auJYZTiPw==",
            "dtype": "f8"
           },
           "yaxis": "y"
          },
          {
           "hovertemplate": "Income Level=High income<br>Year_str=2015<br>Performance (HEP)=%{x}<br>Efficiency (HEE)=%{y}<br>ISO3=%{text}<extra></extra>",
           "legendgroup": "High income",
           "marker": {
            "color": "#EF553B",
            "symbol": "circle"
           },
           "mode": "markers+text",
           "name": "High income",
           "orientation": "v",
           "showlegend": true,
           "text": [
            "AUS",
            "CHL",
            "SVK",
            "KOR",
            "CZE",
            "IRL",
            "RUS",
            "ROU",
            "GRC",
            "SGP",
            "NZL",
            "JPN",
            "NLD",
            "DEU",
            "USA",
            "CAN",
            "GBR",
            "CYP",
            "URY"
           ],
           "type": "scatter",
           "x": {
            "bdata": "D0l+3RzS7D+w5pxiH1noP7PZWQ0ivOo/O3Tx09Fe7T924O02lnfrP/I+z5+XW+s/z6vj956x6D9oTf4MYkDnP4Z8nOsqKeo/lR/hgjMv7T9EBWjsH07tPwN4Ne1pxe0/5lp6+ieM7D+sZEo981PtPzTHG8Wswes/qLuYz8i37T/JYPD7T1nsP+do83HJK+o/+ruQqEVV5j8=",
            "dtype": "f8"
           },
           "xaxis": "x",
           "y": {
            "bdata": "qMfY2L2Y0z9TrnZ9d1fTP2BGDx8UcNg/gDDS9zxN2z9fwfCNgmfVP3z9vbbNaNo/IE2K5lzU2z9OsvnoQzDeP0CcsJ7A39c/Ph1r/bRy5T8p9FKlN3vUP7347nt+ydc/YPLLSfJw0z9lgtDBNd/TPw2jDy2lNM0/dr/V1cTN1D8oqVNuQ3rTP9r0J9RX/9M/WMCrZ6Uo0z8=",
            "dtype": "f8"
           },
           "yaxis": "y"
          },
          {
           "hovertemplate": "Income Level=Upper middle income<br>Year_str=2015<br>Performance (HEP)=%{x}<br>Efficiency (HEE)=%{y}<br>ISO3=%{text}<extra></extra>",
           "legendgroup": "Upper middle income",
           "marker": {
            "color": "#00cc96",
            "symbol": "circle"
           },
           "mode": "markers+text",
           "name": "Upper middle income",
           "orientation": "v",
           "showlegend": true,
           "text": [
            "ARG",
            "BRA",
            "IRN",
            "PER",
            "IDN",
            "MNG",
            "TUR",
            "GTM",
            "ECU",
            "KAZ",
            "SRB",
            "UKR",
            "ARM",
            "THA",
            "CHN",
            "MYS",
            "MEX"
           ],
           "type": "scatter",
           "x": {
            "bdata": "J6Z+uxNx5j9a+r7owNbjPxqKeezhveY/oc0OctDg4z99V4HLarDhP+4USApVR+U/1BaYHttH5j/NRkcs/2veP6PFIAkYsOM/B1iBAf9E5j9++DBcsAfoP4FCaq9jNug/V1SdH14+5z8FhkmAJn7lP7qooPsI8eU/OY77h7WS5j8Y2rpXfe/kPw==",
            "dtype": "f8"
           },
           "xaxis": "x",
           "y": {
            "bdata": "O9j2bWKnzT9wezfJygvLP2ARQy8129g/MYBjJ+O61j/5lgHVdWTaP959VbISadg/YZuYgH0h2j+pVVKvIATSP43UU82Kz88/cBhvpf0m4T+y4zGhJ5/UP/bSlIFAYdI/cY07wBdl1D+SOMZ11qPbP2gpFoHPINg/37IrLDuy2T9hzARHr9fTPw==",
            "dtype": "f8"
           },
           "yaxis": "y"
          },
          {
           "hovertemplate": "Income Level=Low income<br>Year_str=2015<br>Performance (HEP)=%{x}<br>Efficiency (HEE)=%{y}<br>ISO3=%{text}<extra></extra>",
           "legendgroup": "Low income",
           "marker": {
            "color": "#ab63fa",
            "symbol": "circle"
           },
           "mode": "markers+text",
           "name": "Low income",
           "orientation": "v",
           "showlegend": true,
           "text": [
            "ETH"
           ],
           "type": "scatter",
           "x": {
            "bdata": "Efl+AAJV0z8=",
            "dtype": "f8"
           },
           "xaxis": "x",
           "y": {
            "bdata": "Vxz/z8izxD8=",
            "dtype": "f8"
           },
           "yaxis": "y"
          }
         ],
         "name": "2015"
        },
        {
         "data": [
          {
           "hovertemplate": "Income Level=Lower middle income<br>Year_str=2016<br>Performance (HEP)=%{x}<br>Efficiency (HEE)=%{y}<br>ISO3=%{text}<extra></extra>",
           "legendgroup": "Lower middle income",
           "marker": {
            "color": "#636efa",
            "symbol": "circle"
           },
           "mode": "markers+text",
           "name": "Lower middle income",
           "orientation": "v",
           "showlegend": true,
           "text": [
            "MAR",
            "PHL",
            "UZB",
            "JOR",
            "TUN",
            "IND",
            "EGY",
            "MMR",
            "NGA",
            "NIC",
            "KEN",
            "PAK",
            "TJK",
            "KGZ",
            "LBN",
            "VNM",
            "BGD"
           ],
           "type": "scatter",
           "x": {
            "bdata": "auASZ9dr4D/rOedUnlTiP1ADU/dgIec/tQFleu/H5T86UIPRACzjPyM67kHWNNw/oBCm3uuk4j+gl3VWlADcP1N+ic+lOs0/DZ26dqrJ4z8XXQ6DHELeP5CMprhtONQ/zohX0qwp5T8LlineREDlP/sn62COoeY/iED+7rJf5z8PxZoMTPvePw==",
            "dtype": "f8"
           },
           "xaxis": "x",
           "y": {
            "bdata": "Krhp9tYE0D8TKinHiJXZP5EmirJEU9Y/k1nzSNll1j/iHEyDvorOP8sgPwJnqdE/WvjKYn8k1T984kXBC/7UPwMR6+mP0tU/RST0S1pz0T+72UIhuvPPP2QbeclaQtQ/2k7zU/ro0D80xQhlUi7QPwdQ5hopm9k/TmU2tYDk3D9uLBnKks/gPw==",
            "dtype": "f8"
           },
           "yaxis": "y"
          },
          {
           "hovertemplate": "Income Level=High income<br>Year_str=2016<br>Performance (HEP)=%{x}<br>Efficiency (HEE)=%{y}<br>ISO3=%{text}<extra></extra>",
           "legendgroup": "High income",
           "marker": {
            "color": "#EF553B",
            "symbol": "circle"
           },
           "mode": "markers+text",
           "name": "High income",
           "orientation": "v",
           "showlegend": true,
           "text": [
            "IRL",
            "NZL",
            "RUS",
            "JPN",
            "KOR",
            "SVK",
            "CZE",
            "CAN",
            "NLD",
            "USA",
            "SGP",
            "GRC",
            "ROU",
            "DEU",
            "AUS",
            "CHL",
            "URY",
            "GBR",
            "CYP"
           ],
           "type": "scatter",
           "x": {
            "bdata": "9sZSgCR06z8EkKCWx2LtP0kZ8+T81ug/l7svvxrS7T8jl2AdcH7tP6IGT5BL6Oo/zg2bqFab6z9SUHGFncXtPwREu05alew//dd6du7J6z/xrrAMaDbtP5DwzmAT7uk/9Sqn84tt5z+4ISwpCG/tP3yLlR/q5uw/+U8WH1qF6D9qD9ldIGTmP3r9JPTKdOw/WnGDzsdS6j8=",
            "dtype": "f8"
           },
           "xaxis": "x",
           "y": {
            "bdata": "DCytS1sw2j+4uExqRfLUP+JTeh1mTNw/xx2/yrhc2D9W8jtfeHXbPzhlT7Qp9dk/edMMe7HZ1T9yJhcR9mDUPyeju5Okh9M/eYSywf0kzT+FJYHnmgblP2JpqRXcZ9Y/K4x9swJj3j9F52tvYOrTPxy1azdcy9M/NzZbSAtp0j9q5c0GmW3SP6JcSuvV1tM/QWeVzLqm1D8=",
            "dtype": "f8"
           },
           "yaxis": "y"
          },
          {
           "hovertemplate": "Income Level=Upper middle income<br>Year_str=2016<br>Performance (HEP)=%{x}<br>Efficiency (HEE)=%{y}<br>ISO3=%{text}<extra></extra>",
           "legendgroup": "Upper middle income",
           "marker": {
            "color": "#00cc96",
            "symbol": "circle"
           },
           "mode": "markers+text",
           "name": "Upper middle income",
           "orientation": "v",
           "showlegend": true,
           "text": [
            "GTM",
            "ARM",
            "CHN",
            "SRB",
            "THA",
            "UKR",
            "KAZ",
            "ECU",
            "MEX",
            "PER",
            "TUR",
            "IRN",
            "IDN",
            "ARG",
            "MYS",
            "MNG",
            "BRA"
           ],
           "type": "scatter",
           "x": {
            "bdata": "x45mJ9/q3j9wmiwZRF7nP2d9kfIfGuY/jGdhOHYz6D9y7KFHt6XlPxUI8TsEYug/4JcY5RR85j8LR13qFbDjP90irUIT9eQ/EVc8SMsU5D+ge9LmMG7mP7/MY4E84+Y/HS6NonTY4T/JK6ZfB17mP8wE9lnzpuY/W9CVb4tH5T85QzDTNOXjPw==",
            "dtype": "f8"
           },
           "xaxis": "x",
           "y": {
            "bdata": "tmM2XPBt0j/h11m/i9nUP/Md4mDJVdg/8G/60CHH1T+XXV25JgXcP343UE2oKtQ/ZluVtTLP3z/K/BFU7GLRP2pUsG4Uy9Q/mZ7muM5/1z+AN0eny8XYP/8J53bie9Y/QCKhzvQb5z9seqx8ILrOP4c5apNqdds/b8TP87BM1T8O6MJqNJfKPw==",
            "dtype": "f8"
           },
           "yaxis": "y"
          },
          {
           "hovertemplate": "Income Level=Low income<br>Year_str=2016<br>Performance (HEP)=%{x}<br>Efficiency (HEE)=%{y}<br>ISO3=%{text}<extra></extra>",
           "legendgroup": "Low income",
           "marker": {
            "color": "#ab63fa",
            "symbol": "circle"
           },
           "mode": "markers+text",
           "name": "Low income",
           "orientation": "v",
           "showlegend": true,
           "text": [
            "ETH"
           ],
           "type": "scatter",
           "x": {
            "bdata": "7vlzO8j50z8=",
            "dtype": "f8"
           },
           "xaxis": "x",
           "y": {
            "bdata": "/6zsnXgSxj8=",
            "dtype": "f8"
           },
           "yaxis": "y"
          }
         ],
         "name": "2016"
        },
        {
         "data": [
          {
           "hovertemplate": "Income Level=Lower middle income<br>Year_str=2017<br>Performance (HEP)=%{x}<br>Efficiency (HEE)=%{y}<br>ISO3=%{text}<extra></extra>",
           "legendgroup": "Lower middle income",
           "marker": {
            "color": "#636efa",
            "symbol": "circle"
           },
           "mode": "markers+text",
           "name": "Lower middle income",
           "orientation": "v",
           "showlegend": true,
           "text": [
            "NIC",
            "IND",
            "PHL",
            "BGD",
            "PAK",
            "NGA",
            "MAR",
            "EGY",
            "TUN",
            "JOR",
            "MMR",
            "KEN",
            "UZB",
            "VNM",
            "TJK",
            "KGZ",
            "LBN"
           ],
           "type": "scatter",
           "x": {
            "bdata": "YdcULAD74z8diMNQdu3cP1cUrb3DReI/R8iaaiWc3z/gkY7keqTUP8tO5G46nc0/A8t0n1R44D8uBB3tQqLhPwaja9InwOI/MhTa0iPS5T8gNDE0lwHdPxLMSHr3TuA/oiwvGnRH5z+VToPtzwfnP5GGMiDEVeU/+tXl7yVx5T+IkPl82gnmPw==",
            "dtype": "f8"
           },
           "xaxis": "x",
           "y": {
            "bdata": "MX3g3vTK0D9D0+8h+QfTP4fsvJ4o49Y/cl4kLXsd4z9wns37PG/VPyx2zEMDlNU/wPh8daDo0D/op5e+FIbTP7wiXevQ/M0/tlDifO3i1j+rp7qensvVP0EiRZDqdtM/ZBnoPNNO1z+7DzPXwVrcP8aso+refNE/UhJl8Lh60T+3nvc/KyrZPw==",
            "dtype": "f8"
           },
           "yaxis": "y"
          },
          {
           "hovertemplate": "Income Level=High income<br>Year_str=2017<br>Performance (HEP)=%{x}<br>Efficiency (HEE)=%{y}<br>ISO3=%{text}<extra></extra>",
           "legendgroup": "High income",
           "marker": {
            "color": "#EF553B",
            "symbol": "circle"
           },
           "mode": "markers+text",
           "name": "High income",
           "orientation": "v",
           "showlegend": true,
           "text": [
            "SVK",
            "JPN",
            "RUS",
            "NZL",
            "IRL",
            "AUS",
            "URY",
            "CAN",
            "USA",
            "NLD",
            "DEU",
            "ROU",
            "GRC",
            "SGP",
            "CZE",
            "KOR",
            "GBR",
            "CHL",
            "CYP"
           ],
           "type": "scatter",
           "x": {
            "bdata": "VJCnL5/Q6j96+k8gd1LuP4y4GLg5ouo/1rObkCam7D+S2gLqtlTsP3gMwr4QiOw/t5Nseken5j8OXwnHGIztPySK7FHlIuw/ZUUBMyl77D+Z1t4U+nDtP0LAZ0302Oc/T6QGEB+o6T+gYo/I3NDtP4IZ6As/EOw/FYrMvAa/7T/mSefGoYjsP18ZvJdzEOk/D46VJ6Op6z8=",
            "dtype": "f8"
           },
           "xaxis": "x",
           "y": {
            "bdata": "+brifdNw2j/EhjD9xtDYP/2/FzF9s9o/BMWT7wMq1T8n8bqlJbHcPwVi9fSSstM/pWJhBz9z0j/d46Rhex7UP+NuRTPc+cw/uJhHiArq0z9zUlI0ZcfTP8IIyW73Jt4/aU4xnMwO2D/KaGhwwPvlP+PlCi7v3to/M4BvHRtm2z9dt0lrRgjUP4q4+ZwlI9I/yBduo8Wo1j8=",
            "dtype": "f8"
           },
           "yaxis": "y"
          },
          {
           "hovertemplate": "Income Level=Upper middle income<br>Year_str=2017<br>Performance (HEP)=%{x}<br>Efficiency (HEE)=%{y}<br>ISO3=%{text}<extra></extra>",
           "legendgroup": "Upper middle income",
           "marker": {
            "color": "#00cc96",
            "symbol": "circle"
           },
           "mode": "markers+text",
           "name": "Upper middle income",
           "orientation": "v",
           "showlegend": true,
           "text": [
            "GTM",
            "IDN",
            "IRN",
            "PER",
            "TUR",
            "KAZ",
            "MEX",
            "ARM",
            "MYS",
            "THA",
            "CHN",
            "UKR",
            "SRB",
            "ECU",
            "ARG",
            "BRA",
            "MNG"
           ],
           "type": "scatter",
           "x": {
            "bdata": "7hAc5vjD4D+/xSf+7UXiP3vpZlMmguY/HJCIXG0D5T9mNBqjTlzmPwwgossfVeo/KIF4zH3y5D8pkSmVOiznP++N2Q6T8ec/CGV+6Ou+5T8USXhNSDfmP/sNlWdoheg/uHbf8DwS6j/idifvZijlPz1omR0w++Y/IOmgFIz14z+lSXq9fHvlPw==",
            "dtype": "f8"
           },
           "xaxis": "x",
           "y": {
            "bdata": "E2VsW5PZ0z95cASeuYzpPzeB9SjVoNU/1ks9P/xc2D9Dk2zZeAHaP6T/iHIhDeQ/k+Op35Pe1T+haBnBqDTUPxG4h86pst0/waOqCEbY3T/twFGz3JfYP2fXSmn6m9M/t5rltYip1z/wJNpJHkTSPzp2nmV6Lc8/8lsOAOU+yj/3TzcW1qTYPw==",
            "dtype": "f8"
           },
           "yaxis": "y"
          },
          {
           "hovertemplate": "Income Level=Low income<br>Year_str=2017<br>Performance (HEP)=%{x}<br>Efficiency (HEE)=%{y}<br>ISO3=%{text}<extra></extra>",
           "legendgroup": "Low income",
           "marker": {
            "color": "#ab63fa",
            "symbol": "circle"
           },
           "mode": "markers+text",
           "name": "Low income",
           "orientation": "v",
           "showlegend": true,
           "text": [
            "ETH"
           ],
           "type": "scatter",
           "x": {
            "bdata": "UmJy2TqE1D8=",
            "dtype": "f8"
           },
           "xaxis": "x",
           "y": {
            "bdata": "T52XOqeoxT8=",
            "dtype": "f8"
           },
           "yaxis": "y"
          }
         ],
         "name": "2017"
        },
        {
         "data": [
          {
           "hovertemplate": "Income Level=Lower middle income<br>Year_str=2018<br>Performance (HEP)=%{x}<br>Efficiency (HEE)=%{y}<br>ISO3=%{text}<extra></extra>",
           "legendgroup": "Lower middle income",
           "marker": {
            "color": "#636efa",
            "symbol": "circle"
           },
           "mode": "markers+text",
           "name": "Lower middle income",
           "orientation": "v",
           "showlegend": true,
           "text": [
            "TJK",
            "UZB",
            "KGZ",
            "VNM",
            "LBN",
            "EGY",
            "PHL",
            "IND",
            "MMR",
            "JOR",
            "TUN",
            "KEN",
            "MAR",
            "NGA",
            "PAK",
            "BGD",
            "NIC"
           ],
           "type": "scatter",
           "x": {
            "bdata": "8i3NKjJk5T+93j9bIHHnP8zeoRfcneU/b7ds5Uwf5z94AEwPUyTmPwNsImVH6eE/e26KBMl04j/ThRMnth3gP9HksZap/t0/d3kxwnS95T/MyddDrvXiPzpXaQHKieA/lAwrgQe24D+v5HMhb0bMP6ggIDIjmdQ/tU+jMYIX4D/79T/PpDvkPw==",
            "dtype": "f8"
           },
           "xaxis": "x",
           "y": {
            "bdata": "oAQhqNui0T+nGE5goKTXPxwU1WJFFtQ/ie5kC4aW3T9fVwjidHDXP0rINj4S69Q/4khtzOGG1z8c+iaaHyLVP3NIGu/Tz9c/KQoyh0zY1z/wSX93R83OPykfP/z98NA/RbeXkbi90D9cSr7TnQLYP/hgQuw5PdQ/rFupHRXf5D9y1va0h0fSPw==",
            "dtype": "f8"
           },
           "yaxis": "y"
          },
          {
           "hovertemplate": "Income Level=High income<br>Year_str=2018<br>Performance (HEP)=%{x}<br>Efficiency (HEE)=%{y}<br>ISO3=%{text}<extra></extra>",
           "legendgroup": "High income",
           "marker": {
            "color": "#EF553B",
            "symbol": "circle"
           },
           "mode": "markers+text",
           "name": "High income",
           "orientation": "v",
           "showlegend": true,
           "text": [
            "CYP",
            "CHL",
            "URY",
            "NZL",
            "SGP",
            "SVK",
            "GRC",
            "DEU",
            "ROU",
            "GBR",
            "NLD",
            "USA",
            "RUS",
            "CAN",
            "IRL",
            "AUS",
            "JPN",
            "KOR",
            "CZE"
           ],
           "type": "scatter",
           "x": {
            "bdata": "tqLU15q46z+yz1s1YCvpP6HetSXdt+Y/kGcMraeR7D8LyY6bF/7tP5CSOUl46Oo/onihXv7v6T+sz+W+qWjtP9w84uoL+Oc/oQZvRM+T7D/WALwIUYbsPxjx+etHM+w/NpPrDs+26j/ZF70lp5DtP+nNJMYFYew/0YMNBA6u7D+2Pi+sfF3uP2/8qPnyz+0/f7BM3gge7D8=",
            "dtype": "f8"
           },
           "xaxis": "x",
           "y": {
            "bdata": "CSFhEdMF2D9FDcYXSBbSP7zYAo5k9dE/Xeum0TUw1T+R9j0fCn3mP5JyIgsZp9o/oe77frsD2D88DVRo427TPzh++dUOfNw/De7zdfxX1D/Lnvt/GbvTP4mBoQzIk80/1engOAjU2j8HD/8o5z3UP9uYlXBMtN4/eul4gZC30z8bSHbOXtnYP4gHywrHSNo/EA0ULydS2T8=",
            "dtype": "f8"
           },
           "yaxis": "y"
          },
          {
           "hovertemplate": "Income Level=Upper middle income<br>Year_str=2018<br>Performance (HEP)=%{x}<br>Efficiency (HEE)=%{y}<br>ISO3=%{text}<extra></extra>",
           "legendgroup": "Upper middle income",
           "marker": {
            "color": "#00cc96",
            "symbol": "circle"
           },
           "mode": "markers+text",
           "name": "Upper middle income",
           "orientation": "v",
           "showlegend": true,
           "text": [
            "MNG",
            "MYS",
            "CHN",
            "ARM",
            "SRB",
            "THA",
            "UKR",
            "MEX",
            "KAZ",
            "TUR",
            "ARG",
            "IRN",
            "IDN",
            "BRA",
            "PER",
            "ECU",
            "GTM"
           ],
           "type": "scatter",
           "x": {
            "bdata": "DXmrhnKo5T+NPgGNggvoP1D0kXxI/OU/gJAY1DpU5z+Gqi+fTTrqPwJyBJf21eU/qyItYd5x6D/9KrFV6RflP6SmprSMe+o/VfZ5ttmZ5j8zPvvAGhrnP1LLQZgBq+Y/Y5dqC6RQ4j+VNxgSDh3kP4NdG6isKuU/PhoZD+Zq5T/TBFSiBO7gPw==",
            "dtype": "f8"
           },
           "xaxis": "x",
           "y": {
            "bdata": "uMx73GyN2T89hPzNS+/dP6aBw6oJadg/O/bw3/Xw1T+dm+jM9J3XP7F7QDu3Ut8/w5pRPryj0z9RgqVZYuvWP0dhu3/hv+U/MfbbFxyH2j/RDFppSmjQP8Oemsx3h9U/+C/WxU9a6j8xm736k/bKP2ZayLnEsdg/YhMiyW0Z0j/Z6D0uOpTTPw==",
            "dtype": "f8"
           },
           "yaxis": "y"
          },
          {
           "hovertemplate": "Income Level=Low income<br>Year_str=2018<br>Performance (HEP)=%{x}<br>Efficiency (HEE)=%{y}<br>ISO3=%{text}<extra></extra>",
           "legendgroup": "Low income",
           "marker": {
            "color": "#ab63fa",
            "symbol": "circle"
           },
           "mode": "markers+text",
           "name": "Low income",
           "orientation": "v",
           "showlegend": true,
           "text": [
            "ETH"
           ],
           "type": "scatter",
           "x": {
            "bdata": "mzvQEKcD1T8=",
            "dtype": "f8"
           },
           "xaxis": "x",
           "y": {
            "bdata": "tO/22VRRxz8=",
            "dtype": "f8"
           },
           "yaxis": "y"
          }
         ],
         "name": "2018"
        },
        {
         "data": [
          {
           "hovertemplate": "Income Level=Lower middle income<br>Year_str=2019<br>Performance (HEP)=%{x}<br>Efficiency (HEE)=%{y}<br>ISO3=%{text}<extra></extra>",
           "legendgroup": "Lower middle income",
           "marker": {
            "color": "#636efa",
            "symbol": "circle"
           },
           "mode": "markers+text",
           "name": "Lower middle income",
           "orientation": "v",
           "showlegend": true,
           "text": [
            "BGD",
            "LBN",
            "KGZ",
            "UZB",
            "PHL",
            "MMR",
            "EGY",
            "JOR",
            "TJK",
            "TUN",
            "VNM",
            "PAK",
            "NIC",
            "NGA",
            "MAR",
            "KEN",
            "IND"
           ],
           "type": "scatter",
           "x": {
            "bdata": "zGE4G/Rf4D8STpyskRbmP1U+jyAKxuU//BKWlBea5z/7d9+3Va3iPwOwHc9C8t4/900dbCsw4j9VazWtg+LlP5AYt0Kna+U/Gqdh9hjc4j+j01Pb6DXnP5cV7Ym6s9Q/6wARnz5b5D8C66gaH6/NPzL+pNva6uA/uI2WuYrD4D+oUOuN01jgPw==",
            "dtype": "f8"
           },
           "xaxis": "x",
           "y": {
            "bdata": "4RHlBddR5T/W4qRFNQjWP2rk8UlwJdQ/6qI1RRK00z9VaPaN7AfZP0qgA+x6U9s/2LKhF3aJ1T//HcusbrbXPxI6MisTj9E/mcn4lrmczj/2hPxUNiXeP75t4IMX39Q/yQfWt92B0D+XkHHgh6PaP5hi9YTlytA/2HfwaIuz0D/UXb9tXf3WPw==",
            "dtype": "f8"
           },
           "yaxis": "y"
          },
          {
           "hovertemplate": "Income Level=High income<br>Year_str=2019<br>Performance (HEP)=%{x}<br>Efficiency (HEE)=%{y}<br>ISO3=%{text}<extra></extra>",
           "legendgroup": "High income",
           "marker": {
            "color": "#EF553B",
            "symbol": "circle"
           },
           "mode": "markers+text",
           "name": "High income",
           "orientation": "v",
           "showlegend": true,
           "text": [
            "GBR",
            "NLD",
            "URY",
            "RUS",
            "NZL",
            "SGP",
            "SVK",
            "DEU",
            "ROU",
            "USA",
            "GRC",
            "CHL",
            "CYP",
            "KOR",
            "CZE",
            "JPN",
            "IRL",
            "CAN",
            "AUS"
           ],
           "type": "scatter",
           "x": {
            "bdata": "/XBzqVCn7D+alNC4g6vsP3/juWkvyOY/2lhGAIHX6j+U8uOhT5fsPzdzxxq1I+4/SL+l4ecG6z9NdRokF4/tP+KomfSlGOg/3vT9OPVL7D8dcRtwWRjqPzpW84e+QOk/aMpfwKi96z+cHaAnCwPuP46Q9Q6GMew/79b3gtRp7j92iC14AYjsPzlGn2WNqO0/KXHtgVDG7D8=",
            "dtype": "f8"
           },
           "xaxis": "x",
           "y": {
            "bdata": "0cjl1XoO1D+Nd/rOhgnUPzG6dYE6mNE/R6RsDg/k3T9S+pnDQ6rUP/r18+uCPuY/uKtdT01J2T/DkIlYrhTTP2n062DXJ9s/EwgtFvaAzT89k2GmAA7YPypA4vTpwdE/UK/YCNAy1z9J699MarfYP/sjj6cgYdg/QZ6lqrhW2D+pWKRU9ZbeP21lM0G4YNQ/B74Cr0Rz0z8=",
            "dtype": "f8"
           },
           "yaxis": "y"
          },
          {
           "hovertemplate": "Income Level=Upper middle income<br>Year_str=2019<br>Performance (HEP)=%{x}<br>Efficiency (HEE)=%{y}<br>ISO3=%{text}<extra></extra>",
           "legendgroup": "Upper middle income",
           "marker": {
            "color": "#00cc96",
            "symbol": "circle"
           },
           "mode": "markers+text",
           "name": "Upper middle income",
           "orientation": "v",
           "showlegend": true,
           "text": [
            "SRB",
            "THA",
            "CHN",
            "KAZ",
            "UKR",
            "MYS",
            "MNG",
            "ARM",
            "ECU",
            "MEX",
            "GTM",
            "TUR",
            "PER",
            "IRN",
            "BRA",
            "IDN",
            "ARG"
           ],
           "type": "scatter",
           "x": {
            "bdata": "3FrabetR6j8aMVljiRHmP9tRCpcwHOY/Vo4HOVGf6j/NQF2XFIjoP9qJqmaDI+g/sFkN6URN5T+8/oVUaIfnPxKmLbbwc+U/EIzkfDdE5T9rP3h0kCDhP78ASJO0zuY/FbWPcaNP5T+el4yVkNHmP6qZEPwiQOQ/rGqlYzmM4j+rnSxv9ifnPw==",
            "dtype": "f8"
           },
           "xaxis": "x",
           "y": {
            "bdata": "YU1q2+Vj1z//U22yYH3gPxe2cVwkDdg/GUV++FkW5T/hscdblQLUP3zEbOTyhd4/wzbPcwGP2j/wjtdLyHHTP0nbBUC55dI/u1aqKBD+1j+wDr3HjYTTP7msVwcyptk/IJ+PjL9l2D/uJ9RJRJvZP9BlqTZ1Nss/J7rCgQfo6j+uyMv1RrrQPw==",
            "dtype": "f8"
           },
           "yaxis": "y"
          },
          {
           "hovertemplate": "Income Level=Low income<br>Year_str=2019<br>Performance (HEP)=%{x}<br>Efficiency (HEE)=%{y}<br>ISO3=%{text}<extra></extra>",
           "legendgroup": "Low income",
           "marker": {
            "color": "#ab63fa",
            "symbol": "circle"
           },
           "mode": "markers+text",
           "name": "Low income",
           "orientation": "v",
           "showlegend": true,
           "text": [
            "ETH"
           ],
           "type": "scatter",
           "x": {
            "bdata": "iJaQ7xF01T8=",
            "dtype": "f8"
           },
           "xaxis": "x",
           "y": {
            "bdata": "bMdK7LGhyj8=",
            "dtype": "f8"
           },
           "yaxis": "y"
          }
         ],
         "name": "2019"
        },
        {
         "data": [
          {
           "hovertemplate": "Income Level=Lower middle income<br>Year_str=2020<br>Performance (HEP)=%{x}<br>Efficiency (HEE)=%{y}<br>ISO3=%{text}<extra></extra>",
           "legendgroup": "Lower middle income",
           "marker": {
            "color": "#636efa",
            "symbol": "circle"
           },
           "mode": "markers+text",
           "name": "Lower middle income",
           "orientation": "v",
           "showlegend": true,
           "text": [
            "BGD",
            "UZB",
            "TUN",
            "TJK",
            "EGY",
            "NGA",
            "IND",
            "PHL",
            "PAK",
            "JOR",
            "NIC",
            "MMR",
            "KEN",
            "KGZ",
            "MAR",
            "LBN",
            "VNM"
           ],
           "type": "scatter",
           "x": {
            "bdata": "chBLJrSA4D/snj2wy4LnPz/S288d3+I/fk5nvBZQ4z8NhW7rKxviP1cpCg00s84/QRvChhx64D9yMuV9PFHhPx7wtgAraNQ/rszoFF1F5j9dvB2T5drjP99YYE0aO98/jEvwmjRP4D9PPT5kNuzlP4BsxcLzNOE/K7Mfg8Yt5T8Wxw4fIJfnPw==",
            "dtype": "f8"
           },
           "xaxis": "x",
           "y": {
            "bdata": "vMi/Osfe5D8V7mQkubPUPxE7S+TqFco/K/TE3MCEyz9TXDMs7l3WP5fuDFbuxtg/NCBmW4e01T++V6zT+q7TP6TIxpCmC9U/+Wf5AdYK2D8tL8rH3gnQPz1pMSyUcdo/SibDv1vC0D93z6qyYzvSPyZGP03JZsw/mQZfAJN12j/hZZHGUAjgPw==",
            "dtype": "f8"
           },
           "yaxis": "y"
          },
          {
           "hovertemplate": "Income Level=High income<br>Year_str=2020<br>Performance (HEP)=%{x}<br>Efficiency (HEE)=%{y}<br>ISO3=%{text}<extra></extra>",
           "legendgroup": "High income",
           "marker": {
            "color": "#EF553B",
            "symbol": "circle"
           },
           "mode": "markers+text",
           "name": "High income",
           "orientation": "v",
           "showlegend": true,
           "text": [
            "AUS",
            "URY",
            "CZE",
            "CYP",
            "KOR",
            "SVK",
            "SGP",
            "GRC",
            "DEU",
            "ROU",
            "CHL",
            "CAN",
            "RUS",
            "IRL",
            "JPN",
            "GBR",
            "USA",
            "NZL",
            "NLD"
           ],
           "type": "scatter",
           "x": {
            "bdata": "xJJxGeqi7D9JQHp32h3nP7KJVYEDtus/NWlfVi++6z8qdd5OOV3tPxbxn/HKeeo/Qrj5hbgF7j81JHB/FA/qP7IStXHbPe0/EqU2mImY5z9DeeMI6MPoP+58y1Lcde0/8+xcp4pR6T9XVX90sgjsPzp2jO0utu0/jI0G/B6V7D9vHzsPBabrP1H2CtBNqOw/t89kH9NL7D8=",
            "dtype": "f8"
           },
           "xaxis": "x",
           "y": {
            "bdata": "wPvL4Q4c0z8Oqp/JlTDSP9qZzEEQUtU/POwwmX0W1D95jXpYKI7XP0NdUrYSHdc/Blhhf0l14z8/rvNS0gjUP3zJt3wlXdE/ovZcpB5d2T+8d+OXzQrRP+QyJW4vJNI/Oq7G6pl/1j+CAskBHV/dP2+Z7i1fFtc/DoNoDuDE0T+W963L+tHJPxfA/QZuTNM/EFwMC11G0j8=",
            "dtype": "f8"
           },
           "yaxis": "y"
          },
          {
           "hovertemplate": "Income Level=Upper middle income<br>Year_str=2020<br>Performance (HEP)=%{x}<br>Efficiency (HEE)=%{y}<br>ISO3=%{text}<extra></extra>",
           "legendgroup": "Upper middle income",
           "marker": {
            "color": "#00cc96",
            "symbol": "circle"
           },
           "mode": "markers+text",
           "name": "Upper middle income",
           "orientation": "v",
           "showlegend": true,
           "text": [
            "ARM",
            "ECU",
            "SRB",
            "CHN",
            "THA",
            "IRN",
            "TUR",
            "PER",
            "IDN",
            "GTM",
            "UKR",
            "MEX",
            "KAZ",
            "MNG",
            "BRA",
            "MYS",
            "ARG"
           ],
           "type": "scatter",
           "x": {
            "bdata": "I30AeNH95j88s3Bsy1nkP/IX7XZmOeg/EvlQ/Ow15j9rMV8T5+blP7E6mOHwVuY/2TIav5Q+5z9mZ4qJaB/lPwJQMvQ1K+I/dAtqJTnd4D+3Vjp9fQ7oP/0jC+fWiOQ/2exMRzyc5j+lWnWdwvPkP2fjX/CVO+Q/VSxVeu6a5z9z7zMhoYLmPw==",
            "dtype": "f8"
           },
           "xaxis": "x",
           "y": {
            "bdata": "WMNZhjDE0T/CRaQ2iefQPyfxAVm1edU/oofOXSMk1z8KNysU9AHeP027P4YETds/05+w+2IT2z9zlQeQwaPUP5R1lbDFFOc/K/qsT2x70j8ixuZXlCjTPxxz2JDD9dM/HMiQ94Xf2j8tWC/PQUvWP2IVuk8oncs/C711c9Dw2j+yNxv3naLOPw==",
            "dtype": "f8"
           },
           "yaxis": "y"
          },
          {
           "hovertemplate": "Income Level=Low income<br>Year_str=2020<br>Performance (HEP)=%{x}<br>Efficiency (HEE)=%{y}<br>ISO3=%{text}<extra></extra>",
           "legendgroup": "Low income",
           "marker": {
            "color": "#ab63fa",
            "symbol": "circle"
           },
           "mode": "markers+text",
           "name": "Low income",
           "orientation": "v",
           "showlegend": true,
           "text": [
            "ETH"
           ],
           "type": "scatter",
           "x": {
            "bdata": "MRdr5Y8k1T8=",
            "dtype": "f8"
           },
           "xaxis": "x",
           "y": {
            "bdata": "BYw7GGc8yz8=",
            "dtype": "f8"
           },
           "yaxis": "y"
          }
         ],
         "name": "2020"
        },
        {
         "data": [
          {
           "hovertemplate": "Income Level=Lower middle income<br>Year_str=2021<br>Performance (HEP)=%{x}<br>Efficiency (HEE)=%{y}<br>ISO3=%{text}<extra></extra>",
           "legendgroup": "Lower middle income",
           "marker": {
            "color": "#636efa",
            "symbol": "circle"
           },
           "mode": "markers+text",
           "name": "Lower middle income",
           "orientation": "v",
           "showlegend": true,
           "text": [
            "EGY",
            "MMR",
            "NIC",
            "PAK",
            "JOR",
            "IND",
            "PHL",
            "NGA",
            "TJK",
            "TUN",
            "BGD",
            "KEN",
            "MAR",
            "KGZ",
            "UZB",
            "VNM",
            "LBN"
           ],
           "type": "scatter",
           "x": {
            "bdata": "tV5ugsUo4j+5eSJOwPreP2tNp2i57OM/6IqcyuuV1D/dI8/0SvflP9v16Z1IAeA/EGhbN/ju4D8UqEp8+ALQP1pYmCBrg+M/9Grskk6R4j+KM9vxWEbgPy5cjaGhkOA/RoZ7X3Fp4T/FgQ3TwQjmP5WL+eX7l+c/NuZeXG505z/fLMh+l4vkPw==",
            "dtype": "f8"
           },
           "xaxis": "x",
           "y": {
            "bdata": "r2aJ3Yp71T8xo/cPnv7VPxm8/kECu88/kl5WJyhF1z/xwQf23hXXP5ypasuJONM/ceMZE2Xp0T84pSkJQM7VP8rRJ6LfuMw/D8z9+U8fyz9KoEK7i83jP+g9WipXQtE/B4Fk5/bizj9dJV1Rb6/SP2lvqGFBqNI/IfnfI5JS4D+RBNSe5oHhPw==",
            "dtype": "f8"
           },
           "yaxis": "y"
          },
          {
           "hovertemplate": "Income Level=High income<br>Year_str=2021<br>Performance (HEP)=%{x}<br>Efficiency (HEE)=%{y}<br>ISO3=%{text}<extra></extra>",
           "legendgroup": "High income",
           "marker": {
            "color": "#EF553B",
            "symbol": "circle"
           },
           "mode": "markers+text",
           "name": "High income",
           "orientation": "v",
           "showlegend": true,
           "text": [
            "CHL",
            "ROU",
            "RUS",
            "GRC",
            "SGP",
            "DEU",
            "SVK",
            "NLD",
            "NZL",
            "GBR",
            "JPN",
            "IRL",
            "CAN",
            "USA",
            "KOR",
            "CZE",
            "CYP",
            "URY",
            "AUS"
           ],
           "type": "scatter",
           "x": {
            "bdata": "Tiwt39rI6D/AhSHc11bnP4u2J6pECuk/zw2C6UXm6T8waaIkKyDuPyYpZoHrNe0/hTpP6OsL6j9jlmbhh1fsP0cBYwGGnOw/otHE6S2z7D+wAPjVKrLtP5eQvSteB+w/EMZgp1V57T/E8bdurHHrP7jNT6M2de0/jMW6Bp+I6z+/sAav1arrP8/i25z10+Y/2r63isO+7D8=",
            "dtype": "f8"
           },
           "xaxis": "x",
           "y": {
            "bdata": "I3Ed9R4F0j9WioZTaHTZP+X3c0VsGdg/fPH3FB0s1T9qg/FvPgDkP+h0VxmMWNE/WCRGt1m51T+CDh2IxkbSP7sI8+fPedM/I593jaEv0T90U+yvlAnXP7E8oM19k98/672+ePnm0j/+F/tCrt/KP+sCSRHZoNY/KPZBtfan1D9RSrfAFO/TP0j4IGvQR9I/zxo06pt+0z8=",
            "dtype": "f8"
           },
           "yaxis": "y"
          },
          {
           "hovertemplate": "Income Level=Upper middle income<br>Year_str=2021<br>Performance (HEP)=%{x}<br>Efficiency (HEE)=%{y}<br>ISO3=%{text}<extra></extra>",
           "legendgroup": "Upper middle income",
           "marker": {
            "color": "#00cc96",
            "symbol": "circle"
           },
           "mode": "markers+text",
           "name": "Upper middle income",
           "orientation": "v",
           "showlegend": true,
           "text": [
            "THA",
            "CHN",
            "UKR",
            "PER",
            "IDN",
            "GTM",
            "IRN",
            "TUR",
            "SRB",
            "ECU",
            "ARM",
            "KAZ",
            "MEX",
            "MYS",
            "ARG",
            "MNG",
            "BRA"
           ],
           "type": "scatter",
           "x": {
            "bdata": "O00J7oMO5j8R/NTsqFHmPyR7K5uRtec/UgVVm3m85D/ptjoQUwPiP39UnoOGgeA/QAebP5pZ5j8A1js21TXnP9BICfZ59Oc/qpjNRg615D9HVKD64c7mP18dfQhGduY/MCCSALp95D/Z4f/OPT3nPxF8MlNqJOY/zBEHH5AM5T/+IzABiwXkPw==",
            "dtype": "f8"
           },
           "xaxis": "x",
           "y": {
            "bdata": "Yojx1+SX3D+H5Dax83DYP5pVSfTzk9I/fUroIVWV1D/HJC7jk4vlP4634bMUwNE/7enuxkhh2j8QEQqWZ0PdP3kdquG6GdQ/kcdmgc/x0j9CrXtQQ2/RP3GwHEqygdo/UVKPYUPM1D8Dh32G2craP+VYWKTYStA/IZD1z+GI1T9iiJ5PHPPLPw==",
            "dtype": "f8"
           },
           "yaxis": "y"
          },
          {
           "hovertemplate": "Income Level=Low income<br>Year_str=2021<br>Performance (HEP)=%{x}<br>Efficiency (HEE)=%{y}<br>ISO3=%{text}<extra></extra>",
           "legendgroup": "Low income",
           "marker": {
            "color": "#ab63fa",
            "symbol": "circle"
           },
           "mode": "markers+text",
           "name": "Low income",
           "orientation": "v",
           "showlegend": true,
           "text": [
            "ETH"
           ],
           "type": "scatter",
           "x": {
            "bdata": "nInDBCwa1T8=",
            "dtype": "f8"
           },
           "xaxis": "x",
           "y": {
            "bdata": "o2YQcaoSzD8=",
            "dtype": "f8"
           },
           "yaxis": "y"
          }
         ],
         "name": "2021"
        },
        {
         "data": [
          {
           "hovertemplate": "Income Level=Lower middle income<br>Year_str=2022<br>Performance (HEP)=%{x}<br>Efficiency (HEE)=%{y}<br>ISO3=%{text}<extra></extra>",
           "legendgroup": "Lower middle income",
           "marker": {
            "color": "#636efa",
            "symbol": "circle"
           },
           "mode": "markers+text",
           "name": "Lower middle income",
           "orientation": "v",
           "showlegend": true,
           "text": [
            "TUN",
            "BGD",
            "UZB",
            "TJK",
            "EGY",
            "MMR",
            "JOR",
            "NIC",
            "PAK",
            "NGA",
            "IND",
            "PHL",
            "KEN",
            "KGZ",
            "MAR",
            "LBN",
            "VNM"
           ],
           "type": "scatter",
           "x": {
            "bdata": "WM0usdZj4z+kSCMekfXgP7t2/tktw+c/k7DF8Ejx4z/hWhey2KLiPzrUCrSmlt8/gGsm6meQ5j/FogLqb8/kP3LMAPinjtU/qdvmIAyM0D/QXcUdLBPhPy24lBBl5eE/ThWkNrdn4T8reIfUMhXmP5344JmL1+E/IXxMsKho5T/QeVfdCannPw==",
            "dtype": "f8"
           },
           "xaxis": "x",
           "y": {
            "bdata": "yLZEJYcHzD+NNdTTdUvlP5BV8G93ctM/5F/tXDqjzj+DFiTYp9rVPyyQ0iwkINg/h6N9u8tl2D8E3LbZHsrRP47m3OE65NY/J7zLsGXe1T/xmL8TtkjWP+1dszcVLdU/mhHp5hB20z9E8dTGlWrRPwgC/EHSa84/UOu6Wb5S4D+xpgG6RYngPw==",
            "dtype": "f8"
           },
           "yaxis": "y"
          },
          {
           "hovertemplate": "Income Level=High income<br>Year_str=2022<br>Performance (HEP)=%{x}<br>Efficiency (HEE)=%{y}<br>ISO3=%{text}<extra></extra>",
           "legendgroup": "High income",
           "marker": {
            "color": "#EF553B",
            "symbol": "circle"
           },
           "mode": "markers+text",
           "name": "High income",
           "orientation": "v",
           "showlegend": true,
           "text": [
            "SVK",
            "SGP",
            "RUS",
            "GRC",
            "DEU",
            "AUS",
            "CYP",
            "CZE",
            "KOR",
            "NLD",
            "GBR",
            "NZL",
            "JPN",
            "USA",
            "IRL",
            "CHL",
            "CAN",
            "ROU",
            "URY"
           ],
           "type": "scatter",
           "x": {
            "bdata": "VIECQp2M6j8vE06eHgnuP8EYG+Rbn+k/PaKfrtoM6j+3EyOV8ivtP10lcsesx+w/zigA3hOh6z/O3LMkOOjrP/5Nx63jRu0/f5H91jdo7D9SlX/sGMfsP/BiPTsOkew//q4xrZOZ7T+YpChqnOPrPxg7zng8E+w/1h/AVSDX6D/s6LbmeWrtP8XNc/pe4+c/paB5rfZj5z8=",
            "dtype": "f8"
           },
           "xaxis": "x",
           "y": {
            "bdata": "wc0hOTYu1j8VaSY1w77lP7yszUVyl9g/QqTpJ3VG1j9xcFSaANbSPy6nvAEeRdQ/nx73ILOc1D+MtymbVMbVPzV0JTBB3NU/tYMkYFcV1D9s0etfkHnTP/SPCZOO99M/OtdA9Yba1j/qBqB73WnMP0GLxZ6ZguA/Yo395lmu0T+AvRWdYSTVPwJhsYGjxNs/Q5pU+6ac0j8=",
            "dtype": "f8"
           },
           "yaxis": "y"
          },
          {
           "hovertemplate": "Income Level=Upper middle income<br>Year_str=2022<br>Performance (HEP)=%{x}<br>Efficiency (HEE)=%{y}<br>ISO3=%{text}<extra></extra>",
           "legendgroup": "Upper middle income",
           "marker": {
            "color": "#00cc96",
            "symbol": "circle"
           },
           "mode": "markers+text",
           "name": "Upper middle income",
           "orientation": "v",
           "showlegend": true,
           "text": [
            "SRB",
            "CHN",
            "THA",
            "ARM",
            "ECU",
            "UKR",
            "TUR",
            "PER",
            "IRN",
            "IDN",
            "GTM",
            "KAZ",
            "MNG",
            "MEX",
            "BRA",
            "MYS",
            "ARG"
           ],
           "type": "scatter",
           "x": {
            "bdata": "jj2iAg996D8J+71hwlzmP559No03puU/IXwUv6Vf5z+kO2tBhHLlP2i+HPXH7ec/drPRRLqk5z9wgk3keN/lP6jOCHn5COc/3q1NjinM4j83lt9jlU7hP21CZOAiM+c/flOCBdoe5T8rd69ed23lP6fVzTQTbOQ/et26KEOo5z+Wacb1aI7mPw==",
            "dtype": "f8"
           },
           "xaxis": "x",
           "y": {
            "bdata": "JEf5Vjsr1T8K/PPmDWfYP9Y8BdNiMN0/rr2VNlF31T/g24R4mbzUP64p8BIOa9E/VY3m6cdO4z/3xnvQQgfXP+hZlLPR7Nw/aX9KFKqS7T/4PgAjKKLRP1l+VSbmjts/5GhOhVZ30T+Jx+bOigzWP8m6tyRJTc0/Q1Qg+84M4D9M/P8N7oTQPw==",
            "dtype": "f8"
           },
           "yaxis": "y"
          },
          {
           "hovertemplate": "Income Level=Low income<br>Year_str=2022<br>Performance (HEP)=%{x}<br>Efficiency (HEE)=%{y}<br>ISO3=%{text}<extra></extra>",
           "legendgroup": "Low income",
           "marker": {
            "color": "#ab63fa",
            "symbol": "circle"
           },
           "mode": "markers+text",
           "name": "Low income",
           "orientation": "v",
           "showlegend": true,
           "text": [
            "ETH"
           ],
           "type": "scatter",
           "x": {
            "bdata": "JqCYeZX91T8=",
            "dtype": "f8"
           },
           "xaxis": "x",
           "y": {
            "bdata": "Aq/vb70W0D8=",
            "dtype": "f8"
           },
           "yaxis": "y"
          }
         ],
         "name": "2022"
        }
       ],
       "layout": {
        "height": 650,
        "legend": {
         "title": {
          "text": "Income Level"
         },
         "tracegroupgap": 0
        },
        "shapes": [
         {
          "line": {
           "color": "gray",
           "dash": "dash"
          },
          "type": "line",
          "x0": 0,
          "x1": 1,
          "xref": "x",
          "y0": 0,
          "y1": 1,
          "yref": "y"
         }
        ],
        "sliders": [
         {
          "active": 0,
          "currentvalue": {
           "font": {
            "size": 16
           },
           "prefix": "Year=",
           "visible": true,
           "xanchor": "right"
          },
          "len": 0.9,
          "pad": {
           "b": 10,
           "t": 50
          },
          "steps": [
           {
            "args": [
             [
              "2000"
             ],
             {
              "frame": {
               "duration": 500,
               "redraw": true
              },
              "mode": "immediate"
             }
            ],
            "label": "2000",
            "method": "animate"
           },
           {
            "args": [
             [
              "2001"
             ],
             {
              "frame": {
               "duration": 500,
               "redraw": true
              },
              "mode": "immediate"
             }
            ],
            "label": "2001",
            "method": "animate"
           },
           {
            "args": [
             [
              "2002"
             ],
             {
              "frame": {
               "duration": 500,
               "redraw": true
              },
              "mode": "immediate"
             }
            ],
            "label": "2002",
            "method": "animate"
           },
           {
            "args": [
             [
              "2003"
             ],
             {
              "frame": {
               "duration": 500,
               "redraw": true
              },
              "mode": "immediate"
             }
            ],
            "label": "2003",
            "method": "animate"
           },
           {
            "args": [
             [
              "2004"
             ],
             {
              "frame": {
               "duration": 500,
               "redraw": true
              },
              "mode": "immediate"
             }
            ],
            "label": "2004",
            "method": "animate"
           },
           {
            "args": [
             [
              "2005"
             ],
             {
              "frame": {
               "duration": 500,
               "redraw": true
              },
              "mode": "immediate"
             }
            ],
            "label": "2005",
            "method": "animate"
           },
           {
            "args": [
             [
              "2006"
             ],
             {
              "frame": {
               "duration": 500,
               "redraw": true
              },
              "mode": "immediate"
             }
            ],
            "label": "2006",
            "method": "animate"
           },
           {
            "args": [
             [
              "2007"
             ],
             {
              "frame": {
               "duration": 500,
               "redraw": true
              },
              "mode": "immediate"
             }
            ],
            "label": "2007",
            "method": "animate"
           },
           {
            "args": [
             [
              "2008"
             ],
             {
              "frame": {
               "duration": 500,
               "redraw": true
              },
              "mode": "immediate"
             }
            ],
            "label": "2008",
            "method": "animate"
           },
           {
            "args": [
             [
              "2009"
             ],
             {
              "frame": {
               "duration": 500,
               "redraw": true
              },
              "mode": "immediate"
             }
            ],
            "label": "2009",
            "method": "animate"
           },
           {
            "args": [
             [
              "2010"
             ],
             {
              "frame": {
               "duration": 500,
               "redraw": true
              },
              "mode": "immediate"
             }
            ],
            "label": "2010",
            "method": "animate"
           },
           {
            "args": [
             [
              "2011"
             ],
             {
              "frame": {
               "duration": 500,
               "redraw": true
              },
              "mode": "immediate"
             }
            ],
            "label": "2011",
            "method": "animate"
           },
           {
            "args": [
             [
              "2012"
             ],
             {
              "frame": {
               "duration": 500,
               "redraw": true
              },
              "mode": "immediate"
             }
            ],
            "label": "2012",
            "method": "animate"
           },
           {
            "args": [
             [
              "2013"
             ],
             {
              "frame": {
               "duration": 500,
               "redraw": true
              },
              "mode": "immediate"
             }
            ],
            "label": "2013",
            "method": "animate"
           },
           {
            "args": [
             [
              "2014"
             ],
             {
              "frame": {
               "duration": 500,
               "redraw": true
              },
              "mode": "immediate"
             }
            ],
            "label": "2014",
            "method": "animate"
           },
           {
            "args": [
             [
              "2015"
             ],
             {
              "frame": {
               "duration": 500,
               "redraw": true
              },
              "mode": "immediate"
             }
            ],
            "label": "2015",
            "method": "animate"
           },
           {
            "args": [
             [
              "2016"
             ],
             {
              "frame": {
               "duration": 500,
               "redraw": true
              },
              "mode": "immediate"
             }
            ],
            "label": "2016",
            "method": "animate"
           },
           {
            "args": [
             [
              "2017"
             ],
             {
              "frame": {
               "duration": 500,
               "redraw": true
              },
              "mode": "immediate"
             }
            ],
            "label": "2017",
            "method": "animate"
           },
           {
            "args": [
             [
              "2018"
             ],
             {
              "frame": {
               "duration": 500,
               "redraw": true
              },
              "mode": "immediate"
             }
            ],
            "label": "2018",
            "method": "animate"
           },
           {
            "args": [
             [
              "2019"
             ],
             {
              "frame": {
               "duration": 500,
               "redraw": true
              },
              "mode": "immediate"
             }
            ],
            "label": "2019",
            "method": "animate"
           },
           {
            "args": [
             [
              "2020"
             ],
             {
              "frame": {
               "duration": 500,
               "redraw": true
              },
              "mode": "immediate"
             }
            ],
            "label": "2020",
            "method": "animate"
           },
           {
            "args": [
             [
              "2021"
             ],
             {
              "frame": {
               "duration": 500,
               "redraw": true
              },
              "mode": "immediate"
             }
            ],
            "label": "2021",
            "method": "animate"
           },
           {
            "args": [
             [
              "2022"
             ],
             {
              "frame": {
               "duration": 500,
               "redraw": true
              },
              "mode": "immediate"
             }
            ],
            "label": "2022",
            "method": "animate"
           }
          ],
          "transition": {
           "duration": 300,
           "easing": "cubic-in-out"
          },
          "x": 0.1,
          "xanchor": "left",
          "y": 0,
          "yanchor": "top"
         }
        ],
        "template": {
         "data": {
          "bar": [
           {
            "error_x": {
             "color": "#2a3f5f"
            },
            "error_y": {
             "color": "#2a3f5f"
            },
            "marker": {
             "line": {
              "color": "#E5ECF6",
              "width": 0.5
             },
             "pattern": {
              "fillmode": "overlay",
              "size": 10,
              "solidity": 0.2
             }
            },
            "type": "bar"
           }
          ],
          "barpolar": [
           {
            "marker": {
             "line": {
              "color": "#E5ECF6",
              "width": 0.5
             },
             "pattern": {
              "fillmode": "overlay",
              "size": 10,
              "solidity": 0.2
             }
            },
            "type": "barpolar"
           }
          ],
          "carpet": [
           {
            "aaxis": {
             "endlinecolor": "#2a3f5f",
             "gridcolor": "white",
             "linecolor": "white",
             "minorgridcolor": "white",
             "startlinecolor": "#2a3f5f"
            },
            "baxis": {
             "endlinecolor": "#2a3f5f",
             "gridcolor": "white",
             "linecolor": "white",
             "minorgridcolor": "white",
             "startlinecolor": "#2a3f5f"
            },
            "type": "carpet"
           }
          ],
          "choropleth": [
           {
            "colorbar": {
             "outlinewidth": 0,
             "ticks": ""
            },
            "type": "choropleth"
           }
          ],
          "contour": [
           {
            "colorbar": {
             "outlinewidth": 0,
             "ticks": ""
            },
            "colorscale": [
             [
              0,
              "#0d0887"
             ],
             [
              0.1111111111111111,
              "#46039f"
             ],
             [
              0.2222222222222222,
              "#7201a8"
             ],
             [
              0.3333333333333333,
              "#9c179e"
             ],
             [
              0.4444444444444444,
              "#bd3786"
             ],
             [
              0.5555555555555556,
              "#d8576b"
             ],
             [
              0.6666666666666666,
              "#ed7953"
             ],
             [
              0.7777777777777778,
              "#fb9f3a"
             ],
             [
              0.8888888888888888,
              "#fdca26"
             ],
             [
              1,
              "#f0f921"
             ]
            ],
            "type": "contour"
           }
          ],
          "contourcarpet": [
           {
            "colorbar": {
             "outlinewidth": 0,
             "ticks": ""
            },
            "type": "contourcarpet"
           }
          ],
          "heatmap": [
           {
            "colorbar": {
             "outlinewidth": 0,
             "ticks": ""
            },
            "colorscale": [
             [
              0,
              "#0d0887"
             ],
             [
              0.1111111111111111,
              "#46039f"
             ],
             [
              0.2222222222222222,
              "#7201a8"
             ],
             [
              0.3333333333333333,
              "#9c179e"
             ],
             [
              0.4444444444444444,
              "#bd3786"
             ],
             [
              0.5555555555555556,
              "#d8576b"
             ],
             [
              0.6666666666666666,
              "#ed7953"
             ],
             [
              0.7777777777777778,
              "#fb9f3a"
             ],
             [
              0.8888888888888888,
              "#fdca26"
             ],
             [
              1,
              "#f0f921"
             ]
            ],
            "type": "heatmap"
           }
          ],
          "histogram": [
           {
            "marker": {
             "pattern": {
              "fillmode": "overlay",
              "size": 10,
              "solidity": 0.2
             }
            },
            "type": "histogram"
           }
          ],
          "histogram2d": [
           {
            "colorbar": {
             "outlinewidth": 0,
             "ticks": ""
            },
            "colorscale": [
             [
              0,
              "#0d0887"
             ],
             [
              0.1111111111111111,
              "#46039f"
             ],
             [
              0.2222222222222222,
              "#7201a8"
             ],
             [
              0.3333333333333333,
              "#9c179e"
             ],
             [
              0.4444444444444444,
              "#bd3786"
             ],
             [
              0.5555555555555556,
              "#d8576b"
             ],
             [
              0.6666666666666666,
              "#ed7953"
             ],
             [
              0.7777777777777778,
              "#fb9f3a"
             ],
             [
              0.8888888888888888,
              "#fdca26"
             ],
             [
              1,
              "#f0f921"
             ]
            ],
            "type": "histogram2d"
           }
          ],
          "histogram2dcontour": [
           {
            "colorbar": {
             "outlinewidth": 0,
             "ticks": ""
            },
            "colorscale": [
             [
              0,
              "#0d0887"
             ],
             [
              0.1111111111111111,
              "#46039f"
             ],
             [
              0.2222222222222222,
              "#7201a8"
             ],
             [
              0.3333333333333333,
              "#9c179e"
             ],
             [
              0.4444444444444444,
              "#bd3786"
             ],
             [
              0.5555555555555556,
              "#d8576b"
             ],
             [
              0.6666666666666666,
              "#ed7953"
             ],
             [
              0.7777777777777778,
              "#fb9f3a"
             ],
             [
              0.8888888888888888,
              "#fdca26"
             ],
             [
              1,
              "#f0f921"
             ]
            ],
            "type": "histogram2dcontour"
           }
          ],
          "mesh3d": [
           {
            "colorbar": {
             "outlinewidth": 0,
             "ticks": ""
            },
            "type": "mesh3d"
           }
          ],
          "parcoords": [
           {
            "line": {
             "colorbar": {
              "outlinewidth": 0,
              "ticks": ""
             }
            },
            "type": "parcoords"
           }
          ],
          "pie": [
           {
            "automargin": true,
            "type": "pie"
           }
          ],
          "scatter": [
           {
            "fillpattern": {
             "fillmode": "overlay",
             "size": 10,
             "solidity": 0.2
            },
            "type": "scatter"
           }
          ],
          "scatter3d": [
           {
            "line": {
             "colorbar": {
              "outlinewidth": 0,
              "ticks": ""
             }
            },
            "marker": {
             "colorbar": {
              "outlinewidth": 0,
              "ticks": ""
             }
            },
            "type": "scatter3d"
           }
          ],
          "scattercarpet": [
           {
            "marker": {
             "colorbar": {
              "outlinewidth": 0,
              "ticks": ""
             }
            },
            "type": "scattercarpet"
           }
          ],
          "scattergeo": [
           {
            "marker": {
             "colorbar": {
              "outlinewidth": 0,
              "ticks": ""
             }
            },
            "type": "scattergeo"
           }
          ],
          "scattergl": [
           {
            "marker": {
             "colorbar": {
              "outlinewidth": 0,
              "ticks": ""
             }
            },
            "type": "scattergl"
           }
          ],
          "scattermap": [
           {
            "marker": {
             "colorbar": {
              "outlinewidth": 0,
              "ticks": ""
             }
            },
            "type": "scattermap"
           }
          ],
          "scattermapbox": [
           {
            "marker": {
             "colorbar": {
              "outlinewidth": 0,
              "ticks": ""
             }
            },
            "type": "scattermapbox"
           }
          ],
          "scatterpolar": [
           {
            "marker": {
             "colorbar": {
              "outlinewidth": 0,
              "ticks": ""
             }
            },
            "type": "scatterpolar"
           }
          ],
          "scatterpolargl": [
           {
            "marker": {
             "colorbar": {
              "outlinewidth": 0,
              "ticks": ""
             }
            },
            "type": "scatterpolargl"
           }
          ],
          "scatterternary": [
           {
            "marker": {
             "colorbar": {
              "outlinewidth": 0,
              "ticks": ""
             }
            },
            "type": "scatterternary"
           }
          ],
          "surface": [
           {
            "colorbar": {
             "outlinewidth": 0,
             "ticks": ""
            },
            "colorscale": [
             [
              0,
              "#0d0887"
             ],
             [
              0.1111111111111111,
              "#46039f"
             ],
             [
              0.2222222222222222,
              "#7201a8"
             ],
             [
              0.3333333333333333,
              "#9c179e"
             ],
             [
              0.4444444444444444,
              "#bd3786"
             ],
             [
              0.5555555555555556,
              "#d8576b"
             ],
             [
              0.6666666666666666,
              "#ed7953"
             ],
             [
              0.7777777777777778,
              "#fb9f3a"
             ],
             [
              0.8888888888888888,
              "#fdca26"
             ],
             [
              1,
              "#f0f921"
             ]
            ],
            "type": "surface"
           }
          ],
          "table": [
           {
            "cells": {
             "fill": {
              "color": "#EBF0F8"
             },
             "line": {
              "color": "white"
             }
            },
            "header": {
             "fill": {
              "color": "#C8D4E3"
             },
             "line": {
              "color": "white"
             }
            },
            "type": "table"
           }
          ]
         },
         "layout": {
          "annotationdefaults": {
           "arrowcolor": "#2a3f5f",
           "arrowhead": 0,
           "arrowwidth": 1
          },
          "autotypenumbers": "strict",
          "coloraxis": {
           "colorbar": {
            "outlinewidth": 0,
            "ticks": ""
           }
          },
          "colorscale": {
           "diverging": [
            [
             0,
             "#8e0152"
            ],
            [
             0.1,
             "#c51b7d"
            ],
            [
             0.2,
             "#de77ae"
            ],
            [
             0.3,
             "#f1b6da"
            ],
            [
             0.4,
             "#fde0ef"
            ],
            [
             0.5,
             "#f7f7f7"
            ],
            [
             0.6,
             "#e6f5d0"
            ],
            [
             0.7,
             "#b8e186"
            ],
            [
             0.8,
             "#7fbc41"
            ],
            [
             0.9,
             "#4d9221"
            ],
            [
             1,
             "#276419"
            ]
           ],
           "sequential": [
            [
             0,
             "#0d0887"
            ],
            [
             0.1111111111111111,
             "#46039f"
            ],
            [
             0.2222222222222222,
             "#7201a8"
            ],
            [
             0.3333333333333333,
             "#9c179e"
            ],
            [
             0.4444444444444444,
             "#bd3786"
            ],
            [
             0.5555555555555556,
             "#d8576b"
            ],
            [
             0.6666666666666666,
             "#ed7953"
            ],
            [
             0.7777777777777778,
             "#fb9f3a"
            ],
            [
             0.8888888888888888,
             "#fdca26"
            ],
            [
             1,
             "#f0f921"
            ]
           ],
           "sequentialminus": [
            [
             0,
             "#0d0887"
            ],
            [
             0.1111111111111111,
             "#46039f"
            ],
            [
             0.2222222222222222,
             "#7201a8"
            ],
            [
             0.3333333333333333,
             "#9c179e"
            ],
            [
             0.4444444444444444,
             "#bd3786"
            ],
            [
             0.5555555555555556,
             "#d8576b"
            ],
            [
             0.6666666666666666,
             "#ed7953"
            ],
            [
             0.7777777777777778,
             "#fb9f3a"
            ],
            [
             0.8888888888888888,
             "#fdca26"
            ],
            [
             1,
             "#f0f921"
            ]
           ]
          },
          "colorway": [
           "#636efa",
           "#EF553B",
           "#00cc96",
           "#ab63fa",
           "#FFA15A",
           "#19d3f3",
           "#FF6692",
           "#B6E880",
           "#FF97FF",
           "#FECB52"
          ],
          "font": {
           "color": "#2a3f5f"
          },
          "geo": {
           "bgcolor": "white",
           "lakecolor": "white",
           "landcolor": "#E5ECF6",
           "showlakes": true,
           "showland": true,
           "subunitcolor": "white"
          },
          "hoverlabel": {
           "align": "left"
          },
          "hovermode": "closest",
          "mapbox": {
           "style": "light"
          },
          "paper_bgcolor": "white",
          "plot_bgcolor": "#E5ECF6",
          "polar": {
           "angularaxis": {
            "gridcolor": "white",
            "linecolor": "white",
            "ticks": ""
           },
           "bgcolor": "#E5ECF6",
           "radialaxis": {
            "gridcolor": "white",
            "linecolor": "white",
            "ticks": ""
           }
          },
          "scene": {
           "xaxis": {
            "backgroundcolor": "#E5ECF6",
            "gridcolor": "white",
            "gridwidth": 2,
            "linecolor": "white",
            "showbackground": true,
            "ticks": "",
            "zerolinecolor": "white"
           },
           "yaxis": {
            "backgroundcolor": "#E5ECF6",
            "gridcolor": "white",
            "gridwidth": 2,
            "linecolor": "white",
            "showbackground": true,
            "ticks": "",
            "zerolinecolor": "white"
           },
           "zaxis": {
            "backgroundcolor": "#E5ECF6",
            "gridcolor": "white",
            "gridwidth": 2,
            "linecolor": "white",
            "showbackground": true,
            "ticks": "",
            "zerolinecolor": "white"
           }
          },
          "shapedefaults": {
           "line": {
            "color": "#2a3f5f"
           }
          },
          "ternary": {
           "aaxis": {
            "gridcolor": "white",
            "linecolor": "white",
            "ticks": ""
           },
           "baxis": {
            "gridcolor": "white",
            "linecolor": "white",
            "ticks": ""
           },
           "bgcolor": "#E5ECF6",
           "caxis": {
            "gridcolor": "white",
            "linecolor": "white",
            "ticks": ""
           }
          },
          "title": {
           "x": 0.05
          },
          "xaxis": {
           "automargin": true,
           "gridcolor": "white",
           "linecolor": "white",
           "ticks": "",
           "title": {
            "standoff": 15
           },
           "zerolinecolor": "white",
           "zerolinewidth": 2
          },
          "yaxis": {
           "automargin": true,
           "gridcolor": "white",
           "linecolor": "white",
           "ticks": "",
           "title": {
            "standoff": 15
           },
           "zerolinecolor": "white",
           "zerolinewidth": 2
          }
         }
        },
        "title": {
         "text": "HEP vs HEE Over Time by Income Level"
        },
        "updatemenus": [
         {
          "buttons": [
           {
            "args": [
             null,
             {
              "frame": {
               "duration": 500,
               "redraw": false
              },
              "fromcurrent": true,
              "mode": "immediate",
              "transition": {
               "duration": 500,
               "easing": "linear"
              }
             }
            ],
            "label": "&#9654;",
            "method": "animate"
           },
           {
            "args": [
             [
              null
             ],
             {
              "frame": {
               "duration": 0,
               "redraw": false
              },
              "fromcurrent": true,
              "mode": "immediate",
              "transition": {
               "duration": 0,
               "easing": "linear"
              }
             }
            ],
            "label": "&#9724;",
            "method": "animate"
           }
          ],
          "direction": "left",
          "pad": {
           "r": 10,
           "t": 70
          },
          "showactive": false,
          "type": "buttons",
          "x": 0.1,
          "xanchor": "right",
          "y": 0,
          "yanchor": "top"
         }
        ],
        "width": 950,
        "xaxis": {
         "anchor": "y",
         "domain": [
          0,
          1
         ],
         "range": [
          0,
          1
         ],
         "title": {
          "text": "Performance (HEP)"
         }
        },
        "yaxis": {
         "anchor": "x",
         "domain": [
          0,
          1
         ],
         "range": [
          0,
          1
         ],
         "title": {
          "text": "Efficiency (HEE)"
         }
        }
       }
      }
     },
     "metadata": {},
     "output_type": "display_data"
    }
   ],
   "source": [
    "# === Step 0: Install dependencies if missing ===\n",
    "try:\n",
    "    import plotly.express as px\n",
    "except ImportError:\n",
    "    import subprocess, sys\n",
    "    subprocess.check_call([sys.executable, \"-m\", \"pip\", \"install\", \"plotly\"])\n",
    "\n",
    "import pandas as pd\n",
    "import plotly.express as px\n",
    "\n",
    "# === Step 1: Load and prepare data ===\n",
    "df = pd.read_csv(\"../data/processed/hep_hee_results_with_region.csv\")\n",
    "df = df[df[\"income_level\"].notnull()]\n",
    "df[\"Year\"] = df[\"Year\"].astype(int)\n",
    "df = df.sort_values(by=\"Year\")\n",
    "df[\"Year_str\"] = df[\"Year\"].astype(str)\n",
    "\n",
    "# === Step 2: Animated scatter ===\n",
    "fig = px.scatter(\n",
    "    df,\n",
    "    x=\"HEP\",\n",
    "    y=\"HEE\",\n",
    "    color=\"income_level\",\n",
    "    text=\"ISO3\",\n",
    "    animation_frame=\"Year_str\",\n",
    "    range_x=[0, 1],\n",
    "    range_y=[0, 1],\n",
    "    labels={\"HEP\": \"Performance (HEP)\", \"HEE\": \"Efficiency (HEE)\", \"income_level\": \"Income Level\"},\n",
    "    title=\"HEP vs HEE Over Time by Income Level\",\n",
    "    width=950,\n",
    "    height=650\n",
    ")\n",
    "\n",
    "fig.update_traces(marker=dict(size=10), textposition=\"top center\")\n",
    "\n",
    "# === Step 3: Add diagonal line ONCE to main layout ===\n",
    "fig.add_shape(\n",
    "    type=\"line\",\n",
    "    x0=0, y0=0, x1=1, y1=1,\n",
    "    xref=\"x\", yref=\"y\",\n",
    "    line=dict(dash=\"dash\", color=\"gray\")\n",
    ")\n",
    "\n",
    "# === Step 4: Force year slider to show oldest year on the left ===\n",
    "fig.update_layout(\n",
    "    xaxis_title=\"Performance (HEP)\",\n",
    "    yaxis_title=\"Efficiency (HEE)\",\n",
    "    xaxis=dict(range=[0, 1]),\n",
    "    yaxis=dict(range=[0, 1]),\n",
    "    sliders=[{\n",
    "        \"active\": 0,\n",
    "        \"yanchor\": \"top\",\n",
    "        \"xanchor\": \"left\",\n",
    "        \"currentvalue\": {\n",
    "            \"font\": {\"size\": 16},\n",
    "            \"prefix\": \"Year=\",\n",
    "            \"visible\": True,\n",
    "            \"xanchor\": \"right\"\n",
    "        },\n",
    "        \"transition\": {\"duration\": 300, \"easing\": \"cubic-in-out\"},\n",
    "        \"pad\": {\"b\": 10, \"t\": 50},\n",
    "        \"len\": 0.9,\n",
    "        \"x\": 0.1,\n",
    "        \"steps\": [\n",
    "            {\n",
    "                \"args\": [[str(year)], {\"frame\": {\"duration\": 500, \"redraw\": True}, \"mode\": \"immediate\"}],\n",
    "                \"label\": str(year),\n",
    "                \"method\": \"animate\"\n",
    "            } for year in sorted(df[\"Year\"].unique())\n",
    "        ]\n",
    "    }]\n",
    ")\n",
    "\n",
    "fig.show()\n"
   ]
  },
  {
   "cell_type": "markdown",
   "id": "3802a6c1",
   "metadata": {},
   "source": []
  },
  {
   "cell_type": "code",
   "execution_count": null,
   "id": "a0b4498c",
   "metadata": {},
   "outputs": [],
   "source": []
  }
 ],
 "metadata": {
  "kernelspec": {
   "display_name": "Python 3",
   "language": "python",
   "name": "python3"
  },
  "language_info": {
   "codemirror_mode": {
    "name": "ipython",
    "version": 3
   },
   "file_extension": ".py",
   "mimetype": "text/x-python",
   "name": "python",
   "nbconvert_exporter": "python",
   "pygments_lexer": "ipython3",
   "version": "3.11.9"
  }
 },
 "nbformat": 4,
 "nbformat_minor": 5
}
