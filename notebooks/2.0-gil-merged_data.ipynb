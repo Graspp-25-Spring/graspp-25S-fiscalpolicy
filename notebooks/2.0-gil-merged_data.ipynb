{
 "cells": [
  {
   "cell_type": "code",
   "execution_count": 19,
   "id": "5c1b471b",
   "metadata": {},
   "outputs": [
    {
     "data": {
      "text/html": [
       "<div>\n",
       "<style scoped>\n",
       "    .dataframe tbody tr th:only-of-type {\n",
       "        vertical-align: middle;\n",
       "    }\n",
       "\n",
       "    .dataframe tbody tr th {\n",
       "        vertical-align: top;\n",
       "    }\n",
       "\n",
       "    .dataframe thead th {\n",
       "        text-align: right;\n",
       "    }\n",
       "</style>\n",
       "<table border=\"1\" class=\"dataframe\">\n",
       "  <thead>\n",
       "    <tr style=\"text-align: right;\">\n",
       "      <th></th>\n",
       "      <th>Country</th>\n",
       "      <th>ISO3</th>\n",
       "      <th>Year</th>\n",
       "      <th>Dependency_Ratio</th>\n",
       "      <th>Health_Expenditure</th>\n",
       "      <th>RD_Expenditure</th>\n",
       "      <th>Contribution_revenue</th>\n",
       "      <th>GDP_percapita</th>\n",
       "      <th>Education_perGDP</th>\n",
       "    </tr>\n",
       "  </thead>\n",
       "  <tbody>\n",
       "    <tr>\n",
       "      <th>0</th>\n",
       "      <td>Andorra</td>\n",
       "      <td>AND</td>\n",
       "      <td>2000</td>\n",
       "      <td>38.260924</td>\n",
       "      <td>5.952764</td>\n",
       "      <td>NaN</td>\n",
       "      <td>NaN</td>\n",
       "      <td>21810.248743</td>\n",
       "      <td>NaN</td>\n",
       "    </tr>\n",
       "    <tr>\n",
       "      <th>1</th>\n",
       "      <td>Andorra</td>\n",
       "      <td>AND</td>\n",
       "      <td>2001</td>\n",
       "      <td>38.989848</td>\n",
       "      <td>5.858237</td>\n",
       "      <td>NaN</td>\n",
       "      <td>NaN</td>\n",
       "      <td>23511.295148</td>\n",
       "      <td>NaN</td>\n",
       "    </tr>\n",
       "    <tr>\n",
       "      <th>2</th>\n",
       "      <td>Andorra</td>\n",
       "      <td>AND</td>\n",
       "      <td>2002</td>\n",
       "      <td>39.556404</td>\n",
       "      <td>5.996212</td>\n",
       "      <td>NaN</td>\n",
       "      <td>NaN</td>\n",
       "      <td>26528.130158</td>\n",
       "      <td>1.65971</td>\n",
       "    </tr>\n",
       "    <tr>\n",
       "      <th>3</th>\n",
       "      <td>Andorra</td>\n",
       "      <td>AND</td>\n",
       "      <td>2003</td>\n",
       "      <td>38.880339</td>\n",
       "      <td>5.547715</td>\n",
       "      <td>NaN</td>\n",
       "      <td>NaN</td>\n",
       "      <td>34063.578403</td>\n",
       "      <td>NaN</td>\n",
       "    </tr>\n",
       "    <tr>\n",
       "      <th>4</th>\n",
       "      <td>Andorra</td>\n",
       "      <td>AND</td>\n",
       "      <td>2004</td>\n",
       "      <td>37.326780</td>\n",
       "      <td>5.288469</td>\n",
       "      <td>NaN</td>\n",
       "      <td>NaN</td>\n",
       "      <td>39021.127810</td>\n",
       "      <td>1.54412</td>\n",
       "    </tr>\n",
       "  </tbody>\n",
       "</table>\n",
       "</div>"
      ],
      "text/plain": [
       "   Country ISO3  Year  Dependency_Ratio  Health_Expenditure  RD_Expenditure  \\\n",
       "0  Andorra  AND  2000         38.260924            5.952764             NaN   \n",
       "1  Andorra  AND  2001         38.989848            5.858237             NaN   \n",
       "2  Andorra  AND  2002         39.556404            5.996212             NaN   \n",
       "3  Andorra  AND  2003         38.880339            5.547715             NaN   \n",
       "4  Andorra  AND  2004         37.326780            5.288469             NaN   \n",
       "\n",
       "   Contribution_revenue  GDP_percapita  Education_perGDP  \n",
       "0                   NaN   21810.248743               NaN  \n",
       "1                   NaN   23511.295148               NaN  \n",
       "2                   NaN   26528.130158           1.65971  \n",
       "3                   NaN   34063.578403               NaN  \n",
       "4                   NaN   39021.127810           1.54412  "
      ]
     },
     "execution_count": 19,
     "metadata": {},
     "output_type": "execute_result"
    }
   ],
   "source": [
    "# 1. Imports\n",
    "import pandas as pd\n",
    "import sys\n",
    "sys.path.append('../src')\n",
    "\n",
    "# 2. Load Cleaned Data\n",
    "df_dep = pd.read_csv('../data/processed/dependency_ratio.csv')\n",
    "df_health = pd.read_csv('../data/processed/health_expenditure_long.csv')\n",
    "df_rd = pd.read_csv('../data/processed/rd_expenditure_long.csv') \n",
    "df_contr = pd.read_csv('../data/processed/contribution_revenue_long.csv')\n",
    "df_gdp = pd.read_csv('../data/processed/GDP_percapita_clean.csv')\n",
    "df_edu = pd.read_csv('../data/processed/Education_perGDP_clean.csv')\n",
    "\n",
    "# 3. Merge (sequentially)\n",
    "merged = df_dep.merge(df_health, on=[\"ISO3\", \"Year\", \"Country\"], how=\"outer\")\n",
    "merged = merged.merge(df_rd, on=[\"ISO3\", \"Year\", \"Country\"], how=\"outer\")\n",
    "merged = merged.merge(df_contr, on=[\"ISO3\", \"Year\", \"Country\"], how=\"outer\")\n",
    "merged = merged.merge(df_gdp, on=[\"ISO3\", \"Year\", \"Country\"], how=\"outer\")\n",
    "merged = merged.merge(df_edu, on=[\"ISO3\", \"Year\", \"Country\"], how=\"outer\")\n",
    "\n",
    "# 4. Save merged data\n",
    "merged.to_csv('../data/processed/merged_all_data.csv', index=False)\n",
    "\n",
    "# 5. Show\n",
    "merged.head()\n"
   ]
  },
  {
   "cell_type": "code",
   "execution_count": 20,
   "id": "eea481a1",
   "metadata": {},
   "outputs": [
    {
     "data": {
      "text/plain": [
       "Contribution_revenue    0.476190\n",
       "Education_perGDP        0.446429\n",
       "RD_Expenditure          0.313244\n",
       "Health_Expenditure      0.054315\n",
       "GDP_percapita           0.004464\n",
       "Country                 0.000000\n",
       "ISO3                    0.000000\n",
       "Year                    0.000000\n",
       "Dependency_Ratio        0.000000\n",
       "dtype: float64"
      ]
     },
     "execution_count": 20,
     "metadata": {},
     "output_type": "execute_result"
    }
   ],
   "source": [
    "# How many % is missing?\n",
    "merged.isna().mean().sort_values(ascending=False)\n"
   ]
  },
  {
   "cell_type": "code",
   "execution_count": 21,
   "id": "84e656f0",
   "metadata": {},
   "outputs": [
    {
     "data": {
      "text/plain": [
       "<Axes: >"
      ]
     },
     "execution_count": 21,
     "metadata": {},
     "output_type": "execute_result"
    },
    {
     "data": {
      "image/png": "[encoded data removed]",
      "text/plain": [
       "<Figure size 640x480 with 1 Axes>"
      ]
     },
     "metadata": {},
     "output_type": "display_data"
    }
   ],
   "source": [
    "# Show missing in heatmap\n",
    "import seaborn as sns\n",
    "sns.heatmap(merged.isna(), cbar=False)"
   ]
  },
  {
   "cell_type": "code",
   "execution_count": 22,
   "id": "66da1e28",
   "metadata": {},
   "outputs": [],
   "source": [
    "# Drop missing value\n",
    "merged_clean = merged.dropna()\n",
    "\n",
    "# Save merge_clean\n",
    "merged_clean.to_csv('../data/processed/merged_no_NaN.csv', index=False)\n"
   ]
  },
  {
   "cell_type": "code",
   "execution_count": 23,
   "id": "5a63a746",
   "metadata": {},
   "outputs": [],
   "source": [
    "# Specific variable\n",
    "main_cols = [\"Health_Expenditure\", \"Dependency_Ratio\", \"GDP_percapita\", \"RD_Expenditure\"]\n",
    "\n",
    "# Drop rows where any of these are missing, but keep the full dataset\n",
    "merged_clean_some = merged.dropna(subset=main_cols)\n",
    "\n",
    "#save merge_clean_some\n",
    "merged_clean_some.to_csv('../data/processed/merged_some_NaN.csv', index=False)"
   ]
  },
  {
   "cell_type": "code",
   "execution_count": 24,
   "id": "af6929b6",
   "metadata": {},
   "outputs": [
    {
     "name": "stdout",
     "output_type": "stream",
     "text": [
      "Total merged (raw): 1344\n",
      "Cleaned (only drop NaN in selected vars): 887\n",
      "Cleaned (drop all NaNs): 384\n"
     ]
    }
   ],
   "source": [
    "# Asses observations\n",
    "print(\"Total merged (raw):\", merged.shape[0])\n",
    "print(\"Cleaned (only drop NaN in selected vars):\", merged_clean_some.shape[0])\n",
    "print(\"Cleaned (drop all NaNs):\", merged_clean.shape[0])"
   ]
  },
  {
   "cell_type": "code",
   "execution_count": 25,
   "id": "edaa0e12",
   "metadata": {},
   "outputs": [
    {
     "name": "stdout",
     "output_type": "stream",
     "text": [
      "Countries in merged: 64\n",
      "Years in merged: 21\n",
      "Countries in merged_clean_some: 55\n",
      "Years in merged_clean_some: 21\n",
      "Countries in merged_clean: 38\n",
      "Years in merged_clean: 20\n"
     ]
    }
   ],
   "source": [
    "# How many countries and years?\n",
    "print(\"Countries in merged:\", merged['ISO3'].nunique())\n",
    "print(\"Years in merged:\", merged['Year'].nunique())\n",
    "print(\"Countries in merged_clean_some:\", merged_clean_some['ISO3'].nunique())\n",
    "print(\"Years in merged_clean_some:\", merged_clean_some['Year'].nunique())\n",
    "print(\"Countries in merged_clean:\", merged_clean['ISO3'].nunique())\n",
    "print(\"Years in merged_clean:\", merged_clean['Year'].nunique())\n"
   ]
  }
 ],
 "metadata": {
  "kernelspec": {
   "display_name": "Python 3",
   "language": "python",
   "name": "python3"
  },
  "language_info": {
   "codemirror_mode": {
    "name": "ipython",
    "version": 3
   },
   "file_extension": ".py",
   "mimetype": "text/x-python",
   "name": "python",
   "nbconvert_exporter": "python",
   "pygments_lexer": "ipython3",
   "version": "3.9.6"
  }
 },
 "nbformat": 4,
 "nbformat_minor": 5
}
