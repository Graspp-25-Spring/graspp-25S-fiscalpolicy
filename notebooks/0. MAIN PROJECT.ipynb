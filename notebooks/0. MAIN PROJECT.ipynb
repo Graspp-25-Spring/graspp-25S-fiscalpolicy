{
 "cells": [
  {
   "cell_type": "code",
   "execution_count": 1,
   "id": "ebb10e28",
   "metadata": {},
   "outputs": [],
   "source": [
    "import pandas as pd\n",
    "import sys\n",
    "sys.path.append('../src/Import_and_Cleaning')"
   ]
  },
  {
   "cell_type": "markdown",
   "id": "31831774",
   "metadata": {},
   "source": [
    "#### Import and Cleaning the Data"
   ]
  },
  {
   "cell_type": "code",
   "execution_count": 2,
   "id": "54191a49",
   "metadata": {},
   "outputs": [],
   "source": [
    "#import function to filter selected countries and year, and rename the columns\n",
    "from cleaning_data import dependency_ratio_data, dependency_ratio_old, dependency_ratio_young, clean_health_data, clean_education, GDP_percapita, clean_income_level, population, average_schooling, learning_outcome, life_expectancy, mortality, clean_income_level"
   ]
  },
  {
   "cell_type": "code",
   "execution_count": null,
   "id": "5ab77fac",
   "metadata": {},
   "outputs": [],
   "source": [
    "df_health = clean_health_data(\n",
    "    '../data/raw/health_expenditure_raw.csv', #input\n",
    "    '../data/processed/health_expenditure_clean.csv' #output\n",
    ")\n",
    "\n",
    "df_Education = clean_education(\n",
    "    '../data/raw/Education_expenditure_raw.csv',\n",
    "    '../data/processed/Education_expenditure_clean.csv'\n",
    ")\n",
    "\n",
    "df_dependency = dependency_ratio_data(\n",
    "    '../data/raw/dependency_ratio_raw.csv', \n",
    "    '../data/processed/dependency_ratio_clean.csv' \n",
    ")\n",
    "\n",
    "df_dependency_old = dependency_ratio_old(\n",
    "    '../data/raw/dependency_ratio_old_raw.csv', \n",
    "    '../data/processed/dependency_ratio_old_clean.csv' \n",
    ")\n",
    "\n",
    "df_dependency_young = dependency_ratio_young(\n",
    "    '../data/raw/dependency_ratio_young_raw.csv', \n",
    "    '../data/processed/dependency_ratio_young_clean.csv' \n",
    ")\n",
    "\n",
    "df_GDP_percapita = GDP_percapita(\n",
    "    '../data/raw/GDP_percapita.csv',\n",
    "    '../data/processed/GDP_percapita_clean.csv'\n",
    ")\n",
    "\n",
    "df_population = population(\n",
    "    '../data/raw/pop_total.csv',\n",
    "    '../data/processed/pop_total_clean.csv'\n",
    ")\n",
    "\n",
    "df_income_level = clean_income_level(\n",
    "    '../data/raw/Income_level_raw.xlsx',\n",
    "    '../data/processed/income_level_clean.csv'\n",
    ")\n",
    "\n",
    "df_average_schooling = average_schooling(\n",
    "    '../data/raw/average_schooling_raw.csv',\n",
    "    '../data/processed/average_schooling_clean.csv'\n",
    ")\n",
    "\n",
    "df_learing_outcome = learning_outcome(\n",
    "    '../data/raw/learning_outcome_raw.csv',\n",
    "    '../data/processed/learning_outcome_clean.csv'\n",
    ")\n",
    "\n",
    "df_life_expectancy = life_expectancy(\n",
    "    '../data/raw/life_expectancy_raw.csv',\n",
    "    '../data/processed/life_expectancy_clean.csv'\n",
    ")\n",
    "\n",
    "df_mortality = mortality(\n",
    "    '../data/raw/mortality_raw.csv',\n",
    "    '../data/processed/mortality_clean.csv'\n",
    ")\n",
    "\n",
    "df_income_level = clean_income_level(\n",
    "    '../data/raw/Income_level_raw.xlsx',\n",
    "    '../data/processed/income_level_clean.csv'\n",
    ")"
   ]
  },
  {
   "cell_type": "markdown",
   "id": "81ac63da",
   "metadata": {},
   "source": [
    "#### Merged the Data"
   ]
  },
  {
   "cell_type": "code",
   "execution_count": 7,
   "id": "f727be19",
   "metadata": {},
   "outputs": [],
   "source": [
    "merged = df_health.merge(df_Education, on=[\"ISO3\", \"Year\", \"Country\"], how=\"outer\")\n",
    "merged = merged.merge(df_dependency, on=[\"ISO3\", \"Year\", \"Country\"], how=\"outer\")\n",
    "merged = merged.merge(df_dependency_old, on=[\"ISO3\", \"Year\", \"Country\"], how=\"outer\")\n",
    "merged = merged.merge(df_dependency_young, on=[\"ISO3\", \"Year\", \"Country\"], how=\"outer\")\n",
    "merged = merged.merge(df_life_expectancy, on=[\"ISO3\", \"Year\", \"Country\"], how=\"outer\")\n",
    "merged = merged.merge(df_mortality, on=[\"ISO3\", \"Year\", \"Country\"], how=\"outer\")\n",
    "merged = merged.merge(df_average_schooling, on=[\"ISO3\", \"Year\", \"Country\"], how=\"outer\")\n",
    "merged = merged.merge(df_learing_outcome, on=[\"ISO3\", \"Year\", \"Country\"], how=\"outer\")\n",
    "merged = merged.merge(df_GDP_percapita, on=[\"ISO3\", \"Year\", \"Country\"], how=\"outer\")\n",
    "merged = merged.merge(df_population, on=[\"ISO3\", \"Year\", \"Country\"], how=\"outer\")\n",
    "merged = merged.merge(df_income_level, on=[\"ISO3\", \"Country\"], how=\"left\")\n",
    "\n",
    "merged.to_csv('../data/interim/merged_data.csv', index=False)"
   ]
  }
 ],
 "metadata": {
  "kernelspec": {
   "display_name": "Python 3",
   "language": "python",
   "name": "python3"
  },
  "language_info": {
   "codemirror_mode": {
    "name": "ipython",
    "version": 3
   },
   "file_extension": ".py",
   "mimetype": "text/x-python",
   "name": "python",
   "nbconvert_exporter": "python",
   "pygments_lexer": "ipython3",
   "version": "3.9.6"
  }
 },
 "nbformat": 4,
 "nbformat_minor": 5
}
