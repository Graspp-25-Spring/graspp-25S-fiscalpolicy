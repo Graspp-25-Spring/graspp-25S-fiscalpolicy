{
 "cells": [
  {
   "cell_type": "markdown",
   "id": "79369657",
   "metadata": {},
   "source": [
    "## Milestone 1: Data Selection and Research Question"
   ]
  },
  {
   "cell_type": "markdown",
   "id": "766374d8",
   "metadata": {},
   "source": [
    "### 1. Research Question"
   ]
  },
  {
   "cell_type": "markdown",
   "id": "c59fccaa",
   "metadata": {},
   "source": [
    "**📌 How does demographic structure influence fiscal policy spending?**\n",
    "\n",
    "This question explores how governments adjust and allocate public spending—e.g., toward health, education, or development—depending on the age composition of their population.\n",
    "\n",
    "**Why is this important?**\n",
    "- **Demographic shifts**: Aging societies face rising healthcare and pension costs, leaving less fiscal space for education and infrastructure.\n",
    "- **Fiscal sustainability**: More dependents mean fewer taxpayers, increasing pressure on public budgets.\n",
    "- **Efficiency dilemma**: Should public resources prioritize the elderly or invest in future generations?\n",
    "\n",
    "**💡 Hypothesis**  \n",
    "A higher dependency ratio leads to a shift in fiscal policy toward social sectors (health, pensions, education) and away from capital expenditure (e.g., research and development).\n"
   ]
  },
  {
   "cell_type": "markdown",
   "id": "f45092e4",
   "metadata": {},
   "source": [
    "### 2. Dataset"
   ]
  },
  {
   "cell_type": "markdown",
   "id": "fcbc3d62",
   "metadata": {},
   "source": [
    "The dataset compiles data from 64 countries selected based on the World Values Survey (WVS) to reflect diverse global conditions. It spans the period from 2000 to 2020. The main focus is to examine the influence of demographic structure — using the age dependency ratio—on government spending in health, education, research & development (R&D), and social contributions."
   ]
  },
  {
   "cell_type": "markdown",
   "id": "5324de9d",
   "metadata": {},
   "source": [
    "Key Variables\n",
    "| Variable              | Definition                                                                                                                           | Source                                                                               |\n",
    "| ------------------------- | ---------------------------------------------------------------------------------------------------------------------------------------- | ---------------------------------------------------------------------------------------- |\n",
    "| Age Dependency Ratio  | The ratio of dependents (people younger than 15 or older than 64) to the working-age population (ages 15–64).                            | [World Bank - SP.POP.DPND](https://data.worldbank.org/indicator/SP.POP.DPND)             |\n",
    "| Health Expenditure    | Current health expenditure as a percentage of GDP. Includes all healthcare goods and services consumed in a year.                        | [World Bank - SH.XPD.CHEX.GD.ZS](https://data.worldbank.org/indicator/SH.XPD.CHEX.GD.ZS) |\n",
    "| Education Expenditure | General government expenditure on education (current, capital, transfers), as a percentage of GDP.                                       | [World Bank - SE.XPD.TOTL.GD.ZS](https://data.worldbank.org/indicator/SE.XPD.TOTL.GD.ZS) |\n",
    "| R&D Expenditure | Gross domestic expenditures on research and development (R&D), expressed as a percent of GDP.                                       | [World Bank - GB.XPD.RSDV.GD.ZS](https://data.worldbank.org/indicator/GB.XPD.RSDV.GD.ZS) |\n",
    "| Social Contribution   | Social security contributions by employees, employers, self-employed, and others, expressed as a percentage of total government revenue. | [World Bank - GC.REV.SOCL.ZS](https://data.worldbank.org/indicator/GC.REV.SOCL.ZS)       |\n"
   ]
  },
  {
   "cell_type": "markdown",
   "id": "f25c9e83",
   "metadata": {},
   "source": [
    "Control Variables\n",
    "| Variable       | Definition                                                                                     | Source                                                                                   |\n",
    "| ------------------ | -------------------------------------------------------------------------------------------------- | -------------------------------------------------------------------------------------------- |\n",
    "| GDP per Capita | Gross Domestic Product divided by midyear population, in current USD.                              | [World Bank - NY.GDP.PCAP.CD](https://data.worldbank.org/indicator/NY.GDP.PCAP.CD)           |\n",
    "| Income Level   | World Bank classification of countries into income groups (low, lower-middle, upper-middle, high). | [World Bank Income Groups](https://datahelpdesk.worldbank.org/knowledgebase/articles/906519) |\n"
   ]
  },
  {
   "cell_type": "markdown",
   "id": "dc2d79d9",
   "metadata": {},
   "source": [
    "### 3. Import and Manipulating Data"
   ]
  },
  {
   "cell_type": "code",
   "execution_count": 28,
   "id": "32a046d5",
   "metadata": {},
   "outputs": [],
   "source": [
    "import sys\n",
    "sys.path.append('../src')"
   ]
  },
  {
   "cell_type": "markdown",
   "id": "859e1d1e",
   "metadata": {},
   "source": [
    "#### 3.1 Age Dependency Ratio"
   ]
  },
  {
   "cell_type": "code",
   "execution_count": 29,
   "id": "0499b2be",
   "metadata": {},
   "outputs": [
    {
     "data": {
      "text/html": [
       "<div>\n",
       "<style scoped>\n",
       "    .dataframe tbody tr th:only-of-type {\n",
       "        vertical-align: middle;\n",
       "    }\n",
       "\n",
       "    .dataframe tbody tr th {\n",
       "        vertical-align: top;\n",
       "    }\n",
       "\n",
       "    .dataframe thead th {\n",
       "        text-align: right;\n",
       "    }\n",
       "</style>\n",
       "<table border=\"1\" class=\"dataframe\">\n",
       "  <thead>\n",
       "    <tr style=\"text-align: right;\">\n",
       "      <th></th>\n",
       "      <th>Country</th>\n",
       "      <th>ISO3</th>\n",
       "      <th>Year</th>\n",
       "      <th>Dependency_Ratio</th>\n",
       "    </tr>\n",
       "  </thead>\n",
       "  <tbody>\n",
       "    <tr>\n",
       "      <th>0</th>\n",
       "      <td>Andorra</td>\n",
       "      <td>AND</td>\n",
       "      <td>2000</td>\n",
       "      <td>38.260924</td>\n",
       "    </tr>\n",
       "    <tr>\n",
       "      <th>1</th>\n",
       "      <td>Andorra</td>\n",
       "      <td>AND</td>\n",
       "      <td>2001</td>\n",
       "      <td>38.989848</td>\n",
       "    </tr>\n",
       "    <tr>\n",
       "      <th>2</th>\n",
       "      <td>Andorra</td>\n",
       "      <td>AND</td>\n",
       "      <td>2002</td>\n",
       "      <td>39.556404</td>\n",
       "    </tr>\n",
       "    <tr>\n",
       "      <th>3</th>\n",
       "      <td>Andorra</td>\n",
       "      <td>AND</td>\n",
       "      <td>2003</td>\n",
       "      <td>38.880339</td>\n",
       "    </tr>\n",
       "    <tr>\n",
       "      <th>4</th>\n",
       "      <td>Andorra</td>\n",
       "      <td>AND</td>\n",
       "      <td>2004</td>\n",
       "      <td>37.326780</td>\n",
       "    </tr>\n",
       "  </tbody>\n",
       "</table>\n",
       "</div>"
      ],
      "text/plain": [
       "   Country ISO3  Year  Dependency_Ratio\n",
       "0  Andorra  AND  2000         38.260924\n",
       "1  Andorra  AND  2001         38.989848\n",
       "2  Andorra  AND  2002         39.556404\n",
       "3  Andorra  AND  2003         38.880339\n",
       "4  Andorra  AND  2004         37.326780"
      ]
     },
     "execution_count": 29,
     "metadata": {},
     "output_type": "execute_result"
    }
   ],
   "source": [
    "#import function to filter selected countries and year, and rename the columns\n",
    "from cleaning_data import dependency_ratio_data\n",
    "\n",
    "df_dependency = dependency_ratio_data(\n",
    "    '../data/raw/dependency_ratio_raw.csv', #input\n",
    "    '../data/processed/dependency_ratio_clean.csv' #output\n",
    ")\n",
    "df_dependency.head()"
   ]
  },
  {
   "cell_type": "markdown",
   "id": "4fb2f7be",
   "metadata": {},
   "source": [
    "#### 3.2 Health Expenditure"
   ]
  },
  {
   "cell_type": "code",
   "execution_count": 30,
   "id": "b9e97d6c",
   "metadata": {},
   "outputs": [
    {
     "data": {
      "text/html": [
       "<div>\n",
       "<style scoped>\n",
       "    .dataframe tbody tr th:only-of-type {\n",
       "        vertical-align: middle;\n",
       "    }\n",
       "\n",
       "    .dataframe tbody tr th {\n",
       "        vertical-align: top;\n",
       "    }\n",
       "\n",
       "    .dataframe thead th {\n",
       "        text-align: right;\n",
       "    }\n",
       "</style>\n",
       "<table border=\"1\" class=\"dataframe\">\n",
       "  <thead>\n",
       "    <tr style=\"text-align: right;\">\n",
       "      <th></th>\n",
       "      <th>Country</th>\n",
       "      <th>ISO3</th>\n",
       "      <th>Year</th>\n",
       "      <th>Health_Expenditure</th>\n",
       "    </tr>\n",
       "  </thead>\n",
       "  <tbody>\n",
       "    <tr>\n",
       "      <th>0</th>\n",
       "      <td>Andorra</td>\n",
       "      <td>AND</td>\n",
       "      <td>2000</td>\n",
       "      <td>5.952764</td>\n",
       "    </tr>\n",
       "    <tr>\n",
       "      <th>1</th>\n",
       "      <td>Andorra</td>\n",
       "      <td>AND</td>\n",
       "      <td>2001</td>\n",
       "      <td>5.858237</td>\n",
       "    </tr>\n",
       "    <tr>\n",
       "      <th>2</th>\n",
       "      <td>Andorra</td>\n",
       "      <td>AND</td>\n",
       "      <td>2002</td>\n",
       "      <td>5.996212</td>\n",
       "    </tr>\n",
       "    <tr>\n",
       "      <th>3</th>\n",
       "      <td>Andorra</td>\n",
       "      <td>AND</td>\n",
       "      <td>2003</td>\n",
       "      <td>5.547715</td>\n",
       "    </tr>\n",
       "    <tr>\n",
       "      <th>4</th>\n",
       "      <td>Andorra</td>\n",
       "      <td>AND</td>\n",
       "      <td>2004</td>\n",
       "      <td>5.288469</td>\n",
       "    </tr>\n",
       "  </tbody>\n",
       "</table>\n",
       "</div>"
      ],
      "text/plain": [
       "   Country ISO3  Year  Health_Expenditure\n",
       "0  Andorra  AND  2000            5.952764\n",
       "1  Andorra  AND  2001            5.858237\n",
       "2  Andorra  AND  2002            5.996212\n",
       "3  Andorra  AND  2003            5.547715\n",
       "4  Andorra  AND  2004            5.288469"
      ]
     },
     "execution_count": 30,
     "metadata": {},
     "output_type": "execute_result"
    }
   ],
   "source": [
    "from cleaning_data import clean_health_data\n",
    "\n",
    "df_health = clean_health_data(\n",
    "    '../data/raw/health_expenditure_raw.csv',\n",
    "    '../data/processed/health_expenditure_clean.csv'\n",
    ")\n",
    "df_health.head()"
   ]
  },
  {
   "cell_type": "markdown",
   "id": "0ed14ab2",
   "metadata": {},
   "source": [
    "#### 3.3 Education Expenditure"
   ]
  },
  {
   "cell_type": "code",
   "execution_count": 31,
   "id": "ff5ebe93",
   "metadata": {},
   "outputs": [
    {
     "data": {
      "text/html": [
       "<div>\n",
       "<style scoped>\n",
       "    .dataframe tbody tr th:only-of-type {\n",
       "        vertical-align: middle;\n",
       "    }\n",
       "\n",
       "    .dataframe tbody tr th {\n",
       "        vertical-align: top;\n",
       "    }\n",
       "\n",
       "    .dataframe thead th {\n",
       "        text-align: right;\n",
       "    }\n",
       "</style>\n",
       "<table border=\"1\" class=\"dataframe\">\n",
       "  <thead>\n",
       "    <tr style=\"text-align: right;\">\n",
       "      <th></th>\n",
       "      <th>Country</th>\n",
       "      <th>ISO3</th>\n",
       "      <th>Year</th>\n",
       "      <th>Education_perGDP</th>\n",
       "    </tr>\n",
       "  </thead>\n",
       "  <tbody>\n",
       "    <tr>\n",
       "      <th>0</th>\n",
       "      <td>Andorra</td>\n",
       "      <td>AND</td>\n",
       "      <td>2000</td>\n",
       "      <td>NaN</td>\n",
       "    </tr>\n",
       "    <tr>\n",
       "      <th>1</th>\n",
       "      <td>Andorra</td>\n",
       "      <td>AND</td>\n",
       "      <td>2001</td>\n",
       "      <td>NaN</td>\n",
       "    </tr>\n",
       "    <tr>\n",
       "      <th>2</th>\n",
       "      <td>Andorra</td>\n",
       "      <td>AND</td>\n",
       "      <td>2002</td>\n",
       "      <td>1.65971</td>\n",
       "    </tr>\n",
       "    <tr>\n",
       "      <th>3</th>\n",
       "      <td>Andorra</td>\n",
       "      <td>AND</td>\n",
       "      <td>2003</td>\n",
       "      <td>NaN</td>\n",
       "    </tr>\n",
       "    <tr>\n",
       "      <th>4</th>\n",
       "      <td>Andorra</td>\n",
       "      <td>AND</td>\n",
       "      <td>2004</td>\n",
       "      <td>1.54412</td>\n",
       "    </tr>\n",
       "  </tbody>\n",
       "</table>\n",
       "</div>"
      ],
      "text/plain": [
       "   Country ISO3  Year  Education_perGDP\n",
       "0  Andorra  AND  2000               NaN\n",
       "1  Andorra  AND  2001               NaN\n",
       "2  Andorra  AND  2002           1.65971\n",
       "3  Andorra  AND  2003               NaN\n",
       "4  Andorra  AND  2004           1.54412"
      ]
     },
     "execution_count": 31,
     "metadata": {},
     "output_type": "execute_result"
    }
   ],
   "source": [
    "from cleaning_data import clean_education\n",
    "\n",
    "df_Education = clean_education(\n",
    "    '../data/raw/Education_expenditure_raw.csv',\n",
    "    '../data/processed/Education_expenditure_clean.csv'\n",
    ")\n",
    "df_Education.head()"
   ]
  },
  {
   "cell_type": "markdown",
   "id": "5f351b96",
   "metadata": {},
   "source": [
    "#### 3.4 Research and Development Expenditure"
   ]
  },
  {
   "cell_type": "code",
   "execution_count": 32,
   "id": "db8b8482",
   "metadata": {},
   "outputs": [
    {
     "data": {
      "text/html": [
       "<div>\n",
       "<style scoped>\n",
       "    .dataframe tbody tr th:only-of-type {\n",
       "        vertical-align: middle;\n",
       "    }\n",
       "\n",
       "    .dataframe tbody tr th {\n",
       "        vertical-align: top;\n",
       "    }\n",
       "\n",
       "    .dataframe thead th {\n",
       "        text-align: right;\n",
       "    }\n",
       "</style>\n",
       "<table border=\"1\" class=\"dataframe\">\n",
       "  <thead>\n",
       "    <tr style=\"text-align: right;\">\n",
       "      <th></th>\n",
       "      <th>Country</th>\n",
       "      <th>ISO3</th>\n",
       "      <th>Year</th>\n",
       "      <th>RD_Expenditure</th>\n",
       "    </tr>\n",
       "  </thead>\n",
       "  <tbody>\n",
       "    <tr>\n",
       "      <th>0</th>\n",
       "      <td>Andorra</td>\n",
       "      <td>AND</td>\n",
       "      <td>2000</td>\n",
       "      <td>NaN</td>\n",
       "    </tr>\n",
       "    <tr>\n",
       "      <th>1</th>\n",
       "      <td>Andorra</td>\n",
       "      <td>AND</td>\n",
       "      <td>2001</td>\n",
       "      <td>NaN</td>\n",
       "    </tr>\n",
       "    <tr>\n",
       "      <th>2</th>\n",
       "      <td>Andorra</td>\n",
       "      <td>AND</td>\n",
       "      <td>2002</td>\n",
       "      <td>NaN</td>\n",
       "    </tr>\n",
       "    <tr>\n",
       "      <th>3</th>\n",
       "      <td>Andorra</td>\n",
       "      <td>AND</td>\n",
       "      <td>2003</td>\n",
       "      <td>NaN</td>\n",
       "    </tr>\n",
       "    <tr>\n",
       "      <th>4</th>\n",
       "      <td>Andorra</td>\n",
       "      <td>AND</td>\n",
       "      <td>2004</td>\n",
       "      <td>NaN</td>\n",
       "    </tr>\n",
       "  </tbody>\n",
       "</table>\n",
       "</div>"
      ],
      "text/plain": [
       "   Country ISO3  Year  RD_Expenditure\n",
       "0  Andorra  AND  2000             NaN\n",
       "1  Andorra  AND  2001             NaN\n",
       "2  Andorra  AND  2002             NaN\n",
       "3  Andorra  AND  2003             NaN\n",
       "4  Andorra  AND  2004             NaN"
      ]
     },
     "execution_count": 32,
     "metadata": {},
     "output_type": "execute_result"
    }
   ],
   "source": [
    "from cleaning_data import clean_rd_data\n",
    "\n",
    "df_rd = clean_rd_data(\n",
    "    '../data/raw/rd_expenditure_raw.csv',\n",
    "    '../data/processed/rd_expenditure_clean.csv'\n",
    ")\n",
    "df_rd.head()"
   ]
  },
  {
   "cell_type": "markdown",
   "id": "92272673",
   "metadata": {},
   "source": [
    "#### 3.5 Contribution Revenue"
   ]
  },
  {
   "cell_type": "code",
   "execution_count": 33,
   "id": "9a7820f9",
   "metadata": {},
   "outputs": [
    {
     "data": {
      "text/html": [
       "<div>\n",
       "<style scoped>\n",
       "    .dataframe tbody tr th:only-of-type {\n",
       "        vertical-align: middle;\n",
       "    }\n",
       "\n",
       "    .dataframe tbody tr th {\n",
       "        vertical-align: top;\n",
       "    }\n",
       "\n",
       "    .dataframe thead th {\n",
       "        text-align: right;\n",
       "    }\n",
       "</style>\n",
       "<table border=\"1\" class=\"dataframe\">\n",
       "  <thead>\n",
       "    <tr style=\"text-align: right;\">\n",
       "      <th></th>\n",
       "      <th>Country</th>\n",
       "      <th>ISO3</th>\n",
       "      <th>Year</th>\n",
       "      <th>Contribution_revenue</th>\n",
       "    </tr>\n",
       "  </thead>\n",
       "  <tbody>\n",
       "    <tr>\n",
       "      <th>0</th>\n",
       "      <td>Andorra</td>\n",
       "      <td>AND</td>\n",
       "      <td>2000</td>\n",
       "      <td>NaN</td>\n",
       "    </tr>\n",
       "    <tr>\n",
       "      <th>1</th>\n",
       "      <td>Andorra</td>\n",
       "      <td>AND</td>\n",
       "      <td>2001</td>\n",
       "      <td>NaN</td>\n",
       "    </tr>\n",
       "    <tr>\n",
       "      <th>2</th>\n",
       "      <td>Andorra</td>\n",
       "      <td>AND</td>\n",
       "      <td>2002</td>\n",
       "      <td>NaN</td>\n",
       "    </tr>\n",
       "    <tr>\n",
       "      <th>3</th>\n",
       "      <td>Andorra</td>\n",
       "      <td>AND</td>\n",
       "      <td>2003</td>\n",
       "      <td>NaN</td>\n",
       "    </tr>\n",
       "    <tr>\n",
       "      <th>4</th>\n",
       "      <td>Andorra</td>\n",
       "      <td>AND</td>\n",
       "      <td>2004</td>\n",
       "      <td>NaN</td>\n",
       "    </tr>\n",
       "  </tbody>\n",
       "</table>\n",
       "</div>"
      ],
      "text/plain": [
       "   Country ISO3  Year  Contribution_revenue\n",
       "0  Andorra  AND  2000                   NaN\n",
       "1  Andorra  AND  2001                   NaN\n",
       "2  Andorra  AND  2002                   NaN\n",
       "3  Andorra  AND  2003                   NaN\n",
       "4  Andorra  AND  2004                   NaN"
      ]
     },
     "execution_count": 33,
     "metadata": {},
     "output_type": "execute_result"
    }
   ],
   "source": [
    "from cleaning_data import clean_contribution_data\n",
    "\n",
    "df_contribution = clean_contribution_data(\n",
    "    '../data/raw/contribution_revenue_raw.csv',\n",
    "    '../data/processed/contribution_revenue_clean.csv'\n",
    ")\n",
    "df_contribution.head()"
   ]
  },
  {
   "cell_type": "markdown",
   "id": "10ec00ee",
   "metadata": {},
   "source": [
    "#### 3.6 Other Variables"
   ]
  },
  {
   "cell_type": "code",
   "execution_count": 34,
   "id": "c14bb6f3",
   "metadata": {},
   "outputs": [
    {
     "data": {
      "text/html": [
       "<div>\n",
       "<style scoped>\n",
       "    .dataframe tbody tr th:only-of-type {\n",
       "        vertical-align: middle;\n",
       "    }\n",
       "\n",
       "    .dataframe tbody tr th {\n",
       "        vertical-align: top;\n",
       "    }\n",
       "\n",
       "    .dataframe thead th {\n",
       "        text-align: right;\n",
       "    }\n",
       "</style>\n",
       "<table border=\"1\" class=\"dataframe\">\n",
       "  <thead>\n",
       "    <tr style=\"text-align: right;\">\n",
       "      <th></th>\n",
       "      <th>Country</th>\n",
       "      <th>ISO3</th>\n",
       "      <th>Year</th>\n",
       "      <th>GDP_percapita</th>\n",
       "    </tr>\n",
       "  </thead>\n",
       "  <tbody>\n",
       "    <tr>\n",
       "      <th>0</th>\n",
       "      <td>Andorra</td>\n",
       "      <td>AND</td>\n",
       "      <td>2000</td>\n",
       "      <td>21810.248743</td>\n",
       "    </tr>\n",
       "    <tr>\n",
       "      <th>1</th>\n",
       "      <td>Andorra</td>\n",
       "      <td>AND</td>\n",
       "      <td>2001</td>\n",
       "      <td>23511.295148</td>\n",
       "    </tr>\n",
       "    <tr>\n",
       "      <th>2</th>\n",
       "      <td>Andorra</td>\n",
       "      <td>AND</td>\n",
       "      <td>2002</td>\n",
       "      <td>26528.130158</td>\n",
       "    </tr>\n",
       "    <tr>\n",
       "      <th>3</th>\n",
       "      <td>Andorra</td>\n",
       "      <td>AND</td>\n",
       "      <td>2003</td>\n",
       "      <td>34063.578403</td>\n",
       "    </tr>\n",
       "    <tr>\n",
       "      <th>4</th>\n",
       "      <td>Andorra</td>\n",
       "      <td>AND</td>\n",
       "      <td>2004</td>\n",
       "      <td>39021.127810</td>\n",
       "    </tr>\n",
       "  </tbody>\n",
       "</table>\n",
       "</div>"
      ],
      "text/plain": [
       "   Country ISO3  Year  GDP_percapita\n",
       "0  Andorra  AND  2000   21810.248743\n",
       "1  Andorra  AND  2001   23511.295148\n",
       "2  Andorra  AND  2002   26528.130158\n",
       "3  Andorra  AND  2003   34063.578403\n",
       "4  Andorra  AND  2004   39021.127810"
      ]
     },
     "execution_count": 34,
     "metadata": {},
     "output_type": "execute_result"
    }
   ],
   "source": [
    "#GDP per Capita\n",
    "\n",
    "from cleaning_data import GDP_percapita\n",
    "\n",
    "df_GDP_percapita = GDP_percapita(\n",
    "    '../data/raw/GDP_percapita.csv',\n",
    "    '../data/processed/GDP_percapita_clean.csv'\n",
    ")\n",
    "df_GDP_percapita.head()"
   ]
  },
  {
   "cell_type": "code",
   "execution_count": 35,
   "id": "970926b4",
   "metadata": {},
   "outputs": [
    {
     "data": {
      "text/html": [
       "<div>\n",
       "<style scoped>\n",
       "    .dataframe tbody tr th:only-of-type {\n",
       "        vertical-align: middle;\n",
       "    }\n",
       "\n",
       "    .dataframe tbody tr th {\n",
       "        vertical-align: top;\n",
       "    }\n",
       "\n",
       "    .dataframe thead th {\n",
       "        text-align: right;\n",
       "    }\n",
       "</style>\n",
       "<table border=\"1\" class=\"dataframe\">\n",
       "  <thead>\n",
       "    <tr style=\"text-align: right;\">\n",
       "      <th></th>\n",
       "      <th>Country</th>\n",
       "      <th>ISO3</th>\n",
       "      <th>income_level</th>\n",
       "    </tr>\n",
       "  </thead>\n",
       "  <tbody>\n",
       "    <tr>\n",
       "      <th>4</th>\n",
       "      <td>Andorra</td>\n",
       "      <td>AND</td>\n",
       "      <td>High income</td>\n",
       "    </tr>\n",
       "    <tr>\n",
       "      <th>7</th>\n",
       "      <td>Argentina</td>\n",
       "      <td>ARG</td>\n",
       "      <td>Upper middle income</td>\n",
       "    </tr>\n",
       "    <tr>\n",
       "      <th>8</th>\n",
       "      <td>Armenia</td>\n",
       "      <td>ARM</td>\n",
       "      <td>Upper middle income</td>\n",
       "    </tr>\n",
       "    <tr>\n",
       "      <th>10</th>\n",
       "      <td>Australia</td>\n",
       "      <td>AUS</td>\n",
       "      <td>High income</td>\n",
       "    </tr>\n",
       "    <tr>\n",
       "      <th>15</th>\n",
       "      <td>Bangladesh</td>\n",
       "      <td>BGD</td>\n",
       "      <td>Lower middle income</td>\n",
       "    </tr>\n",
       "  </tbody>\n",
       "</table>\n",
       "</div>"
      ],
      "text/plain": [
       "       Country ISO3         income_level\n",
       "4      Andorra  AND          High income\n",
       "7    Argentina  ARG  Upper middle income\n",
       "8      Armenia  ARM  Upper middle income\n",
       "10   Australia  AUS          High income\n",
       "15  Bangladesh  BGD  Lower middle income"
      ]
     },
     "execution_count": 35,
     "metadata": {},
     "output_type": "execute_result"
    }
   ],
   "source": [
    "#Income Level\n",
    "\n",
    "from cleaning_data import clean_income_level\n",
    "\n",
    "df_income_level = clean_income_level(\n",
    "    '../data/raw/Income_level_raw.xlsx',\n",
    "    '../data/processed/income_level_clean.csv'\n",
    ")\n",
    "df_income_level.head()"
   ]
  },
  {
   "cell_type": "markdown",
   "id": "999eb078",
   "metadata": {},
   "source": [
    "### 4. Merge and Descriptive Statistics"
   ]
  },
  {
   "cell_type": "markdown",
   "id": "b8ed69c2",
   "metadata": {},
   "source": [
    "#### 4.1 Merge Data"
   ]
  },
  {
   "cell_type": "code",
   "execution_count": 36,
   "id": "94930774",
   "metadata": {},
   "outputs": [
    {
     "data": {
      "text/html": [
       "<div>\n",
       "<style scoped>\n",
       "    .dataframe tbody tr th:only-of-type {\n",
       "        vertical-align: middle;\n",
       "    }\n",
       "\n",
       "    .dataframe tbody tr th {\n",
       "        vertical-align: top;\n",
       "    }\n",
       "\n",
       "    .dataframe thead th {\n",
       "        text-align: right;\n",
       "    }\n",
       "</style>\n",
       "<table border=\"1\" class=\"dataframe\">\n",
       "  <thead>\n",
       "    <tr style=\"text-align: right;\">\n",
       "      <th></th>\n",
       "      <th>Country</th>\n",
       "      <th>ISO3</th>\n",
       "      <th>Year</th>\n",
       "      <th>Dependency_Ratio</th>\n",
       "      <th>Health_Expenditure</th>\n",
       "      <th>Education_perGDP</th>\n",
       "      <th>RD_Expenditure</th>\n",
       "      <th>Contribution_revenue</th>\n",
       "      <th>GDP_percapita</th>\n",
       "      <th>income_level</th>\n",
       "    </tr>\n",
       "  </thead>\n",
       "  <tbody>\n",
       "    <tr>\n",
       "      <th>0</th>\n",
       "      <td>Andorra</td>\n",
       "      <td>AND</td>\n",
       "      <td>2000</td>\n",
       "      <td>38.260924</td>\n",
       "      <td>5.952764</td>\n",
       "      <td>NaN</td>\n",
       "      <td>NaN</td>\n",
       "      <td>NaN</td>\n",
       "      <td>21810.248743</td>\n",
       "      <td>High income</td>\n",
       "    </tr>\n",
       "    <tr>\n",
       "      <th>1</th>\n",
       "      <td>Andorra</td>\n",
       "      <td>AND</td>\n",
       "      <td>2001</td>\n",
       "      <td>38.989848</td>\n",
       "      <td>5.858237</td>\n",
       "      <td>NaN</td>\n",
       "      <td>NaN</td>\n",
       "      <td>NaN</td>\n",
       "      <td>23511.295148</td>\n",
       "      <td>High income</td>\n",
       "    </tr>\n",
       "    <tr>\n",
       "      <th>2</th>\n",
       "      <td>Andorra</td>\n",
       "      <td>AND</td>\n",
       "      <td>2002</td>\n",
       "      <td>39.556404</td>\n",
       "      <td>5.996212</td>\n",
       "      <td>1.65971</td>\n",
       "      <td>NaN</td>\n",
       "      <td>NaN</td>\n",
       "      <td>26528.130158</td>\n",
       "      <td>High income</td>\n",
       "    </tr>\n",
       "    <tr>\n",
       "      <th>3</th>\n",
       "      <td>Andorra</td>\n",
       "      <td>AND</td>\n",
       "      <td>2003</td>\n",
       "      <td>38.880339</td>\n",
       "      <td>5.547715</td>\n",
       "      <td>NaN</td>\n",
       "      <td>NaN</td>\n",
       "      <td>NaN</td>\n",
       "      <td>34063.578403</td>\n",
       "      <td>High income</td>\n",
       "    </tr>\n",
       "    <tr>\n",
       "      <th>4</th>\n",
       "      <td>Andorra</td>\n",
       "      <td>AND</td>\n",
       "      <td>2004</td>\n",
       "      <td>37.326780</td>\n",
       "      <td>5.288469</td>\n",
       "      <td>1.54412</td>\n",
       "      <td>NaN</td>\n",
       "      <td>NaN</td>\n",
       "      <td>39021.127810</td>\n",
       "      <td>High income</td>\n",
       "    </tr>\n",
       "  </tbody>\n",
       "</table>\n",
       "</div>"
      ],
      "text/plain": [
       "   Country ISO3  Year  Dependency_Ratio  Health_Expenditure  Education_perGDP  \\\n",
       "0  Andorra  AND  2000         38.260924            5.952764               NaN   \n",
       "1  Andorra  AND  2001         38.989848            5.858237               NaN   \n",
       "2  Andorra  AND  2002         39.556404            5.996212           1.65971   \n",
       "3  Andorra  AND  2003         38.880339            5.547715               NaN   \n",
       "4  Andorra  AND  2004         37.326780            5.288469           1.54412   \n",
       "\n",
       "   RD_Expenditure  Contribution_revenue  GDP_percapita income_level  \n",
       "0             NaN                   NaN   21810.248743  High income  \n",
       "1             NaN                   NaN   23511.295148  High income  \n",
       "2             NaN                   NaN   26528.130158  High income  \n",
       "3             NaN                   NaN   34063.578403  High income  \n",
       "4             NaN                   NaN   39021.127810  High income  "
      ]
     },
     "execution_count": 36,
     "metadata": {},
     "output_type": "execute_result"
    }
   ],
   "source": [
    "# Merge dependency ratio with:\n",
    "merged = df_dependency.merge(df_health, on=[\"ISO3\", \"Year\", \"Country\"], how=\"outer\") #health expenditure\n",
    "merged = merged.merge(df_Education, on=[\"ISO3\", \"Year\", \"Country\"], how=\"outer\") #education expenditure\n",
    "merged = merged.merge(df_rd, on=[\"ISO3\", \"Year\", \"Country\"], how=\"outer\") #R&D expenditure\n",
    "merged = merged.merge(df_contribution, on=[\"ISO3\", \"Year\", \"Country\"], how=\"outer\") #contribution revenue\n",
    "merged = merged.merge(df_GDP_percapita, on=[\"ISO3\", \"Year\", \"Country\"], how=\"outer\") #GDP per capita\n",
    "merged = merged.merge(df_income_level, on=[\"ISO3\", \"Country\"], how=\"left\") #income level\n",
    "\n",
    "# Save merged_all_data\n",
    "merged.to_csv('../data/processed/merged_all_data.csv', index=False)\n",
    "merged.head()"
   ]
  },
  {
   "cell_type": "markdown",
   "id": "8a3d8e26",
   "metadata": {},
   "source": [
    "#### 4.2 Descriptive Statistics"
   ]
  },
  {
   "cell_type": "code",
   "execution_count": 37,
   "id": "6ae9ff34",
   "metadata": {},
   "outputs": [
    {
     "data": {
      "text/html": [
       "<div>\n",
       "<style scoped>\n",
       "    .dataframe tbody tr th:only-of-type {\n",
       "        vertical-align: middle;\n",
       "    }\n",
       "\n",
       "    .dataframe tbody tr th {\n",
       "        vertical-align: top;\n",
       "    }\n",
       "\n",
       "    .dataframe thead th {\n",
       "        text-align: right;\n",
       "    }\n",
       "</style>\n",
       "<table border=\"1\" class=\"dataframe\">\n",
       "  <thead>\n",
       "    <tr style=\"text-align: right;\">\n",
       "      <th></th>\n",
       "      <th>count</th>\n",
       "      <th>mean</th>\n",
       "      <th>std</th>\n",
       "      <th>min</th>\n",
       "      <th>25%</th>\n",
       "      <th>50%</th>\n",
       "      <th>75%</th>\n",
       "      <th>max</th>\n",
       "    </tr>\n",
       "  </thead>\n",
       "  <tbody>\n",
       "    <tr>\n",
       "      <th>Dependency_Ratio</th>\n",
       "      <td>1344.0</td>\n",
       "      <td>54.79</td>\n",
       "      <td>13.36</td>\n",
       "      <td>26.87</td>\n",
       "      <td>46.38</td>\n",
       "      <td>52.29</td>\n",
       "      <td>59.93</td>\n",
       "      <td>101.75</td>\n",
       "    </tr>\n",
       "    <tr>\n",
       "      <th>Health_Expenditure</th>\n",
       "      <td>1271.0</td>\n",
       "      <td>6.24</td>\n",
       "      <td>2.62</td>\n",
       "      <td>1.77</td>\n",
       "      <td>4.35</td>\n",
       "      <td>5.76</td>\n",
       "      <td>7.92</td>\n",
       "      <td>18.81</td>\n",
       "    </tr>\n",
       "    <tr>\n",
       "      <th>Education_perGDP</th>\n",
       "      <td>744.0</td>\n",
       "      <td>4.22</td>\n",
       "      <td>1.28</td>\n",
       "      <td>0.79</td>\n",
       "      <td>3.24</td>\n",
       "      <td>4.10</td>\n",
       "      <td>5.13</td>\n",
       "      <td>7.66</td>\n",
       "    </tr>\n",
       "    <tr>\n",
       "      <th>RD_Expenditure</th>\n",
       "      <td>923.0</td>\n",
       "      <td>0.92</td>\n",
       "      <td>0.89</td>\n",
       "      <td>0.02</td>\n",
       "      <td>0.25</td>\n",
       "      <td>0.60</td>\n",
       "      <td>1.25</td>\n",
       "      <td>4.80</td>\n",
       "    </tr>\n",
       "    <tr>\n",
       "      <th>Contribution_revenue</th>\n",
       "      <td>704.0</td>\n",
       "      <td>19.97</td>\n",
       "      <td>14.36</td>\n",
       "      <td>0.00</td>\n",
       "      <td>6.88</td>\n",
       "      <td>18.63</td>\n",
       "      <td>31.36</td>\n",
       "      <td>59.02</td>\n",
       "    </tr>\n",
       "  </tbody>\n",
       "</table>\n",
       "</div>"
      ],
      "text/plain": [
       "                       count   mean    std    min    25%    50%    75%     max\n",
       "Dependency_Ratio      1344.0  54.79  13.36  26.87  46.38  52.29  59.93  101.75\n",
       "Health_Expenditure    1271.0   6.24   2.62   1.77   4.35   5.76   7.92   18.81\n",
       "Education_perGDP       744.0   4.22   1.28   0.79   3.24   4.10   5.13    7.66\n",
       "RD_Expenditure         923.0   0.92   0.89   0.02   0.25   0.60   1.25    4.80\n",
       "Contribution_revenue   704.0  19.97  14.36   0.00   6.88  18.63  31.36   59.02"
      ]
     },
     "execution_count": 37,
     "metadata": {},
     "output_type": "execute_result"
    }
   ],
   "source": [
    "selected_cols = [\"Dependency_Ratio\", \"Health_Expenditure\", \"Education_perGDP\", \"RD_Expenditure\",  \"Contribution_revenue\"]\n",
    "merged[selected_cols].describe().T.round(2)"
   ]
  },
  {
   "cell_type": "code",
   "execution_count": 38,
   "id": "3a42adac",
   "metadata": {},
   "outputs": [
    {
     "data": {
      "image/png": "[encoded data removed]",
      "text/plain": [
       "<Figure size 800x200 with 1 Axes>"
      ]
     },
     "metadata": {},
     "output_type": "display_data"
    }
   ],
   "source": [
    "import matplotlib.pyplot as plt\n",
    "from pandas.plotting import table\n",
    "\n",
    "desc_table = merged[selected_cols].describe().T.round(2)\n",
    "# Create a figure\n",
    "fig, ax = plt.subplots(figsize=(8, 2)) # Adjust width and height\n",
    "ax.axis('off') # No axis\n",
    "table(ax, desc_table, loc='center', cellLoc='center')\n",
    "\n",
    "# Save to png\n",
    "plt.savefig('../reports/figures/desc_stats.png', bbox_inches='tight', dpi=300)\n",
    "\n",
    "plt.show()"
   ]
  },
  {
   "cell_type": "code",
   "execution_count": 39,
   "id": "81896998",
   "metadata": {},
   "outputs": [
    {
     "data": {
      "text/plain": [
       "<Axes: >"
      ]
     },
     "execution_count": 39,
     "metadata": {},
     "output_type": "execute_result"
    },
    {
     "data": {
      "image/png": "[encoded data removed]",
      "text/plain": [
       "<Figure size 640x480 with 1 Axes>"
      ]
     },
     "metadata": {},
     "output_type": "display_data"
    }
   ],
   "source": [
    "# Show missing in heatmap\n",
    "import seaborn as sns\n",
    "sns.heatmap(merged.isna(), cbar=False)"
   ]
  }
 ],
 "metadata": {
  "kernelspec": {
   "display_name": "Python 3",
   "language": "python",
   "name": "python3"
  },
  "language_info": {
   "codemirror_mode": {
    "name": "ipython",
    "version": 3
   },
   "file_extension": ".py",
   "mimetype": "text/x-python",
   "name": "python",
   "nbconvert_exporter": "python",
   "pygments_lexer": "ipython3",
   "version": "3.9.6"
  }
 },
 "nbformat": 4,
 "nbformat_minor": 5
}
